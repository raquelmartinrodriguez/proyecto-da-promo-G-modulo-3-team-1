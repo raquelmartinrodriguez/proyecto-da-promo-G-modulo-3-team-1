{
 "cells": [
  {
   "cell_type": "code",
   "execution_count": 25,
   "metadata": {},
   "outputs": [],
   "source": [
    "#importaciones\n",
    "\n",
    "import pandas as pd\n",
    "\n",
    "pd.set_option('display.max_columns', None) # para poder visualizar todas las columnas de los DataFrames"
   ]
  },
  {
   "cell_type": "code",
   "execution_count": 26,
   "metadata": {},
   "outputs": [],
   "source": [
    "df_exploracion = pd.read_csv('../files/HR_RAW_DATA.csv', index_col=0)"
   ]
  },
  {
   "cell_type": "code",
   "execution_count": 27,
   "metadata": {},
   "outputs": [
    {
     "data": {
      "text/html": [
       "<div>\n",
       "<style scoped>\n",
       "    .dataframe tbody tr th:only-of-type {\n",
       "        vertical-align: middle;\n",
       "    }\n",
       "\n",
       "    .dataframe tbody tr th {\n",
       "        vertical-align: top;\n",
       "    }\n",
       "\n",
       "    .dataframe thead th {\n",
       "        text-align: right;\n",
       "    }\n",
       "</style>\n",
       "<table border=\"1\" class=\"dataframe\">\n",
       "  <thead>\n",
       "    <tr style=\"text-align: right;\">\n",
       "      <th></th>\n",
       "      <th>Age</th>\n",
       "      <th>Attrition</th>\n",
       "      <th>BusinessTravel</th>\n",
       "      <th>DailyRate</th>\n",
       "      <th>Department</th>\n",
       "      <th>DistanceFromHome</th>\n",
       "      <th>Education</th>\n",
       "      <th>EducationField</th>\n",
       "      <th>employeecount</th>\n",
       "      <th>employeenumber</th>\n",
       "      <th>EnvironmentSatisfaction</th>\n",
       "      <th>Gender</th>\n",
       "      <th>HourlyRate</th>\n",
       "      <th>JobInvolvement</th>\n",
       "      <th>JobLevel</th>\n",
       "      <th>JobRole</th>\n",
       "      <th>JobSatisfaction</th>\n",
       "      <th>MaritalStatus</th>\n",
       "      <th>MonthlyIncome</th>\n",
       "      <th>MonthlyRate</th>\n",
       "      <th>NUMCOMPANIESWORKED</th>\n",
       "      <th>Over18</th>\n",
       "      <th>OverTime</th>\n",
       "      <th>PercentSalaryHike</th>\n",
       "      <th>PerformanceRating</th>\n",
       "      <th>RelationshipSatisfaction</th>\n",
       "      <th>StandardHours</th>\n",
       "      <th>StockOptionLevel</th>\n",
       "      <th>TOTALWORKINGYEARS</th>\n",
       "      <th>TrainingTimesLastYear</th>\n",
       "      <th>WORKLIFEBALANCE</th>\n",
       "      <th>YearsAtCompany</th>\n",
       "      <th>YearsInCurrentRole</th>\n",
       "      <th>YearsSinceLastPromotion</th>\n",
       "      <th>YEARSWITHCURRMANAGER</th>\n",
       "      <th>SameAsMonthlyIncome</th>\n",
       "      <th>DateBirth</th>\n",
       "      <th>Salary</th>\n",
       "      <th>RoleDepartament</th>\n",
       "      <th>NUMBERCHILDREN</th>\n",
       "      <th>RemoteWork</th>\n",
       "    </tr>\n",
       "  </thead>\n",
       "  <tbody>\n",
       "    <tr>\n",
       "      <th>0</th>\n",
       "      <td>51</td>\n",
       "      <td>No</td>\n",
       "      <td>NaN</td>\n",
       "      <td>684,0$</td>\n",
       "      <td>NaN</td>\n",
       "      <td>6</td>\n",
       "      <td>3</td>\n",
       "      <td>NaN</td>\n",
       "      <td>1</td>\n",
       "      <td>162,0</td>\n",
       "      <td>1</td>\n",
       "      <td>0</td>\n",
       "      <td>51</td>\n",
       "      <td>3</td>\n",
       "      <td>5</td>\n",
       "      <td>resEArch DIREcToR</td>\n",
       "      <td>3</td>\n",
       "      <td>NaN</td>\n",
       "      <td>19537,0</td>\n",
       "      <td>6462</td>\n",
       "      <td>7</td>\n",
       "      <td>Y</td>\n",
       "      <td>No</td>\n",
       "      <td>13</td>\n",
       "      <td>3,0</td>\n",
       "      <td>3</td>\n",
       "      <td>NaN</td>\n",
       "      <td>0</td>\n",
       "      <td>NaN</td>\n",
       "      <td>5</td>\n",
       "      <td>3,0</td>\n",
       "      <td>20</td>\n",
       "      <td>NaN</td>\n",
       "      <td>15</td>\n",
       "      <td>15</td>\n",
       "      <td>19537,0</td>\n",
       "      <td>1972</td>\n",
       "      <td>1000000000$</td>\n",
       "      <td>NaN</td>\n",
       "      <td>NaN</td>\n",
       "      <td>Yes</td>\n",
       "    </tr>\n",
       "    <tr>\n",
       "      <th>1</th>\n",
       "      <td>52</td>\n",
       "      <td>No</td>\n",
       "      <td>NaN</td>\n",
       "      <td>699,0$</td>\n",
       "      <td>NaN</td>\n",
       "      <td>1</td>\n",
       "      <td>4</td>\n",
       "      <td>Life Sciences</td>\n",
       "      <td>1</td>\n",
       "      <td>259,0</td>\n",
       "      <td>3</td>\n",
       "      <td>0</td>\n",
       "      <td>65</td>\n",
       "      <td>2</td>\n",
       "      <td>5</td>\n",
       "      <td>ManAGeR</td>\n",
       "      <td>3</td>\n",
       "      <td>NaN</td>\n",
       "      <td>19999,0</td>\n",
       "      <td>5678</td>\n",
       "      <td>0</td>\n",
       "      <td>NaN</td>\n",
       "      <td>NaN</td>\n",
       "      <td>14</td>\n",
       "      <td>3,0</td>\n",
       "      <td>1</td>\n",
       "      <td>NaN</td>\n",
       "      <td>1</td>\n",
       "      <td>34,0</td>\n",
       "      <td>5</td>\n",
       "      <td>3,0</td>\n",
       "      <td>33</td>\n",
       "      <td>NaN</td>\n",
       "      <td>11</td>\n",
       "      <td>9</td>\n",
       "      <td>19999,0</td>\n",
       "      <td>1971</td>\n",
       "      <td>1000000000$</td>\n",
       "      <td>NaN</td>\n",
       "      <td>NaN</td>\n",
       "      <td>1</td>\n",
       "    </tr>\n",
       "    <tr>\n",
       "      <th>2</th>\n",
       "      <td>42</td>\n",
       "      <td>No</td>\n",
       "      <td>travel_rarely</td>\n",
       "      <td>532,0$</td>\n",
       "      <td>Research &amp; Development</td>\n",
       "      <td>4</td>\n",
       "      <td>2</td>\n",
       "      <td>Technical Degree</td>\n",
       "      <td>1</td>\n",
       "      <td>319,0</td>\n",
       "      <td>3</td>\n",
       "      <td>0</td>\n",
       "      <td>58</td>\n",
       "      <td>3</td>\n",
       "      <td>5</td>\n",
       "      <td>ManaGER</td>\n",
       "      <td>4</td>\n",
       "      <td>Married</td>\n",
       "      <td>19232,0</td>\n",
       "      <td>4933</td>\n",
       "      <td>1</td>\n",
       "      <td>NaN</td>\n",
       "      <td>No</td>\n",
       "      <td>11</td>\n",
       "      <td>3,0</td>\n",
       "      <td>4</td>\n",
       "      <td>NaN</td>\n",
       "      <td>0</td>\n",
       "      <td>22,0</td>\n",
       "      <td>3</td>\n",
       "      <td>NaN</td>\n",
       "      <td>22</td>\n",
       "      <td>NaN</td>\n",
       "      <td>11</td>\n",
       "      <td>15</td>\n",
       "      <td>19232,0</td>\n",
       "      <td>1981</td>\n",
       "      <td>1000000000$</td>\n",
       "      <td>ManaGER  -  Research &amp; Development</td>\n",
       "      <td>NaN</td>\n",
       "      <td>1</td>\n",
       "    </tr>\n",
       "    <tr>\n",
       "      <th>3</th>\n",
       "      <td>47</td>\n",
       "      <td>No</td>\n",
       "      <td>travel_rarely</td>\n",
       "      <td>359,0$</td>\n",
       "      <td>NaN</td>\n",
       "      <td>2</td>\n",
       "      <td>4</td>\n",
       "      <td>Medical</td>\n",
       "      <td>1</td>\n",
       "      <td>NaN</td>\n",
       "      <td>1</td>\n",
       "      <td>1</td>\n",
       "      <td>82</td>\n",
       "      <td>3</td>\n",
       "      <td>4</td>\n",
       "      <td>ReseArCH DIrECtOr</td>\n",
       "      <td>3</td>\n",
       "      <td>Married</td>\n",
       "      <td>17169,0</td>\n",
       "      <td>26703</td>\n",
       "      <td>3</td>\n",
       "      <td>Y</td>\n",
       "      <td>NaN</td>\n",
       "      <td>19</td>\n",
       "      <td>3,0</td>\n",
       "      <td>2</td>\n",
       "      <td>NaN</td>\n",
       "      <td>2</td>\n",
       "      <td>NaN</td>\n",
       "      <td>2</td>\n",
       "      <td>NaN</td>\n",
       "      <td>20</td>\n",
       "      <td>NaN</td>\n",
       "      <td>5</td>\n",
       "      <td>6</td>\n",
       "      <td>17169,0</td>\n",
       "      <td>1976</td>\n",
       "      <td>1000000000$</td>\n",
       "      <td>NaN</td>\n",
       "      <td>NaN</td>\n",
       "      <td>False</td>\n",
       "    </tr>\n",
       "    <tr>\n",
       "      <th>4</th>\n",
       "      <td>46</td>\n",
       "      <td>No</td>\n",
       "      <td>NaN</td>\n",
       "      <td>1319,0$</td>\n",
       "      <td>NaN</td>\n",
       "      <td>3</td>\n",
       "      <td>3</td>\n",
       "      <td>Technical Degree</td>\n",
       "      <td>1</td>\n",
       "      <td>NaN</td>\n",
       "      <td>1</td>\n",
       "      <td>1</td>\n",
       "      <td>45</td>\n",
       "      <td>4</td>\n",
       "      <td>4</td>\n",
       "      <td>sAleS EXECUtIve</td>\n",
       "      <td>1</td>\n",
       "      <td>Divorced</td>\n",
       "      <td>NaN</td>\n",
       "      <td>7739</td>\n",
       "      <td>2</td>\n",
       "      <td>Y</td>\n",
       "      <td>No</td>\n",
       "      <td>12</td>\n",
       "      <td>3,0</td>\n",
       "      <td>4</td>\n",
       "      <td>NaN</td>\n",
       "      <td>1</td>\n",
       "      <td>NaN</td>\n",
       "      <td>5</td>\n",
       "      <td>3,0</td>\n",
       "      <td>19</td>\n",
       "      <td>NaN</td>\n",
       "      <td>2</td>\n",
       "      <td>8</td>\n",
       "      <td>NaN</td>\n",
       "      <td>1977</td>\n",
       "      <td>1000000000$</td>\n",
       "      <td>NaN</td>\n",
       "      <td>NaN</td>\n",
       "      <td>0</td>\n",
       "    </tr>\n",
       "  </tbody>\n",
       "</table>\n",
       "</div>"
      ],
      "text/plain": [
       "  Age Attrition BusinessTravel DailyRate                Department  \\\n",
       "0  51        No            NaN    684,0$                       NaN   \n",
       "1  52        No            NaN    699,0$                       NaN   \n",
       "2  42        No  travel_rarely    532,0$   Research & Development    \n",
       "3  47        No  travel_rarely    359,0$                       NaN   \n",
       "4  46        No            NaN   1319,0$                       NaN   \n",
       "\n",
       "   DistanceFromHome  Education    EducationField  employeecount  \\\n",
       "0                 6          3               NaN              1   \n",
       "1                 1          4     Life Sciences              1   \n",
       "2                 4          2  Technical Degree              1   \n",
       "3                 2          4           Medical              1   \n",
       "4                 3          3  Technical Degree              1   \n",
       "\n",
       "  employeenumber  EnvironmentSatisfaction  Gender HourlyRate  JobInvolvement  \\\n",
       "0          162,0                        1       0         51               3   \n",
       "1          259,0                        3       0         65               2   \n",
       "2          319,0                        3       0         58               3   \n",
       "3            NaN                        1       1         82               3   \n",
       "4            NaN                        1       1         45               4   \n",
       "\n",
       "   JobLevel              JobRole  JobSatisfaction MaritalStatus MonthlyIncome  \\\n",
       "0         5   resEArch DIREcToR                 3           NaN       19537,0   \n",
       "1         5             ManAGeR                 3           NaN       19999,0   \n",
       "2         5             ManaGER                 4       Married       19232,0   \n",
       "3         4   ReseArCH DIrECtOr                 3       Married       17169,0   \n",
       "4         4     sAleS EXECUtIve                 1      Divorced           NaN   \n",
       "\n",
       "   MonthlyRate  NUMCOMPANIESWORKED Over18 OverTime  PercentSalaryHike  \\\n",
       "0         6462                   7      Y       No                 13   \n",
       "1         5678                   0    NaN      NaN                 14   \n",
       "2         4933                   1    NaN       No                 11   \n",
       "3        26703                   3      Y      NaN                 19   \n",
       "4         7739                   2      Y       No                 12   \n",
       "\n",
       "  PerformanceRating  RelationshipSatisfaction StandardHours  StockOptionLevel  \\\n",
       "0               3,0                         3           NaN                 0   \n",
       "1               3,0                         1           NaN                 1   \n",
       "2               3,0                         4           NaN                 0   \n",
       "3               3,0                         2           NaN                 2   \n",
       "4               3,0                         4           NaN                 1   \n",
       "\n",
       "  TOTALWORKINGYEARS  TrainingTimesLastYear WORKLIFEBALANCE  YearsAtCompany  \\\n",
       "0               NaN                      5             3,0              20   \n",
       "1              34,0                      5             3,0              33   \n",
       "2              22,0                      3             NaN              22   \n",
       "3               NaN                      2             NaN              20   \n",
       "4               NaN                      5             3,0              19   \n",
       "\n",
       "  YearsInCurrentRole  YearsSinceLastPromotion  YEARSWITHCURRMANAGER  \\\n",
       "0                NaN                       15                    15   \n",
       "1                NaN                       11                     9   \n",
       "2                NaN                       11                    15   \n",
       "3                NaN                        5                     6   \n",
       "4                NaN                        2                     8   \n",
       "\n",
       "  SameAsMonthlyIncome  DateBirth       Salary  \\\n",
       "0             19537,0       1972  1000000000$   \n",
       "1             19999,0       1971  1000000000$   \n",
       "2             19232,0       1981  1000000000$   \n",
       "3             17169,0       1976  1000000000$   \n",
       "4                 NaN       1977  1000000000$   \n",
       "\n",
       "                        RoleDepartament  NUMBERCHILDREN RemoteWork  \n",
       "0                                   NaN             NaN        Yes  \n",
       "1                                   NaN             NaN          1  \n",
       "2   ManaGER  -  Research & Development              NaN          1  \n",
       "3                                   NaN             NaN      False  \n",
       "4                                   NaN             NaN          0  "
      ]
     },
     "execution_count": 27,
     "metadata": {},
     "output_type": "execute_result"
    }
   ],
   "source": [
    "df_exploracion.head()"
   ]
  },
  {
   "cell_type": "code",
   "execution_count": 58,
   "metadata": {},
   "outputs": [
    {
     "name": "stdout",
     "output_type": "stream",
     "text": [
      "Index(['Age', 'Attrition', 'BusinessTravel', 'DailyRate', 'Department',\n",
      "       'DistanceFromHome', 'Education', 'EducationField', 'employeecount',\n",
      "       'employeenumber', 'EnvironmentSatisfaction', 'Gender', 'HourlyRate',\n",
      "       'JobInvolvement', 'JobLevel', 'JobRole', 'JobSatisfaction',\n",
      "       'MaritalStatus', 'MonthlyIncome', 'MonthlyRate', 'NUMCOMPANIESWORKED',\n",
      "       'Over18', 'OverTime', 'PercentSalaryHike', 'PerformanceRating',\n",
      "       'RelationshipSatisfaction', 'StandardHours', 'StockOptionLevel',\n",
      "       'TOTALWORKINGYEARS', 'TrainingTimesLastYear', 'WORKLIFEBALANCE',\n",
      "       'YearsAtCompany', 'YearsInCurrentRole', 'YearsSinceLastPromotion',\n",
      "       'YEARSWITHCURRMANAGER', 'SameAsMonthlyIncome', 'DateBirth', 'Salary',\n",
      "       'RoleDepartament', 'NUMBERCHILDREN', 'RemoteWork'],\n",
      "      dtype='object')\n"
     ]
    }
   ],
   "source": [
    "columnas = df_exploracion.columns\n",
    "print(columnas)"
   ]
  },
  {
   "cell_type": "code",
   "execution_count": 29,
   "metadata": {},
   "outputs": [],
   "source": [
    "lista_columnas_explorar = ['Age', 'Gender','MaritalStatus', 'NUMBERCHILDREN','DateBirth', 'Over18', 'Education','EducationField', 'NUMCOMPANIESWORKED', 'TOTALWORKINGYEARS']\n",
    "            "
   ]
  },
  {
   "cell_type": "code",
   "execution_count": 13,
   "metadata": {},
   "outputs": [
    {
     "name": "stdout",
     "output_type": "stream",
     "text": [
      "AGE\n",
      "['51' '52' '42' '47' '46' '48' '59' '41' '56' '38' '55' '40' '58' '35'\n",
      " '45' '33' '36' '34' 'forty-seven' '53' '43' '60' '32' '37' '49' '39' '50'\n",
      " '44' '30' 'fifty-eight' '29' '31' '54' '57' '27' 'thirty-six' '28' '26'\n",
      " 'fifty-five' '25' 'fifty-two' 'thirty-one' '24' 'thirty' '23' '22' '21'\n",
      " '20' 'twenty-six' '19' 'thirty-seven' '18' 'thirty-two' 'twenty-four']\n",
      "35              84\n",
      "34              83\n",
      "31              82\n",
      "29              78\n",
      "36              74\n",
      "32              64\n",
      "38              64\n",
      "30              63\n",
      "33              61\n",
      "40              60\n",
      "27              54\n",
      "37              53\n",
      "28              53\n",
      "42              50\n",
      "45              48\n",
      "41              46\n",
      "26              45\n",
      "39              45\n",
      "43              40\n",
      "46              38\n",
      "44              34\n",
      "50              31\n",
      "25              27\n",
      "24              26\n",
      "47              26\n",
      "49              25\n",
      "55              24\n",
      "54              20\n",
      "51              20\n",
      "53              20\n",
      "48              20\n",
      "52              18\n",
      "56              17\n",
      "21              16\n",
      "22              16\n",
      "23              15\n",
      "58              14\n",
      "20              11\n",
      "59              10\n",
      "19               9\n",
      "18               8\n",
      "60               5\n",
      "57               5\n",
      "thirty-two       2\n",
      "fifty-eight      1\n",
      "twenty-six       1\n",
      "thirty-seven     1\n",
      "thirty-one       1\n",
      "thirty           1\n",
      "fifty-two        1\n",
      "fifty-five       1\n",
      "thirty-six       1\n",
      "forty-seven      1\n",
      "twenty-four      1\n",
      "Name: Age, dtype: int64\n",
      "0       False\n",
      "1       False\n",
      "2       False\n",
      "3       False\n",
      "4       False\n",
      "        ...  \n",
      "1609    False\n",
      "1610    False\n",
      "1611    False\n",
      "1612    False\n",
      "1613    False\n",
      "Name: Age, Length: 1614, dtype: bool\n",
      "0\n",
      "0       False\n",
      "1       False\n",
      "2       False\n",
      "3       False\n",
      "4       False\n",
      "        ...  \n",
      "1609     True\n",
      "1610     True\n",
      "1611     True\n",
      "1612     True\n",
      "1613     True\n",
      "Name: Age, Length: 1614, dtype: bool\n",
      "1560\n",
      "-------------------------------------\n",
      "GENDER\n",
      "[0 1]\n",
      "0    971\n",
      "1    643\n",
      "Name: Gender, dtype: int64\n",
      "0       False\n",
      "1       False\n",
      "2       False\n",
      "3       False\n",
      "4       False\n",
      "        ...  \n",
      "1609    False\n",
      "1610    False\n",
      "1611    False\n",
      "1612    False\n",
      "1613    False\n",
      "Name: Gender, Length: 1614, dtype: bool\n",
      "0\n",
      "0       False\n",
      "1        True\n",
      "2        True\n",
      "3       False\n",
      "4        True\n",
      "        ...  \n",
      "1609     True\n",
      "1610     True\n",
      "1611     True\n",
      "1612     True\n",
      "1613     True\n",
      "Name: Gender, Length: 1614, dtype: bool\n",
      "1612\n",
      "-------------------------------------\n",
      "MARITALSTATUS\n",
      "[nan 'Married' 'Divorced' 'Single' 'divorced' 'Marreid']\n",
      "Married     404\n",
      "Single      325\n",
      "Divorced    188\n",
      "Marreid      35\n",
      "divorced     11\n",
      "Name: MaritalStatus, dtype: int64\n",
      "0        True\n",
      "1        True\n",
      "2       False\n",
      "3       False\n",
      "4       False\n",
      "        ...  \n",
      "1609    False\n",
      "1610     True\n",
      "1611    False\n",
      "1612    False\n",
      "1613     True\n",
      "Name: MaritalStatus, Length: 1614, dtype: bool\n",
      "651\n",
      "0       False\n",
      "1        True\n",
      "2       False\n",
      "3        True\n",
      "4       False\n",
      "        ...  \n",
      "1609     True\n",
      "1610     True\n",
      "1611     True\n",
      "1612     True\n",
      "1613     True\n",
      "Name: MaritalStatus, Length: 1614, dtype: bool\n",
      "1608\n",
      "-------------------------------------\n",
      "NUMBERCHILDREN\n",
      "[nan]\n",
      "Series([], Name: NUMBERCHILDREN, dtype: int64)\n",
      "0       True\n",
      "1       True\n",
      "2       True\n",
      "3       True\n",
      "4       True\n",
      "        ... \n",
      "1609    True\n",
      "1610    True\n",
      "1611    True\n",
      "1612    True\n",
      "1613    True\n",
      "Name: NUMBERCHILDREN, Length: 1614, dtype: bool\n",
      "1614\n",
      "0       False\n",
      "1        True\n",
      "2        True\n",
      "3        True\n",
      "4        True\n",
      "        ...  \n",
      "1609     True\n",
      "1610     True\n",
      "1611     True\n",
      "1612     True\n",
      "1613     True\n",
      "Name: NUMBERCHILDREN, Length: 1614, dtype: bool\n",
      "1613\n",
      "-------------------------------------\n",
      "DATEBIRTH\n",
      "[1972 1971 1981 1976 1977 1975 1964 1982 1967 1985 1968 1983 1965 1988\n",
      " 1978 1990 1987 1989 1970 1980 1963 1991 1986 1974 1984 1973 1979 1993\n",
      " 1994 1992 1969 1966 1996 1995 1997 1998 1999 2000 2001 2002 2003 2004\n",
      " 2005]\n",
      "1988    84\n",
      "1992    83\n",
      "1989    83\n",
      "1994    78\n",
      "1987    75\n",
      "1991    65\n",
      "1985    64\n",
      "1993    64\n",
      "1990    61\n",
      "1983    60\n",
      "1986    55\n",
      "1996    54\n",
      "1995    53\n",
      "1981    50\n",
      "1978    48\n",
      "1982    46\n",
      "1997    46\n",
      "1984    45\n",
      "1980    40\n",
      "1977    38\n",
      "1979    34\n",
      "1973    31\n",
      "1999    27\n",
      "1976    27\n",
      "1998    27\n",
      "1968    25\n",
      "1974    25\n",
      "1969    20\n",
      "1972    20\n",
      "1970    20\n",
      "1975    20\n",
      "1971    19\n",
      "1967    17\n",
      "2001    16\n",
      "2002    16\n",
      "1965    15\n",
      "2000    15\n",
      "2003    11\n",
      "1964    10\n",
      "2004     9\n",
      "2005     8\n",
      "1963     5\n",
      "1966     5\n",
      "Name: DateBirth, dtype: int64\n",
      "0       False\n",
      "1       False\n",
      "2       False\n",
      "3       False\n",
      "4       False\n",
      "        ...  \n",
      "1609    False\n",
      "1610    False\n",
      "1611    False\n",
      "1612    False\n",
      "1613    False\n",
      "Name: DateBirth, Length: 1614, dtype: bool\n",
      "0\n",
      "0       False\n",
      "1       False\n",
      "2       False\n",
      "3       False\n",
      "4       False\n",
      "        ...  \n",
      "1609     True\n",
      "1610     True\n",
      "1611     True\n",
      "1612     True\n",
      "1613     True\n",
      "Name: DateBirth, Length: 1614, dtype: bool\n",
      "1571\n",
      "-------------------------------------\n",
      "OVER18\n",
      "['Y' nan]\n",
      "Y    713\n",
      "Name: Over18, dtype: int64\n",
      "0       False\n",
      "1        True\n",
      "2        True\n",
      "3       False\n",
      "4       False\n",
      "        ...  \n",
      "1609    False\n",
      "1610     True\n",
      "1611     True\n",
      "1612     True\n",
      "1613    False\n",
      "Name: Over18, Length: 1614, dtype: bool\n",
      "901\n",
      "0       False\n",
      "1       False\n",
      "2        True\n",
      "3        True\n",
      "4        True\n",
      "        ...  \n",
      "1609     True\n",
      "1610     True\n",
      "1611     True\n",
      "1612     True\n",
      "1613     True\n",
      "Name: Over18, Length: 1614, dtype: bool\n",
      "1612\n",
      "-------------------------------------\n",
      "EDUCATION\n",
      "[3 4 2 1 5]\n",
      "3    621\n",
      "4    445\n",
      "2    314\n",
      "1    180\n",
      "5     54\n",
      "Name: Education, dtype: int64\n",
      "0       False\n",
      "1       False\n",
      "2       False\n",
      "3       False\n",
      "4       False\n",
      "        ...  \n",
      "1609    False\n",
      "1610    False\n",
      "1611    False\n",
      "1612    False\n",
      "1613    False\n",
      "Name: Education, Length: 1614, dtype: bool\n",
      "0\n",
      "0       False\n",
      "1       False\n",
      "2       False\n",
      "3        True\n",
      "4        True\n",
      "        ...  \n",
      "1609     True\n",
      "1610     True\n",
      "1611     True\n",
      "1612     True\n",
      "1613     True\n",
      "Name: Education, Length: 1614, dtype: bool\n",
      "1609\n",
      "-------------------------------------\n",
      "EDUCATIONFIELD\n",
      "[nan 'Life Sciences' 'Technical Degree' 'Medical' 'Other' 'Marketing'\n",
      " 'Human Resources']\n",
      "Life Sciences       349\n",
      "Medical             276\n",
      "Marketing           104\n",
      "Technical Degree     69\n",
      "Other                59\n",
      "Human Resources      12\n",
      "Name: EducationField, dtype: int64\n",
      "0        True\n",
      "1       False\n",
      "2       False\n",
      "3       False\n",
      "4       False\n",
      "        ...  \n",
      "1609    False\n",
      "1610     True\n",
      "1611     True\n",
      "1612    False\n",
      "1613    False\n",
      "Name: EducationField, Length: 1614, dtype: bool\n",
      "745\n",
      "0       False\n",
      "1       False\n",
      "2       False\n",
      "3       False\n",
      "4        True\n",
      "        ...  \n",
      "1609     True\n",
      "1610     True\n",
      "1611     True\n",
      "1612     True\n",
      "1613     True\n",
      "Name: EducationField, Length: 1614, dtype: bool\n",
      "1607\n",
      "-------------------------------------\n",
      "NUMCOMPANIESWORKED\n",
      "[7 0 1 3 2 4 8 9 5 6]\n",
      "1    573\n",
      "0    226\n",
      "3    169\n",
      "4    157\n",
      "2    156\n",
      "7     84\n",
      "6     73\n",
      "5     66\n",
      "9     59\n",
      "8     51\n",
      "Name: NUMCOMPANIESWORKED, dtype: int64\n",
      "0       False\n",
      "1       False\n",
      "2       False\n",
      "3       False\n",
      "4       False\n",
      "        ...  \n",
      "1609    False\n",
      "1610    False\n",
      "1611    False\n",
      "1612    False\n",
      "1613    False\n",
      "Name: NUMCOMPANIESWORKED, Length: 1614, dtype: bool\n",
      "0\n",
      "0       False\n",
      "1       False\n",
      "2       False\n",
      "3       False\n",
      "4       False\n",
      "        ...  \n",
      "1609     True\n",
      "1610     True\n",
      "1611     True\n",
      "1612     True\n",
      "1613     True\n",
      "Name: NUMCOMPANIESWORKED, Length: 1614, dtype: bool\n",
      "1604\n",
      "-------------------------------------\n",
      "TOTALWORKINGYEARS\n",
      "[nan '34,0' '22,0' '28,0' '20,0' '21,0' '33,0' '40,0' '18,0' '25,0' '15,0'\n",
      " '17,0' '26,0' '16,0' '24,0' '14,0' '23,0' '27,0' '19,0' '11,0' '38,0'\n",
      " '37,0' '13,0' '12,0' '29,0' '10,0' '36,0' '35,0' '9,0' '31,0' '32,0'\n",
      " '8,0' '7,0' '30,0' '6,0' '5,0' '4,0' '3,0' '2,0' '1,0' '0,0']\n",
      "10,0    144\n",
      "8,0      86\n",
      "6,0      84\n",
      "9,0      69\n",
      "5,0      66\n",
      "7,0      56\n",
      "4,0      54\n",
      "1,0      53\n",
      "12,0     34\n",
      "3,0      32\n",
      "14,0     30\n",
      "13,0     30\n",
      "11,0     29\n",
      "15,0     28\n",
      "16,0     28\n",
      "20,0     28\n",
      "18,0     27\n",
      "21,0     23\n",
      "17,0     22\n",
      "2,0      21\n",
      "22,0     18\n",
      "19,0     17\n",
      "24,0     14\n",
      "23,0     13\n",
      "28,0     13\n",
      "26,0      8\n",
      "0,0       8\n",
      "29,0      6\n",
      "36,0      6\n",
      "25,0      6\n",
      "33,0      6\n",
      "37,0      5\n",
      "27,0      5\n",
      "31,0      4\n",
      "30,0      3\n",
      "32,0      3\n",
      "35,0      3\n",
      "40,0      3\n",
      "34,0      2\n",
      "38,0      1\n",
      "Name: TOTALWORKINGYEARS, dtype: int64\n",
      "0        True\n",
      "1       False\n",
      "2       False\n",
      "3        True\n",
      "4        True\n",
      "        ...  \n",
      "1609     True\n",
      "1610     True\n",
      "1611    False\n",
      "1612    False\n",
      "1613     True\n",
      "Name: TOTALWORKINGYEARS, Length: 1614, dtype: bool\n",
      "526\n",
      "0       False\n",
      "1       False\n",
      "2       False\n",
      "3        True\n",
      "4        True\n",
      "        ...  \n",
      "1609     True\n",
      "1610     True\n",
      "1611     True\n",
      "1612     True\n",
      "1613     True\n",
      "Name: TOTALWORKINGYEARS, Length: 1614, dtype: bool\n",
      "1573\n",
      "-------------------------------------\n"
     ]
    }
   ],
   "source": [
    "for columna in lista_columnas_explorar:\n",
    "    print(columna.upper())\n",
    "    #print(df_exploracion[columna].dtypes())\n",
    "    print(df_exploracion[columna].unique())\n",
    "    print(df_exploracion[columna].value_counts())\n",
    "    print(df_exploracion[columna].isnull())\n",
    "    print(df_exploracion[columna].isnull().sum())\n",
    "    print(df_exploracion[columna].duplicated())\n",
    "    print(df_exploracion[columna].duplicated().sum())\n",
    "    print( \"-------------------------------------\")"
   ]
  },
  {
   "cell_type": "code",
   "execution_count": 16,
   "metadata": {},
   "outputs": [
    {
     "data": {
      "text/html": [
       "<div>\n",
       "<style scoped>\n",
       "    .dataframe tbody tr th:only-of-type {\n",
       "        vertical-align: middle;\n",
       "    }\n",
       "\n",
       "    .dataframe tbody tr th {\n",
       "        vertical-align: top;\n",
       "    }\n",
       "\n",
       "    .dataframe thead th {\n",
       "        text-align: right;\n",
       "    }\n",
       "</style>\n",
       "<table border=\"1\" class=\"dataframe\">\n",
       "  <thead>\n",
       "    <tr style=\"text-align: right;\">\n",
       "      <th></th>\n",
       "      <th>Age</th>\n",
       "      <th>Gender</th>\n",
       "      <th>MaritalStatus</th>\n",
       "      <th>NUMBERCHILDREN</th>\n",
       "      <th>DateBirth</th>\n",
       "      <th>Over18</th>\n",
       "      <th>Education</th>\n",
       "      <th>EducationField</th>\n",
       "      <th>NUMCOMPANIESWORKED</th>\n",
       "      <th>TOTALWORKINGYEARS</th>\n",
       "    </tr>\n",
       "  </thead>\n",
       "  <tbody>\n",
       "    <tr>\n",
       "      <th>0</th>\n",
       "      <td>51</td>\n",
       "      <td>0</td>\n",
       "      <td>NaN</td>\n",
       "      <td>NaN</td>\n",
       "      <td>1972</td>\n",
       "      <td>Y</td>\n",
       "      <td>3</td>\n",
       "      <td>NaN</td>\n",
       "      <td>7</td>\n",
       "      <td>NaN</td>\n",
       "    </tr>\n",
       "    <tr>\n",
       "      <th>1</th>\n",
       "      <td>52</td>\n",
       "      <td>0</td>\n",
       "      <td>NaN</td>\n",
       "      <td>NaN</td>\n",
       "      <td>1971</td>\n",
       "      <td>NaN</td>\n",
       "      <td>4</td>\n",
       "      <td>Life Sciences</td>\n",
       "      <td>0</td>\n",
       "      <td>34,0</td>\n",
       "    </tr>\n",
       "    <tr>\n",
       "      <th>2</th>\n",
       "      <td>42</td>\n",
       "      <td>0</td>\n",
       "      <td>Married</td>\n",
       "      <td>NaN</td>\n",
       "      <td>1981</td>\n",
       "      <td>NaN</td>\n",
       "      <td>2</td>\n",
       "      <td>Technical Degree</td>\n",
       "      <td>1</td>\n",
       "      <td>22,0</td>\n",
       "    </tr>\n",
       "    <tr>\n",
       "      <th>3</th>\n",
       "      <td>47</td>\n",
       "      <td>1</td>\n",
       "      <td>Married</td>\n",
       "      <td>NaN</td>\n",
       "      <td>1976</td>\n",
       "      <td>Y</td>\n",
       "      <td>4</td>\n",
       "      <td>Medical</td>\n",
       "      <td>3</td>\n",
       "      <td>NaN</td>\n",
       "    </tr>\n",
       "    <tr>\n",
       "      <th>4</th>\n",
       "      <td>46</td>\n",
       "      <td>1</td>\n",
       "      <td>Divorced</td>\n",
       "      <td>NaN</td>\n",
       "      <td>1977</td>\n",
       "      <td>Y</td>\n",
       "      <td>3</td>\n",
       "      <td>Technical Degree</td>\n",
       "      <td>2</td>\n",
       "      <td>NaN</td>\n",
       "    </tr>\n",
       "    <tr>\n",
       "      <th>...</th>\n",
       "      <td>...</td>\n",
       "      <td>...</td>\n",
       "      <td>...</td>\n",
       "      <td>...</td>\n",
       "      <td>...</td>\n",
       "      <td>...</td>\n",
       "      <td>...</td>\n",
       "      <td>...</td>\n",
       "      <td>...</td>\n",
       "      <td>...</td>\n",
       "    </tr>\n",
       "    <tr>\n",
       "      <th>1609</th>\n",
       "      <td>36</td>\n",
       "      <td>0</td>\n",
       "      <td>Married</td>\n",
       "      <td>NaN</td>\n",
       "      <td>1987</td>\n",
       "      <td>Y</td>\n",
       "      <td>1</td>\n",
       "      <td>Life Sciences</td>\n",
       "      <td>1</td>\n",
       "      <td>NaN</td>\n",
       "    </tr>\n",
       "    <tr>\n",
       "      <th>1610</th>\n",
       "      <td>45</td>\n",
       "      <td>0</td>\n",
       "      <td>NaN</td>\n",
       "      <td>NaN</td>\n",
       "      <td>1978</td>\n",
       "      <td>NaN</td>\n",
       "      <td>2</td>\n",
       "      <td>NaN</td>\n",
       "      <td>1</td>\n",
       "      <td>NaN</td>\n",
       "    </tr>\n",
       "    <tr>\n",
       "      <th>1611</th>\n",
       "      <td>39</td>\n",
       "      <td>0</td>\n",
       "      <td>Single</td>\n",
       "      <td>NaN</td>\n",
       "      <td>1984</td>\n",
       "      <td>NaN</td>\n",
       "      <td>5</td>\n",
       "      <td>NaN</td>\n",
       "      <td>0</td>\n",
       "      <td>9,0</td>\n",
       "    </tr>\n",
       "    <tr>\n",
       "      <th>1612</th>\n",
       "      <td>36</td>\n",
       "      <td>0</td>\n",
       "      <td>Divorced</td>\n",
       "      <td>NaN</td>\n",
       "      <td>1987</td>\n",
       "      <td>NaN</td>\n",
       "      <td>4</td>\n",
       "      <td>Technical Degree</td>\n",
       "      <td>4</td>\n",
       "      <td>12,0</td>\n",
       "    </tr>\n",
       "    <tr>\n",
       "      <th>1613</th>\n",
       "      <td>46</td>\n",
       "      <td>0</td>\n",
       "      <td>NaN</td>\n",
       "      <td>NaN</td>\n",
       "      <td>1977</td>\n",
       "      <td>Y</td>\n",
       "      <td>2</td>\n",
       "      <td>Medical</td>\n",
       "      <td>6</td>\n",
       "      <td>NaN</td>\n",
       "    </tr>\n",
       "  </tbody>\n",
       "</table>\n",
       "<p>1614 rows × 10 columns</p>\n",
       "</div>"
      ],
      "text/plain": [
       "     Age  Gender MaritalStatus  NUMBERCHILDREN  DateBirth Over18  Education  \\\n",
       "0     51       0           NaN             NaN       1972      Y          3   \n",
       "1     52       0           NaN             NaN       1971    NaN          4   \n",
       "2     42       0       Married             NaN       1981    NaN          2   \n",
       "3     47       1       Married             NaN       1976      Y          4   \n",
       "4     46       1      Divorced             NaN       1977      Y          3   \n",
       "...   ..     ...           ...             ...        ...    ...        ...   \n",
       "1609  36       0       Married             NaN       1987      Y          1   \n",
       "1610  45       0           NaN             NaN       1978    NaN          2   \n",
       "1611  39       0        Single             NaN       1984    NaN          5   \n",
       "1612  36       0      Divorced             NaN       1987    NaN          4   \n",
       "1613  46       0           NaN             NaN       1977      Y          2   \n",
       "\n",
       "        EducationField  NUMCOMPANIESWORKED TOTALWORKINGYEARS  \n",
       "0                  NaN                   7               NaN  \n",
       "1        Life Sciences                   0              34,0  \n",
       "2     Technical Degree                   1              22,0  \n",
       "3              Medical                   3               NaN  \n",
       "4     Technical Degree                   2               NaN  \n",
       "...                ...                 ...               ...  \n",
       "1609     Life Sciences                   1               NaN  \n",
       "1610               NaN                   1               NaN  \n",
       "1611               NaN                   0               9,0  \n",
       "1612  Technical Degree                   4              12,0  \n",
       "1613           Medical                   6               NaN  \n",
       "\n",
       "[1614 rows x 10 columns]"
      ]
     },
     "execution_count": 16,
     "metadata": {},
     "output_type": "execute_result"
    }
   ],
   "source": [
    "df_exploracion.loc[:,lista_columnas_explorar]"
   ]
  },
  {
   "cell_type": "code",
   "execution_count": 26,
   "metadata": {},
   "outputs": [
    {
     "data": {
      "text/plain": [
       "count     1614\n",
       "unique      54\n",
       "top         35\n",
       "freq        84\n",
       "Name: Age, dtype: object"
      ]
     },
     "execution_count": 26,
     "metadata": {},
     "output_type": "execute_result"
    }
   ],
   "source": [
    "#columna Age\n",
    "df_exploracion[\"Age\"].describe().T\n",
    "#df_exploracion[\"Age\"].value_counts()\n",
    "#df_exploracion[\"Age\"].isnull().sum()\n",
    "#df_exploracion[\"Age\"].dtype\n",
    "#df_exploracion[\"Age\"].duplicated().sum()\n",
    "\n",
    "#aparecen mezcladas en número y letra, unificarlos\n"
   ]
  },
  {
   "cell_type": "code",
   "execution_count": 3,
   "metadata": {},
   "outputs": [
    {
     "data": {
      "text/plain": [
       "array(['51', '52', '42', '47', '46', '48', '59', '41', '56', '38', '55',\n",
       "       '40', '58', '35', '45', '33', '36', '34', 'forty-seven', '53',\n",
       "       '43', '60', '32', '37', '49', '39', '50', '44', '30',\n",
       "       'fifty-eight', '29', '31', '54', '57', '27', 'thirty-six', '28',\n",
       "       '26', 'fifty-five', '25', 'fifty-two', 'thirty-one', '24',\n",
       "       'thirty', '23', '22', '21', '20', 'twenty-six', '19',\n",
       "       'thirty-seven', '18', 'thirty-two', 'twenty-four'], dtype=object)"
      ]
     },
     "execution_count": 3,
     "metadata": {},
     "output_type": "execute_result"
    }
   ],
   "source": [
    "df_exploracion[\"Age\"].unique()"
   ]
  },
  {
   "cell_type": "code",
   "execution_count": null,
   "metadata": {},
   "outputs": [],
   "source": [
    "df_exploracion[\"Age\"].isnull().sum()"
   ]
  },
  {
   "cell_type": "code",
   "execution_count": 12,
   "metadata": {},
   "outputs": [
    {
     "data": {
      "text/plain": [
       "array(['51', '52', '42', '47', '46', '48', '59', '41', '56', '38', '55',\n",
       "       '40', '58', '35', '45', '33', '36', '34', 47, '53', '43', '60',\n",
       "       '32', '37', '49', '39', '50', '44', '30', 58, '29', '31', '54',\n",
       "       '57', '27', 36, '28', '26', 55, '25', 52, 31, '24', 30, '23', '22',\n",
       "       '21', '20', 26, '19', 37, '18', 32, 24], dtype=object)"
      ]
     },
     "execution_count": 12,
     "metadata": {},
     "output_type": "execute_result"
    }
   ],
   "source": [
    "\n",
    "diccionario_edades = {\n",
    "    'forty-seven':47,\n",
    "    'fifty-eight': 58,\n",
    "    'thirty-six': 36,\n",
    "    'fifty-five': 55, \n",
    "    'fifty-two': 52,\n",
    "    'thirty-one': 31,\n",
    "    'thirty': 30,\n",
    "    'twenty-six': 26, \n",
    "    'thirty-seven' : 37, \n",
    "    'thirty-two': 32,\n",
    "    'twenty-four' : 24\n",
    "    }                   \n",
    "\n",
    "df_exploracion[\"Age\"] = df_exploracion[\"Age\"].replace(diccionario_edades)\n",
    "df_exploracion[\"Age\"].unique()\n",
    "# convertir a integrer\n"
   ]
  },
  {
   "cell_type": "code",
   "execution_count": 30,
   "metadata": {},
   "outputs": [
    {
     "data": {
      "text/plain": [
       "array([0, 1])"
      ]
     },
     "execution_count": 30,
     "metadata": {},
     "output_type": "execute_result"
    }
   ],
   "source": [
    "#Columna 'Gender'\n",
    "df_exploracion[\"Gender\"].unique()\n"
   ]
  },
  {
   "cell_type": "code",
   "execution_count": 19,
   "metadata": {},
   "outputs": [
    {
     "data": {
      "text/plain": [
       "Series([], Name: Gender, dtype: int64)"
      ]
     },
     "execution_count": 19,
     "metadata": {},
     "output_type": "execute_result"
    }
   ],
   "source": [
    "df_exploracion[\"Gender\"].value_counts()"
   ]
  },
  {
   "cell_type": "code",
   "execution_count": 31,
   "metadata": {},
   "outputs": [
    {
     "data": {
      "text/plain": [
       "0"
      ]
     },
     "execution_count": 31,
     "metadata": {},
     "output_type": "execute_result"
    }
   ],
   "source": [
    "df_exploracion[\"Gender\"].isnull().sum()\n",
    "\n",
    "#los datos aparecen como correctos, pero unificar que aparezcan igual, \n",
    "# se cambian a 0 : hombre, 1 : mujer"
   ]
  },
  {
   "cell_type": "code",
   "execution_count": 31,
   "metadata": {},
   "outputs": [
    {
     "name": "stdout",
     "output_type": "stream",
     "text": [
      "0       0\n",
      "1       0\n",
      "2       0\n",
      "3       1\n",
      "4       1\n",
      "       ..\n",
      "1609    0\n",
      "1610    0\n",
      "1611    0\n",
      "1612    0\n",
      "1613    0\n",
      "Name: Gender, Length: 1614, dtype: int64\n"
     ]
    }
   ],
   "source": [
    "print(df_exploracion[\"Gender\"])"
   ]
  },
  {
   "cell_type": "code",
   "execution_count": 55,
   "metadata": {},
   "outputs": [
    {
     "data": {
      "text/plain": [
       "0         Male\n",
       "1         Male\n",
       "2         Male\n",
       "3       Female\n",
       "4       Female\n",
       "         ...  \n",
       "1609      Male\n",
       "1610      Male\n",
       "1611      Male\n",
       "1612      Male\n",
       "1613      Male\n",
       "Name: Gender, Length: 1614, dtype: object"
      ]
     },
     "execution_count": 55,
     "metadata": {},
     "output_type": "execute_result"
    }
   ],
   "source": [
    "#.replace para sustituir 0 / 1 por Male / Female\n",
    "\n",
    "df_exploracion[\"Gender\"].replace(to_replace=[0,1],value= [\"Male\",\"Female\"],inplace=True)\n",
    "df_exploracion[\"Gender\"]\n"
   ]
  },
  {
   "cell_type": "code",
   "execution_count": 33,
   "metadata": {},
   "outputs": [
    {
     "data": {
      "text/plain": [
       "array([nan, 'Married', 'Divorced', 'Single', 'divorced', 'Marreid'],\n",
       "      dtype=object)"
      ]
     },
     "execution_count": 33,
     "metadata": {},
     "output_type": "execute_result"
    }
   ],
   "source": [
    "df_exploracion['MaritalStatus'].unique()"
   ]
  },
  {
   "cell_type": "code",
   "execution_count": 35,
   "metadata": {},
   "outputs": [
    {
     "data": {
      "text/plain": [
       "651"
      ]
     },
     "execution_count": 35,
     "metadata": {},
     "output_type": "execute_result"
    }
   ],
   "source": [
    "df_exploracion['MaritalStatus'].isnull().sum()"
   ]
  },
  {
   "cell_type": "code",
   "execution_count": 56,
   "metadata": {},
   "outputs": [],
   "source": [
    "df_exploracion['MaritalStatus'].replace(to_replace=['Marreid','divorced'],value= ['Married','Divorced'],inplace=True)"
   ]
  },
  {
   "cell_type": "code",
   "execution_count": 57,
   "metadata": {},
   "outputs": [
    {
     "data": {
      "text/plain": [
       "array([nan, 'Married', 'Divorced', 'Single'], dtype=object)"
      ]
     },
     "execution_count": 57,
     "metadata": {},
     "output_type": "execute_result"
    }
   ],
   "source": [
    "df_exploracion['MaritalStatus'].unique()"
   ]
  },
  {
   "cell_type": "code",
   "execution_count": 37,
   "metadata": {},
   "outputs": [
    {
     "data": {
      "text/plain": [
       "0      NaN\n",
       "1      NaN\n",
       "2      NaN\n",
       "3      NaN\n",
       "4      NaN\n",
       "        ..\n",
       "1609   NaN\n",
       "1610   NaN\n",
       "1611   NaN\n",
       "1612   NaN\n",
       "1613   NaN\n",
       "Name: NUMBERCHILDREN, Length: 1614, dtype: float64"
      ]
     },
     "execution_count": 37,
     "metadata": {},
     "output_type": "execute_result"
    }
   ],
   "source": [
    "df_exploracion['NUMBERCHILDREN']"
   ]
  },
  {
   "cell_type": "code",
   "execution_count": 39,
   "metadata": {},
   "outputs": [
    {
     "data": {
      "text/plain": [
       "Series([], Name: NUMBERCHILDREN, dtype: int64)"
      ]
     },
     "execution_count": 39,
     "metadata": {},
     "output_type": "execute_result"
    }
   ],
   "source": [
    "df_exploracion['NUMBERCHILDREN'].unique()\n",
    "df_exploracion['NUMBERCHILDREN'].value_counts()\n"
   ]
  },
  {
   "cell_type": "code",
   "execution_count": 7,
   "metadata": {},
   "outputs": [
    {
     "data": {
      "text/plain": [
       "array([1972, 1971, 1981, 1976, 1977, 1975, 1964, 1982, 1967, 1985, 1968,\n",
       "       1983, 1965, 1988, 1978, 1990, 1987, 1989, 1970, 1980, 1963, 1991,\n",
       "       1986, 1974, 1984, 1973, 1979, 1993, 1994, 1992, 1969, 1966, 1996,\n",
       "       1995, 1997, 1998, 1999, 2000, 2001, 2002, 2003, 2004, 2005])"
      ]
     },
     "execution_count": 7,
     "metadata": {},
     "output_type": "execute_result"
    }
   ],
   "source": [
    "df_exploracion[\"DateBirth\"].unique()\n",
    "\n",
    "# convertir a integrer"
   ]
  },
  {
   "cell_type": "code",
   "execution_count": 8,
   "metadata": {},
   "outputs": [
    {
     "data": {
      "text/plain": [
       "count    1614.000000\n",
       "mean     1986.076208\n",
       "std         9.101332\n",
       "min      1963.000000\n",
       "25%      1980.000000\n",
       "50%      1987.000000\n",
       "75%      1993.000000\n",
       "max      2005.000000\n",
       "Name: DateBirth, dtype: float64"
      ]
     },
     "execution_count": 8,
     "metadata": {},
     "output_type": "execute_result"
    }
   ],
   "source": [
    "df_exploracion[\"DateBirth\"].describe().T"
   ]
  },
  {
   "cell_type": "code",
   "execution_count": 11,
   "metadata": {},
   "outputs": [
    {
     "data": {
      "text/plain": [
       "0"
      ]
     },
     "execution_count": 11,
     "metadata": {},
     "output_type": "execute_result"
    }
   ],
   "source": [
    "df_exploracion[\"DateBirth\"].isnull().sum()"
   ]
  },
  {
   "cell_type": "code",
   "execution_count": 13,
   "metadata": {},
   "outputs": [
    {
     "data": {
      "text/plain": [
       "array(['Y', nan], dtype=object)"
      ]
     },
     "execution_count": 13,
     "metadata": {},
     "output_type": "execute_result"
    }
   ],
   "source": [
    "df_exploracion['Over18']\n",
    "df_exploracion['Over18'].unique()"
   ]
  },
  {
   "cell_type": "code",
   "execution_count": 14,
   "metadata": {},
   "outputs": [
    {
     "data": {
      "text/plain": [
       "901"
      ]
     },
     "execution_count": 14,
     "metadata": {},
     "output_type": "execute_result"
    }
   ],
   "source": [
    "df_exploracion['Over18'].isnull().sum()"
   ]
  },
  {
   "cell_type": "code",
   "execution_count": 17,
   "metadata": {},
   "outputs": [
    {
     "data": {
      "text/plain": [
       "array([3, 4, 2, 1, 5])"
      ]
     },
     "execution_count": 17,
     "metadata": {},
     "output_type": "execute_result"
    }
   ],
   "source": [
    "#'Education'\n",
    "df_exploracion['Education'].unique()"
   ]
  },
  {
   "cell_type": "code",
   "execution_count": null,
   "metadata": {},
   "outputs": [],
   "source": []
  },
  {
   "cell_type": "code",
   "execution_count": 19,
   "metadata": {},
   "outputs": [
    {
     "data": {
      "text/plain": [
       "3    621\n",
       "4    445\n",
       "2    314\n",
       "1    180\n",
       "5     54\n",
       "Name: Education, dtype: int64"
      ]
     },
     "execution_count": 19,
     "metadata": {},
     "output_type": "execute_result"
    }
   ],
   "source": [
    "df_exploracion['Education'].value_counts()"
   ]
  },
  {
   "cell_type": "code",
   "execution_count": 21,
   "metadata": {},
   "outputs": [
    {
     "data": {
      "text/plain": [
       "0"
      ]
     },
     "execution_count": 21,
     "metadata": {},
     "output_type": "execute_result"
    }
   ],
   "source": [
    "df_exploracion['Education'].isnull().sum()"
   ]
  },
  {
   "cell_type": "code",
   "execution_count": 22,
   "metadata": {},
   "outputs": [
    {
     "data": {
      "text/plain": [
       "array([nan, 'Life Sciences', 'Technical Degree', 'Medical', 'Other',\n",
       "       'Marketing', 'Human Resources'], dtype=object)"
      ]
     },
     "execution_count": 22,
     "metadata": {},
     "output_type": "execute_result"
    }
   ],
   "source": [
    "#'EducationField'\n",
    "df_exploracion['EducationField'].unique()"
   ]
  },
  {
   "cell_type": "code",
   "execution_count": 23,
   "metadata": {},
   "outputs": [
    {
     "data": {
      "text/plain": [
       "Life Sciences       349\n",
       "Medical             276\n",
       "Marketing           104\n",
       "Technical Degree     69\n",
       "Other                59\n",
       "Human Resources      12\n",
       "Name: EducationField, dtype: int64"
      ]
     },
     "execution_count": 23,
     "metadata": {},
     "output_type": "execute_result"
    }
   ],
   "source": [
    "df_exploracion['EducationField'].value_counts()"
   ]
  },
  {
   "cell_type": "code",
   "execution_count": 25,
   "metadata": {},
   "outputs": [
    {
     "data": {
      "text/plain": [
       "745"
      ]
     },
     "execution_count": 25,
     "metadata": {},
     "output_type": "execute_result"
    }
   ],
   "source": [
    "df_exploracion['EducationField'].isnull().sum()"
   ]
  },
  {
   "cell_type": "code",
   "execution_count": 59,
   "metadata": {},
   "outputs": [
    {
     "data": {
      "text/plain": [
       "0                    NaN\n",
       "1          Life Sciences\n",
       "2       Technical Degree\n",
       "3                Medical\n",
       "4       Technical Degree\n",
       "              ...       \n",
       "1609       Life Sciences\n",
       "1610                 NaN\n",
       "1611                 NaN\n",
       "1612    Technical Degree\n",
       "1613             Medical\n",
       "Name: EducationField, Length: 1614, dtype: object"
      ]
     },
     "execution_count": 59,
     "metadata": {},
     "output_type": "execute_result"
    }
   ],
   "source": [
    "df_exploracion['EducationField']"
   ]
  },
  {
   "cell_type": "code",
   "execution_count": 28,
   "metadata": {},
   "outputs": [
    {
     "data": {
      "text/plain": [
       "0"
      ]
     },
     "execution_count": 28,
     "metadata": {},
     "output_type": "execute_result"
    }
   ],
   "source": [
    "#'NUMCOMPANIESWORKED'\n",
    "df_exploracion['NUMCOMPANIESWORKED'].isnull().sum()"
   ]
  },
  {
   "cell_type": "code",
   "execution_count": 29,
   "metadata": {},
   "outputs": [
    {
     "data": {
      "text/plain": [
       "1    573\n",
       "0    226\n",
       "3    169\n",
       "4    157\n",
       "2    156\n",
       "7     84\n",
       "6     73\n",
       "5     66\n",
       "9     59\n",
       "8     51\n",
       "Name: NUMCOMPANIESWORKED, dtype: int64"
      ]
     },
     "execution_count": 29,
     "metadata": {},
     "output_type": "execute_result"
    }
   ],
   "source": [
    "df_exploracion['NUMCOMPANIESWORKED'].value_counts()"
   ]
  },
  {
   "cell_type": "code",
   "execution_count": 35,
   "metadata": {},
   "outputs": [
    {
     "data": {
      "text/plain": [
       "array([nan, '34,0', '22,0', '28,0', '20,0', '21,0', '33,0', '40,0',\n",
       "       '18,0', '25,0', '15,0', '17,0', '26,0', '16,0', '24,0', '14,0',\n",
       "       '23,0', '27,0', '19,0', '11,0', '38,0', '37,0', '13,0', '12,0',\n",
       "       '29,0', '10,0', '36,0', '35,0', '9,0', '31,0', '32,0', '8,0',\n",
       "       '7,0', '30,0', '6,0', '5,0', '4,0', '3,0', '2,0', '1,0', '0,0'],\n",
       "      dtype=object)"
      ]
     },
     "execution_count": 35,
     "metadata": {},
     "output_type": "execute_result"
    }
   ],
   "source": [
    "#TOTALWORKINGYEARS\n",
    "df_exploracion['TOTALWORKINGYEARS'].unique()\n",
    "\n",
    "# transformar en integrer\n",
    "#hay que utilizar  I mayúscula"
   ]
  },
  {
   "cell_type": "code",
   "execution_count": 36,
   "metadata": {},
   "outputs": [
    {
     "data": {
      "text/plain": [
       "526"
      ]
     },
     "execution_count": 36,
     "metadata": {},
     "output_type": "execute_result"
    }
   ],
   "source": [
    "df_exploracion['TOTALWORKINGYEARS'].isnull().sum()"
   ]
  }
 ],
 "metadata": {
  "kernelspec": {
   "display_name": "base",
   "language": "python",
   "name": "python3"
  },
  "language_info": {
   "codemirror_mode": {
    "name": "ipython",
    "version": 3
   },
   "file_extension": ".py",
   "mimetype": "text/x-python",
   "name": "python",
   "nbconvert_exporter": "python",
   "pygments_lexer": "ipython3",
   "version": "3.9.7"
  }
 },
 "nbformat": 4,
 "nbformat_minor": 2
}
