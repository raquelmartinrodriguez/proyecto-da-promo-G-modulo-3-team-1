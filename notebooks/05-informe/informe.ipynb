{
 "cells": [
  {
   "cell_type": "code",
   "execution_count": 2,
   "metadata": {},
   "outputs": [],
   "source": [
    "# Tratamiento de datos\n",
    "import pandas as pd\n",
    "import numpy as np\n",
    "\n",
    "# Visualización\n",
    "import matplotlib.pyplot as plt\n",
    "import seaborn as sns\n",
    "\n",
    "# Evaluar linealidad de las relaciones entre las variables\n",
    "# y la distribución de las variables\n",
    "import scipy.stats as stats\n",
    "from scipy.stats import chi2_contingency, ttest_ind, kstest\n",
    "from scipy.stats import mannwhitneyu\n",
    "\n",
    "# Configuración\n",
    "pd.set_option('display.max_columns', None) # para poder visualizar todas las columnas de los DataFrames\n",
    "\n",
    "\n",
    "# Gestión de los warnings\n",
    "import warnings\n",
    "warnings.filterwarnings(\"ignore\")"
   ]
  },
  {
   "cell_type": "code",
   "execution_count": 3,
   "metadata": {},
   "outputs": [],
   "source": [
    "df = pd.read_csv(\"files/df_nulos_imputados.csv\", index_col=0)"
   ]
  },
  {
   "cell_type": "code",
   "execution_count": 4,
   "metadata": {},
   "outputs": [],
   "source": [
    "df_original = pd.read_csv(\"files/HR_RAW_DATA.csv\", index_col=0)"
   ]
  },
  {
   "cell_type": "code",
   "execution_count": 5,
   "metadata": {},
   "outputs": [
    {
     "data": {
      "text/html": [
       "<div>\n",
       "<style scoped>\n",
       "    .dataframe tbody tr th:only-of-type {\n",
       "        vertical-align: middle;\n",
       "    }\n",
       "\n",
       "    .dataframe tbody tr th {\n",
       "        vertical-align: top;\n",
       "    }\n",
       "\n",
       "    .dataframe thead th {\n",
       "        text-align: right;\n",
       "    }\n",
       "</style>\n",
       "<table border=\"1\" class=\"dataframe\">\n",
       "  <thead>\n",
       "    <tr style=\"text-align: right;\">\n",
       "      <th></th>\n",
       "      <th>Age</th>\n",
       "      <th>Attrition</th>\n",
       "      <th>BusinessTravel</th>\n",
       "      <th>DailyRate</th>\n",
       "      <th>Department</th>\n",
       "      <th>DistanceFromHome</th>\n",
       "      <th>Education</th>\n",
       "      <th>EducationField</th>\n",
       "      <th>employeecount</th>\n",
       "      <th>employeenumber</th>\n",
       "      <th>EnvironmentSatisfaction</th>\n",
       "      <th>Gender</th>\n",
       "      <th>HourlyRate</th>\n",
       "      <th>JobInvolvement</th>\n",
       "      <th>JobLevel</th>\n",
       "      <th>JobRole</th>\n",
       "      <th>JobSatisfaction</th>\n",
       "      <th>MaritalStatus</th>\n",
       "      <th>MonthlyIncome</th>\n",
       "      <th>MonthlyRate</th>\n",
       "      <th>NUMCOMPANIESWORKED</th>\n",
       "      <th>Over18</th>\n",
       "      <th>OverTime</th>\n",
       "      <th>PercentSalaryHike</th>\n",
       "      <th>PerformanceRating</th>\n",
       "      <th>RelationshipSatisfaction</th>\n",
       "      <th>StandardHours</th>\n",
       "      <th>StockOptionLevel</th>\n",
       "      <th>TOTALWORKINGYEARS</th>\n",
       "      <th>TrainingTimesLastYear</th>\n",
       "      <th>WORKLIFEBALANCE</th>\n",
       "      <th>YearsAtCompany</th>\n",
       "      <th>YearsInCurrentRole</th>\n",
       "      <th>YearsSinceLastPromotion</th>\n",
       "      <th>YEARSWITHCURRMANAGER</th>\n",
       "      <th>SameAsMonthlyIncome</th>\n",
       "      <th>DateBirth</th>\n",
       "      <th>Salary</th>\n",
       "      <th>RoleDepartament</th>\n",
       "      <th>NUMBERCHILDREN</th>\n",
       "      <th>RemoteWork</th>\n",
       "    </tr>\n",
       "  </thead>\n",
       "  <tbody>\n",
       "    <tr>\n",
       "      <th>0</th>\n",
       "      <td>51</td>\n",
       "      <td>No</td>\n",
       "      <td>NaN</td>\n",
       "      <td>684,0$</td>\n",
       "      <td>NaN</td>\n",
       "      <td>6</td>\n",
       "      <td>3</td>\n",
       "      <td>NaN</td>\n",
       "      <td>1</td>\n",
       "      <td>162,0</td>\n",
       "      <td>1</td>\n",
       "      <td>0</td>\n",
       "      <td>51</td>\n",
       "      <td>3</td>\n",
       "      <td>5</td>\n",
       "      <td>resEArch DIREcToR</td>\n",
       "      <td>3</td>\n",
       "      <td>NaN</td>\n",
       "      <td>19537,0</td>\n",
       "      <td>6462</td>\n",
       "      <td>7</td>\n",
       "      <td>Y</td>\n",
       "      <td>No</td>\n",
       "      <td>13</td>\n",
       "      <td>3,0</td>\n",
       "      <td>3</td>\n",
       "      <td>NaN</td>\n",
       "      <td>0</td>\n",
       "      <td>NaN</td>\n",
       "      <td>5</td>\n",
       "      <td>3,0</td>\n",
       "      <td>20</td>\n",
       "      <td>NaN</td>\n",
       "      <td>15</td>\n",
       "      <td>15</td>\n",
       "      <td>19537,0</td>\n",
       "      <td>1972</td>\n",
       "      <td>1000000000$</td>\n",
       "      <td>NaN</td>\n",
       "      <td>NaN</td>\n",
       "      <td>Yes</td>\n",
       "    </tr>\n",
       "    <tr>\n",
       "      <th>1</th>\n",
       "      <td>52</td>\n",
       "      <td>No</td>\n",
       "      <td>NaN</td>\n",
       "      <td>699,0$</td>\n",
       "      <td>NaN</td>\n",
       "      <td>1</td>\n",
       "      <td>4</td>\n",
       "      <td>Life Sciences</td>\n",
       "      <td>1</td>\n",
       "      <td>259,0</td>\n",
       "      <td>3</td>\n",
       "      <td>0</td>\n",
       "      <td>65</td>\n",
       "      <td>2</td>\n",
       "      <td>5</td>\n",
       "      <td>ManAGeR</td>\n",
       "      <td>3</td>\n",
       "      <td>NaN</td>\n",
       "      <td>19999,0</td>\n",
       "      <td>5678</td>\n",
       "      <td>0</td>\n",
       "      <td>NaN</td>\n",
       "      <td>NaN</td>\n",
       "      <td>14</td>\n",
       "      <td>3,0</td>\n",
       "      <td>1</td>\n",
       "      <td>NaN</td>\n",
       "      <td>1</td>\n",
       "      <td>34,0</td>\n",
       "      <td>5</td>\n",
       "      <td>3,0</td>\n",
       "      <td>33</td>\n",
       "      <td>NaN</td>\n",
       "      <td>11</td>\n",
       "      <td>9</td>\n",
       "      <td>19999,0</td>\n",
       "      <td>1971</td>\n",
       "      <td>1000000000$</td>\n",
       "      <td>NaN</td>\n",
       "      <td>NaN</td>\n",
       "      <td>1</td>\n",
       "    </tr>\n",
       "    <tr>\n",
       "      <th>2</th>\n",
       "      <td>42</td>\n",
       "      <td>No</td>\n",
       "      <td>travel_rarely</td>\n",
       "      <td>532,0$</td>\n",
       "      <td>Research &amp; Development</td>\n",
       "      <td>4</td>\n",
       "      <td>2</td>\n",
       "      <td>Technical Degree</td>\n",
       "      <td>1</td>\n",
       "      <td>319,0</td>\n",
       "      <td>3</td>\n",
       "      <td>0</td>\n",
       "      <td>58</td>\n",
       "      <td>3</td>\n",
       "      <td>5</td>\n",
       "      <td>ManaGER</td>\n",
       "      <td>4</td>\n",
       "      <td>Married</td>\n",
       "      <td>19232,0</td>\n",
       "      <td>4933</td>\n",
       "      <td>1</td>\n",
       "      <td>NaN</td>\n",
       "      <td>No</td>\n",
       "      <td>11</td>\n",
       "      <td>3,0</td>\n",
       "      <td>4</td>\n",
       "      <td>NaN</td>\n",
       "      <td>0</td>\n",
       "      <td>22,0</td>\n",
       "      <td>3</td>\n",
       "      <td>NaN</td>\n",
       "      <td>22</td>\n",
       "      <td>NaN</td>\n",
       "      <td>11</td>\n",
       "      <td>15</td>\n",
       "      <td>19232,0</td>\n",
       "      <td>1981</td>\n",
       "      <td>1000000000$</td>\n",
       "      <td>ManaGER  -  Research &amp; Development</td>\n",
       "      <td>NaN</td>\n",
       "      <td>1</td>\n",
       "    </tr>\n",
       "    <tr>\n",
       "      <th>3</th>\n",
       "      <td>47</td>\n",
       "      <td>No</td>\n",
       "      <td>travel_rarely</td>\n",
       "      <td>359,0$</td>\n",
       "      <td>NaN</td>\n",
       "      <td>2</td>\n",
       "      <td>4</td>\n",
       "      <td>Medical</td>\n",
       "      <td>1</td>\n",
       "      <td>NaN</td>\n",
       "      <td>1</td>\n",
       "      <td>1</td>\n",
       "      <td>82</td>\n",
       "      <td>3</td>\n",
       "      <td>4</td>\n",
       "      <td>ReseArCH DIrECtOr</td>\n",
       "      <td>3</td>\n",
       "      <td>Married</td>\n",
       "      <td>17169,0</td>\n",
       "      <td>26703</td>\n",
       "      <td>3</td>\n",
       "      <td>Y</td>\n",
       "      <td>NaN</td>\n",
       "      <td>19</td>\n",
       "      <td>3,0</td>\n",
       "      <td>2</td>\n",
       "      <td>NaN</td>\n",
       "      <td>2</td>\n",
       "      <td>NaN</td>\n",
       "      <td>2</td>\n",
       "      <td>NaN</td>\n",
       "      <td>20</td>\n",
       "      <td>NaN</td>\n",
       "      <td>5</td>\n",
       "      <td>6</td>\n",
       "      <td>17169,0</td>\n",
       "      <td>1976</td>\n",
       "      <td>1000000000$</td>\n",
       "      <td>NaN</td>\n",
       "      <td>NaN</td>\n",
       "      <td>False</td>\n",
       "    </tr>\n",
       "    <tr>\n",
       "      <th>4</th>\n",
       "      <td>46</td>\n",
       "      <td>No</td>\n",
       "      <td>NaN</td>\n",
       "      <td>1319,0$</td>\n",
       "      <td>NaN</td>\n",
       "      <td>3</td>\n",
       "      <td>3</td>\n",
       "      <td>Technical Degree</td>\n",
       "      <td>1</td>\n",
       "      <td>NaN</td>\n",
       "      <td>1</td>\n",
       "      <td>1</td>\n",
       "      <td>45</td>\n",
       "      <td>4</td>\n",
       "      <td>4</td>\n",
       "      <td>sAleS EXECUtIve</td>\n",
       "      <td>1</td>\n",
       "      <td>Divorced</td>\n",
       "      <td>NaN</td>\n",
       "      <td>7739</td>\n",
       "      <td>2</td>\n",
       "      <td>Y</td>\n",
       "      <td>No</td>\n",
       "      <td>12</td>\n",
       "      <td>3,0</td>\n",
       "      <td>4</td>\n",
       "      <td>NaN</td>\n",
       "      <td>1</td>\n",
       "      <td>NaN</td>\n",
       "      <td>5</td>\n",
       "      <td>3,0</td>\n",
       "      <td>19</td>\n",
       "      <td>NaN</td>\n",
       "      <td>2</td>\n",
       "      <td>8</td>\n",
       "      <td>NaN</td>\n",
       "      <td>1977</td>\n",
       "      <td>1000000000$</td>\n",
       "      <td>NaN</td>\n",
       "      <td>NaN</td>\n",
       "      <td>0</td>\n",
       "    </tr>\n",
       "  </tbody>\n",
       "</table>\n",
       "</div>"
      ],
      "text/plain": [
       "  Age Attrition BusinessTravel DailyRate                Department  \\\n",
       "0  51        No            NaN    684,0$                       NaN   \n",
       "1  52        No            NaN    699,0$                       NaN   \n",
       "2  42        No  travel_rarely    532,0$   Research & Development    \n",
       "3  47        No  travel_rarely    359,0$                       NaN   \n",
       "4  46        No            NaN   1319,0$                       NaN   \n",
       "\n",
       "   DistanceFromHome  Education    EducationField  employeecount  \\\n",
       "0                 6          3               NaN              1   \n",
       "1                 1          4     Life Sciences              1   \n",
       "2                 4          2  Technical Degree              1   \n",
       "3                 2          4           Medical              1   \n",
       "4                 3          3  Technical Degree              1   \n",
       "\n",
       "  employeenumber  EnvironmentSatisfaction  Gender HourlyRate  JobInvolvement  \\\n",
       "0          162,0                        1       0         51               3   \n",
       "1          259,0                        3       0         65               2   \n",
       "2          319,0                        3       0         58               3   \n",
       "3            NaN                        1       1         82               3   \n",
       "4            NaN                        1       1         45               4   \n",
       "\n",
       "   JobLevel              JobRole  JobSatisfaction MaritalStatus MonthlyIncome  \\\n",
       "0         5   resEArch DIREcToR                 3           NaN       19537,0   \n",
       "1         5             ManAGeR                 3           NaN       19999,0   \n",
       "2         5             ManaGER                 4       Married       19232,0   \n",
       "3         4   ReseArCH DIrECtOr                 3       Married       17169,0   \n",
       "4         4     sAleS EXECUtIve                 1      Divorced           NaN   \n",
       "\n",
       "   MonthlyRate  NUMCOMPANIESWORKED Over18 OverTime  PercentSalaryHike  \\\n",
       "0         6462                   7      Y       No                 13   \n",
       "1         5678                   0    NaN      NaN                 14   \n",
       "2         4933                   1    NaN       No                 11   \n",
       "3        26703                   3      Y      NaN                 19   \n",
       "4         7739                   2      Y       No                 12   \n",
       "\n",
       "  PerformanceRating  RelationshipSatisfaction StandardHours  StockOptionLevel  \\\n",
       "0               3,0                         3           NaN                 0   \n",
       "1               3,0                         1           NaN                 1   \n",
       "2               3,0                         4           NaN                 0   \n",
       "3               3,0                         2           NaN                 2   \n",
       "4               3,0                         4           NaN                 1   \n",
       "\n",
       "  TOTALWORKINGYEARS  TrainingTimesLastYear WORKLIFEBALANCE  YearsAtCompany  \\\n",
       "0               NaN                      5             3,0              20   \n",
       "1              34,0                      5             3,0              33   \n",
       "2              22,0                      3             NaN              22   \n",
       "3               NaN                      2             NaN              20   \n",
       "4               NaN                      5             3,0              19   \n",
       "\n",
       "  YearsInCurrentRole  YearsSinceLastPromotion  YEARSWITHCURRMANAGER  \\\n",
       "0                NaN                       15                    15   \n",
       "1                NaN                       11                     9   \n",
       "2                NaN                       11                    15   \n",
       "3                NaN                        5                     6   \n",
       "4                NaN                        2                     8   \n",
       "\n",
       "  SameAsMonthlyIncome  DateBirth       Salary  \\\n",
       "0             19537,0       1972  1000000000$   \n",
       "1             19999,0       1971  1000000000$   \n",
       "2             19232,0       1981  1000000000$   \n",
       "3             17169,0       1976  1000000000$   \n",
       "4                 NaN       1977  1000000000$   \n",
       "\n",
       "                        RoleDepartament  NUMBERCHILDREN RemoteWork  \n",
       "0                                   NaN             NaN        Yes  \n",
       "1                                   NaN             NaN          1  \n",
       "2   ManaGER  -  Research & Development              NaN          1  \n",
       "3                                   NaN             NaN      False  \n",
       "4                                   NaN             NaN          0  "
      ]
     },
     "execution_count": 5,
     "metadata": {},
     "output_type": "execute_result"
    }
   ],
   "source": [
    "df_original.head()"
   ]
  },
  {
   "cell_type": "markdown",
   "metadata": {},
   "source": [
    "# Reporte de resultados"
   ]
  },
  {
   "cell_type": "markdown",
   "metadata": {},
   "source": [
    "## Contexto general\n",
    "\n",
    "En este apartado se muestran algunos gráficos que hacen visible la distribución de los empleados en función de factores como la edad, el salario, etc... "
   ]
  },
  {
   "cell_type": "markdown",
   "metadata": {},
   "source": [
    "### Edad"
   ]
  },
  {
   "cell_type": "code",
   "execution_count": 6,
   "metadata": {},
   "outputs": [
    {
     "data": {
      "text/plain": [
       "''"
      ]
     },
     "execution_count": 6,
     "metadata": {},
     "output_type": "execute_result"
    },
    {
     "data": {
      "image/png": "[encoded data removed]",
      "text/plain": [
       "<Figure size 432x288 with 1 Axes>"
      ]
     },
     "metadata": {
      "needs_background": "light"
     },
     "output_type": "display_data"
    }
   ],
   "source": [
    "sns.histplot(x = \"Age\", \n",
    "             data = df, \n",
    "             color = \"violet\", \n",
    "             kde = True, \n",
    "             bins = 20 )\n",
    "\n",
    "# usando 'plt.xlabel()' cambiamos el nombre del eje x\n",
    "plt.xlabel(\"Edad\")\n",
    "\n",
    "# usando el método 'plt.ylabel()' cambiamos el nombre del eje y\n",
    "plt.ylabel(\"Conteo\")\n",
    "\n",
    "plt.title('Distribución de los empleados por edades')\n",
    ";"
   ]
  },
  {
   "cell_type": "markdown",
   "metadata": {},
   "source": [
    "En este gráfico se observa que existen empleados de todas las edades en la empresa, cpncentrándose, la mayoría de ellos en edades comprendidas entre los 30 y los 40 años.\n"
   ]
  },
  {
   "cell_type": "markdown",
   "metadata": {},
   "source": [
    "### Género "
   ]
  },
  {
   "cell_type": "code",
   "execution_count": 7,
   "metadata": {},
   "outputs": [
    {
     "data": {
      "image/png": "[encoded data removed]",
      "text/plain": [
       "<Figure size 432x288 with 1 Axes>"
      ]
     },
     "metadata": {
      "needs_background": "light"
     },
     "output_type": "display_data"
    }
   ],
   "source": [
    "sns.histplot(x = \"Gender\", \n",
    "             data = df, \n",
    "             color = \"violet\", \n",
    "             bins = 20 )\n",
    "\n",
    "# usando 'plt.xlabel()' cambiamos el nombre del eje x\n",
    "plt.xlabel(\"Edad\")\n",
    "\n",
    "# usando el método 'plt.ylabel()' cambiamos el nombre del eje y\n",
    "plt.ylabel(\"Conteo\")\n",
    "\n",
    "plt.title('Distribución de los empleados por género');"
   ]
  },
  {
   "cell_type": "markdown",
   "metadata": {},
   "source": [
    "Observamos que hay más hombres que mujeres en la empresa."
   ]
  },
  {
   "cell_type": "markdown",
   "metadata": {},
   "source": [
    "### Distribución de salarios"
   ]
  },
  {
   "cell_type": "code",
   "execution_count": 8,
   "metadata": {},
   "outputs": [
    {
     "data": {
      "image/png": "[encoded data removed]",
      "text/plain": [
       "<Figure size 432x288 with 1 Axes>"
      ]
     },
     "metadata": {
      "needs_background": "light"
     },
     "output_type": "display_data"
    }
   ],
   "source": [
    "sns.histplot(x = \"HourlyRate\", \n",
    "             data = df, \n",
    "             color = \"violet\", \n",
    "             kde = True, \n",
    "             bins = 20 )\n",
    "\n",
    "# usando 'plt.xlabel()' cambiamos el nombre del eje x\n",
    "plt.xlabel(\"salario por hora\")\n",
    "\n",
    "# usando el método 'plt.ylabel()' cambiamos el nombre del eje y\n",
    "plt.ylabel(\"número de empleados\")\n",
    "plt.title('Distribución de los salarios entre los empleados');"
   ]
  },
  {
   "cell_type": "markdown",
   "metadata": {},
   "source": [
    "Hay una variedad de salarios amplia (con empleados que cobran 30 €/hora hasta 100 € la hora). Hay un pico alrededor de 68 €/hora. "
   ]
  },
  {
   "cell_type": "markdown",
   "metadata": {},
   "source": [
    "## distancia del hogar a la empresa "
   ]
  },
  {
   "cell_type": "code",
   "execution_count": 9,
   "metadata": {},
   "outputs": [
    {
     "data": {
      "image/png": "[encoded data removed]",
      "text/plain": [
       "<Figure size 432x288 with 1 Axes>"
      ]
     },
     "metadata": {
      "needs_background": "light"
     },
     "output_type": "display_data"
    }
   ],
   "source": [
    "sns.histplot(x = \"DistanceFromHome\", \n",
    "             data = df, \n",
    "             color = \"violet\", \n",
    "             kde = True, \n",
    "             bins = 20 )\n",
    "\n",
    "# usando 'plt.xlabel()' cambiamos el nombre del eje x\n",
    "plt.xlabel(\"Distancia al domicilio\")\n",
    "\n",
    "# usando el método 'plt.ylabel()' cambiamos el nombre del eje y\n",
    "plt.ylabel(\"número de empleados\")\n",
    "plt.title('Distancia al puesto de trabajo de los empleados');"
   ]
  },
  {
   "cell_type": "markdown",
   "metadata": {},
   "source": [
    "Vemos que la mayoría de los empleados viven relativamente cerca del lugar de trabajo. "
   ]
  },
  {
   "cell_type": "markdown",
   "metadata": {},
   "source": [
    "## Resultados del análisis de satisfacción"
   ]
  },
  {
   "cell_type": "markdown",
   "metadata": {},
   "source": [
    "### EnvironmentSatisfaction"
   ]
  },
  {
   "cell_type": "code",
   "execution_count": 10,
   "metadata": {},
   "outputs": [],
   "source": [
    "df2 = df.copy()\n",
    "\n",
    "df2['Test_Env'] = df2['EnvironmentSatisfaction'].apply(lambda x : 'satisfechos' if x >= 3 else 'insatisfechos')"
   ]
  },
  {
   "cell_type": "code",
   "execution_count": 11,
   "metadata": {},
   "outputs": [
    {
     "data": {
      "text/html": [
       "<div>\n",
       "<style scoped>\n",
       "    .dataframe tbody tr th:only-of-type {\n",
       "        vertical-align: middle;\n",
       "    }\n",
       "\n",
       "    .dataframe tbody tr th {\n",
       "        vertical-align: top;\n",
       "    }\n",
       "\n",
       "    .dataframe thead th {\n",
       "        text-align: right;\n",
       "    }\n",
       "</style>\n",
       "<table border=\"1\" class=\"dataframe\">\n",
       "  <thead>\n",
       "    <tr style=\"text-align: right;\">\n",
       "      <th>Attrition</th>\n",
       "      <th>No</th>\n",
       "      <th>Yes</th>\n",
       "      <th>No %</th>\n",
       "      <th>Yes %</th>\n",
       "    </tr>\n",
       "    <tr>\n",
       "      <th>Test_Env</th>\n",
       "      <th></th>\n",
       "      <th></th>\n",
       "      <th></th>\n",
       "      <th></th>\n",
       "    </tr>\n",
       "  </thead>\n",
       "  <tbody>\n",
       "    <tr>\n",
       "      <th>insatisfechos</th>\n",
       "      <td>495</td>\n",
       "      <td>126</td>\n",
       "      <td>79.710145</td>\n",
       "      <td>20.289855</td>\n",
       "    </tr>\n",
       "    <tr>\n",
       "      <th>satisfechos</th>\n",
       "      <td>816</td>\n",
       "      <td>126</td>\n",
       "      <td>86.624204</td>\n",
       "      <td>13.375796</td>\n",
       "    </tr>\n",
       "  </tbody>\n",
       "</table>\n",
       "</div>"
      ],
      "text/plain": [
       "Attrition       No  Yes       No %      Yes %\n",
       "Test_Env                                     \n",
       "insatisfechos  495  126  79.710145  20.289855\n",
       "satisfechos    816  126  86.624204  13.375796"
      ]
     },
     "execution_count": 11,
     "metadata": {},
     "output_type": "execute_result"
    }
   ],
   "source": [
    "tabla_contingencia2 = pd.crosstab(df2['Test_Env'], df2['Attrition']) \n",
    "\n",
    "# Calcular el porcentaje para 'No' en cada fila\n",
    "tabla_contingencia2['No %'] = tabla_contingencia2['No'] / (tabla_contingencia2['No'] + tabla_contingencia2['Yes']) * 100\n",
    "\n",
    "# Usar los valores originales de 'Yes' para calcular el porcentaje en cada fila\n",
    "tabla_contingencia2['Yes %'] = tabla_contingencia2['Yes'] / (tabla_contingencia2['No'] + tabla_contingencia2['Yes']) * 100\n",
    "\n",
    "tabla_contingencia2"
   ]
  },
  {
   "cell_type": "markdown",
   "metadata": {},
   "source": [
    "Establecemos las hipótesis:\n",
    "- H0 : No existe una relación entre el nivel de satisfacción con el ambiente laboral en el trabajo y la rotación de empleados en la empresa\n",
    "- H1: Existe una relación entre el nivel de satisfacción con el ambiente laboral en el trabajo y la rotación de empleados en la empresa"
   ]
  },
  {
   "cell_type": "code",
   "execution_count": 12,
   "metadata": {},
   "outputs": [
    {
     "data": {
      "image/png": "[encoded data removed]",
      "text/plain": [
       "<Figure size 1440x360 with 2 Axes>"
      ]
     },
     "metadata": {
      "needs_background": "light"
     },
     "output_type": "display_data"
    }
   ],
   "source": [
    "# hacemos un análisis visual previo\n",
    "fig, axes = plt.subplots(nrows = 1, ncols = 2, figsize = (20, 5), sharey=True)\n",
    "\n",
    "sns.barplot(x=tabla_contingencia2.index, y=\"No %\", data=tabla_contingencia2,  palette = \"PiYG\", ax = axes[0])\n",
    "sns.barplot(x=tabla_contingencia2.index, y=\"Yes %\", data=tabla_contingencia2,  palette = \"PiYG\", ax = axes[1])\n",
    "\n",
    "fig.suptitle(\"Rotación según Satisfacción con el Ambiente Laboral\")\n",
    "\n",
    "axes[0].set_title(\"Empleados que se quedaron\")\n",
    "axes[1].set_title(\"Empleados que se marcharon\")\n",
    "\n",
    "axes[0].set_xlabel(\"Grupo\")\n",
    "axes[0].set_ylabel(\"% de Empleados\")\n",
    "\n",
    "axes[1].set_xlabel(\"Grupo\")\n",
    "axes[1].set_ylabel(\"% de Empleados\");"
   ]
  },
  {
   "cell_type": "code",
   "execution_count": 13,
   "metadata": {},
   "outputs": [
    {
     "name": "stdout",
     "output_type": "stream",
     "text": [
      "Con un p_value de 4.874605803063882e-05 hay una diferencia significativa en la cantidad de attrition según el grupo\n"
     ]
    }
   ],
   "source": [
    "# Realizar la prueba de proporciones\n",
    "chi2, p_value, _, _ = chi2_contingency(tabla_contingencia2)\n",
    "\n",
    "# Imprimir el resultado de la prueba\n",
    "alpha = 0.05\n",
    "if p_value < alpha:\n",
    "    print(f\"Con un p_value de {p_value} hay una diferencia significativa en la cantidad de attrition según el grupo\")\n",
    "else:\n",
    "    print(f\"Con un p_value de {p_value} no hay una diferencia significativa en la cantidad de attrition según el grupo\")"
   ]
  },
  {
   "cell_type": "markdown",
   "metadata": {},
   "source": [
    "- Conclusión: Existe una diferencia significativa en la cantidad de attrition según el grupo de satisfacción, por lo que la hipótesis H0 quedaría descartada. Sí hay una relación entre la satisfacción con el ambiente laboral y la rotación de los empleados."
   ]
  },
  {
   "cell_type": "markdown",
   "metadata": {},
   "source": [
    "### JobSatisfaction"
   ]
  },
  {
   "cell_type": "code",
   "execution_count": 14,
   "metadata": {},
   "outputs": [],
   "source": [
    "df2['Test_Job'] = df2['JobSatisfaction'].apply(lambda x : 'satisfechos' if x >= 3 else 'insatisfechos')"
   ]
  },
  {
   "cell_type": "code",
   "execution_count": 15,
   "metadata": {},
   "outputs": [
    {
     "data": {
      "text/html": [
       "<div>\n",
       "<style scoped>\n",
       "    .dataframe tbody tr th:only-of-type {\n",
       "        vertical-align: middle;\n",
       "    }\n",
       "\n",
       "    .dataframe tbody tr th {\n",
       "        vertical-align: top;\n",
       "    }\n",
       "\n",
       "    .dataframe thead th {\n",
       "        text-align: right;\n",
       "    }\n",
       "</style>\n",
       "<table border=\"1\" class=\"dataframe\">\n",
       "  <thead>\n",
       "    <tr style=\"text-align: right;\">\n",
       "      <th>Attrition</th>\n",
       "      <th>No</th>\n",
       "      <th>Yes</th>\n",
       "      <th>No %</th>\n",
       "      <th>Yes %</th>\n",
       "    </tr>\n",
       "    <tr>\n",
       "      <th>Test_Job</th>\n",
       "      <th></th>\n",
       "      <th></th>\n",
       "      <th></th>\n",
       "      <th></th>\n",
       "    </tr>\n",
       "  </thead>\n",
       "  <tbody>\n",
       "    <tr>\n",
       "      <th>insatisfechos</th>\n",
       "      <td>486</td>\n",
       "      <td>121</td>\n",
       "      <td>80.065898</td>\n",
       "      <td>19.934102</td>\n",
       "    </tr>\n",
       "    <tr>\n",
       "      <th>satisfechos</th>\n",
       "      <td>825</td>\n",
       "      <td>131</td>\n",
       "      <td>86.297071</td>\n",
       "      <td>13.702929</td>\n",
       "    </tr>\n",
       "  </tbody>\n",
       "</table>\n",
       "</div>"
      ],
      "text/plain": [
       "Attrition       No  Yes       No %      Yes %\n",
       "Test_Job                                     \n",
       "insatisfechos  486  121  80.065898  19.934102\n",
       "satisfechos    825  131  86.297071  13.702929"
      ]
     },
     "execution_count": 15,
     "metadata": {},
     "output_type": "execute_result"
    }
   ],
   "source": [
    "tabla_contingencia3 = pd.crosstab(df2['Test_Job'], df2['Attrition']) \n",
    "\n",
    "# Calcular el porcentaje para 'No' en cada fila\n",
    "tabla_contingencia3['No %'] = tabla_contingencia3['No'] / (tabla_contingencia3['No'] + tabla_contingencia3['Yes']) * 100\n",
    "\n",
    "# Usar los valores originales de 'Yes' para calcular el porcentaje en cada fila\n",
    "tabla_contingencia3['Yes %'] = tabla_contingencia3['Yes'] / (tabla_contingencia3['No'] + tabla_contingencia3['Yes']) * 100\n",
    "\n",
    "tabla_contingencia3"
   ]
  },
  {
   "cell_type": "markdown",
   "metadata": {},
   "source": [
    "Establecemos las hipótesis:\n",
    "- H0 : No existe una relación entre el nivel de satisfacción con el trabajo y la rotación de empleados en la empresa\n",
    "- H1: Existe una relación entre el nivel de satisfacción con el trabajo y la rotación de empleados en la empresa"
   ]
  },
  {
   "cell_type": "code",
   "execution_count": 16,
   "metadata": {},
   "outputs": [
    {
     "data": {
      "image/png": "[encoded data removed]",
      "text/plain": [
       "<Figure size 1440x360 with 2 Axes>"
      ]
     },
     "metadata": {
      "needs_background": "light"
     },
     "output_type": "display_data"
    }
   ],
   "source": [
    "# hacemos un análisis visual previo\n",
    "fig, axes = plt.subplots(nrows = 1, ncols = 2, figsize = (20, 5), sharey=True)\n",
    "\n",
    "sns.barplot(x=tabla_contingencia3.index, y=\"No %\", data=tabla_contingencia3,  palette = \"PiYG\", ax = axes[0])\n",
    "sns.barplot(x=tabla_contingencia3.index, y=\"Yes %\", data=tabla_contingencia3,  palette = \"PiYG\", ax = axes[1])\n",
    "\n",
    "fig.suptitle(\"Rotación según Satisfacción con su Trabajo\")\n",
    "\n",
    "axes[0].set_title(\"Empleados que se quedaron\")\n",
    "axes[1].set_title(\"Empleados que se marcharon\")\n",
    "\n",
    "axes[0].set_xlabel(\"Grupo\")\n",
    "axes[0].set_ylabel(\"% de Empleados\")\n",
    "\n",
    "axes[1].set_xlabel(\"Grupo\")\n",
    "axes[1].set_ylabel(\"% de Empleados\");"
   ]
  },
  {
   "cell_type": "code",
   "execution_count": 17,
   "metadata": {},
   "outputs": [
    {
     "name": "stdout",
     "output_type": "stream",
     "text": [
      "Con un p_value de 9.629446727636445e-05 hay una diferencia significativa en la cantidad de attrition según el grupo\n"
     ]
    }
   ],
   "source": [
    "# Realizar la prueba de proporciones\n",
    "chi2, p_value, _, _ = chi2_contingency(tabla_contingencia3)\n",
    "\n",
    "# Imprimir el resultado de la prueba\n",
    "alpha = 0.05\n",
    "if p_value < alpha:\n",
    "    print(f\"Con un p_value de {p_value} hay una diferencia significativa en la cantidad de attrition según el grupo\")\n",
    "else:\n",
    "    print(f\"Con un p_value de {p_value} no hay una diferencia significativa en la cantidad de attrition según el grupo\")"
   ]
  },
  {
   "cell_type": "markdown",
   "metadata": {},
   "source": [
    "- Conclusión: Existe una diferencia significativa en la cantidad de attrition según el grupo de satisfacción, por lo que la hipótesis H0 quedaría descartada. Sí hay una relación entre la satisfacción con el trabajo y la rotación de los empleados."
   ]
  },
  {
   "cell_type": "markdown",
   "metadata": {},
   "source": [
    "### EnvironmentSatisfaction"
   ]
  },
  {
   "cell_type": "code",
   "execution_count": 18,
   "metadata": {},
   "outputs": [],
   "source": [
    "df2['Test_Rel'] = df2['RelationshipSatisfaction'].apply(lambda x : 'satisfechos' if x >= 3 else 'insatisfechos')"
   ]
  },
  {
   "cell_type": "code",
   "execution_count": 19,
   "metadata": {},
   "outputs": [
    {
     "data": {
      "text/html": [
       "<div>\n",
       "<style scoped>\n",
       "    .dataframe tbody tr th:only-of-type {\n",
       "        vertical-align: middle;\n",
       "    }\n",
       "\n",
       "    .dataframe tbody tr th {\n",
       "        vertical-align: top;\n",
       "    }\n",
       "\n",
       "    .dataframe thead th {\n",
       "        text-align: right;\n",
       "    }\n",
       "</style>\n",
       "<table border=\"1\" class=\"dataframe\">\n",
       "  <thead>\n",
       "    <tr style=\"text-align: right;\">\n",
       "      <th>Attrition</th>\n",
       "      <th>No</th>\n",
       "      <th>Yes</th>\n",
       "      <th>No %</th>\n",
       "      <th>Yes %</th>\n",
       "    </tr>\n",
       "    <tr>\n",
       "      <th>Test_Rel</th>\n",
       "      <th></th>\n",
       "      <th></th>\n",
       "      <th></th>\n",
       "      <th></th>\n",
       "    </tr>\n",
       "  </thead>\n",
       "  <tbody>\n",
       "    <tr>\n",
       "      <th>insatisfechos</th>\n",
       "      <td>511</td>\n",
       "      <td>106</td>\n",
       "      <td>82.820097</td>\n",
       "      <td>17.179903</td>\n",
       "    </tr>\n",
       "    <tr>\n",
       "      <th>satisfechos</th>\n",
       "      <td>800</td>\n",
       "      <td>146</td>\n",
       "      <td>84.566596</td>\n",
       "      <td>15.433404</td>\n",
       "    </tr>\n",
       "  </tbody>\n",
       "</table>\n",
       "</div>"
      ],
      "text/plain": [
       "Attrition       No  Yes       No %      Yes %\n",
       "Test_Rel                                     \n",
       "insatisfechos  511  106  82.820097  17.179903\n",
       "satisfechos    800  146  84.566596  15.433404"
      ]
     },
     "execution_count": 19,
     "metadata": {},
     "output_type": "execute_result"
    }
   ],
   "source": [
    "tabla_contingencia4 = pd.crosstab(df2['Test_Rel'], df2['Attrition']) \n",
    "\n",
    "# Calcular el porcentaje para 'No' en cada fila\n",
    "tabla_contingencia4['No %'] = tabla_contingencia4['No'] / (tabla_contingencia4['No'] + tabla_contingencia4['Yes']) * 100\n",
    "\n",
    "# Usar los valores originales de 'Yes' para calcular el porcentaje en cada fila\n",
    "tabla_contingencia4['Yes %'] = tabla_contingencia4['Yes'] / (tabla_contingencia4['No'] + tabla_contingencia4['Yes']) * 100\n",
    "\n",
    "tabla_contingencia4"
   ]
  },
  {
   "cell_type": "markdown",
   "metadata": {},
   "source": [
    "Establecemos las hipótesis:\n",
    "- H0 : No existe una relación entre el nivel de satisfacción con las relaciones en el trabajo y la rotación de empleados en la empresa\n",
    "- H1: Existe una relación entre el nivel de satisfacción con las relaciones en el trabajo y la rotación de empleados en la empresa"
   ]
  },
  {
   "cell_type": "code",
   "execution_count": 20,
   "metadata": {},
   "outputs": [
    {
     "data": {
      "image/png": "[encoded data removed]",
      "text/plain": [
       "<Figure size 1440x360 with 2 Axes>"
      ]
     },
     "metadata": {
      "needs_background": "light"
     },
     "output_type": "display_data"
    }
   ],
   "source": [
    "# hacemos un análisis visual previo\n",
    "fig, axes = plt.subplots(nrows = 1, ncols = 2, figsize = (20, 5), sharey=True)\n",
    "\n",
    "sns.barplot(x=tabla_contingencia4.index, y=\"No %\", data=tabla_contingencia4,  palette = \"PiYG\", ax = axes[0])\n",
    "sns.barplot(x=tabla_contingencia4.index, y=\"Yes %\", data=tabla_contingencia4,  palette = \"PiYG\", ax = axes[1])\n",
    "\n",
    "fig.suptitle(\"Rotación según Satisfacción con las Relaciones en el Trabajo\")\n",
    "\n",
    "axes[0].set_title(\"Empleados que se quedaron\")\n",
    "axes[1].set_title(\"Empleados que se marcharon\")\n",
    "\n",
    "axes[0].set_xlabel(\"Grupo\")\n",
    "axes[0].set_ylabel(\"% de Empleados\")\n",
    "\n",
    "axes[1].set_xlabel(\"Grupo\")\n",
    "axes[1].set_ylabel(\"% de Empleados\");"
   ]
  },
  {
   "cell_type": "code",
   "execution_count": 21,
   "metadata": {},
   "outputs": [
    {
     "name": "stdout",
     "output_type": "stream",
     "text": [
      "Con un p_value de 0.028125138572455417 hay una diferencia significativa en la cantidad de attrition según el grupo\n"
     ]
    }
   ],
   "source": [
    "# Realizar la prueba de proporciones\n",
    "chi2, p_value, _, _ = chi2_contingency(tabla_contingencia4)\n",
    "\n",
    "# Imprimir el resultado de la prueba\n",
    "alpha = 0.05\n",
    "if p_value < alpha:\n",
    "    print(f\"Con un p_value de {p_value} hay una diferencia significativa en la cantidad de attrition según el grupo\")\n",
    "else:\n",
    "    print(f\"Con un p_value de {p_value} no hay una diferencia significativa en la cantidad de attrition según el grupo\")"
   ]
  },
  {
   "cell_type": "markdown",
   "metadata": {},
   "source": [
    "- Conclusión: No existe una diferencia significativa en la cantidad de attrition según el grupo de satisfacción, por lo que la hipótesis H0 no se podría descartar. No existe una relación entre el nivel de satisfacción con las relaciones en el trabajo y la rotación de los empleados."
   ]
  },
  {
   "cell_type": "markdown",
   "metadata": {},
   "source": [
    "## Otros factores de influencia"
   ]
  },
  {
   "cell_type": "markdown",
   "metadata": {},
   "source": [
    "### TotalWorkingYears"
   ]
  },
  {
   "cell_type": "code",
   "execution_count": 22,
   "metadata": {},
   "outputs": [
    {
     "data": {
      "image/png": "[encoded data removed]",
      "text/plain": [
       "<Figure size 432x288 with 1 Axes>"
      ]
     },
     "metadata": {
      "needs_background": "light"
     },
     "output_type": "display_data"
    }
   ],
   "source": [
    "#realizamos un gráfico para visualizar como se distribuyen los salarios en función del nivel educativo\n",
    "\n",
    "sns.barplot(x = \"Attrition\", \n",
    "               y = \"TotalWorkingYears\", \n",
    "               data = df,\n",
    "               palette = \"magma\")\n",
    "\n",
    "\n",
    "plt.xlabel(\"Rotación de la empresa (Yes = se va de la empresa/ No = No se va)\")\n",
    "plt.ylabel(\"Años en la empresa\")\n",
    "plt.xticks(rotation = 45)\n",
    "plt.title(\"Relación entre el la rotación de empleados y la duración en la empresa\", fontsize = 10);"
   ]
  },
  {
   "cell_type": "markdown",
   "metadata": {},
   "source": [
    "En el gráfico observamos que parece existir una relación entre los años que un empleado lleva en la empresa y la rotación (a mayor número de años en la empresa, menor rotación)\n",
    "Vamos a comprobar si existe una diferencia significativa"
   ]
  },
  {
   "cell_type": "code",
   "execution_count": 23,
   "metadata": {},
   "outputs": [],
   "source": [
    "#Vamos a estudiar la normalidad de esta variable, para ver si podemos aplicar el test de student. \n",
    "\n",
    "# lo primero que hacemos es crear una función para testar la normalidad de los datos\n",
    "def normalidad(dataframe, columna):\n",
    "    \"\"\"\n",
    "    Evalúa la normalidad de una columna de datos de un DataFrame utilizando la prueba de Shapiro-Wilk.\n",
    "\n",
    "    Parámetros:\n",
    "        dataframe (DataFrame): El DataFrame que contiene los datos.\n",
    "        columna (str): El nombre de la columna en el DataFrame que se va a evaluar para la normalidad.\n",
    "\n",
    "    Returns:\n",
    "        None: Imprime un mensaje indicando si los datos siguen o no una distribución normal.\n",
    "    \"\"\"\n",
    "\n",
    "    statistic, p_value = stats.shapiro(dataframe[columna])\n",
    "    if p_value > 0.05:\n",
    "        print(f\"Para la columna {columna} los datos siguen una distribución normal.\")\n",
    "    else:\n",
    "        print(f\"Para la columna {columna} los datos no siguen una distribución normal.\")"
   ]
  },
  {
   "cell_type": "code",
   "execution_count": 24,
   "metadata": {},
   "outputs": [
    {
     "name": "stdout",
     "output_type": "stream",
     "text": [
      "Para la columna TotalWorkingYears los datos no siguen una distribución normal.\n"
     ]
    }
   ],
   "source": [
    "normalidad(df ,'TotalWorkingYears')"
   ]
  },
  {
   "cell_type": "code",
   "execution_count": 25,
   "metadata": {},
   "outputs": [],
   "source": [
    "# Como los datos no siguen una distribución normal, tenemos que hacer una prueba no paramétrica, en este caso Mann Whitney"
   ]
  },
  {
   "cell_type": "code",
   "execution_count": 26,
   "metadata": {},
   "outputs": [],
   "source": [
    "grupo_si = df[df['Attrition'] == 'Yes']['TotalWorkingYears']\n",
    "grupo_no = df[df['Attrition'] == 'No']['TotalWorkingYears']"
   ]
  },
  {
   "cell_type": "code",
   "execution_count": 27,
   "metadata": {},
   "outputs": [
    {
     "name": "stdout",
     "output_type": "stream",
     "text": [
      "Estadística de prueba U: 131490.0\n",
      "Valor p: 2.7706623639012144e-07\n",
      "Hay evidencia estadística para rechazar la hipótesis nula. Hay diferencias significativas entre los grupos.\n"
     ]
    }
   ],
   "source": [
    "# Realizar el test de Mann-Whitney U\n",
    "\n",
    "stat, p_value = mannwhitneyu(grupo_si, grupo_no)\n",
    "\n",
    "# Imprimir los resultados\n",
    "print(\"Estadística de prueba U:\", stat)\n",
    "print(\"Valor p:\", p_value)\n",
    "\n",
    "# Interpretar los resultados\n",
    "if p_value < 0.05:\n",
    "    print(\"Hay evidencia estadística para rechazar la hipótesis nula. Hay diferencias significativas entre los grupos.\")\n",
    "else:\n",
    "    print(\"No hay suficiente evidencia para rechazar la hipótesis nula. No hay diferencias significativas entre los grupos.\")"
   ]
  },
  {
   "cell_type": "markdown",
   "metadata": {},
   "source": [
    "### Age"
   ]
  },
  {
   "cell_type": "code",
   "execution_count": 28,
   "metadata": {},
   "outputs": [
    {
     "data": {
      "image/png": "[encoded data removed]",
      "text/plain": [
       "<Figure size 432x288 with 1 Axes>"
      ]
     },
     "metadata": {
      "needs_background": "light"
     },
     "output_type": "display_data"
    }
   ],
   "source": [
    "sns.barplot(x = \"Attrition\", \n",
    "               y = \"Age\", \n",
    "               data = df,\n",
    "               palette = \"magma\")\n",
    "\n",
    "\n",
    "plt.xlabel(\"Rotación de la empresa (Yes = se va de la empresa/ No = No se va)\")\n",
    "plt.ylabel(\"edad\")\n",
    "plt.xticks(rotation = 45)\n",
    "plt.title(\"Relación entre el la rotación de empleados y la edad\", fontsize = 10);"
   ]
  },
  {
   "cell_type": "code",
   "execution_count": 29,
   "metadata": {},
   "outputs": [],
   "source": [
    "#Vamos a estudiar la normalidad de esta variable, para ver si podemos aplicar el test de student. \n",
    "\n",
    "# lo primero que hacemos es crear una función para testar la normalidad de los datos\n",
    "def normalidad(dataframe, columna):\n",
    "    \"\"\"\n",
    "    Evalúa la normalidad de una columna de datos de un DataFrame utilizando la prueba de Shapiro-Wilk.\n",
    "\n",
    "    Parámetros:\n",
    "        dataframe (DataFrame): El DataFrame que contiene los datos.\n",
    "        columna (str): El nombre de la columna en el DataFrame que se va a evaluar para la normalidad.\n",
    "\n",
    "    Returns:\n",
    "        None: Imprime un mensaje indicando si los datos siguen o no una distribución normal.\n",
    "    \"\"\"\n",
    "\n",
    "    statistic, p_value = stats.shapiro(dataframe[columna])\n",
    "    if p_value > 0.05:\n",
    "        print(f\"Para la columna {columna} los datos siguen una distribución normal.\")\n",
    "    else:\n",
    "        print(f\"Para la columna {columna} los datos no siguen una distribución normal.\")"
   ]
  },
  {
   "cell_type": "code",
   "execution_count": 30,
   "metadata": {},
   "outputs": [
    {
     "name": "stdout",
     "output_type": "stream",
     "text": [
      "Para la columna Age los datos no siguen una distribución normal.\n"
     ]
    }
   ],
   "source": [
    "normalidad(df ,'Age')"
   ]
  },
  {
   "cell_type": "code",
   "execution_count": 31,
   "metadata": {},
   "outputs": [],
   "source": [
    "grupo_si_age = df[df['Attrition'] == 'Yes']['Age']\n",
    "grupo_no_age = df[df['Attrition'] == 'No']['Age']"
   ]
  },
  {
   "cell_type": "code",
   "execution_count": 32,
   "metadata": {},
   "outputs": [
    {
     "name": "stdout",
     "output_type": "stream",
     "text": [
      "Estadística de prueba U: 123999.0\n",
      "Valor p: 3.3749920113704813e-10\n",
      "Hay evidencia estadística para rechazar la hipótesis nula. Hay diferencias significativas entre los grupos.\n"
     ]
    }
   ],
   "source": [
    "# Realizar el test de Mann-Whitney U\n",
    "\n",
    "stat, p_value = mannwhitneyu(grupo_si_age, grupo_no_age)\n",
    "\n",
    "# Imprimir los resultados\n",
    "print(\"Estadística de prueba U:\", stat)\n",
    "print(\"Valor p:\", p_value)\n",
    "\n",
    "# Interpretar los resultados\n",
    "if p_value < 0.05:\n",
    "    print(\"Hay evidencia estadística para rechazar la hipótesis nula. Hay diferencias significativas entre los grupos.\")\n",
    "else:\n",
    "    print(\"No hay suficiente evidencia para rechazar la hipótesis nula. No hay diferencias significativas entre los grupos.\")"
   ]
  },
  {
   "cell_type": "markdown",
   "metadata": {},
   "source": [
    "### YearsWithCurrentManager"
   ]
  },
  {
   "cell_type": "code",
   "execution_count": 33,
   "metadata": {},
   "outputs": [
    {
     "data": {
      "image/png": "[encoded data removed]",
      "text/plain": [
       "<Figure size 432x288 with 1 Axes>"
      ]
     },
     "metadata": {
      "needs_background": "light"
     },
     "output_type": "display_data"
    }
   ],
   "source": [
    "sns.barplot(x = \"Attrition\", \n",
    "               y = \"YearsWithCurrManager\", \n",
    "               data = df,\n",
    "               palette = \"magma\")\n",
    "\n",
    "\n",
    "plt.xlabel(\"Rotación de la empresa (Yes = se va de la empresa/ No = No se va)\")\n",
    "plt.ylabel(\"años con el mismo manager\")\n",
    "plt.xticks(rotation = 45)\n",
    "plt.title(\"Relación entre el la rotación de empleados y sus managers\", fontsize = 10);"
   ]
  },
  {
   "cell_type": "code",
   "execution_count": 34,
   "metadata": {},
   "outputs": [],
   "source": [
    "#Vamos a estudiar la normalidad de esta variable, para ver si podemos aplicar el test de student. \n",
    "\n",
    "# lo primero que hacemos es crear una función para testar la normalidad de los datos\n",
    "def normalidad(dataframe, columna):\n",
    "    \"\"\"\n",
    "    Evalúa la normalidad de una columna de datos de un DataFrame utilizando la prueba de Shapiro-Wilk.\n",
    "\n",
    "    Parámetros:\n",
    "        dataframe (DataFrame): El DataFrame que contiene los datos.\n",
    "        columna (str): El nombre de la columna en el DataFrame que se va a evaluar para la normalidad.\n",
    "\n",
    "    Returns:\n",
    "        None: Imprime un mensaje indicando si los datos siguen o no una distribución normal.\n",
    "    \"\"\"\n",
    "\n",
    "    statistic, p_value = stats.shapiro(dataframe[columna])\n",
    "    if p_value > 0.05:\n",
    "        print(f\"Para la columna {columna} los datos siguen una distribución normal.\")\n",
    "    else:\n",
    "        print(f\"Para la columna {columna} los datos no siguen una distribución normal.\")"
   ]
  },
  {
   "cell_type": "code",
   "execution_count": 35,
   "metadata": {},
   "outputs": [
    {
     "name": "stdout",
     "output_type": "stream",
     "text": [
      "Para la columna YearsWithCurrManager los datos no siguen una distribución normal.\n"
     ]
    }
   ],
   "source": [
    "normalidad(df ,'YearsWithCurrManager')"
   ]
  },
  {
   "cell_type": "code",
   "execution_count": 36,
   "metadata": {},
   "outputs": [],
   "source": [
    "grupo_si_manager = df[df['Attrition'] == 'Yes']['YearsWithCurrManager']\n",
    "grupo_no_manager = df[df['Attrition'] == 'No']['YearsWithCurrManager']"
   ]
  },
  {
   "cell_type": "code",
   "execution_count": 37,
   "metadata": {},
   "outputs": [
    {
     "name": "stdout",
     "output_type": "stream",
     "text": [
      "Estadística de prueba U: 123616.5\n",
      "Valor p: 1.4402354109822127e-10\n",
      "Hay evidencia estadística para rechazar la hipótesis nula. Hay diferencias significativas entre los grupos.\n"
     ]
    }
   ],
   "source": [
    "# Realizar el test de Mann-Whitney U\n",
    "\n",
    "stat, p_value = mannwhitneyu(grupo_si_manager, grupo_no_manager)\n",
    "\n",
    "# Imprimir los resultados\n",
    "print(\"Estadística de prueba U:\", stat)\n",
    "print(\"Valor p:\", p_value)\n",
    "\n",
    "# Interpretar los resultados\n",
    "if p_value < 0.05:\n",
    "    print(\"Hay evidencia estadística para rechazar la hipótesis nula. Hay diferencias significativas entre los grupos.\")\n",
    "else:\n",
    "    print(\"No hay suficiente evidencia para rechazar la hipótesis nula. No hay diferencias significativas entre los grupos.\")"
   ]
  },
  {
   "cell_type": "markdown",
   "metadata": {},
   "source": [
    "Aunque hay diferencias significativas, creemos que tiene que ver con que las personas que llevan más años en la empresa, llevan más años con el mismo manager. No nos da mucha información sobre si la veriable influye o no en la rotación de empleados"
   ]
  },
  {
   "cell_type": "markdown",
   "metadata": {},
   "source": [
    "### Relación entre el salario y el puesto entre los dos géneros\n",
    "\n",
    "- Lo primero que nos llama la atención es que no existe una jerarquía clara entre salarios de distintas responsabilidades. Por ejemplo, cabe esperar que de acuerdo con la jerarquía de puestos dentro de la empresa, el salario vaya acorde con éste. \n",
    "- Lo siguiente es la diferencia en el promedio de salarios entre hombres y mujeres en los diferentes puestos. "
   ]
  },
  {
   "cell_type": "code",
   "execution_count": 38,
   "metadata": {},
   "outputs": [],
   "source": [
    "def barplot (x_value, y_value, data_value, palette_value , hue_value, legend_title, show_legend, x_label, y_label, title_value, size = (10 , 6)):\n",
    "    \"\"\"\n",
    "    Crea un gráfico de barras utilizando Seaborn.\n",
    "    Parámetros:\n",
    "    - x_value: Nombre de la columna en el DataFrame que se utilizará en el eje x.\n",
    "    - y_value: Nombre de la columna en el DataFrame que se utilizará en el eje y.\n",
    "    - data_value: DataFrame que contiene los datos a graficar.\n",
    "    - palette_value: Paleta de colores a utilizar en las barras.\n",
    "    - hue_value: Nombre de la columna en el DataFrame para agrupar y colorear las barras.\n",
    "    - legend_title: Título de la leyenda del gráfico.\n",
    "    - x_label: Etiqueta del eje x.\n",
    "    - y_label: Etiqueta del eje y.\n",
    "    - title_value: Título del gráfico.\n",
    "    - size: Tamaño de la figura del gráfico (opcional, por defecto es (10, 6)).\n",
    "    Retorna:\n",
    "    No retorna ningún valor. Muestra el gráfico de barras.\n",
    "    Esta función utiliza Seaborn para crear un gráfico de barras a partir de los datos proporcionados.\n",
    "    Permite especificar el eje x, el eje y, la paleta de colores, la agrupación por categoría y la inclusión de una leyenda.\n",
    "    Ejemplo de uso:\n",
    "    barplot(x_value='Year',\n",
    "            y_value='Revenue',\n",
    "            data_value=yearly_data,\n",
    "            palette_value='Blues',\n",
    "            hue_value='Category',\n",
    "            legend_title='Product Category',\n",
    "            x_label='Año',\n",
    "            y_label='Ingresos',\n",
    "            title_value='Ingresos Anuales por Categoría de Producto',\n",
    "            size=(12, 8))\n",
    "    \"\"\"\n",
    "    plt.figure(figsize= size)\n",
    "    sns.barplot(data = data_value,\n",
    "                x = x_value,\n",
    "                y = y_value,\n",
    "                hue = hue_value,\n",
    "                palette = palette_value)\n",
    "    if show_legend and hue_value:\n",
    "        plt.legend(title=legend_title)\n",
    "    plt.title(title_value)\n",
    "    plt.xlabel(x_label)\n",
    "    plt.ylabel(y_label);"
   ]
  },
  {
   "cell_type": "code",
   "execution_count": 39,
   "metadata": {},
   "outputs": [
    {
     "data": {
      "image/png": "[encoded data removed]",
      "text/plain": [
       "<Figure size 720x432 with 1 Axes>"
      ]
     },
     "metadata": {
      "needs_background": "light"
     },
     "output_type": "display_data"
    }
   ],
   "source": [
    "barplot('HourlyRate','JobRole', df, 'rainbow', 'Gender', 'Género', True, 'JobRole','HourlyRate','Relación entre el salario y el puesto por género') "
   ]
  },
  {
   "cell_type": "markdown",
   "metadata": {},
   "source": [
    "## Recomendaciones para la empresa "
   ]
  },
  {
   "cell_type": "markdown",
   "metadata": {},
   "source": [
    "### 1. Datos incompletos.\n",
    "\n",
    "Tras en análisis de los datos, lo primero que encontramos es una elevada cantidad de datos incompletos. Una recopilación cuidadosa de los datos aporta mucha precision a la hora de realizar cualquier análisis posterior. Una de nuestras recomendaciones a la empresa sería la de ser más precisos en esta tarea. "
   ]
  },
  {
   "cell_type": "code",
   "execution_count": 40,
   "metadata": {},
   "outputs": [
    {
     "data": {
      "text/html": [
       "<div>\n",
       "<style scoped>\n",
       "    .dataframe tbody tr th:only-of-type {\n",
       "        vertical-align: middle;\n",
       "    }\n",
       "\n",
       "    .dataframe tbody tr th {\n",
       "        vertical-align: top;\n",
       "    }\n",
       "\n",
       "    .dataframe thead th {\n",
       "        text-align: right;\n",
       "    }\n",
       "</style>\n",
       "<table border=\"1\" class=\"dataframe\">\n",
       "  <thead>\n",
       "    <tr style=\"text-align: right;\">\n",
       "      <th></th>\n",
       "      <th>%_nulos</th>\n",
       "    </tr>\n",
       "  </thead>\n",
       "  <tbody>\n",
       "    <tr>\n",
       "      <th>BusinessTravel</th>\n",
       "      <td>47.831475</td>\n",
       "    </tr>\n",
       "    <tr>\n",
       "      <th>Department</th>\n",
       "      <td>81.288724</td>\n",
       "    </tr>\n",
       "    <tr>\n",
       "      <th>EducationField</th>\n",
       "      <td>46.158612</td>\n",
       "    </tr>\n",
       "    <tr>\n",
       "      <th>employeenumber</th>\n",
       "      <td>26.703841</td>\n",
       "    </tr>\n",
       "    <tr>\n",
       "      <th>MaritalStatus</th>\n",
       "      <td>40.334572</td>\n",
       "    </tr>\n",
       "    <tr>\n",
       "      <th>MonthlyIncome</th>\n",
       "      <td>52.230483</td>\n",
       "    </tr>\n",
       "    <tr>\n",
       "      <th>Over18</th>\n",
       "      <td>55.824040</td>\n",
       "    </tr>\n",
       "    <tr>\n",
       "      <th>OverTime</th>\n",
       "      <td>41.883519</td>\n",
       "    </tr>\n",
       "    <tr>\n",
       "      <th>PerformanceRating</th>\n",
       "      <td>12.081784</td>\n",
       "    </tr>\n",
       "    <tr>\n",
       "      <th>StandardHours</th>\n",
       "      <td>74.039653</td>\n",
       "    </tr>\n",
       "    <tr>\n",
       "      <th>TOTALWORKINGYEARS</th>\n",
       "      <td>32.589839</td>\n",
       "    </tr>\n",
       "    <tr>\n",
       "      <th>WORKLIFEBALANCE</th>\n",
       "      <td>6.691450</td>\n",
       "    </tr>\n",
       "    <tr>\n",
       "      <th>YearsInCurrentRole</th>\n",
       "      <td>97.893432</td>\n",
       "    </tr>\n",
       "    <tr>\n",
       "      <th>SameAsMonthlyIncome</th>\n",
       "      <td>52.230483</td>\n",
       "    </tr>\n",
       "    <tr>\n",
       "      <th>RoleDepartament</th>\n",
       "      <td>81.288724</td>\n",
       "    </tr>\n",
       "    <tr>\n",
       "      <th>NUMBERCHILDREN</th>\n",
       "      <td>100.000000</td>\n",
       "    </tr>\n",
       "  </tbody>\n",
       "</table>\n",
       "</div>"
      ],
      "text/plain": [
       "                        %_nulos\n",
       "BusinessTravel        47.831475\n",
       "Department            81.288724\n",
       "EducationField        46.158612\n",
       "employeenumber        26.703841\n",
       "MaritalStatus         40.334572\n",
       "MonthlyIncome         52.230483\n",
       "Over18                55.824040\n",
       "OverTime              41.883519\n",
       "PerformanceRating     12.081784\n",
       "StandardHours         74.039653\n",
       "TOTALWORKINGYEARS     32.589839\n",
       "WORKLIFEBALANCE        6.691450\n",
       "YearsInCurrentRole    97.893432\n",
       "SameAsMonthlyIncome   52.230483\n",
       "RoleDepartament       81.288724\n",
       "NUMBERCHILDREN       100.000000"
      ]
     },
     "execution_count": 40,
     "metadata": {},
     "output_type": "execute_result"
    }
   ],
   "source": [
    "# lo convertimos a DataFrame\n",
    "df_nulos = pd.DataFrame(df_original.isna().sum()/df_original.shape[0]*100, columns = [\"%_nulos\"])\n",
    "\n",
    "# filtramos el DataFrame para quedarnos solo con aquellas columnas que tengan nulos\n",
    "df_nulos[df_nulos[\"%_nulos\"] > 0]\n",
    "#podemos ver que hay dos columnas que tienen un elevado porcentaje de nulos (casi un 90%). Más adelante veremos cómo lo gestionaremos."
   ]
  },
  {
   "cell_type": "markdown",
   "metadata": {},
   "source": [
    "Algunas de las columnas, como NumberChildren, no contienen datos. Tener datos en esta columna aportaría información valiosa a la empresa para la gestión de temas que influyen en la satisfacción de los empleados, como es la conciliación familiar. "
   ]
  },
  {
   "cell_type": "markdown",
   "metadata": {},
   "source": [
    "### 2. Recopilación no uniforme de los datos.\n",
    "\n",
    "Algunos de los datos que la empresa ha recopilado, no tienen mucho sentido. Por ejemplo, a la hora de hacer las encuestas, se les ha pedido a los empleados que respondan acerca de su grado de satisfacción con diferentes aspectos del trabajo en una escala del 1 al 4. Algunas de las respuestas obtenidas estań en números del 1 al 50. Ante esta situación, hemos tenido que tomar decisiones sobre qué hacer con éstos:¿tomarlos como una escala del 1 al 50?¿tomarlos como si fueran, enrrealidad, números decimales?"
   ]
  },
  {
   "cell_type": "code",
   "execution_count": 41,
   "metadata": {},
   "outputs": [
    {
     "data": {
      "text/plain": [
       "array([ 1,  3,  4,  2, 42, 37, 35, 25, 27, 31, 39, 21, 15, 14, 33, 19, 12,\n",
       "       13, 28, 47, 36, 29, 24, 46, 16, 22, 41, 49, 11, 48, 18, 10, 45, 38,\n",
       "       17, 20, 26, 43])"
      ]
     },
     "execution_count": 41,
     "metadata": {},
     "output_type": "execute_result"
    }
   ],
   "source": [
    "df_original['EnvironmentSatisfaction'].unique()\n",
    "# los valores están descritos del 1 al 50, no del 1 al 4. Probablemente sea porque lo han querido hacer como decimal pero no le han puesto el . \n",
    "# no podemos sacar conclusiones con los datos de esta manera"
   ]
  }
 ],
 "metadata": {
  "kernelspec": {
   "display_name": "base",
   "language": "python",
   "name": "python3"
  },
  "language_info": {
   "codemirror_mode": {
    "name": "ipython",
    "version": 3
   },
   "file_extension": ".py",
   "mimetype": "text/x-python",
   "name": "python",
   "nbconvert_exporter": "python",
   "pygments_lexer": "ipython3",
   "version": "3.9.7"
  }
 },
 "nbformat": 4,
 "nbformat_minor": 2
}
