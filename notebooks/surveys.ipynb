{
 "cells": [
  {
   "cell_type": "code",
   "execution_count": 2,
   "metadata": {},
   "outputs": [],
   "source": [
    "import pandas as pd\n",
    "import numpy as np"
   ]
  },
  {
   "cell_type": "code",
   "execution_count": 5,
   "metadata": {},
   "outputs": [
    {
     "data": {
      "text/html": [
       "<div>\n",
       "<style scoped>\n",
       "    .dataframe tbody tr th:only-of-type {\n",
       "        vertical-align: middle;\n",
       "    }\n",
       "\n",
       "    .dataframe tbody tr th {\n",
       "        vertical-align: top;\n",
       "    }\n",
       "\n",
       "    .dataframe thead th {\n",
       "        text-align: right;\n",
       "    }\n",
       "</style>\n",
       "<table border=\"1\" class=\"dataframe\">\n",
       "  <thead>\n",
       "    <tr style=\"text-align: right;\">\n",
       "      <th></th>\n",
       "      <th>Age</th>\n",
       "      <th>Attrition</th>\n",
       "      <th>BusinessTravel</th>\n",
       "      <th>DailyRate</th>\n",
       "      <th>Department</th>\n",
       "      <th>DistanceFromHome</th>\n",
       "      <th>Education</th>\n",
       "      <th>EducationField</th>\n",
       "      <th>employeecount</th>\n",
       "      <th>employeenumber</th>\n",
       "      <th>...</th>\n",
       "      <th>YearsAtCompany</th>\n",
       "      <th>YearsInCurrentRole</th>\n",
       "      <th>YearsSinceLastPromotion</th>\n",
       "      <th>YEARSWITHCURRMANAGER</th>\n",
       "      <th>SameAsMonthlyIncome</th>\n",
       "      <th>DateBirth</th>\n",
       "      <th>Salary</th>\n",
       "      <th>RoleDepartament</th>\n",
       "      <th>NUMBERCHILDREN</th>\n",
       "      <th>RemoteWork</th>\n",
       "    </tr>\n",
       "  </thead>\n",
       "  <tbody>\n",
       "    <tr>\n",
       "      <th>0</th>\n",
       "      <td>51</td>\n",
       "      <td>No</td>\n",
       "      <td>NaN</td>\n",
       "      <td>684,0$</td>\n",
       "      <td>NaN</td>\n",
       "      <td>6</td>\n",
       "      <td>3</td>\n",
       "      <td>NaN</td>\n",
       "      <td>1</td>\n",
       "      <td>162,0</td>\n",
       "      <td>...</td>\n",
       "      <td>20</td>\n",
       "      <td>NaN</td>\n",
       "      <td>15</td>\n",
       "      <td>15</td>\n",
       "      <td>19537,0</td>\n",
       "      <td>1972</td>\n",
       "      <td>1000000000$</td>\n",
       "      <td>NaN</td>\n",
       "      <td>NaN</td>\n",
       "      <td>Yes</td>\n",
       "    </tr>\n",
       "    <tr>\n",
       "      <th>1</th>\n",
       "      <td>52</td>\n",
       "      <td>No</td>\n",
       "      <td>NaN</td>\n",
       "      <td>699,0$</td>\n",
       "      <td>NaN</td>\n",
       "      <td>1</td>\n",
       "      <td>4</td>\n",
       "      <td>Life Sciences</td>\n",
       "      <td>1</td>\n",
       "      <td>259,0</td>\n",
       "      <td>...</td>\n",
       "      <td>33</td>\n",
       "      <td>NaN</td>\n",
       "      <td>11</td>\n",
       "      <td>9</td>\n",
       "      <td>19999,0</td>\n",
       "      <td>1971</td>\n",
       "      <td>1000000000$</td>\n",
       "      <td>NaN</td>\n",
       "      <td>NaN</td>\n",
       "      <td>1</td>\n",
       "    </tr>\n",
       "    <tr>\n",
       "      <th>2</th>\n",
       "      <td>42</td>\n",
       "      <td>No</td>\n",
       "      <td>travel_rarely</td>\n",
       "      <td>532,0$</td>\n",
       "      <td>Research &amp; Development</td>\n",
       "      <td>4</td>\n",
       "      <td>2</td>\n",
       "      <td>Technical Degree</td>\n",
       "      <td>1</td>\n",
       "      <td>319,0</td>\n",
       "      <td>...</td>\n",
       "      <td>22</td>\n",
       "      <td>NaN</td>\n",
       "      <td>11</td>\n",
       "      <td>15</td>\n",
       "      <td>19232,0</td>\n",
       "      <td>1981</td>\n",
       "      <td>1000000000$</td>\n",
       "      <td>ManaGER  -  Research &amp; Development</td>\n",
       "      <td>NaN</td>\n",
       "      <td>1</td>\n",
       "    </tr>\n",
       "    <tr>\n",
       "      <th>3</th>\n",
       "      <td>47</td>\n",
       "      <td>No</td>\n",
       "      <td>travel_rarely</td>\n",
       "      <td>359,0$</td>\n",
       "      <td>NaN</td>\n",
       "      <td>2</td>\n",
       "      <td>4</td>\n",
       "      <td>Medical</td>\n",
       "      <td>1</td>\n",
       "      <td>NaN</td>\n",
       "      <td>...</td>\n",
       "      <td>20</td>\n",
       "      <td>NaN</td>\n",
       "      <td>5</td>\n",
       "      <td>6</td>\n",
       "      <td>17169,0</td>\n",
       "      <td>1976</td>\n",
       "      <td>1000000000$</td>\n",
       "      <td>NaN</td>\n",
       "      <td>NaN</td>\n",
       "      <td>False</td>\n",
       "    </tr>\n",
       "    <tr>\n",
       "      <th>4</th>\n",
       "      <td>46</td>\n",
       "      <td>No</td>\n",
       "      <td>NaN</td>\n",
       "      <td>1319,0$</td>\n",
       "      <td>NaN</td>\n",
       "      <td>3</td>\n",
       "      <td>3</td>\n",
       "      <td>Technical Degree</td>\n",
       "      <td>1</td>\n",
       "      <td>NaN</td>\n",
       "      <td>...</td>\n",
       "      <td>19</td>\n",
       "      <td>NaN</td>\n",
       "      <td>2</td>\n",
       "      <td>8</td>\n",
       "      <td>NaN</td>\n",
       "      <td>1977</td>\n",
       "      <td>1000000000$</td>\n",
       "      <td>NaN</td>\n",
       "      <td>NaN</td>\n",
       "      <td>0</td>\n",
       "    </tr>\n",
       "    <tr>\n",
       "      <th>...</th>\n",
       "      <td>...</td>\n",
       "      <td>...</td>\n",
       "      <td>...</td>\n",
       "      <td>...</td>\n",
       "      <td>...</td>\n",
       "      <td>...</td>\n",
       "      <td>...</td>\n",
       "      <td>...</td>\n",
       "      <td>...</td>\n",
       "      <td>...</td>\n",
       "      <td>...</td>\n",
       "      <td>...</td>\n",
       "      <td>...</td>\n",
       "      <td>...</td>\n",
       "      <td>...</td>\n",
       "      <td>...</td>\n",
       "      <td>...</td>\n",
       "      <td>...</td>\n",
       "      <td>...</td>\n",
       "      <td>...</td>\n",
       "      <td>...</td>\n",
       "    </tr>\n",
       "    <tr>\n",
       "      <th>1609</th>\n",
       "      <td>36</td>\n",
       "      <td>Yes</td>\n",
       "      <td>travel_rarely</td>\n",
       "      <td>530,0$</td>\n",
       "      <td>NaN</td>\n",
       "      <td>3</td>\n",
       "      <td>1</td>\n",
       "      <td>Life Sciences</td>\n",
       "      <td>1</td>\n",
       "      <td>967,0</td>\n",
       "      <td>...</td>\n",
       "      <td>16</td>\n",
       "      <td>NaN</td>\n",
       "      <td>3</td>\n",
       "      <td>7</td>\n",
       "      <td>10325,0</td>\n",
       "      <td>1987</td>\n",
       "      <td>1000000000$</td>\n",
       "      <td>NaN</td>\n",
       "      <td>NaN</td>\n",
       "      <td>0</td>\n",
       "    </tr>\n",
       "    <tr>\n",
       "      <th>1610</th>\n",
       "      <td>45</td>\n",
       "      <td>No</td>\n",
       "      <td>non-travel</td>\n",
       "      <td>805,0$</td>\n",
       "      <td>NaN</td>\n",
       "      <td>4</td>\n",
       "      <td>2</td>\n",
       "      <td>NaN</td>\n",
       "      <td>1</td>\n",
       "      <td>972,0</td>\n",
       "      <td>...</td>\n",
       "      <td>9</td>\n",
       "      <td>NaN</td>\n",
       "      <td>0</td>\n",
       "      <td>8</td>\n",
       "      <td>4447,0</td>\n",
       "      <td>1978</td>\n",
       "      <td>1000000000$</td>\n",
       "      <td>NaN</td>\n",
       "      <td>NaN</td>\n",
       "      <td>1</td>\n",
       "    </tr>\n",
       "    <tr>\n",
       "      <th>1611</th>\n",
       "      <td>39</td>\n",
       "      <td>No</td>\n",
       "      <td>travel_rarely</td>\n",
       "      <td>903,0$</td>\n",
       "      <td>NaN</td>\n",
       "      <td>-13</td>\n",
       "      <td>5</td>\n",
       "      <td>NaN</td>\n",
       "      <td>1</td>\n",
       "      <td>NaN</td>\n",
       "      <td>...</td>\n",
       "      <td>8</td>\n",
       "      <td>NaN</td>\n",
       "      <td>0</td>\n",
       "      <td>7</td>\n",
       "      <td>NaN</td>\n",
       "      <td>1984</td>\n",
       "      <td>1000000000$</td>\n",
       "      <td>NaN</td>\n",
       "      <td>NaN</td>\n",
       "      <td>Yes</td>\n",
       "    </tr>\n",
       "    <tr>\n",
       "      <th>1612</th>\n",
       "      <td>36</td>\n",
       "      <td>No</td>\n",
       "      <td>non-travel</td>\n",
       "      <td>1229,0$</td>\n",
       "      <td>NaN</td>\n",
       "      <td>8</td>\n",
       "      <td>4</td>\n",
       "      <td>Technical Degree</td>\n",
       "      <td>1</td>\n",
       "      <td>990,0</td>\n",
       "      <td>...</td>\n",
       "      <td>7</td>\n",
       "      <td>NaN</td>\n",
       "      <td>0</td>\n",
       "      <td>7</td>\n",
       "      <td>NaN</td>\n",
       "      <td>1987</td>\n",
       "      <td>1000000000$</td>\n",
       "      <td>NaN</td>\n",
       "      <td>NaN</td>\n",
       "      <td>True</td>\n",
       "    </tr>\n",
       "    <tr>\n",
       "      <th>1613</th>\n",
       "      <td>46</td>\n",
       "      <td>No</td>\n",
       "      <td>NaN</td>\n",
       "      <td>566,0$</td>\n",
       "      <td>NaN</td>\n",
       "      <td>7</td>\n",
       "      <td>2</td>\n",
       "      <td>Medical</td>\n",
       "      <td>1</td>\n",
       "      <td>NaN</td>\n",
       "      <td>...</td>\n",
       "      <td>8</td>\n",
       "      <td>NaN</td>\n",
       "      <td>0</td>\n",
       "      <td>7</td>\n",
       "      <td>10845,0</td>\n",
       "      <td>1977</td>\n",
       "      <td>1000000000$</td>\n",
       "      <td>NaN</td>\n",
       "      <td>NaN</td>\n",
       "      <td>0</td>\n",
       "    </tr>\n",
       "  </tbody>\n",
       "</table>\n",
       "<p>1614 rows × 41 columns</p>\n",
       "</div>"
      ],
      "text/plain": [
       "     Age Attrition BusinessTravel DailyRate                Department  \\\n",
       "0     51        No            NaN    684,0$                       NaN   \n",
       "1     52        No            NaN    699,0$                       NaN   \n",
       "2     42        No  travel_rarely    532,0$   Research & Development    \n",
       "3     47        No  travel_rarely    359,0$                       NaN   \n",
       "4     46        No            NaN   1319,0$                       NaN   \n",
       "...   ..       ...            ...       ...                       ...   \n",
       "1609  36       Yes  travel_rarely    530,0$                       NaN   \n",
       "1610  45        No     non-travel    805,0$                       NaN   \n",
       "1611  39        No  travel_rarely    903,0$                       NaN   \n",
       "1612  36        No     non-travel   1229,0$                       NaN   \n",
       "1613  46        No            NaN    566,0$                       NaN   \n",
       "\n",
       "      DistanceFromHome  Education    EducationField  employeecount  \\\n",
       "0                    6          3               NaN              1   \n",
       "1                    1          4     Life Sciences              1   \n",
       "2                    4          2  Technical Degree              1   \n",
       "3                    2          4           Medical              1   \n",
       "4                    3          3  Technical Degree              1   \n",
       "...                ...        ...               ...            ...   \n",
       "1609                 3          1     Life Sciences              1   \n",
       "1610                 4          2               NaN              1   \n",
       "1611               -13          5               NaN              1   \n",
       "1612                 8          4  Technical Degree              1   \n",
       "1613                 7          2           Medical              1   \n",
       "\n",
       "     employeenumber  ...  YearsAtCompany  YearsInCurrentRole  \\\n",
       "0             162,0  ...              20                 NaN   \n",
       "1             259,0  ...              33                 NaN   \n",
       "2             319,0  ...              22                 NaN   \n",
       "3               NaN  ...              20                 NaN   \n",
       "4               NaN  ...              19                 NaN   \n",
       "...             ...  ...             ...                 ...   \n",
       "1609          967,0  ...              16                 NaN   \n",
       "1610          972,0  ...               9                 NaN   \n",
       "1611            NaN  ...               8                 NaN   \n",
       "1612          990,0  ...               7                 NaN   \n",
       "1613            NaN  ...               8                 NaN   \n",
       "\n",
       "     YearsSinceLastPromotion  YEARSWITHCURRMANAGER  SameAsMonthlyIncome  \\\n",
       "0                         15                    15              19537,0   \n",
       "1                         11                     9              19999,0   \n",
       "2                         11                    15              19232,0   \n",
       "3                          5                     6              17169,0   \n",
       "4                          2                     8                  NaN   \n",
       "...                      ...                   ...                  ...   \n",
       "1609                       3                     7              10325,0   \n",
       "1610                       0                     8               4447,0   \n",
       "1611                       0                     7                  NaN   \n",
       "1612                       0                     7                  NaN   \n",
       "1613                       0                     7              10845,0   \n",
       "\n",
       "     DateBirth       Salary                       RoleDepartament  \\\n",
       "0         1972  1000000000$                                   NaN   \n",
       "1         1971  1000000000$                                   NaN   \n",
       "2         1981  1000000000$   ManaGER  -  Research & Development    \n",
       "3         1976  1000000000$                                   NaN   \n",
       "4         1977  1000000000$                                   NaN   \n",
       "...        ...          ...                                   ...   \n",
       "1609      1987  1000000000$                                   NaN   \n",
       "1610      1978  1000000000$                                   NaN   \n",
       "1611      1984  1000000000$                                   NaN   \n",
       "1612      1987  1000000000$                                   NaN   \n",
       "1613      1977  1000000000$                                   NaN   \n",
       "\n",
       "     NUMBERCHILDREN  RemoteWork  \n",
       "0               NaN         Yes  \n",
       "1               NaN           1  \n",
       "2               NaN           1  \n",
       "3               NaN       False  \n",
       "4               NaN           0  \n",
       "...             ...         ...  \n",
       "1609            NaN           0  \n",
       "1610            NaN           1  \n",
       "1611            NaN         Yes  \n",
       "1612            NaN        True  \n",
       "1613            NaN           0  \n",
       "\n",
       "[1614 rows x 41 columns]"
      ]
     },
     "execution_count": 5,
     "metadata": {},
     "output_type": "execute_result"
    }
   ],
   "source": [
    "data = pd.read_csv ('../files/HR_RAW_DATA.csv', index_col = 0)\n",
    "data"
   ]
  },
  {
   "cell_type": "code",
   "execution_count": 6,
   "metadata": {},
   "outputs": [
    {
     "data": {
      "text/plain": [
       "Index(['Age', 'Attrition', 'BusinessTravel', 'DailyRate', 'Department',\n",
       "       'DistanceFromHome', 'Education', 'EducationField', 'employeecount',\n",
       "       'employeenumber', 'EnvironmentSatisfaction', 'Gender', 'HourlyRate',\n",
       "       'JobInvolvement', 'JobLevel', 'JobRole', 'JobSatisfaction',\n",
       "       'MaritalStatus', 'MonthlyIncome', 'MonthlyRate', 'NUMCOMPANIESWORKED',\n",
       "       'Over18', 'OverTime', 'PercentSalaryHike', 'PerformanceRating',\n",
       "       'RelationshipSatisfaction', 'StandardHours', 'StockOptionLevel',\n",
       "       'TOTALWORKINGYEARS', 'TrainingTimesLastYear', 'WORKLIFEBALANCE',\n",
       "       'YearsAtCompany', 'YearsInCurrentRole', 'YearsSinceLastPromotion',\n",
       "       'YEARSWITHCURRMANAGER', 'SameAsMonthlyIncome', 'DateBirth', 'Salary',\n",
       "       'RoleDepartament', 'NUMBERCHILDREN', 'RemoteWork'],\n",
       "      dtype='object')"
      ]
     },
     "execution_count": 6,
     "metadata": {},
     "output_type": "execute_result"
    }
   ],
   "source": [
    "data.columns"
   ]
  },
  {
   "cell_type": "code",
   "execution_count": 53,
   "metadata": {},
   "outputs": [
    {
     "data": {
      "text/html": [
       "<div>\n",
       "<style scoped>\n",
       "    .dataframe tbody tr th:only-of-type {\n",
       "        vertical-align: middle;\n",
       "    }\n",
       "\n",
       "    .dataframe tbody tr th {\n",
       "        vertical-align: top;\n",
       "    }\n",
       "\n",
       "    .dataframe thead th {\n",
       "        text-align: right;\n",
       "    }\n",
       "</style>\n",
       "<table border=\"1\" class=\"dataframe\">\n",
       "  <thead>\n",
       "    <tr style=\"text-align: right;\">\n",
       "      <th></th>\n",
       "      <th>employeenumber</th>\n",
       "      <th>EnvironmentSatisfaction</th>\n",
       "      <th>JobSatisfaction</th>\n",
       "      <th>RelationshipSatisfaction</th>\n",
       "      <th>WORKLIFEBALANCE</th>\n",
       "      <th>JobInvolvement</th>\n",
       "      <th>PerformanceRating</th>\n",
       "    </tr>\n",
       "  </thead>\n",
       "  <tbody>\n",
       "    <tr>\n",
       "      <th>0</th>\n",
       "      <td>162,0</td>\n",
       "      <td>1</td>\n",
       "      <td>3</td>\n",
       "      <td>3</td>\n",
       "      <td>3,0</td>\n",
       "      <td>3</td>\n",
       "      <td>3,0</td>\n",
       "    </tr>\n",
       "    <tr>\n",
       "      <th>1</th>\n",
       "      <td>259,0</td>\n",
       "      <td>3</td>\n",
       "      <td>3</td>\n",
       "      <td>1</td>\n",
       "      <td>3,0</td>\n",
       "      <td>2</td>\n",
       "      <td>3,0</td>\n",
       "    </tr>\n",
       "    <tr>\n",
       "      <th>2</th>\n",
       "      <td>319,0</td>\n",
       "      <td>3</td>\n",
       "      <td>4</td>\n",
       "      <td>4</td>\n",
       "      <td>NaN</td>\n",
       "      <td>3</td>\n",
       "      <td>3,0</td>\n",
       "    </tr>\n",
       "    <tr>\n",
       "      <th>3</th>\n",
       "      <td>NaN</td>\n",
       "      <td>1</td>\n",
       "      <td>3</td>\n",
       "      <td>2</td>\n",
       "      <td>NaN</td>\n",
       "      <td>3</td>\n",
       "      <td>3,0</td>\n",
       "    </tr>\n",
       "    <tr>\n",
       "      <th>4</th>\n",
       "      <td>NaN</td>\n",
       "      <td>1</td>\n",
       "      <td>1</td>\n",
       "      <td>4</td>\n",
       "      <td>3,0</td>\n",
       "      <td>4</td>\n",
       "      <td>3,0</td>\n",
       "    </tr>\n",
       "    <tr>\n",
       "      <th>...</th>\n",
       "      <td>...</td>\n",
       "      <td>...</td>\n",
       "      <td>...</td>\n",
       "      <td>...</td>\n",
       "      <td>...</td>\n",
       "      <td>...</td>\n",
       "      <td>...</td>\n",
       "    </tr>\n",
       "    <tr>\n",
       "      <th>1609</th>\n",
       "      <td>967,0</td>\n",
       "      <td>3</td>\n",
       "      <td>4</td>\n",
       "      <td>1</td>\n",
       "      <td>3,0</td>\n",
       "      <td>2</td>\n",
       "      <td>NaN</td>\n",
       "    </tr>\n",
       "    <tr>\n",
       "      <th>1610</th>\n",
       "      <td>972,0</td>\n",
       "      <td>3</td>\n",
       "      <td>2</td>\n",
       "      <td>2</td>\n",
       "      <td>2,0</td>\n",
       "      <td>3</td>\n",
       "      <td>3,0</td>\n",
       "    </tr>\n",
       "    <tr>\n",
       "      <th>1611</th>\n",
       "      <td>NaN</td>\n",
       "      <td>13</td>\n",
       "      <td>3</td>\n",
       "      <td>4</td>\n",
       "      <td>3,0</td>\n",
       "      <td>4</td>\n",
       "      <td>3,0</td>\n",
       "    </tr>\n",
       "    <tr>\n",
       "      <th>1612</th>\n",
       "      <td>990,0</td>\n",
       "      <td>1</td>\n",
       "      <td>4</td>\n",
       "      <td>4</td>\n",
       "      <td>3,0</td>\n",
       "      <td>3</td>\n",
       "      <td>NaN</td>\n",
       "    </tr>\n",
       "    <tr>\n",
       "      <th>1613</th>\n",
       "      <td>NaN</td>\n",
       "      <td>4</td>\n",
       "      <td>3</td>\n",
       "      <td>2</td>\n",
       "      <td>3,0</td>\n",
       "      <td>3</td>\n",
       "      <td>3,0</td>\n",
       "    </tr>\n",
       "  </tbody>\n",
       "</table>\n",
       "<p>1614 rows × 7 columns</p>\n",
       "</div>"
      ],
      "text/plain": [
       "     employeenumber  EnvironmentSatisfaction  JobSatisfaction  \\\n",
       "0             162,0                        1                3   \n",
       "1             259,0                        3                3   \n",
       "2             319,0                        3                4   \n",
       "3               NaN                        1                3   \n",
       "4               NaN                        1                1   \n",
       "...             ...                      ...              ...   \n",
       "1609          967,0                        3                4   \n",
       "1610          972,0                        3                2   \n",
       "1611            NaN                       13                3   \n",
       "1612          990,0                        1                4   \n",
       "1613            NaN                        4                3   \n",
       "\n",
       "      RelationshipSatisfaction WORKLIFEBALANCE  JobInvolvement  \\\n",
       "0                            3             3,0               3   \n",
       "1                            1             3,0               2   \n",
       "2                            4             NaN               3   \n",
       "3                            2             NaN               3   \n",
       "4                            4             3,0               4   \n",
       "...                        ...             ...             ...   \n",
       "1609                         1             3,0               2   \n",
       "1610                         2             2,0               3   \n",
       "1611                         4             3,0               4   \n",
       "1612                         4             3,0               3   \n",
       "1613                         2             3,0               3   \n",
       "\n",
       "     PerformanceRating  \n",
       "0                  3,0  \n",
       "1                  3,0  \n",
       "2                  3,0  \n",
       "3                  3,0  \n",
       "4                  3,0  \n",
       "...                ...  \n",
       "1609               NaN  \n",
       "1610               3,0  \n",
       "1611               3,0  \n",
       "1612               NaN  \n",
       "1613               3,0  \n",
       "\n",
       "[1614 rows x 7 columns]"
      ]
     },
     "execution_count": 53,
     "metadata": {},
     "output_type": "execute_result"
    }
   ],
   "source": [
    "surveys = data.loc [:, ['employeenumber', 'EnvironmentSatisfaction', 'JobSatisfaction', 'RelationshipSatisfaction', 'WORKLIFEBALANCE', 'JobInvolvement', 'PerformanceRating' ]]\n",
    "surveys "
   ]
  },
  {
   "cell_type": "code",
   "execution_count": 24,
   "metadata": {},
   "outputs": [
    {
     "name": "stdout",
     "output_type": "stream",
     "text": [
      "<class 'pandas.core.frame.DataFrame'>\n",
      "Int64Index: 1614 entries, 0 to 1613\n",
      "Data columns (total 7 columns):\n",
      " #   Column                    Non-Null Count  Dtype \n",
      "---  ------                    --------------  ----- \n",
      " 0   employeenumber            1183 non-null   object\n",
      " 1   EnvironmentSatisfaction   1614 non-null   int64 \n",
      " 2   JobSatisfaction           1614 non-null   int64 \n",
      " 3   RelationshipSatisfaction  1614 non-null   int64 \n",
      " 4   WORKLIFEBALANCE           1506 non-null   object\n",
      " 5   JobInvolvement            1614 non-null   int64 \n",
      " 6   PerformanceRating         1419 non-null   object\n",
      "dtypes: int64(4), object(3)\n",
      "memory usage: 100.9+ KB\n"
     ]
    }
   ],
   "source": [
    "surveys.info()"
   ]
  },
  {
   "cell_type": "markdown",
   "metadata": {},
   "source": [
    "## 'employeenumber'"
   ]
  },
  {
   "cell_type": "code",
   "execution_count": 11,
   "metadata": {},
   "outputs": [
    {
     "data": {
      "text/plain": [
       "count      1183\n",
       "unique     1079\n",
       "top       482,0\n",
       "freq          2\n",
       "Name: employeenumber, dtype: object"
      ]
     },
     "execution_count": 11,
     "metadata": {},
     "output_type": "execute_result"
    }
   ],
   "source": [
    "surveys ['employeenumber'].describe().T\n",
    "#variable categórica que debería ser numérica"
   ]
  },
  {
   "cell_type": "code",
   "execution_count": 39,
   "metadata": {},
   "outputs": [
    {
     "data": {
      "text/plain": [
       "431"
      ]
     },
     "execution_count": 39,
     "metadata": {},
     "output_type": "execute_result"
    }
   ],
   "source": [
    "surveys ['employeenumber'].isnull().sum()"
   ]
  },
  {
   "cell_type": "code",
   "execution_count": 30,
   "metadata": {},
   "outputs": [
    {
     "data": {
      "text/html": [
       "<div>\n",
       "<style scoped>\n",
       "    .dataframe tbody tr th:only-of-type {\n",
       "        vertical-align: middle;\n",
       "    }\n",
       "\n",
       "    .dataframe tbody tr th {\n",
       "        vertical-align: top;\n",
       "    }\n",
       "\n",
       "    .dataframe thead th {\n",
       "        text-align: right;\n",
       "    }\n",
       "</style>\n",
       "<table border=\"1\" class=\"dataframe\">\n",
       "  <thead>\n",
       "    <tr style=\"text-align: right;\">\n",
       "      <th></th>\n",
       "      <th>employeenumber</th>\n",
       "    </tr>\n",
       "  </thead>\n",
       "  <tbody>\n",
       "    <tr>\n",
       "      <th>0</th>\n",
       "      <td>162,0</td>\n",
       "    </tr>\n",
       "    <tr>\n",
       "      <th>1</th>\n",
       "      <td>259,0</td>\n",
       "    </tr>\n",
       "    <tr>\n",
       "      <th>2</th>\n",
       "      <td>319,0</td>\n",
       "    </tr>\n",
       "    <tr>\n",
       "      <th>5</th>\n",
       "      <td>1900,0</td>\n",
       "    </tr>\n",
       "    <tr>\n",
       "      <th>6</th>\n",
       "      <td>81,0</td>\n",
       "    </tr>\n",
       "    <tr>\n",
       "      <th>...</th>\n",
       "      <td>...</td>\n",
       "    </tr>\n",
       "    <tr>\n",
       "      <th>1606</th>\n",
       "      <td>956,0</td>\n",
       "    </tr>\n",
       "    <tr>\n",
       "      <th>1608</th>\n",
       "      <td>966,0</td>\n",
       "    </tr>\n",
       "    <tr>\n",
       "      <th>1609</th>\n",
       "      <td>967,0</td>\n",
       "    </tr>\n",
       "    <tr>\n",
       "      <th>1610</th>\n",
       "      <td>972,0</td>\n",
       "    </tr>\n",
       "    <tr>\n",
       "      <th>1612</th>\n",
       "      <td>990,0</td>\n",
       "    </tr>\n",
       "  </tbody>\n",
       "</table>\n",
       "<p>1183 rows × 1 columns</p>\n",
       "</div>"
      ],
      "text/plain": [
       "     employeenumber\n",
       "0             162,0\n",
       "1             259,0\n",
       "2             319,0\n",
       "5            1900,0\n",
       "6              81,0\n",
       "...             ...\n",
       "1606          956,0\n",
       "1608          966,0\n",
       "1609          967,0\n",
       "1610          972,0\n",
       "1612          990,0\n",
       "\n",
       "[1183 rows x 1 columns]"
      ]
     },
     "execution_count": 30,
     "metadata": {},
     "output_type": "execute_result"
    }
   ],
   "source": [
    "employee_numbers_notnull = surveys.loc[surveys['employeenumber'].notnull() , ['employeenumber']]\n",
    "employee_numbers_notnull"
   ]
  },
  {
   "cell_type": "code",
   "execution_count": 38,
   "metadata": {},
   "outputs": [
    {
     "data": {
      "text/plain": [
       "104"
      ]
     },
     "execution_count": 38,
     "metadata": {},
     "output_type": "execute_result"
    }
   ],
   "source": [
    "employee_numbers_notnull['employeenumber'].duplicated().sum()"
   ]
  },
  {
   "cell_type": "code",
   "execution_count": 67,
   "metadata": {},
   "outputs": [
    {
     "data": {
      "text/plain": [
       "26.703841387856258"
      ]
     },
     "execution_count": 67,
     "metadata": {},
     "output_type": "execute_result"
    }
   ],
   "source": [
    "surveys['employeenumber'].isna().sum()/surveys['employeenumber'].shape[0]*100\n",
    "#tenemos un 26 % de nulos"
   ]
  },
  {
   "cell_type": "markdown",
   "metadata": {},
   "source": [
    "## 'EnvironmentSatisfaction'\n",
    "Nivel de satisfacción del empleado en relación con su entorno de trabajo. Con valores que estan comprendidos entre el 1 y el 4, siendo el 4 el nivel de máxima satisfacción."
   ]
  },
  {
   "cell_type": "code",
   "execution_count": 25,
   "metadata": {},
   "outputs": [
    {
     "data": {
      "text/plain": [
       "count    1614.000000\n",
       "mean        4.294919\n",
       "std         6.993559\n",
       "min         1.000000\n",
       "25%         2.000000\n",
       "50%         3.000000\n",
       "75%         4.000000\n",
       "max        49.000000\n",
       "Name: EnvironmentSatisfaction, dtype: float64"
      ]
     },
     "execution_count": 25,
     "metadata": {},
     "output_type": "execute_result"
    }
   ],
   "source": [
    "surveys ['EnvironmentSatisfaction'].describe().T\n",
    "#variable numérica"
   ]
  },
  {
   "cell_type": "code",
   "execution_count": 41,
   "metadata": {},
   "outputs": [
    {
     "data": {
      "text/plain": [
       "0"
      ]
     },
     "execution_count": 41,
     "metadata": {},
     "output_type": "execute_result"
    }
   ],
   "source": [
    "surveys ['EnvironmentSatisfaction'].isnull().sum()\n",
    "#no hay nulos"
   ]
  },
  {
   "cell_type": "code",
   "execution_count": 27,
   "metadata": {},
   "outputs": [
    {
     "data": {
      "text/plain": [
       "array([ 1,  3,  4,  2, 42, 37, 35, 25, 27, 31, 39, 21, 15, 14, 33, 19, 12,\n",
       "       13, 28, 47, 36, 29, 24, 46, 16, 22, 41, 49, 11, 48, 18, 10, 45, 38,\n",
       "       17, 20, 26, 43])"
      ]
     },
     "execution_count": 27,
     "metadata": {},
     "output_type": "execute_result"
    }
   ],
   "source": [
    "surveys['EnvironmentSatisfaction'].unique()\n",
    "# los valores están descritos del 1 al 50, no del 1 al 4. Probablemente sea porque lo han querido hacer como decimal pero no le han puesto el . \n",
    "# no podemos sacar conclusiones con los datos de esta manera"
   ]
  },
  {
   "cell_type": "markdown",
   "metadata": {},
   "source": [
    "## 'JobSatisfaction'\n",
    "Nivel de satisfacción del empleado con su trabajo."
   ]
  },
  {
   "cell_type": "code",
   "execution_count": 45,
   "metadata": {},
   "outputs": [
    {
     "data": {
      "text/plain": [
       "count    1614.000000\n",
       "mean        2.738538\n",
       "std         1.106163\n",
       "min         1.000000\n",
       "25%         2.000000\n",
       "50%         3.000000\n",
       "75%         4.000000\n",
       "max         4.000000\n",
       "Name: JobSatisfaction, dtype: float64"
      ]
     },
     "execution_count": 45,
     "metadata": {},
     "output_type": "execute_result"
    }
   ],
   "source": [
    "surveys ['JobSatisfaction'].describe().T\n",
    "#variable numérica"
   ]
  },
  {
   "cell_type": "code",
   "execution_count": 46,
   "metadata": {},
   "outputs": [
    {
     "data": {
      "text/plain": [
       "0"
      ]
     },
     "execution_count": 46,
     "metadata": {},
     "output_type": "execute_result"
    }
   ],
   "source": [
    "surveys ['JobSatisfaction'].isnull().sum()\n",
    "#no tenemos valores nulos "
   ]
  },
  {
   "cell_type": "code",
   "execution_count": 47,
   "metadata": {},
   "outputs": [
    {
     "data": {
      "text/plain": [
       "array([3, 4, 1, 2])"
      ]
     },
     "execution_count": 47,
     "metadata": {},
     "output_type": "execute_result"
    }
   ],
   "source": [
    "surveys['JobSatisfaction'].unique()\n",
    "#en este caso los valores están correctos, ya que están clasificados del 1 al 4"
   ]
  },
  {
   "cell_type": "markdown",
   "metadata": {},
   "source": [
    "## 'RelationshipSatisfaction'\n",
    "Nivel de satisfacción en las relaciones interpersonales del empleado."
   ]
  },
  {
   "cell_type": "code",
   "execution_count": 48,
   "metadata": {},
   "outputs": [
    {
     "data": {
      "text/plain": [
       "array([3, 1, 4, 2])"
      ]
     },
     "execution_count": 48,
     "metadata": {},
     "output_type": "execute_result"
    }
   ],
   "source": [
    "surveys['RelationshipSatisfaction'].unique()\n",
    "#en este caso los valores están correctos, ya que están clasificados del 1 al 4"
   ]
  },
  {
   "cell_type": "code",
   "execution_count": 49,
   "metadata": {},
   "outputs": [
    {
     "data": {
      "text/plain": [
       "count    1614.000000\n",
       "mean        2.704461\n",
       "std         1.079031\n",
       "min         1.000000\n",
       "25%         2.000000\n",
       "50%         3.000000\n",
       "75%         4.000000\n",
       "max         4.000000\n",
       "Name: RelationshipSatisfaction, dtype: float64"
      ]
     },
     "execution_count": 49,
     "metadata": {},
     "output_type": "execute_result"
    }
   ],
   "source": [
    "surveys ['RelationshipSatisfaction'].describe().T\n",
    "#variable numérica "
   ]
  },
  {
   "cell_type": "code",
   "execution_count": 50,
   "metadata": {},
   "outputs": [
    {
     "data": {
      "text/plain": [
       "0"
      ]
     },
     "execution_count": 50,
     "metadata": {},
     "output_type": "execute_result"
    }
   ],
   "source": [
    "surveys ['RelationshipSatisfaction'].isnull().sum()"
   ]
  },
  {
   "cell_type": "markdown",
   "metadata": {},
   "source": [
    "## 'WORKLIFEBALANCE'\n",
    "Equilibrio entre trabajo y vida personal del empleado."
   ]
  },
  {
   "cell_type": "code",
   "execution_count": 54,
   "metadata": {},
   "outputs": [
    {
     "data": {
      "text/plain": [
       "count     1506\n",
       "unique       4\n",
       "top        3,0\n",
       "freq       913\n",
       "Name: WORKLIFEBALANCE, dtype: object"
      ]
     },
     "execution_count": 54,
     "metadata": {},
     "output_type": "execute_result"
    }
   ],
   "source": [
    "surveys['WORKLIFEBALANCE'].describe().T\n",
    "#variable categórica"
   ]
  },
  {
   "cell_type": "code",
   "execution_count": 55,
   "metadata": {},
   "outputs": [
    {
     "data": {
      "text/plain": [
       "array(['3,0', nan, '2,0', '4,0', '1,0'], dtype=object)"
      ]
     },
     "execution_count": 55,
     "metadata": {},
     "output_type": "execute_result"
    }
   ],
   "source": [
    "surveys['WORKLIFEBALANCE'].unique()\n",
    "# hay que unificar con las demás"
   ]
  },
  {
   "cell_type": "code",
   "execution_count": 56,
   "metadata": {},
   "outputs": [
    {
     "data": {
      "text/plain": [
       "108"
      ]
     },
     "execution_count": 56,
     "metadata": {},
     "output_type": "execute_result"
    }
   ],
   "source": [
    "surveys['WORKLIFEBALANCE'].isnull().sum()\n",
    "#108 nulas que si sumamos a las 1506, dan el total de filas."
   ]
  },
  {
   "cell_type": "code",
   "execution_count": 66,
   "metadata": {},
   "outputs": [
    {
     "data": {
      "text/plain": [
       "6.691449814126393"
      ]
     },
     "execution_count": 66,
     "metadata": {},
     "output_type": "execute_result"
    }
   ],
   "source": [
    "surveys['WORKLIFEBALANCE'].isna().sum()/surveys['WORKLIFEBALANCE'].shape[0]*100\n",
    "#tenemos un 7% de nulos"
   ]
  },
  {
   "cell_type": "markdown",
   "metadata": {},
   "source": [
    "## 'JobInvolvement'\n",
    "Nivel de implicación del empleado en su trabajo."
   ]
  },
  {
   "cell_type": "code",
   "execution_count": 57,
   "metadata": {},
   "outputs": [
    {
     "data": {
      "text/plain": [
       "count    1614.000000\n",
       "mean        2.739777\n",
       "std         0.711567\n",
       "min         1.000000\n",
       "25%         2.000000\n",
       "50%         3.000000\n",
       "75%         3.000000\n",
       "max         4.000000\n",
       "Name: JobInvolvement, dtype: float64"
      ]
     },
     "execution_count": 57,
     "metadata": {},
     "output_type": "execute_result"
    }
   ],
   "source": [
    "surveys['JobInvolvement'].describe().T\n",
    "#variable numérica"
   ]
  },
  {
   "cell_type": "code",
   "execution_count": 58,
   "metadata": {},
   "outputs": [
    {
     "data": {
      "text/plain": [
       "array([3, 2, 4, 1])"
      ]
     },
     "execution_count": 58,
     "metadata": {},
     "output_type": "execute_result"
    }
   ],
   "source": [
    "surveys['JobInvolvement'].unique()\n",
    "# correctos: del 1 al 4 "
   ]
  },
  {
   "cell_type": "code",
   "execution_count": 59,
   "metadata": {},
   "outputs": [
    {
     "data": {
      "text/plain": [
       "0"
      ]
     },
     "execution_count": 59,
     "metadata": {},
     "output_type": "execute_result"
    }
   ],
   "source": [
    "surveys['JobInvolvement'].isnull().sum()\n",
    "#no tenemos nulos"
   ]
  },
  {
   "cell_type": "markdown",
   "metadata": {},
   "source": [
    "## 'PerformanceRating'\n",
    "Calificación de rendimiento del empleado."
   ]
  },
  {
   "cell_type": "code",
   "execution_count": 60,
   "metadata": {},
   "outputs": [
    {
     "data": {
      "text/plain": [
       "count     1419\n",
       "unique       2\n",
       "top        3,0\n",
       "freq      1205\n",
       "Name: PerformanceRating, dtype: object"
      ]
     },
     "execution_count": 60,
     "metadata": {},
     "output_type": "execute_result"
    }
   ],
   "source": [
    "surveys['PerformanceRating'].describe().T\n",
    "#variable categórica"
   ]
  },
  {
   "cell_type": "code",
   "execution_count": 61,
   "metadata": {},
   "outputs": [
    {
     "data": {
      "text/plain": [
       "array(['3,0', '4,0', nan], dtype=object)"
      ]
     },
     "execution_count": 61,
     "metadata": {},
     "output_type": "execute_result"
    }
   ],
   "source": [
    "surveys['PerformanceRating'].unique()\n",
    "#sólo tenemos valores 3 y 4"
   ]
  },
  {
   "cell_type": "code",
   "execution_count": 62,
   "metadata": {},
   "outputs": [
    {
     "data": {
      "text/plain": [
       "195"
      ]
     },
     "execution_count": 62,
     "metadata": {},
     "output_type": "execute_result"
    }
   ],
   "source": [
    "surveys['PerformanceRating'].isnull().sum()\n",
    "#tenemos 195 nulos "
   ]
  },
  {
   "cell_type": "code",
   "execution_count": 64,
   "metadata": {},
   "outputs": [
    {
     "data": {
      "text/plain": [
       "12.0817843866171"
      ]
     },
     "execution_count": 64,
     "metadata": {},
     "output_type": "execute_result"
    }
   ],
   "source": [
    "surveys['PerformanceRating'].isna().sum()/surveys['PerformanceRating'].shape[0]*100\n",
    "#tenemos un 12% de nulos"
   ]
  },
  {
   "cell_type": "code",
   "execution_count": 65,
   "metadata": {},
   "outputs": [
    {
     "data": {
      "text/plain": [
       "employeenumber              26.703841\n",
       "EnvironmentSatisfaction      0.000000\n",
       "JobSatisfaction              0.000000\n",
       "RelationshipSatisfaction     0.000000\n",
       "WORKLIFEBALANCE              6.691450\n",
       "JobInvolvement               0.000000\n",
       "PerformanceRating           12.081784\n",
       "dtype: float64"
      ]
     },
     "execution_count": 65,
     "metadata": {},
     "output_type": "execute_result"
    }
   ],
   "source": [
    "surveys.isna().sum()/surveys.shape[0]*100"
   ]
  }
 ],
 "metadata": {
  "kernelspec": {
   "display_name": "base",
   "language": "python",
   "name": "python3"
  },
  "language_info": {
   "codemirror_mode": {
    "name": "ipython",
    "version": 3
   },
   "file_extension": ".py",
   "mimetype": "text/x-python",
   "name": "python",
   "nbconvert_exporter": "python",
   "pygments_lexer": "ipython3",
   "version": "3.9.7"
  }
 },
 "nbformat": 4,
 "nbformat_minor": 2
}
