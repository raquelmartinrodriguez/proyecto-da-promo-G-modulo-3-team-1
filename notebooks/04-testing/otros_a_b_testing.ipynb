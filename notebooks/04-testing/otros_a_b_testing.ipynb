{
 "cells": [
  {
   "cell_type": "code",
   "execution_count": 135,
   "metadata": {},
   "outputs": [],
   "source": [
    "# Tratamiento de datos\n",
    "import pandas as pd\n",
    "import numpy as np\n",
    "\n",
    "# Visualización\n",
    "import matplotlib.pyplot as plt\n",
    "import seaborn as sns\n",
    "\n",
    "# Evaluar linealidad de las relaciones entre las variables\n",
    "# y la distribución de las variables\n",
    "import scipy.stats as stats\n",
    "from scipy.stats import chi2_contingency, ttest_ind, kstest\n",
    "from scipy.stats import mannwhitneyu\n",
    "\n",
    "# Configuración\n",
    "pd.set_option('display.max_columns', None) # para poder visualizar todas las columnas de los DataFrames\n",
    "\n",
    "\n",
    "# Gestión de los warnings\n",
    "import warnings\n",
    "warnings.filterwarnings(\"ignore\")"
   ]
  },
  {
   "cell_type": "code",
   "execution_count": 47,
   "metadata": {},
   "outputs": [],
   "source": [
    "df = pd.read_csv(\"../../files/df_nulos_imputados.csv\", index_col=0)"
   ]
  },
  {
   "cell_type": "code",
   "execution_count": 48,
   "metadata": {},
   "outputs": [
    {
     "data": {
      "text/html": [
       "<div>\n",
       "<style scoped>\n",
       "    .dataframe tbody tr th:only-of-type {\n",
       "        vertical-align: middle;\n",
       "    }\n",
       "\n",
       "    .dataframe tbody tr th {\n",
       "        vertical-align: top;\n",
       "    }\n",
       "\n",
       "    .dataframe thead th {\n",
       "        text-align: right;\n",
       "    }\n",
       "</style>\n",
       "<table border=\"1\" class=\"dataframe\">\n",
       "  <thead>\n",
       "    <tr style=\"text-align: right;\">\n",
       "      <th></th>\n",
       "      <th>EmployeeID</th>\n",
       "      <th>Age</th>\n",
       "      <th>Gender</th>\n",
       "      <th>MaritalStatus</th>\n",
       "      <th>DateBirth</th>\n",
       "      <th>Education</th>\n",
       "      <th>EducationField</th>\n",
       "      <th>NumCompaniesWorked</th>\n",
       "      <th>TotalWorkingYears</th>\n",
       "      <th>YearsAtCompany</th>\n",
       "      <th>YearsSinceLastPromotion</th>\n",
       "      <th>YearsWithCurrManager</th>\n",
       "      <th>EnvironmentSatisfaction</th>\n",
       "      <th>JobSatisfaction</th>\n",
       "      <th>RelationshipSatisfaction</th>\n",
       "      <th>WorkLifeBalance</th>\n",
       "      <th>JobInvolvement</th>\n",
       "      <th>PerformanceRating</th>\n",
       "      <th>Attrition</th>\n",
       "      <th>OverTime</th>\n",
       "      <th>DistanceFromHome</th>\n",
       "      <th>RemoteWork</th>\n",
       "      <th>BusinessTravel</th>\n",
       "      <th>TrainingTimesLastYear</th>\n",
       "      <th>JobRole</th>\n",
       "      <th>JobLevel</th>\n",
       "      <th>DailyRate</th>\n",
       "      <th>HourlyRate</th>\n",
       "      <th>MonthlyRate</th>\n",
       "      <th>PercentSalaryHike</th>\n",
       "      <th>StockOptionLevel</th>\n",
       "      <th>Salary</th>\n",
       "    </tr>\n",
       "  </thead>\n",
       "  <tbody>\n",
       "    <tr>\n",
       "      <th>0</th>\n",
       "      <td>162</td>\n",
       "      <td>51</td>\n",
       "      <td>Male</td>\n",
       "      <td>Unknown</td>\n",
       "      <td>1972</td>\n",
       "      <td>3</td>\n",
       "      <td>Unknown</td>\n",
       "      <td>7</td>\n",
       "      <td>11.144344</td>\n",
       "      <td>20</td>\n",
       "      <td>15</td>\n",
       "      <td>15</td>\n",
       "      <td>1</td>\n",
       "      <td>3</td>\n",
       "      <td>3</td>\n",
       "      <td>3.000000</td>\n",
       "      <td>3</td>\n",
       "      <td>3.0</td>\n",
       "      <td>No</td>\n",
       "      <td>0.000000</td>\n",
       "      <td>6</td>\n",
       "      <td>1</td>\n",
       "      <td>Unknown</td>\n",
       "      <td>5</td>\n",
       "      <td>research director</td>\n",
       "      <td>5</td>\n",
       "      <td>684.0</td>\n",
       "      <td>51.0</td>\n",
       "      <td>6462.0</td>\n",
       "      <td>13</td>\n",
       "      <td>0</td>\n",
       "      <td>1000000000</td>\n",
       "    </tr>\n",
       "    <tr>\n",
       "      <th>1</th>\n",
       "      <td>259</td>\n",
       "      <td>52</td>\n",
       "      <td>Male</td>\n",
       "      <td>Unknown</td>\n",
       "      <td>1971</td>\n",
       "      <td>4</td>\n",
       "      <td>Life Sciences</td>\n",
       "      <td>0</td>\n",
       "      <td>34.000000</td>\n",
       "      <td>33</td>\n",
       "      <td>11</td>\n",
       "      <td>9</td>\n",
       "      <td>3</td>\n",
       "      <td>3</td>\n",
       "      <td>1</td>\n",
       "      <td>3.000000</td>\n",
       "      <td>2</td>\n",
       "      <td>3.0</td>\n",
       "      <td>No</td>\n",
       "      <td>0.265372</td>\n",
       "      <td>1</td>\n",
       "      <td>1</td>\n",
       "      <td>Unknown</td>\n",
       "      <td>5</td>\n",
       "      <td>manager</td>\n",
       "      <td>5</td>\n",
       "      <td>699.0</td>\n",
       "      <td>65.0</td>\n",
       "      <td>5678.0</td>\n",
       "      <td>14</td>\n",
       "      <td>1</td>\n",
       "      <td>1000000000</td>\n",
       "    </tr>\n",
       "    <tr>\n",
       "      <th>2</th>\n",
       "      <td>319</td>\n",
       "      <td>42</td>\n",
       "      <td>Male</td>\n",
       "      <td>Married</td>\n",
       "      <td>1981</td>\n",
       "      <td>2</td>\n",
       "      <td>Technical Degree</td>\n",
       "      <td>1</td>\n",
       "      <td>22.000000</td>\n",
       "      <td>22</td>\n",
       "      <td>11</td>\n",
       "      <td>15</td>\n",
       "      <td>3</td>\n",
       "      <td>4</td>\n",
       "      <td>4</td>\n",
       "      <td>2.787874</td>\n",
       "      <td>3</td>\n",
       "      <td>3.0</td>\n",
       "      <td>No</td>\n",
       "      <td>0.000000</td>\n",
       "      <td>4</td>\n",
       "      <td>1</td>\n",
       "      <td>travel_rarely</td>\n",
       "      <td>3</td>\n",
       "      <td>manager</td>\n",
       "      <td>5</td>\n",
       "      <td>532.0</td>\n",
       "      <td>58.0</td>\n",
       "      <td>4933.0</td>\n",
       "      <td>11</td>\n",
       "      <td>0</td>\n",
       "      <td>1000000000</td>\n",
       "    </tr>\n",
       "    <tr>\n",
       "      <th>3</th>\n",
       "      <td>nan1</td>\n",
       "      <td>47</td>\n",
       "      <td>Female</td>\n",
       "      <td>Married</td>\n",
       "      <td>1976</td>\n",
       "      <td>4</td>\n",
       "      <td>Medical</td>\n",
       "      <td>3</td>\n",
       "      <td>10.844380</td>\n",
       "      <td>20</td>\n",
       "      <td>5</td>\n",
       "      <td>6</td>\n",
       "      <td>1</td>\n",
       "      <td>3</td>\n",
       "      <td>2</td>\n",
       "      <td>2.793950</td>\n",
       "      <td>3</td>\n",
       "      <td>3.0</td>\n",
       "      <td>No</td>\n",
       "      <td>0.257984</td>\n",
       "      <td>2</td>\n",
       "      <td>0</td>\n",
       "      <td>travel_rarely</td>\n",
       "      <td>2</td>\n",
       "      <td>research director</td>\n",
       "      <td>4</td>\n",
       "      <td>359.0</td>\n",
       "      <td>82.0</td>\n",
       "      <td>26703.0</td>\n",
       "      <td>19</td>\n",
       "      <td>2</td>\n",
       "      <td>1000000000</td>\n",
       "    </tr>\n",
       "    <tr>\n",
       "      <th>4</th>\n",
       "      <td>nan2</td>\n",
       "      <td>46</td>\n",
       "      <td>Female</td>\n",
       "      <td>Divorced</td>\n",
       "      <td>1977</td>\n",
       "      <td>3</td>\n",
       "      <td>Technical Degree</td>\n",
       "      <td>2</td>\n",
       "      <td>11.732127</td>\n",
       "      <td>19</td>\n",
       "      <td>2</td>\n",
       "      <td>8</td>\n",
       "      <td>1</td>\n",
       "      <td>1</td>\n",
       "      <td>4</td>\n",
       "      <td>3.000000</td>\n",
       "      <td>4</td>\n",
       "      <td>3.0</td>\n",
       "      <td>No</td>\n",
       "      <td>0.000000</td>\n",
       "      <td>3</td>\n",
       "      <td>0</td>\n",
       "      <td>Unknown</td>\n",
       "      <td>5</td>\n",
       "      <td>sales executive</td>\n",
       "      <td>4</td>\n",
       "      <td>1319.0</td>\n",
       "      <td>45.0</td>\n",
       "      <td>7739.0</td>\n",
       "      <td>12</td>\n",
       "      <td>1</td>\n",
       "      <td>1000000000</td>\n",
       "    </tr>\n",
       "  </tbody>\n",
       "</table>\n",
       "</div>"
      ],
      "text/plain": [
       "  EmployeeID  Age  Gender MaritalStatus  DateBirth  Education  \\\n",
       "0        162   51    Male       Unknown       1972          3   \n",
       "1        259   52    Male       Unknown       1971          4   \n",
       "2        319   42    Male       Married       1981          2   \n",
       "3       nan1   47  Female       Married       1976          4   \n",
       "4       nan2   46  Female      Divorced       1977          3   \n",
       "\n",
       "     EducationField  NumCompaniesWorked  TotalWorkingYears  YearsAtCompany  \\\n",
       "0           Unknown                   7          11.144344              20   \n",
       "1     Life Sciences                   0          34.000000              33   \n",
       "2  Technical Degree                   1          22.000000              22   \n",
       "3           Medical                   3          10.844380              20   \n",
       "4  Technical Degree                   2          11.732127              19   \n",
       "\n",
       "   YearsSinceLastPromotion  YearsWithCurrManager  EnvironmentSatisfaction  \\\n",
       "0                       15                    15                        1   \n",
       "1                       11                     9                        3   \n",
       "2                       11                    15                        3   \n",
       "3                        5                     6                        1   \n",
       "4                        2                     8                        1   \n",
       "\n",
       "   JobSatisfaction  RelationshipSatisfaction  WorkLifeBalance  JobInvolvement  \\\n",
       "0                3                         3         3.000000               3   \n",
       "1                3                         1         3.000000               2   \n",
       "2                4                         4         2.787874               3   \n",
       "3                3                         2         2.793950               3   \n",
       "4                1                         4         3.000000               4   \n",
       "\n",
       "   PerformanceRating Attrition  OverTime  DistanceFromHome  RemoteWork  \\\n",
       "0                3.0        No  0.000000                 6           1   \n",
       "1                3.0        No  0.265372                 1           1   \n",
       "2                3.0        No  0.000000                 4           1   \n",
       "3                3.0        No  0.257984                 2           0   \n",
       "4                3.0        No  0.000000                 3           0   \n",
       "\n",
       "  BusinessTravel  TrainingTimesLastYear              JobRole  JobLevel  \\\n",
       "0        Unknown                      5   research director          5   \n",
       "1        Unknown                      5             manager          5   \n",
       "2  travel_rarely                      3             manager          5   \n",
       "3  travel_rarely                      2   research director          4   \n",
       "4        Unknown                      5     sales executive          4   \n",
       "\n",
       "   DailyRate  HourlyRate  MonthlyRate  PercentSalaryHike  StockOptionLevel  \\\n",
       "0      684.0        51.0       6462.0                 13                 0   \n",
       "1      699.0        65.0       5678.0                 14                 1   \n",
       "2      532.0        58.0       4933.0                 11                 0   \n",
       "3      359.0        82.0      26703.0                 19                 2   \n",
       "4     1319.0        45.0       7739.0                 12                 1   \n",
       "\n",
       "       Salary  \n",
       "0  1000000000  \n",
       "1  1000000000  \n",
       "2  1000000000  \n",
       "3  1000000000  \n",
       "4  1000000000  "
      ]
     },
     "execution_count": 48,
     "metadata": {},
     "output_type": "execute_result"
    }
   ],
   "source": [
    "df.head()"
   ]
  },
  {
   "cell_type": "markdown",
   "metadata": {},
   "source": [
    "Vamos a comparar cada una de las columnas de satisfacción ('EnvironmentSatisfaction','RelationshipSatisfaction' y JobSatisfaction) con la columna de attrition, para ver si alguna de ellas tiene relación con que los empleados se hayan ido de la empresa o no. "
   ]
  },
  {
   "cell_type": "markdown",
   "metadata": {},
   "source": [
    "## EnvironmentSatisfaction"
   ]
  },
  {
   "cell_type": "code",
   "execution_count": 49,
   "metadata": {},
   "outputs": [],
   "source": [
    "#empezamos con EnvironmentSatisfaction. Creamos una nueva columna a la que llamaremos TestGroupES, y crearemos dos grupos: \n",
    "#satisfechos, los que tienen un índice de satisfacción de 3 o 4; e insatisfechos, los que tienen un índice de satisfacción menos que 3\n",
    "df['TestGroupES'] = df['EnvironmentSatisfaction'].apply(lambda x : 'satisfechos' if x >= 3 else 'insatisfechos')"
   ]
  },
  {
   "cell_type": "code",
   "execution_count": 50,
   "metadata": {},
   "outputs": [
    {
     "data": {
      "text/html": [
       "<div>\n",
       "<style scoped>\n",
       "    .dataframe tbody tr th:only-of-type {\n",
       "        vertical-align: middle;\n",
       "    }\n",
       "\n",
       "    .dataframe tbody tr th {\n",
       "        vertical-align: top;\n",
       "    }\n",
       "\n",
       "    .dataframe thead th {\n",
       "        text-align: right;\n",
       "    }\n",
       "</style>\n",
       "<table border=\"1\" class=\"dataframe\">\n",
       "  <thead>\n",
       "    <tr style=\"text-align: right;\">\n",
       "      <th></th>\n",
       "      <th>EmployeeID</th>\n",
       "      <th>Age</th>\n",
       "      <th>Gender</th>\n",
       "      <th>MaritalStatus</th>\n",
       "      <th>DateBirth</th>\n",
       "      <th>Education</th>\n",
       "      <th>EducationField</th>\n",
       "      <th>NumCompaniesWorked</th>\n",
       "      <th>TotalWorkingYears</th>\n",
       "      <th>YearsAtCompany</th>\n",
       "      <th>YearsSinceLastPromotion</th>\n",
       "      <th>YearsWithCurrManager</th>\n",
       "      <th>EnvironmentSatisfaction</th>\n",
       "      <th>JobSatisfaction</th>\n",
       "      <th>RelationshipSatisfaction</th>\n",
       "      <th>WorkLifeBalance</th>\n",
       "      <th>JobInvolvement</th>\n",
       "      <th>PerformanceRating</th>\n",
       "      <th>Attrition</th>\n",
       "      <th>OverTime</th>\n",
       "      <th>DistanceFromHome</th>\n",
       "      <th>RemoteWork</th>\n",
       "      <th>BusinessTravel</th>\n",
       "      <th>TrainingTimesLastYear</th>\n",
       "      <th>JobRole</th>\n",
       "      <th>JobLevel</th>\n",
       "      <th>DailyRate</th>\n",
       "      <th>HourlyRate</th>\n",
       "      <th>MonthlyRate</th>\n",
       "      <th>PercentSalaryHike</th>\n",
       "      <th>StockOptionLevel</th>\n",
       "      <th>Salary</th>\n",
       "      <th>TestGroupES</th>\n",
       "    </tr>\n",
       "  </thead>\n",
       "  <tbody>\n",
       "    <tr>\n",
       "      <th>0</th>\n",
       "      <td>162</td>\n",
       "      <td>51</td>\n",
       "      <td>Male</td>\n",
       "      <td>Unknown</td>\n",
       "      <td>1972</td>\n",
       "      <td>3</td>\n",
       "      <td>Unknown</td>\n",
       "      <td>7</td>\n",
       "      <td>11.144344</td>\n",
       "      <td>20</td>\n",
       "      <td>15</td>\n",
       "      <td>15</td>\n",
       "      <td>1</td>\n",
       "      <td>3</td>\n",
       "      <td>3</td>\n",
       "      <td>3.000000</td>\n",
       "      <td>3</td>\n",
       "      <td>3.0</td>\n",
       "      <td>No</td>\n",
       "      <td>0.000000</td>\n",
       "      <td>6</td>\n",
       "      <td>1</td>\n",
       "      <td>Unknown</td>\n",
       "      <td>5</td>\n",
       "      <td>research director</td>\n",
       "      <td>5</td>\n",
       "      <td>684.0</td>\n",
       "      <td>51.0</td>\n",
       "      <td>6462.0</td>\n",
       "      <td>13</td>\n",
       "      <td>0</td>\n",
       "      <td>1000000000</td>\n",
       "      <td>insatisfechos</td>\n",
       "    </tr>\n",
       "    <tr>\n",
       "      <th>1</th>\n",
       "      <td>259</td>\n",
       "      <td>52</td>\n",
       "      <td>Male</td>\n",
       "      <td>Unknown</td>\n",
       "      <td>1971</td>\n",
       "      <td>4</td>\n",
       "      <td>Life Sciences</td>\n",
       "      <td>0</td>\n",
       "      <td>34.000000</td>\n",
       "      <td>33</td>\n",
       "      <td>11</td>\n",
       "      <td>9</td>\n",
       "      <td>3</td>\n",
       "      <td>3</td>\n",
       "      <td>1</td>\n",
       "      <td>3.000000</td>\n",
       "      <td>2</td>\n",
       "      <td>3.0</td>\n",
       "      <td>No</td>\n",
       "      <td>0.265372</td>\n",
       "      <td>1</td>\n",
       "      <td>1</td>\n",
       "      <td>Unknown</td>\n",
       "      <td>5</td>\n",
       "      <td>manager</td>\n",
       "      <td>5</td>\n",
       "      <td>699.0</td>\n",
       "      <td>65.0</td>\n",
       "      <td>5678.0</td>\n",
       "      <td>14</td>\n",
       "      <td>1</td>\n",
       "      <td>1000000000</td>\n",
       "      <td>satisfechos</td>\n",
       "    </tr>\n",
       "    <tr>\n",
       "      <th>2</th>\n",
       "      <td>319</td>\n",
       "      <td>42</td>\n",
       "      <td>Male</td>\n",
       "      <td>Married</td>\n",
       "      <td>1981</td>\n",
       "      <td>2</td>\n",
       "      <td>Technical Degree</td>\n",
       "      <td>1</td>\n",
       "      <td>22.000000</td>\n",
       "      <td>22</td>\n",
       "      <td>11</td>\n",
       "      <td>15</td>\n",
       "      <td>3</td>\n",
       "      <td>4</td>\n",
       "      <td>4</td>\n",
       "      <td>2.787874</td>\n",
       "      <td>3</td>\n",
       "      <td>3.0</td>\n",
       "      <td>No</td>\n",
       "      <td>0.000000</td>\n",
       "      <td>4</td>\n",
       "      <td>1</td>\n",
       "      <td>travel_rarely</td>\n",
       "      <td>3</td>\n",
       "      <td>manager</td>\n",
       "      <td>5</td>\n",
       "      <td>532.0</td>\n",
       "      <td>58.0</td>\n",
       "      <td>4933.0</td>\n",
       "      <td>11</td>\n",
       "      <td>0</td>\n",
       "      <td>1000000000</td>\n",
       "      <td>satisfechos</td>\n",
       "    </tr>\n",
       "    <tr>\n",
       "      <th>3</th>\n",
       "      <td>nan1</td>\n",
       "      <td>47</td>\n",
       "      <td>Female</td>\n",
       "      <td>Married</td>\n",
       "      <td>1976</td>\n",
       "      <td>4</td>\n",
       "      <td>Medical</td>\n",
       "      <td>3</td>\n",
       "      <td>10.844380</td>\n",
       "      <td>20</td>\n",
       "      <td>5</td>\n",
       "      <td>6</td>\n",
       "      <td>1</td>\n",
       "      <td>3</td>\n",
       "      <td>2</td>\n",
       "      <td>2.793950</td>\n",
       "      <td>3</td>\n",
       "      <td>3.0</td>\n",
       "      <td>No</td>\n",
       "      <td>0.257984</td>\n",
       "      <td>2</td>\n",
       "      <td>0</td>\n",
       "      <td>travel_rarely</td>\n",
       "      <td>2</td>\n",
       "      <td>research director</td>\n",
       "      <td>4</td>\n",
       "      <td>359.0</td>\n",
       "      <td>82.0</td>\n",
       "      <td>26703.0</td>\n",
       "      <td>19</td>\n",
       "      <td>2</td>\n",
       "      <td>1000000000</td>\n",
       "      <td>insatisfechos</td>\n",
       "    </tr>\n",
       "    <tr>\n",
       "      <th>4</th>\n",
       "      <td>nan2</td>\n",
       "      <td>46</td>\n",
       "      <td>Female</td>\n",
       "      <td>Divorced</td>\n",
       "      <td>1977</td>\n",
       "      <td>3</td>\n",
       "      <td>Technical Degree</td>\n",
       "      <td>2</td>\n",
       "      <td>11.732127</td>\n",
       "      <td>19</td>\n",
       "      <td>2</td>\n",
       "      <td>8</td>\n",
       "      <td>1</td>\n",
       "      <td>1</td>\n",
       "      <td>4</td>\n",
       "      <td>3.000000</td>\n",
       "      <td>4</td>\n",
       "      <td>3.0</td>\n",
       "      <td>No</td>\n",
       "      <td>0.000000</td>\n",
       "      <td>3</td>\n",
       "      <td>0</td>\n",
       "      <td>Unknown</td>\n",
       "      <td>5</td>\n",
       "      <td>sales executive</td>\n",
       "      <td>4</td>\n",
       "      <td>1319.0</td>\n",
       "      <td>45.0</td>\n",
       "      <td>7739.0</td>\n",
       "      <td>12</td>\n",
       "      <td>1</td>\n",
       "      <td>1000000000</td>\n",
       "      <td>insatisfechos</td>\n",
       "    </tr>\n",
       "  </tbody>\n",
       "</table>\n",
       "</div>"
      ],
      "text/plain": [
       "  EmployeeID  Age  Gender MaritalStatus  DateBirth  Education  \\\n",
       "0        162   51    Male       Unknown       1972          3   \n",
       "1        259   52    Male       Unknown       1971          4   \n",
       "2        319   42    Male       Married       1981          2   \n",
       "3       nan1   47  Female       Married       1976          4   \n",
       "4       nan2   46  Female      Divorced       1977          3   \n",
       "\n",
       "     EducationField  NumCompaniesWorked  TotalWorkingYears  YearsAtCompany  \\\n",
       "0           Unknown                   7          11.144344              20   \n",
       "1     Life Sciences                   0          34.000000              33   \n",
       "2  Technical Degree                   1          22.000000              22   \n",
       "3           Medical                   3          10.844380              20   \n",
       "4  Technical Degree                   2          11.732127              19   \n",
       "\n",
       "   YearsSinceLastPromotion  YearsWithCurrManager  EnvironmentSatisfaction  \\\n",
       "0                       15                    15                        1   \n",
       "1                       11                     9                        3   \n",
       "2                       11                    15                        3   \n",
       "3                        5                     6                        1   \n",
       "4                        2                     8                        1   \n",
       "\n",
       "   JobSatisfaction  RelationshipSatisfaction  WorkLifeBalance  JobInvolvement  \\\n",
       "0                3                         3         3.000000               3   \n",
       "1                3                         1         3.000000               2   \n",
       "2                4                         4         2.787874               3   \n",
       "3                3                         2         2.793950               3   \n",
       "4                1                         4         3.000000               4   \n",
       "\n",
       "   PerformanceRating Attrition  OverTime  DistanceFromHome  RemoteWork  \\\n",
       "0                3.0        No  0.000000                 6           1   \n",
       "1                3.0        No  0.265372                 1           1   \n",
       "2                3.0        No  0.000000                 4           1   \n",
       "3                3.0        No  0.257984                 2           0   \n",
       "4                3.0        No  0.000000                 3           0   \n",
       "\n",
       "  BusinessTravel  TrainingTimesLastYear              JobRole  JobLevel  \\\n",
       "0        Unknown                      5   research director          5   \n",
       "1        Unknown                      5             manager          5   \n",
       "2  travel_rarely                      3             manager          5   \n",
       "3  travel_rarely                      2   research director          4   \n",
       "4        Unknown                      5     sales executive          4   \n",
       "\n",
       "   DailyRate  HourlyRate  MonthlyRate  PercentSalaryHike  StockOptionLevel  \\\n",
       "0      684.0        51.0       6462.0                 13                 0   \n",
       "1      699.0        65.0       5678.0                 14                 1   \n",
       "2      532.0        58.0       4933.0                 11                 0   \n",
       "3      359.0        82.0      26703.0                 19                 2   \n",
       "4     1319.0        45.0       7739.0                 12                 1   \n",
       "\n",
       "       Salary    TestGroupES  \n",
       "0  1000000000  insatisfechos  \n",
       "1  1000000000    satisfechos  \n",
       "2  1000000000    satisfechos  \n",
       "3  1000000000  insatisfechos  \n",
       "4  1000000000  insatisfechos  "
      ]
     },
     "execution_count": 50,
     "metadata": {},
     "output_type": "execute_result"
    }
   ],
   "source": [
    "df.head(5)"
   ]
  },
  {
   "cell_type": "code",
   "execution_count": 51,
   "metadata": {},
   "outputs": [
    {
     "data": {
      "text/html": [
       "<div>\n",
       "<style scoped>\n",
       "    .dataframe tbody tr th:only-of-type {\n",
       "        vertical-align: middle;\n",
       "    }\n",
       "\n",
       "    .dataframe tbody tr th {\n",
       "        vertical-align: top;\n",
       "    }\n",
       "\n",
       "    .dataframe thead th {\n",
       "        text-align: right;\n",
       "    }\n",
       "</style>\n",
       "<table border=\"1\" class=\"dataframe\">\n",
       "  <thead>\n",
       "    <tr style=\"text-align: right;\">\n",
       "      <th>Attrition</th>\n",
       "      <th>No</th>\n",
       "      <th>Yes</th>\n",
       "    </tr>\n",
       "    <tr>\n",
       "      <th>TestGroupES</th>\n",
       "      <th></th>\n",
       "      <th></th>\n",
       "    </tr>\n",
       "  </thead>\n",
       "  <tbody>\n",
       "    <tr>\n",
       "      <th>insatisfechos</th>\n",
       "      <td>495</td>\n",
       "      <td>126</td>\n",
       "    </tr>\n",
       "    <tr>\n",
       "      <th>satisfechos</th>\n",
       "      <td>816</td>\n",
       "      <td>126</td>\n",
       "    </tr>\n",
       "  </tbody>\n",
       "</table>\n",
       "</div>"
      ],
      "text/plain": [
       "Attrition       No  Yes\n",
       "TestGroupES            \n",
       "insatisfechos  495  126\n",
       "satisfechos    816  126"
      ]
     },
     "execution_count": 51,
     "metadata": {},
     "output_type": "execute_result"
    }
   ],
   "source": [
    "tabla_contingencia_porcentaje_ES = pd.crosstab(df['TestGroupES'], df['Attrition'], normalize = True) * 100\n",
    "tabla_contingencia_ES = pd.crosstab(df['TestGroupES'], df['Attrition']) \n",
    "tabla_contingencia_ES"
   ]
  },
  {
   "cell_type": "code",
   "execution_count": 52,
   "metadata": {},
   "outputs": [
    {
     "data": {
      "text/html": [
       "<div>\n",
       "<style scoped>\n",
       "    .dataframe tbody tr th:only-of-type {\n",
       "        vertical-align: middle;\n",
       "    }\n",
       "\n",
       "    .dataframe tbody tr th {\n",
       "        vertical-align: top;\n",
       "    }\n",
       "\n",
       "    .dataframe thead th {\n",
       "        text-align: right;\n",
       "    }\n",
       "</style>\n",
       "<table border=\"1\" class=\"dataframe\">\n",
       "  <thead>\n",
       "    <tr style=\"text-align: right;\">\n",
       "      <th>Attrition</th>\n",
       "      <th>No</th>\n",
       "      <th>Yes</th>\n",
       "    </tr>\n",
       "    <tr>\n",
       "      <th>TestGroupES</th>\n",
       "      <th></th>\n",
       "      <th></th>\n",
       "    </tr>\n",
       "  </thead>\n",
       "  <tbody>\n",
       "    <tr>\n",
       "      <th>insatisfechos</th>\n",
       "      <td>31.669866</td>\n",
       "      <td>8.06142</td>\n",
       "    </tr>\n",
       "    <tr>\n",
       "      <th>satisfechos</th>\n",
       "      <td>52.207294</td>\n",
       "      <td>8.06142</td>\n",
       "    </tr>\n",
       "  </tbody>\n",
       "</table>\n",
       "</div>"
      ],
      "text/plain": [
       "Attrition             No      Yes\n",
       "TestGroupES                      \n",
       "insatisfechos  31.669866  8.06142\n",
       "satisfechos    52.207294  8.06142"
      ]
     },
     "execution_count": 52,
     "metadata": {},
     "output_type": "execute_result"
    }
   ],
   "source": [
    "tabla_contingencia_porcentaje_ES"
   ]
  },
  {
   "cell_type": "markdown",
   "metadata": {},
   "source": [
    "H0 = No existe diferencia signiticativa entre ambos grupos\n",
    "\n",
    "H1 = Existe diferencia significativa entre ambos grupos\n",
    "\n",
    "p-value < 0.05 rechazamos h0\n",
    "\n",
    "p-value > 0.05 aceptamos h0"
   ]
  },
  {
   "cell_type": "code",
   "execution_count": 53,
   "metadata": {},
   "outputs": [
    {
     "data": {
      "image/png": "[encoded data removed]",
      "text/plain": [
       "<Figure size 1440x360 with 2 Axes>"
      ]
     },
     "metadata": {
      "needs_background": "light"
     },
     "output_type": "display_data"
    }
   ],
   "source": [
    "# hacemos un análisis visual previo\n",
    "fig, axes = plt.subplots(nrows = 1, ncols = 2, figsize = (20, 5), sharey=True)\n",
    "\n",
    "sns.barplot(x=tabla_contingencia_ES.index, y=\"No\", data=tabla_contingencia_ES,  palette = \"PuRd_r\", ax = axes[0])\n",
    "sns.barplot(x=tabla_contingencia_ES.index, y=\"Yes\", data=tabla_contingencia_ES,  palette = \"PuRd_r\", ax = axes[1])\n",
    "\n",
    "axes[0].set_title(\"Se quedaron en la empresa\")\n",
    "axes[1].set_title(\"Se marcharon de la empresa\")\n",
    "\n",
    "axes[0].set_xlabel(\"Grupo\")\n",
    "axes[0].set_ylabel(\"Empleados\")\n",
    "\n",
    "axes[1].set_xlabel(\"Grupo\")\n",
    "axes[1].set_ylabel(\"Empleados\");"
   ]
  },
  {
   "cell_type": "code",
   "execution_count": 54,
   "metadata": {},
   "outputs": [
    {
     "name": "stdout",
     "output_type": "stream",
     "text": [
      "Con un p_value de 0.00036102930718814543 hay una diferencia significativa en la cantidad de attrition según el grupo\n"
     ]
    }
   ],
   "source": [
    "# Realizar la prueba de proporciones\n",
    "chi2, p_value, _, _ = chi2_contingency(tabla_contingencia_ES)\n",
    "\n",
    "# Imprimir el resultado de la prueba\n",
    "alpha = 0.05\n",
    "if p_value < alpha:\n",
    "    print(f\"Con un p_value de {p_value} hay una diferencia significativa en la cantidad de attrition según el grupo\")\n",
    "else:\n",
    "    print(f\"Con un p_value de {p_value} no hay una diferencia significativa en la cantidad de attrition según el grupo\")"
   ]
  },
  {
   "cell_type": "markdown",
   "metadata": {},
   "source": [
    "**Análisis**: \n",
    "- Rechazamos la hipótesis nula. \n",
    "- Observamos una diferencia significativa en ambos grupos (satisfechos e insatisfechos). \n",
    "- Podemos concluir que el ambiente de trabajo (EnvironmentSatisfaction) sí influye en la rotación de empleados.\n"
   ]
  },
  {
   "cell_type": "markdown",
   "metadata": {},
   "source": [
    "## JobSatisfaction"
   ]
  },
  {
   "cell_type": "code",
   "execution_count": 55,
   "metadata": {},
   "outputs": [],
   "source": [
    "#Veamos ahora qué ocurre con JobSatisfaction. Creamos una nueva columna a la que llamaremos TestGroupJS, y crearemos dos grupos: \n",
    "#satisfechos, los que tienen un índice de satisfacción de 3 o 4; e insatisfechos, los que tienen un índice de satisfacción menos que 3\n",
    "df['TestGroupJS'] = df['JobSatisfaction'].apply(lambda x : 'satisfechos' if x >= 3 else 'insatisfechos')"
   ]
  },
  {
   "cell_type": "code",
   "execution_count": 56,
   "metadata": {},
   "outputs": [
    {
     "data": {
      "text/html": [
       "<div>\n",
       "<style scoped>\n",
       "    .dataframe tbody tr th:only-of-type {\n",
       "        vertical-align: middle;\n",
       "    }\n",
       "\n",
       "    .dataframe tbody tr th {\n",
       "        vertical-align: top;\n",
       "    }\n",
       "\n",
       "    .dataframe thead th {\n",
       "        text-align: right;\n",
       "    }\n",
       "</style>\n",
       "<table border=\"1\" class=\"dataframe\">\n",
       "  <thead>\n",
       "    <tr style=\"text-align: right;\">\n",
       "      <th></th>\n",
       "      <th>EmployeeID</th>\n",
       "      <th>Age</th>\n",
       "      <th>Gender</th>\n",
       "      <th>MaritalStatus</th>\n",
       "      <th>DateBirth</th>\n",
       "      <th>Education</th>\n",
       "      <th>EducationField</th>\n",
       "      <th>NumCompaniesWorked</th>\n",
       "      <th>TotalWorkingYears</th>\n",
       "      <th>YearsAtCompany</th>\n",
       "      <th>YearsSinceLastPromotion</th>\n",
       "      <th>YearsWithCurrManager</th>\n",
       "      <th>EnvironmentSatisfaction</th>\n",
       "      <th>JobSatisfaction</th>\n",
       "      <th>RelationshipSatisfaction</th>\n",
       "      <th>WorkLifeBalance</th>\n",
       "      <th>JobInvolvement</th>\n",
       "      <th>PerformanceRating</th>\n",
       "      <th>Attrition</th>\n",
       "      <th>OverTime</th>\n",
       "      <th>DistanceFromHome</th>\n",
       "      <th>RemoteWork</th>\n",
       "      <th>BusinessTravel</th>\n",
       "      <th>TrainingTimesLastYear</th>\n",
       "      <th>JobRole</th>\n",
       "      <th>JobLevel</th>\n",
       "      <th>DailyRate</th>\n",
       "      <th>HourlyRate</th>\n",
       "      <th>MonthlyRate</th>\n",
       "      <th>PercentSalaryHike</th>\n",
       "      <th>StockOptionLevel</th>\n",
       "      <th>Salary</th>\n",
       "      <th>TestGroupES</th>\n",
       "      <th>TestGroupJS</th>\n",
       "    </tr>\n",
       "  </thead>\n",
       "  <tbody>\n",
       "    <tr>\n",
       "      <th>0</th>\n",
       "      <td>162</td>\n",
       "      <td>51</td>\n",
       "      <td>Male</td>\n",
       "      <td>Unknown</td>\n",
       "      <td>1972</td>\n",
       "      <td>3</td>\n",
       "      <td>Unknown</td>\n",
       "      <td>7</td>\n",
       "      <td>11.144344</td>\n",
       "      <td>20</td>\n",
       "      <td>15</td>\n",
       "      <td>15</td>\n",
       "      <td>1</td>\n",
       "      <td>3</td>\n",
       "      <td>3</td>\n",
       "      <td>3.000000</td>\n",
       "      <td>3</td>\n",
       "      <td>3.0</td>\n",
       "      <td>No</td>\n",
       "      <td>0.000000</td>\n",
       "      <td>6</td>\n",
       "      <td>1</td>\n",
       "      <td>Unknown</td>\n",
       "      <td>5</td>\n",
       "      <td>research director</td>\n",
       "      <td>5</td>\n",
       "      <td>684.0</td>\n",
       "      <td>51.0</td>\n",
       "      <td>6462.0</td>\n",
       "      <td>13</td>\n",
       "      <td>0</td>\n",
       "      <td>1000000000</td>\n",
       "      <td>insatisfechos</td>\n",
       "      <td>satisfechos</td>\n",
       "    </tr>\n",
       "    <tr>\n",
       "      <th>1</th>\n",
       "      <td>259</td>\n",
       "      <td>52</td>\n",
       "      <td>Male</td>\n",
       "      <td>Unknown</td>\n",
       "      <td>1971</td>\n",
       "      <td>4</td>\n",
       "      <td>Life Sciences</td>\n",
       "      <td>0</td>\n",
       "      <td>34.000000</td>\n",
       "      <td>33</td>\n",
       "      <td>11</td>\n",
       "      <td>9</td>\n",
       "      <td>3</td>\n",
       "      <td>3</td>\n",
       "      <td>1</td>\n",
       "      <td>3.000000</td>\n",
       "      <td>2</td>\n",
       "      <td>3.0</td>\n",
       "      <td>No</td>\n",
       "      <td>0.265372</td>\n",
       "      <td>1</td>\n",
       "      <td>1</td>\n",
       "      <td>Unknown</td>\n",
       "      <td>5</td>\n",
       "      <td>manager</td>\n",
       "      <td>5</td>\n",
       "      <td>699.0</td>\n",
       "      <td>65.0</td>\n",
       "      <td>5678.0</td>\n",
       "      <td>14</td>\n",
       "      <td>1</td>\n",
       "      <td>1000000000</td>\n",
       "      <td>satisfechos</td>\n",
       "      <td>satisfechos</td>\n",
       "    </tr>\n",
       "    <tr>\n",
       "      <th>2</th>\n",
       "      <td>319</td>\n",
       "      <td>42</td>\n",
       "      <td>Male</td>\n",
       "      <td>Married</td>\n",
       "      <td>1981</td>\n",
       "      <td>2</td>\n",
       "      <td>Technical Degree</td>\n",
       "      <td>1</td>\n",
       "      <td>22.000000</td>\n",
       "      <td>22</td>\n",
       "      <td>11</td>\n",
       "      <td>15</td>\n",
       "      <td>3</td>\n",
       "      <td>4</td>\n",
       "      <td>4</td>\n",
       "      <td>2.787874</td>\n",
       "      <td>3</td>\n",
       "      <td>3.0</td>\n",
       "      <td>No</td>\n",
       "      <td>0.000000</td>\n",
       "      <td>4</td>\n",
       "      <td>1</td>\n",
       "      <td>travel_rarely</td>\n",
       "      <td>3</td>\n",
       "      <td>manager</td>\n",
       "      <td>5</td>\n",
       "      <td>532.0</td>\n",
       "      <td>58.0</td>\n",
       "      <td>4933.0</td>\n",
       "      <td>11</td>\n",
       "      <td>0</td>\n",
       "      <td>1000000000</td>\n",
       "      <td>satisfechos</td>\n",
       "      <td>satisfechos</td>\n",
       "    </tr>\n",
       "    <tr>\n",
       "      <th>3</th>\n",
       "      <td>nan1</td>\n",
       "      <td>47</td>\n",
       "      <td>Female</td>\n",
       "      <td>Married</td>\n",
       "      <td>1976</td>\n",
       "      <td>4</td>\n",
       "      <td>Medical</td>\n",
       "      <td>3</td>\n",
       "      <td>10.844380</td>\n",
       "      <td>20</td>\n",
       "      <td>5</td>\n",
       "      <td>6</td>\n",
       "      <td>1</td>\n",
       "      <td>3</td>\n",
       "      <td>2</td>\n",
       "      <td>2.793950</td>\n",
       "      <td>3</td>\n",
       "      <td>3.0</td>\n",
       "      <td>No</td>\n",
       "      <td>0.257984</td>\n",
       "      <td>2</td>\n",
       "      <td>0</td>\n",
       "      <td>travel_rarely</td>\n",
       "      <td>2</td>\n",
       "      <td>research director</td>\n",
       "      <td>4</td>\n",
       "      <td>359.0</td>\n",
       "      <td>82.0</td>\n",
       "      <td>26703.0</td>\n",
       "      <td>19</td>\n",
       "      <td>2</td>\n",
       "      <td>1000000000</td>\n",
       "      <td>insatisfechos</td>\n",
       "      <td>satisfechos</td>\n",
       "    </tr>\n",
       "    <tr>\n",
       "      <th>4</th>\n",
       "      <td>nan2</td>\n",
       "      <td>46</td>\n",
       "      <td>Female</td>\n",
       "      <td>Divorced</td>\n",
       "      <td>1977</td>\n",
       "      <td>3</td>\n",
       "      <td>Technical Degree</td>\n",
       "      <td>2</td>\n",
       "      <td>11.732127</td>\n",
       "      <td>19</td>\n",
       "      <td>2</td>\n",
       "      <td>8</td>\n",
       "      <td>1</td>\n",
       "      <td>1</td>\n",
       "      <td>4</td>\n",
       "      <td>3.000000</td>\n",
       "      <td>4</td>\n",
       "      <td>3.0</td>\n",
       "      <td>No</td>\n",
       "      <td>0.000000</td>\n",
       "      <td>3</td>\n",
       "      <td>0</td>\n",
       "      <td>Unknown</td>\n",
       "      <td>5</td>\n",
       "      <td>sales executive</td>\n",
       "      <td>4</td>\n",
       "      <td>1319.0</td>\n",
       "      <td>45.0</td>\n",
       "      <td>7739.0</td>\n",
       "      <td>12</td>\n",
       "      <td>1</td>\n",
       "      <td>1000000000</td>\n",
       "      <td>insatisfechos</td>\n",
       "      <td>insatisfechos</td>\n",
       "    </tr>\n",
       "  </tbody>\n",
       "</table>\n",
       "</div>"
      ],
      "text/plain": [
       "  EmployeeID  Age  Gender MaritalStatus  DateBirth  Education  \\\n",
       "0        162   51    Male       Unknown       1972          3   \n",
       "1        259   52    Male       Unknown       1971          4   \n",
       "2        319   42    Male       Married       1981          2   \n",
       "3       nan1   47  Female       Married       1976          4   \n",
       "4       nan2   46  Female      Divorced       1977          3   \n",
       "\n",
       "     EducationField  NumCompaniesWorked  TotalWorkingYears  YearsAtCompany  \\\n",
       "0           Unknown                   7          11.144344              20   \n",
       "1     Life Sciences                   0          34.000000              33   \n",
       "2  Technical Degree                   1          22.000000              22   \n",
       "3           Medical                   3          10.844380              20   \n",
       "4  Technical Degree                   2          11.732127              19   \n",
       "\n",
       "   YearsSinceLastPromotion  YearsWithCurrManager  EnvironmentSatisfaction  \\\n",
       "0                       15                    15                        1   \n",
       "1                       11                     9                        3   \n",
       "2                       11                    15                        3   \n",
       "3                        5                     6                        1   \n",
       "4                        2                     8                        1   \n",
       "\n",
       "   JobSatisfaction  RelationshipSatisfaction  WorkLifeBalance  JobInvolvement  \\\n",
       "0                3                         3         3.000000               3   \n",
       "1                3                         1         3.000000               2   \n",
       "2                4                         4         2.787874               3   \n",
       "3                3                         2         2.793950               3   \n",
       "4                1                         4         3.000000               4   \n",
       "\n",
       "   PerformanceRating Attrition  OverTime  DistanceFromHome  RemoteWork  \\\n",
       "0                3.0        No  0.000000                 6           1   \n",
       "1                3.0        No  0.265372                 1           1   \n",
       "2                3.0        No  0.000000                 4           1   \n",
       "3                3.0        No  0.257984                 2           0   \n",
       "4                3.0        No  0.000000                 3           0   \n",
       "\n",
       "  BusinessTravel  TrainingTimesLastYear              JobRole  JobLevel  \\\n",
       "0        Unknown                      5   research director          5   \n",
       "1        Unknown                      5             manager          5   \n",
       "2  travel_rarely                      3             manager          5   \n",
       "3  travel_rarely                      2   research director          4   \n",
       "4        Unknown                      5     sales executive          4   \n",
       "\n",
       "   DailyRate  HourlyRate  MonthlyRate  PercentSalaryHike  StockOptionLevel  \\\n",
       "0      684.0        51.0       6462.0                 13                 0   \n",
       "1      699.0        65.0       5678.0                 14                 1   \n",
       "2      532.0        58.0       4933.0                 11                 0   \n",
       "3      359.0        82.0      26703.0                 19                 2   \n",
       "4     1319.0        45.0       7739.0                 12                 1   \n",
       "\n",
       "       Salary    TestGroupES    TestGroupJS  \n",
       "0  1000000000  insatisfechos    satisfechos  \n",
       "1  1000000000    satisfechos    satisfechos  \n",
       "2  1000000000    satisfechos    satisfechos  \n",
       "3  1000000000  insatisfechos    satisfechos  \n",
       "4  1000000000  insatisfechos  insatisfechos  "
      ]
     },
     "execution_count": 56,
     "metadata": {},
     "output_type": "execute_result"
    }
   ],
   "source": [
    "df.head(5)"
   ]
  },
  {
   "cell_type": "code",
   "execution_count": 57,
   "metadata": {},
   "outputs": [
    {
     "data": {
      "text/html": [
       "<div>\n",
       "<style scoped>\n",
       "    .dataframe tbody tr th:only-of-type {\n",
       "        vertical-align: middle;\n",
       "    }\n",
       "\n",
       "    .dataframe tbody tr th {\n",
       "        vertical-align: top;\n",
       "    }\n",
       "\n",
       "    .dataframe thead th {\n",
       "        text-align: right;\n",
       "    }\n",
       "</style>\n",
       "<table border=\"1\" class=\"dataframe\">\n",
       "  <thead>\n",
       "    <tr style=\"text-align: right;\">\n",
       "      <th>Attrition</th>\n",
       "      <th>No</th>\n",
       "      <th>Yes</th>\n",
       "    </tr>\n",
       "    <tr>\n",
       "      <th>TestGroupJS</th>\n",
       "      <th></th>\n",
       "      <th></th>\n",
       "    </tr>\n",
       "  </thead>\n",
       "  <tbody>\n",
       "    <tr>\n",
       "      <th>insatisfechos</th>\n",
       "      <td>486</td>\n",
       "      <td>121</td>\n",
       "    </tr>\n",
       "    <tr>\n",
       "      <th>satisfechos</th>\n",
       "      <td>825</td>\n",
       "      <td>131</td>\n",
       "    </tr>\n",
       "  </tbody>\n",
       "</table>\n",
       "</div>"
      ],
      "text/plain": [
       "Attrition       No  Yes\n",
       "TestGroupJS            \n",
       "insatisfechos  486  121\n",
       "satisfechos    825  131"
      ]
     },
     "execution_count": 57,
     "metadata": {},
     "output_type": "execute_result"
    }
   ],
   "source": [
    "tabla_contingencia_porcentaje_JS = pd.crosstab(df['TestGroupJS'], df['Attrition'], normalize = True) * 100\n",
    "tabla_contingencia_JS = pd.crosstab(df['TestGroupJS'], df['Attrition']) \n",
    "tabla_contingencia_JS"
   ]
  },
  {
   "cell_type": "code",
   "execution_count": 58,
   "metadata": {},
   "outputs": [
    {
     "data": {
      "text/html": [
       "<div>\n",
       "<style scoped>\n",
       "    .dataframe tbody tr th:only-of-type {\n",
       "        vertical-align: middle;\n",
       "    }\n",
       "\n",
       "    .dataframe tbody tr th {\n",
       "        vertical-align: top;\n",
       "    }\n",
       "\n",
       "    .dataframe thead th {\n",
       "        text-align: right;\n",
       "    }\n",
       "</style>\n",
       "<table border=\"1\" class=\"dataframe\">\n",
       "  <thead>\n",
       "    <tr style=\"text-align: right;\">\n",
       "      <th>Attrition</th>\n",
       "      <th>No</th>\n",
       "      <th>Yes</th>\n",
       "    </tr>\n",
       "    <tr>\n",
       "      <th>TestGroupJS</th>\n",
       "      <th></th>\n",
       "      <th></th>\n",
       "    </tr>\n",
       "  </thead>\n",
       "  <tbody>\n",
       "    <tr>\n",
       "      <th>insatisfechos</th>\n",
       "      <td>31.094050</td>\n",
       "      <td>7.741523</td>\n",
       "    </tr>\n",
       "    <tr>\n",
       "      <th>satisfechos</th>\n",
       "      <td>52.783109</td>\n",
       "      <td>8.381318</td>\n",
       "    </tr>\n",
       "  </tbody>\n",
       "</table>\n",
       "</div>"
      ],
      "text/plain": [
       "Attrition             No       Yes\n",
       "TestGroupJS                       \n",
       "insatisfechos  31.094050  7.741523\n",
       "satisfechos    52.783109  8.381318"
      ]
     },
     "execution_count": 58,
     "metadata": {},
     "output_type": "execute_result"
    }
   ],
   "source": [
    "#lo vemos en porcentaje\n",
    "tabla_contingencia_porcentaje_JS"
   ]
  },
  {
   "cell_type": "markdown",
   "metadata": {},
   "source": [
    "H0 = No existe diferencia signiticativa entre ambos grupos\n",
    "\n",
    "H1 = Existe diferencia significativa entre ambos grupos\n",
    "\n",
    "p-value < 0.05 rechazamos h0\n",
    "\n",
    "p-value > 0.05 aceptamos h0"
   ]
  },
  {
   "cell_type": "code",
   "execution_count": 59,
   "metadata": {},
   "outputs": [
    {
     "data": {
      "image/png": "[encoded data removed]",
      "text/plain": [
       "<Figure size 1440x360 with 2 Axes>"
      ]
     },
     "metadata": {
      "needs_background": "light"
     },
     "output_type": "display_data"
    }
   ],
   "source": [
    "# hacemos un análisis visual previo\n",
    "fig, axes = plt.subplots(nrows = 1, ncols = 2, figsize = (20, 5), sharey=True)\n",
    "\n",
    "sns.barplot(x=tabla_contingencia_JS.index, y=\"No\", data=tabla_contingencia_JS,  palette = \"PuRd_r\", ax = axes[0])\n",
    "sns.barplot(x=tabla_contingencia_JS.index, y=\"Yes\", data=tabla_contingencia_JS,  palette = \"PuRd_r\", ax = axes[1])\n",
    "\n",
    "axes[0].set_title(\"Se quedaron en la empresa\")\n",
    "axes[1].set_title(\"Se marcharon de la empresa\")\n",
    "\n",
    "axes[0].set_xlabel(\"Grupo\")\n",
    "axes[0].set_ylabel(\"Empleados\")\n",
    "\n",
    "axes[1].set_xlabel(\"Grupo\")\n",
    "axes[1].set_ylabel(\"Empleados\");"
   ]
  },
  {
   "cell_type": "code",
   "execution_count": 60,
   "metadata": {},
   "outputs": [
    {
     "name": "stdout",
     "output_type": "stream",
     "text": [
      "Con un p_value de 0.0014014887471835308 hay una diferencia significativa en la cantidad de attrition según el grupo\n"
     ]
    }
   ],
   "source": [
    "# Realizar la prueba de proporciones\n",
    "chi2, p_value, _, _ = chi2_contingency(tabla_contingencia_JS)\n",
    "\n",
    "# Imprimir el resultado de la prueba\n",
    "alpha = 0.05\n",
    "if p_value < alpha:\n",
    "    print(f\"Con un p_value de {p_value} hay una diferencia significativa en la cantidad de attrition según el grupo\")\n",
    "else:\n",
    "    print(f\"Con un p_value de {p_value} no hay una diferencia significativa en la cantidad de attrition según el grupo\")"
   ]
  },
  {
   "cell_type": "markdown",
   "metadata": {},
   "source": [
    "**Análisis**: \n",
    "- A priori sí vemos una diferencia en el attrition según el grupo al que pertenecen los empleados (gráfico)\n",
    "- Tras realizar el test del chi-quadrado, comprobamos que podemos rechazar la hipótesis nula, es decir, que existe una diferencia signiticativa entre ambos grupos (satisfechos e insatisfechos)\n",
    "- La columna de Jobsatisfaction nos indica que es una factor que sí influye en que haya rotación de empleados"
   ]
  },
  {
   "cell_type": "markdown",
   "metadata": {},
   "source": [
    "## RelationshipSatisfaction"
   ]
  },
  {
   "cell_type": "code",
   "execution_count": 61,
   "metadata": {},
   "outputs": [],
   "source": [
    "#Veamos ahora qué ocurre con RelationshipSatisfaction. Creamos una nueva columna a la que llamaremos TestGroupRS, y crearemos dos grupos: \n",
    "#satisfechos, los que tienen un índice de satisfacción de 3 o 4; e insatisfechos, los que tienen un índice de satisfacción menos que 3\n",
    "df['TestGroupRS'] = df['RelationshipSatisfaction'].apply(lambda x : 'satisfechos' if x >= 3 else 'insatisfechos')"
   ]
  },
  {
   "cell_type": "code",
   "execution_count": 62,
   "metadata": {},
   "outputs": [
    {
     "data": {
      "text/html": [
       "<div>\n",
       "<style scoped>\n",
       "    .dataframe tbody tr th:only-of-type {\n",
       "        vertical-align: middle;\n",
       "    }\n",
       "\n",
       "    .dataframe tbody tr th {\n",
       "        vertical-align: top;\n",
       "    }\n",
       "\n",
       "    .dataframe thead th {\n",
       "        text-align: right;\n",
       "    }\n",
       "</style>\n",
       "<table border=\"1\" class=\"dataframe\">\n",
       "  <thead>\n",
       "    <tr style=\"text-align: right;\">\n",
       "      <th></th>\n",
       "      <th>EmployeeID</th>\n",
       "      <th>Age</th>\n",
       "      <th>Gender</th>\n",
       "      <th>MaritalStatus</th>\n",
       "      <th>DateBirth</th>\n",
       "      <th>Education</th>\n",
       "      <th>EducationField</th>\n",
       "      <th>NumCompaniesWorked</th>\n",
       "      <th>TotalWorkingYears</th>\n",
       "      <th>YearsAtCompany</th>\n",
       "      <th>YearsSinceLastPromotion</th>\n",
       "      <th>YearsWithCurrManager</th>\n",
       "      <th>EnvironmentSatisfaction</th>\n",
       "      <th>JobSatisfaction</th>\n",
       "      <th>RelationshipSatisfaction</th>\n",
       "      <th>WorkLifeBalance</th>\n",
       "      <th>JobInvolvement</th>\n",
       "      <th>PerformanceRating</th>\n",
       "      <th>Attrition</th>\n",
       "      <th>OverTime</th>\n",
       "      <th>DistanceFromHome</th>\n",
       "      <th>RemoteWork</th>\n",
       "      <th>BusinessTravel</th>\n",
       "      <th>TrainingTimesLastYear</th>\n",
       "      <th>JobRole</th>\n",
       "      <th>JobLevel</th>\n",
       "      <th>DailyRate</th>\n",
       "      <th>HourlyRate</th>\n",
       "      <th>MonthlyRate</th>\n",
       "      <th>PercentSalaryHike</th>\n",
       "      <th>StockOptionLevel</th>\n",
       "      <th>Salary</th>\n",
       "      <th>TestGroupES</th>\n",
       "      <th>TestGroupJS</th>\n",
       "      <th>TestGroupRS</th>\n",
       "    </tr>\n",
       "  </thead>\n",
       "  <tbody>\n",
       "    <tr>\n",
       "      <th>0</th>\n",
       "      <td>162</td>\n",
       "      <td>51</td>\n",
       "      <td>Male</td>\n",
       "      <td>Unknown</td>\n",
       "      <td>1972</td>\n",
       "      <td>3</td>\n",
       "      <td>Unknown</td>\n",
       "      <td>7</td>\n",
       "      <td>11.144344</td>\n",
       "      <td>20</td>\n",
       "      <td>15</td>\n",
       "      <td>15</td>\n",
       "      <td>1</td>\n",
       "      <td>3</td>\n",
       "      <td>3</td>\n",
       "      <td>3.000000</td>\n",
       "      <td>3</td>\n",
       "      <td>3.0</td>\n",
       "      <td>No</td>\n",
       "      <td>0.000000</td>\n",
       "      <td>6</td>\n",
       "      <td>1</td>\n",
       "      <td>Unknown</td>\n",
       "      <td>5</td>\n",
       "      <td>research director</td>\n",
       "      <td>5</td>\n",
       "      <td>684.0</td>\n",
       "      <td>51.0</td>\n",
       "      <td>6462.0</td>\n",
       "      <td>13</td>\n",
       "      <td>0</td>\n",
       "      <td>1000000000</td>\n",
       "      <td>insatisfechos</td>\n",
       "      <td>satisfechos</td>\n",
       "      <td>satisfechos</td>\n",
       "    </tr>\n",
       "    <tr>\n",
       "      <th>1</th>\n",
       "      <td>259</td>\n",
       "      <td>52</td>\n",
       "      <td>Male</td>\n",
       "      <td>Unknown</td>\n",
       "      <td>1971</td>\n",
       "      <td>4</td>\n",
       "      <td>Life Sciences</td>\n",
       "      <td>0</td>\n",
       "      <td>34.000000</td>\n",
       "      <td>33</td>\n",
       "      <td>11</td>\n",
       "      <td>9</td>\n",
       "      <td>3</td>\n",
       "      <td>3</td>\n",
       "      <td>1</td>\n",
       "      <td>3.000000</td>\n",
       "      <td>2</td>\n",
       "      <td>3.0</td>\n",
       "      <td>No</td>\n",
       "      <td>0.265372</td>\n",
       "      <td>1</td>\n",
       "      <td>1</td>\n",
       "      <td>Unknown</td>\n",
       "      <td>5</td>\n",
       "      <td>manager</td>\n",
       "      <td>5</td>\n",
       "      <td>699.0</td>\n",
       "      <td>65.0</td>\n",
       "      <td>5678.0</td>\n",
       "      <td>14</td>\n",
       "      <td>1</td>\n",
       "      <td>1000000000</td>\n",
       "      <td>satisfechos</td>\n",
       "      <td>satisfechos</td>\n",
       "      <td>insatisfechos</td>\n",
       "    </tr>\n",
       "    <tr>\n",
       "      <th>2</th>\n",
       "      <td>319</td>\n",
       "      <td>42</td>\n",
       "      <td>Male</td>\n",
       "      <td>Married</td>\n",
       "      <td>1981</td>\n",
       "      <td>2</td>\n",
       "      <td>Technical Degree</td>\n",
       "      <td>1</td>\n",
       "      <td>22.000000</td>\n",
       "      <td>22</td>\n",
       "      <td>11</td>\n",
       "      <td>15</td>\n",
       "      <td>3</td>\n",
       "      <td>4</td>\n",
       "      <td>4</td>\n",
       "      <td>2.787874</td>\n",
       "      <td>3</td>\n",
       "      <td>3.0</td>\n",
       "      <td>No</td>\n",
       "      <td>0.000000</td>\n",
       "      <td>4</td>\n",
       "      <td>1</td>\n",
       "      <td>travel_rarely</td>\n",
       "      <td>3</td>\n",
       "      <td>manager</td>\n",
       "      <td>5</td>\n",
       "      <td>532.0</td>\n",
       "      <td>58.0</td>\n",
       "      <td>4933.0</td>\n",
       "      <td>11</td>\n",
       "      <td>0</td>\n",
       "      <td>1000000000</td>\n",
       "      <td>satisfechos</td>\n",
       "      <td>satisfechos</td>\n",
       "      <td>satisfechos</td>\n",
       "    </tr>\n",
       "    <tr>\n",
       "      <th>3</th>\n",
       "      <td>nan1</td>\n",
       "      <td>47</td>\n",
       "      <td>Female</td>\n",
       "      <td>Married</td>\n",
       "      <td>1976</td>\n",
       "      <td>4</td>\n",
       "      <td>Medical</td>\n",
       "      <td>3</td>\n",
       "      <td>10.844380</td>\n",
       "      <td>20</td>\n",
       "      <td>5</td>\n",
       "      <td>6</td>\n",
       "      <td>1</td>\n",
       "      <td>3</td>\n",
       "      <td>2</td>\n",
       "      <td>2.793950</td>\n",
       "      <td>3</td>\n",
       "      <td>3.0</td>\n",
       "      <td>No</td>\n",
       "      <td>0.257984</td>\n",
       "      <td>2</td>\n",
       "      <td>0</td>\n",
       "      <td>travel_rarely</td>\n",
       "      <td>2</td>\n",
       "      <td>research director</td>\n",
       "      <td>4</td>\n",
       "      <td>359.0</td>\n",
       "      <td>82.0</td>\n",
       "      <td>26703.0</td>\n",
       "      <td>19</td>\n",
       "      <td>2</td>\n",
       "      <td>1000000000</td>\n",
       "      <td>insatisfechos</td>\n",
       "      <td>satisfechos</td>\n",
       "      <td>insatisfechos</td>\n",
       "    </tr>\n",
       "    <tr>\n",
       "      <th>4</th>\n",
       "      <td>nan2</td>\n",
       "      <td>46</td>\n",
       "      <td>Female</td>\n",
       "      <td>Divorced</td>\n",
       "      <td>1977</td>\n",
       "      <td>3</td>\n",
       "      <td>Technical Degree</td>\n",
       "      <td>2</td>\n",
       "      <td>11.732127</td>\n",
       "      <td>19</td>\n",
       "      <td>2</td>\n",
       "      <td>8</td>\n",
       "      <td>1</td>\n",
       "      <td>1</td>\n",
       "      <td>4</td>\n",
       "      <td>3.000000</td>\n",
       "      <td>4</td>\n",
       "      <td>3.0</td>\n",
       "      <td>No</td>\n",
       "      <td>0.000000</td>\n",
       "      <td>3</td>\n",
       "      <td>0</td>\n",
       "      <td>Unknown</td>\n",
       "      <td>5</td>\n",
       "      <td>sales executive</td>\n",
       "      <td>4</td>\n",
       "      <td>1319.0</td>\n",
       "      <td>45.0</td>\n",
       "      <td>7739.0</td>\n",
       "      <td>12</td>\n",
       "      <td>1</td>\n",
       "      <td>1000000000</td>\n",
       "      <td>insatisfechos</td>\n",
       "      <td>insatisfechos</td>\n",
       "      <td>satisfechos</td>\n",
       "    </tr>\n",
       "  </tbody>\n",
       "</table>\n",
       "</div>"
      ],
      "text/plain": [
       "  EmployeeID  Age  Gender MaritalStatus  DateBirth  Education  \\\n",
       "0        162   51    Male       Unknown       1972          3   \n",
       "1        259   52    Male       Unknown       1971          4   \n",
       "2        319   42    Male       Married       1981          2   \n",
       "3       nan1   47  Female       Married       1976          4   \n",
       "4       nan2   46  Female      Divorced       1977          3   \n",
       "\n",
       "     EducationField  NumCompaniesWorked  TotalWorkingYears  YearsAtCompany  \\\n",
       "0           Unknown                   7          11.144344              20   \n",
       "1     Life Sciences                   0          34.000000              33   \n",
       "2  Technical Degree                   1          22.000000              22   \n",
       "3           Medical                   3          10.844380              20   \n",
       "4  Technical Degree                   2          11.732127              19   \n",
       "\n",
       "   YearsSinceLastPromotion  YearsWithCurrManager  EnvironmentSatisfaction  \\\n",
       "0                       15                    15                        1   \n",
       "1                       11                     9                        3   \n",
       "2                       11                    15                        3   \n",
       "3                        5                     6                        1   \n",
       "4                        2                     8                        1   \n",
       "\n",
       "   JobSatisfaction  RelationshipSatisfaction  WorkLifeBalance  JobInvolvement  \\\n",
       "0                3                         3         3.000000               3   \n",
       "1                3                         1         3.000000               2   \n",
       "2                4                         4         2.787874               3   \n",
       "3                3                         2         2.793950               3   \n",
       "4                1                         4         3.000000               4   \n",
       "\n",
       "   PerformanceRating Attrition  OverTime  DistanceFromHome  RemoteWork  \\\n",
       "0                3.0        No  0.000000                 6           1   \n",
       "1                3.0        No  0.265372                 1           1   \n",
       "2                3.0        No  0.000000                 4           1   \n",
       "3                3.0        No  0.257984                 2           0   \n",
       "4                3.0        No  0.000000                 3           0   \n",
       "\n",
       "  BusinessTravel  TrainingTimesLastYear              JobRole  JobLevel  \\\n",
       "0        Unknown                      5   research director          5   \n",
       "1        Unknown                      5             manager          5   \n",
       "2  travel_rarely                      3             manager          5   \n",
       "3  travel_rarely                      2   research director          4   \n",
       "4        Unknown                      5     sales executive          4   \n",
       "\n",
       "   DailyRate  HourlyRate  MonthlyRate  PercentSalaryHike  StockOptionLevel  \\\n",
       "0      684.0        51.0       6462.0                 13                 0   \n",
       "1      699.0        65.0       5678.0                 14                 1   \n",
       "2      532.0        58.0       4933.0                 11                 0   \n",
       "3      359.0        82.0      26703.0                 19                 2   \n",
       "4     1319.0        45.0       7739.0                 12                 1   \n",
       "\n",
       "       Salary    TestGroupES    TestGroupJS    TestGroupRS  \n",
       "0  1000000000  insatisfechos    satisfechos    satisfechos  \n",
       "1  1000000000    satisfechos    satisfechos  insatisfechos  \n",
       "2  1000000000    satisfechos    satisfechos    satisfechos  \n",
       "3  1000000000  insatisfechos    satisfechos  insatisfechos  \n",
       "4  1000000000  insatisfechos  insatisfechos    satisfechos  "
      ]
     },
     "execution_count": 62,
     "metadata": {},
     "output_type": "execute_result"
    }
   ],
   "source": [
    "df.head(5)"
   ]
  },
  {
   "cell_type": "code",
   "execution_count": 63,
   "metadata": {},
   "outputs": [
    {
     "data": {
      "text/html": [
       "<div>\n",
       "<style scoped>\n",
       "    .dataframe tbody tr th:only-of-type {\n",
       "        vertical-align: middle;\n",
       "    }\n",
       "\n",
       "    .dataframe tbody tr th {\n",
       "        vertical-align: top;\n",
       "    }\n",
       "\n",
       "    .dataframe thead th {\n",
       "        text-align: right;\n",
       "    }\n",
       "</style>\n",
       "<table border=\"1\" class=\"dataframe\">\n",
       "  <thead>\n",
       "    <tr style=\"text-align: right;\">\n",
       "      <th>Attrition</th>\n",
       "      <th>No</th>\n",
       "      <th>Yes</th>\n",
       "    </tr>\n",
       "    <tr>\n",
       "      <th>TestGroupRS</th>\n",
       "      <th></th>\n",
       "      <th></th>\n",
       "    </tr>\n",
       "  </thead>\n",
       "  <tbody>\n",
       "    <tr>\n",
       "      <th>insatisfechos</th>\n",
       "      <td>511</td>\n",
       "      <td>106</td>\n",
       "    </tr>\n",
       "    <tr>\n",
       "      <th>satisfechos</th>\n",
       "      <td>800</td>\n",
       "      <td>146</td>\n",
       "    </tr>\n",
       "  </tbody>\n",
       "</table>\n",
       "</div>"
      ],
      "text/plain": [
       "Attrition       No  Yes\n",
       "TestGroupRS            \n",
       "insatisfechos  511  106\n",
       "satisfechos    800  146"
      ]
     },
     "execution_count": 63,
     "metadata": {},
     "output_type": "execute_result"
    }
   ],
   "source": [
    "tabla_contingencia_porcentaje_RS = pd.crosstab(df['TestGroupRS'], df['Attrition'], normalize = True) * 100\n",
    "tabla_contingencia_RS = pd.crosstab(df['TestGroupRS'], df['Attrition']) \n",
    "tabla_contingencia_RS"
   ]
  },
  {
   "cell_type": "code",
   "execution_count": 64,
   "metadata": {},
   "outputs": [
    {
     "data": {
      "text/html": [
       "<div>\n",
       "<style scoped>\n",
       "    .dataframe tbody tr th:only-of-type {\n",
       "        vertical-align: middle;\n",
       "    }\n",
       "\n",
       "    .dataframe tbody tr th {\n",
       "        vertical-align: top;\n",
       "    }\n",
       "\n",
       "    .dataframe thead th {\n",
       "        text-align: right;\n",
       "    }\n",
       "</style>\n",
       "<table border=\"1\" class=\"dataframe\">\n",
       "  <thead>\n",
       "    <tr style=\"text-align: right;\">\n",
       "      <th>Attrition</th>\n",
       "      <th>No</th>\n",
       "      <th>Yes</th>\n",
       "    </tr>\n",
       "    <tr>\n",
       "      <th>TestGroupRS</th>\n",
       "      <th></th>\n",
       "      <th></th>\n",
       "    </tr>\n",
       "  </thead>\n",
       "  <tbody>\n",
       "    <tr>\n",
       "      <th>insatisfechos</th>\n",
       "      <td>32.693538</td>\n",
       "      <td>6.781830</td>\n",
       "    </tr>\n",
       "    <tr>\n",
       "      <th>satisfechos</th>\n",
       "      <td>51.183621</td>\n",
       "      <td>9.341011</td>\n",
       "    </tr>\n",
       "  </tbody>\n",
       "</table>\n",
       "</div>"
      ],
      "text/plain": [
       "Attrition             No       Yes\n",
       "TestGroupRS                       \n",
       "insatisfechos  32.693538  6.781830\n",
       "satisfechos    51.183621  9.341011"
      ]
     },
     "execution_count": 64,
     "metadata": {},
     "output_type": "execute_result"
    }
   ],
   "source": [
    "tabla_contingencia_porcentaje_RS"
   ]
  },
  {
   "cell_type": "markdown",
   "metadata": {},
   "source": [
    "H0 = No existe diferencia signiticativa entre ambos grupos\n",
    "\n",
    "H1 = Existe diferencia significativa entre ambos grupos\n",
    "\n",
    "p-value < 0.05 rechazamos h0\n",
    "\n",
    "p-value > 0.05 aceptamos h0"
   ]
  },
  {
   "cell_type": "code",
   "execution_count": 65,
   "metadata": {},
   "outputs": [
    {
     "data": {
      "image/png": "[encoded data removed]",
      "text/plain": [
       "<Figure size 1440x360 with 2 Axes>"
      ]
     },
     "metadata": {
      "needs_background": "light"
     },
     "output_type": "display_data"
    }
   ],
   "source": [
    "# hacemos un análisis visual previo\n",
    "fig, axes = plt.subplots(nrows = 1, ncols = 2, figsize = (20, 5), sharey=True)\n",
    "\n",
    "sns.barplot(x=tabla_contingencia_RS.index, y=\"No\", data=tabla_contingencia_RS,  palette = \"PuRd_r\", ax = axes[0])\n",
    "sns.barplot(x=tabla_contingencia_RS.index, y=\"Yes\", data=tabla_contingencia_RS,  palette = \"PuRd_r\", ax = axes[1])\n",
    "\n",
    "axes[0].set_title(\"Se quedaron en la empresa\")\n",
    "axes[1].set_title(\"Se marcharon de la empresa\")\n",
    "\n",
    "axes[0].set_xlabel(\"Grupo\")\n",
    "axes[0].set_ylabel(\"Empleados\")\n",
    "\n",
    "axes[1].set_xlabel(\"Grupo\")\n",
    "axes[1].set_ylabel(\"Empleados\");"
   ]
  },
  {
   "cell_type": "code",
   "execution_count": 66,
   "metadata": {},
   "outputs": [
    {
     "name": "stdout",
     "output_type": "stream",
     "text": [
      "Con un p_value de 0.3967654071376123 no hay una diferencia significativa en la cantidad de attrition según el grupo\n"
     ]
    }
   ],
   "source": [
    "# Realizar la prueba de proporciones\n",
    "chi2, p_value, _, _ = chi2_contingency(tabla_contingencia_RS)\n",
    "\n",
    "# Imprimir el resultado de la prueba\n",
    "alpha = 0.05\n",
    "if p_value < alpha:\n",
    "    print(f\"Con un p_value de {p_value} hay una diferencia significativa en la cantidad de attrition según el grupo\")\n",
    "else:\n",
    "    print(f\"Con un p_value de {p_value} no hay una diferencia significativa en la cantidad de attrition según el grupo\")"
   ]
  },
  {
   "cell_type": "markdown",
   "metadata": {},
   "source": [
    "**Análisis**: \n",
    "- A priori sí vemos una diferencia en el attrition según el grupo al que pertenecen los empleados, pero al realizar el análisis (y dado el posible impacto del total de insatisfechos) esta diferencia no resulta ser significativa\n",
    "- No podemos rechazar la hipótesis nula, ya que no existe una diferencia signiticativa entre ambos grupos (satisfechos e insatisfechos)\n",
    "- Observamos que hay una elevada cantidad de empleados comprendidos dentro de 'insatisfechos'"
   ]
  },
  {
   "cell_type": "markdown",
   "metadata": {},
   "source": [
    "## TotalWorkingYears"
   ]
  },
  {
   "cell_type": "code",
   "execution_count": 86,
   "metadata": {},
   "outputs": [
    {
     "data": {
      "image/png": "[encoded data removed]",
      "text/plain": [
       "<Figure size 432x288 with 1 Axes>"
      ]
     },
     "metadata": {
      "needs_background": "light"
     },
     "output_type": "display_data"
    }
   ],
   "source": [
    "#realizamos un gráfico para visualizar como se distribuyen los salarios en función del nivel educativo\n",
    "\n",
    "sns.barplot(x = \"Attrition\", \n",
    "               y = \"TotalWorkingYears\", \n",
    "               data = df,\n",
    "               palette = \"magma\")\n",
    "\n",
    "\n",
    "plt.xlabel(\"Rotación de la empresa (Yes = se va de la empresa/ No = No se va)\")\n",
    "plt.ylabel(\"Años en la empresa\")\n",
    "plt.xticks(rotation = 45)\n",
    "plt.title(\"Relación entre el la rotación de empleados y la duración en la empresa\", fontsize = 10);"
   ]
  },
  {
   "cell_type": "code",
   "execution_count": null,
   "metadata": {},
   "outputs": [],
   "source": [
    "# En el gráfico observamos que parece existir una relación entre los años que un empleado lleva en la empresa y la rotación (a mayor número de años en la empresa, menor rotación)\n",
    "# Vamos a comprobar si existe una diferencia significativa"
   ]
  },
  {
   "cell_type": "code",
   "execution_count": 67,
   "metadata": {},
   "outputs": [],
   "source": [
    "#Vamos a estudiar la normalidad de esta variable, para ver si podemos aplicar el test de student. \n",
    "\n",
    "# lo primero que hacemos es crear una función para testar la normalidad de los datos\n",
    "def normalidad(dataframe, columna):\n",
    "    \"\"\"\n",
    "    Evalúa la normalidad de una columna de datos de un DataFrame utilizando la prueba de Shapiro-Wilk.\n",
    "\n",
    "    Parámetros:\n",
    "        dataframe (DataFrame): El DataFrame que contiene los datos.\n",
    "        columna (str): El nombre de la columna en el DataFrame que se va a evaluar para la normalidad.\n",
    "\n",
    "    Returns:\n",
    "        None: Imprime un mensaje indicando si los datos siguen o no una distribución normal.\n",
    "    \"\"\"\n",
    "\n",
    "    statistic, p_value = stats.shapiro(dataframe[columna])\n",
    "    if p_value > 0.05:\n",
    "        print(f\"Para la columna {columna} los datos siguen una distribución normal.\")\n",
    "    else:\n",
    "        print(f\"Para la columna {columna} los datos no siguen una distribución normal.\")"
   ]
  },
  {
   "cell_type": "code",
   "execution_count": 68,
   "metadata": {},
   "outputs": [
    {
     "name": "stdout",
     "output_type": "stream",
     "text": [
      "Para la columna TotalWorkingYears los datos no siguen una distribución normal.\n"
     ]
    }
   ],
   "source": [
    "normalidad(df ,'TotalWorkingYears')"
   ]
  },
  {
   "cell_type": "code",
   "execution_count": null,
   "metadata": {},
   "outputs": [],
   "source": [
    "# Como los datos no siguen una distribución normal, tenemos que hacer una prueba no paramétrica, en este caso Mann Whitney"
   ]
  },
  {
   "cell_type": "code",
   "execution_count": 83,
   "metadata": {},
   "outputs": [],
   "source": [
    "grupo_si = df[df['Attrition'] == 'Yes']['TotalWorkingYears']\n",
    "grupo_no = df[df['Attrition'] == 'No']['TotalWorkingYears']"
   ]
  },
  {
   "cell_type": "code",
   "execution_count": 84,
   "metadata": {},
   "outputs": [
    {
     "name": "stdout",
     "output_type": "stream",
     "text": [
      "Estadística de prueba U: 131490.0\n",
      "Valor p: 2.7706623639012144e-07\n",
      "Hay evidencia estadística para rechazar la hipótesis nula. Hay diferencias significativas entre los grupos.\n"
     ]
    }
   ],
   "source": [
    "# Realizar el test de Mann-Whitney U\n",
    "\n",
    "stat, p_value = mannwhitneyu(grupo_si, grupo_no)\n",
    "\n",
    "# Imprimir los resultados\n",
    "print(\"Estadística de prueba U:\", stat)\n",
    "print(\"Valor p:\", p_value)\n",
    "\n",
    "# Interpretar los resultados\n",
    "if p_value < 0.05:\n",
    "    print(\"Hay evidencia estadística para rechazar la hipótesis nula. Hay diferencias significativas entre los grupos.\")\n",
    "else:\n",
    "    print(\"No hay suficiente evidencia para rechazar la hipótesis nula. No hay diferencias significativas entre los grupos.\")\n",
    "\n",
    "\n"
   ]
  },
  {
   "cell_type": "markdown",
   "metadata": {},
   "source": [
    "## HourlyRate"
   ]
  },
  {
   "cell_type": "code",
   "execution_count": 97,
   "metadata": {},
   "outputs": [
    {
     "data": {
      "image/png": "[encoded data removed]",
      "text/plain": [
       "<Figure size 432x288 with 1 Axes>"
      ]
     },
     "metadata": {
      "needs_background": "light"
     },
     "output_type": "display_data"
    }
   ],
   "source": [
    "\n",
    "sns.barplot(x = \"Attrition\", \n",
    "               y = \"HourlyRate\", \n",
    "               data = df,\n",
    "               palette = \"magma\")\n",
    "\n",
    "\n",
    "plt.xlabel(\"Rotación de la empresa (Yes = se va de la empresa/ No = No se va)\")\n",
    "plt.ylabel(\"salario\")\n",
    "plt.xticks(rotation = 45)\n",
    "plt.title(\"Relación entre el la rotación de empleados y el salario\", fontsize = 10);"
   ]
  },
  {
   "cell_type": "code",
   "execution_count": null,
   "metadata": {},
   "outputs": [],
   "source": [
    "# a simple vista no parece existir una relación entre ambas. "
   ]
  },
  {
   "cell_type": "code",
   "execution_count": 98,
   "metadata": {},
   "outputs": [],
   "source": [
    "#Vamos a estudiar la normalidad de esta variable, para ver si podemos aplicar el test de student. \n",
    "\n",
    "# lo primero que hacemos es crear una función para testar la normalidad de los datos\n",
    "def normalidad(dataframe, columna):\n",
    "    \"\"\"\n",
    "    Evalúa la normalidad de una columna de datos de un DataFrame utilizando la prueba de Shapiro-Wilk.\n",
    "\n",
    "    Parámetros:\n",
    "        dataframe (DataFrame): El DataFrame que contiene los datos.\n",
    "        columna (str): El nombre de la columna en el DataFrame que se va a evaluar para la normalidad.\n",
    "\n",
    "    Returns:\n",
    "        None: Imprime un mensaje indicando si los datos siguen o no una distribución normal.\n",
    "    \"\"\"\n",
    "\n",
    "    statistic, p_value = stats.shapiro(dataframe[columna])\n",
    "    if p_value > 0.05:\n",
    "        print(f\"Para la columna {columna} los datos siguen una distribución normal.\")\n",
    "    else:\n",
    "        print(f\"Para la columna {columna} los datos no siguen una distribución normal.\")"
   ]
  },
  {
   "cell_type": "code",
   "execution_count": 100,
   "metadata": {},
   "outputs": [
    {
     "name": "stdout",
     "output_type": "stream",
     "text": [
      "Para la columna HourlyRate los datos no siguen una distribución normal.\n"
     ]
    }
   ],
   "source": [
    "normalidad(df ,'HourlyRate')"
   ]
  },
  {
   "cell_type": "code",
   "execution_count": 103,
   "metadata": {},
   "outputs": [],
   "source": [
    "grupo_si_hr = df[df['Attrition'] == 'Yes']['HourlyRate']\n",
    "grupo_no_hr = df[df['Attrition'] == 'No']['HourlyRate']"
   ]
  },
  {
   "cell_type": "code",
   "execution_count": 104,
   "metadata": {},
   "outputs": [
    {
     "name": "stdout",
     "output_type": "stream",
     "text": [
      "Estadística de prueba U: 167196.5\n",
      "Valor p: 0.7593434491480296\n",
      "No hay suficiente evidencia para rechazar la hipótesis nula. No hay diferencias significativas entre los grupos.\n"
     ]
    }
   ],
   "source": [
    "# Realizar el test de Mann-Whitney U\n",
    "\n",
    "stat, p_value = mannwhitneyu(grupo_si_hr, grupo_no_hr)\n",
    "\n",
    "# Imprimir los resultados\n",
    "print(\"Estadística de prueba U:\", stat)\n",
    "print(\"Valor p:\", p_value)\n",
    "\n",
    "# Interpretar los resultados\n",
    "if p_value < 0.05:\n",
    "    print(\"Hay evidencia estadística para rechazar la hipótesis nula. Hay diferencias significativas entre los grupos.\")\n",
    "else:\n",
    "    print(\"No hay suficiente evidencia para rechazar la hipótesis nula. No hay diferencias significativas entre los grupos.\")\n"
   ]
  },
  {
   "cell_type": "markdown",
   "metadata": {},
   "source": [
    "## RemoteWork"
   ]
  },
  {
   "cell_type": "markdown",
   "metadata": {},
   "source": [
    "# Tenemos dos grupos: \n",
    "- 0: no teletrabajan\n",
    "- 1: teletrabajan\n",
    "sospechamos que puede haber diferencias entre la rotación de ambos grupos. "
   ]
  },
  {
   "cell_type": "code",
   "execution_count": 110,
   "metadata": {},
   "outputs": [],
   "source": [
    "# la columna 'RemoteWork' aparece como una variable numérica, pero es posible que es más útil transformarla en una variable categórica.\n",
    "# Definimos el diccionario de mapeo\n",
    "teletrabajo = {\n",
    "    0: 'No',\n",
    "    1: 'Si'\n",
    "}\n",
    "\n",
    "# Aplicar el mapeo a la columna del DataFrame\n",
    "df['RemoteWork'] = df['RemoteWork'].map(teletrabajo)"
   ]
  },
  {
   "cell_type": "code",
   "execution_count": 126,
   "metadata": {},
   "outputs": [
    {
     "data": {
      "image/png": "[encoded data removed]",
      "text/plain": [
       "<Figure size 432x288 with 1 Axes>"
      ]
     },
     "metadata": {
      "needs_background": "light"
     },
     "output_type": "display_data"
    }
   ],
   "source": [
    "sns.countplot(x = 'Attrition',\n",
    "              data = df,\n",
    "              palette = \"mako\",\n",
    "              order = ['Yes', 'No'],\n",
    "              hue = \"RemoteWork\")\n",
    "# giramos las etiquetas del eje \"x\",\n",
    "plt.xticks(rotation = 90)\n",
    "# cambiamos el nombre de los ejes usando los métodos 'plt.ylabel()' y 'plt.xlabel()'\n",
    "plt.xlabel(\"Rotación de la empresa (Yes = se va de la empresa/ No = No se va) \")\n",
    "plt.ylabel(\"nº empleados\");"
   ]
  },
  {
   "cell_type": "code",
   "execution_count": null,
   "metadata": {},
   "outputs": [],
   "source": [
    "# el teletrabajo es un factor que parece influir en la rotación de empleados. Sospechamos que a mayor número de empleados teletrabajando, menor rotación."
   ]
  },
  {
   "cell_type": "code",
   "execution_count": 132,
   "metadata": {},
   "outputs": [
    {
     "data": {
      "text/html": [
       "<div>\n",
       "<style scoped>\n",
       "    .dataframe tbody tr th:only-of-type {\n",
       "        vertical-align: middle;\n",
       "    }\n",
       "\n",
       "    .dataframe tbody tr th {\n",
       "        vertical-align: top;\n",
       "    }\n",
       "\n",
       "    .dataframe thead th {\n",
       "        text-align: right;\n",
       "    }\n",
       "</style>\n",
       "<table border=\"1\" class=\"dataframe\">\n",
       "  <thead>\n",
       "    <tr style=\"text-align: right;\">\n",
       "      <th>RemoteWork</th>\n",
       "      <th>No</th>\n",
       "      <th>Si</th>\n",
       "    </tr>\n",
       "    <tr>\n",
       "      <th>Attrition</th>\n",
       "      <th></th>\n",
       "      <th></th>\n",
       "    </tr>\n",
       "  </thead>\n",
       "  <tbody>\n",
       "    <tr>\n",
       "      <th>No</th>\n",
       "      <td>511</td>\n",
       "      <td>800</td>\n",
       "    </tr>\n",
       "    <tr>\n",
       "      <th>Yes</th>\n",
       "      <td>91</td>\n",
       "      <td>161</td>\n",
       "    </tr>\n",
       "  </tbody>\n",
       "</table>\n",
       "</div>"
      ],
      "text/plain": [
       "RemoteWork   No   Si\n",
       "Attrition           \n",
       "No          511  800\n",
       "Yes          91  161"
      ]
     },
     "execution_count": 132,
     "metadata": {},
     "output_type": "execute_result"
    }
   ],
   "source": [
    "tabla_contingencia = pd.crosstab(df['Attrition'], df['RemoteWork']) \n",
    "tabla_contingencia "
   ]
  },
  {
   "cell_type": "code",
   "execution_count": null,
   "metadata": {},
   "outputs": [],
   "source": [
    "#ho =no hay diferencia entre las dos paginas\n",
    "#h1 = sí hay diferencia \n",
    "\n",
    "#necesitamos conocer el p-Value\n",
    "#p-value < 0.05 rechazamos h0 : existe una diferencia significativa\n",
    "#p-value > 0.05 aceptamos h0 : no existe diferencia significativa"
   ]
  },
  {
   "cell_type": "code",
   "execution_count": 129,
   "metadata": {},
   "outputs": [
    {
     "name": "stdout",
     "output_type": "stream",
     "text": [
      "0.43198392829339605\n"
     ]
    }
   ],
   "source": [
    "#hacemos el chi cuadrado\n",
    "\n",
    "chi2, p_value, _, _ = chi2_contingency (tabla_contingencia)\n",
    "#el chi cuadrado nos devuelve varias cosas, pero sólo nos interesa el p-value\n",
    "\n",
    "print (p_value)\n",
    "\n",
    "#p_value > 0.05 aceptamos H0, no hay diferencias significativas "
   ]
  },
  {
   "cell_type": "markdown",
   "metadata": {},
   "source": [
    "## YearsSinceLastPromotion"
   ]
  },
  {
   "cell_type": "code",
   "execution_count": 140,
   "metadata": {},
   "outputs": [
    {
     "data": {
      "image/png": "[encoded data removed]",
      "text/plain": [
       "<Figure size 432x288 with 1 Axes>"
      ]
     },
     "metadata": {
      "needs_background": "light"
     },
     "output_type": "display_data"
    }
   ],
   "source": [
    "sns.barplot(x = \"Attrition\", \n",
    "               y = \"YearsSinceLastPromotion\", \n",
    "               data = df,\n",
    "               palette = \"magma\")\n",
    "\n",
    "\n",
    "plt.xlabel(\"Rotación de la empresa (Yes = se va de la empresa/ No = No se va)\")\n",
    "plt.ylabel(\"años desde la última promoción\")\n",
    "plt.xticks(rotation = 45)\n",
    "plt.title(\"Relación entre el la rotación de empleados y la promoción\", fontsize = 10);"
   ]
  },
  {
   "cell_type": "code",
   "execution_count": 141,
   "metadata": {},
   "outputs": [],
   "source": [
    "#Vamos a estudiar la normalidad de esta variable, para ver si podemos aplicar el test de student. \n",
    "\n",
    "# lo primero que hacemos es crear una función para testar la normalidad de los datos\n",
    "def normalidad(dataframe, columna):\n",
    "    \"\"\"\n",
    "    Evalúa la normalidad de una columna de datos de un DataFrame utilizando la prueba de Shapiro-Wilk.\n",
    "\n",
    "    Parámetros:\n",
    "        dataframe (DataFrame): El DataFrame que contiene los datos.\n",
    "        columna (str): El nombre de la columna en el DataFrame que se va a evaluar para la normalidad.\n",
    "\n",
    "    Returns:\n",
    "        None: Imprime un mensaje indicando si los datos siguen o no una distribución normal.\n",
    "    \"\"\"\n",
    "\n",
    "    statistic, p_value = stats.shapiro(dataframe[columna])\n",
    "    if p_value > 0.05:\n",
    "        print(f\"Para la columna {columna} los datos siguen una distribución normal.\")\n",
    "    else:\n",
    "        print(f\"Para la columna {columna} los datos no siguen una distribución normal.\")"
   ]
  },
  {
   "cell_type": "code",
   "execution_count": 142,
   "metadata": {},
   "outputs": [
    {
     "name": "stdout",
     "output_type": "stream",
     "text": [
      "Para la columna YearsSinceLastPromotion los datos no siguen una distribución normal.\n"
     ]
    }
   ],
   "source": [
    "normalidad(df ,'YearsSinceLastPromotion')"
   ]
  },
  {
   "cell_type": "code",
   "execution_count": 143,
   "metadata": {},
   "outputs": [],
   "source": [
    "grupo_si_yp = df[df['Attrition'] == 'Yes']['YearsSinceLastPromotion']\n",
    "grupo_no_yp = df[df['Attrition'] == 'No']['YearsSinceLastPromotion']"
   ]
  },
  {
   "cell_type": "code",
   "execution_count": 144,
   "metadata": {},
   "outputs": [
    {
     "name": "stdout",
     "output_type": "stream",
     "text": [
      "Estadística de prueba U: 154093.5\n",
      "Valor p: 0.07893258084365433\n",
      "No hay suficiente evidencia para rechazar la hipótesis nula. No hay diferencias significativas entre los grupos.\n"
     ]
    }
   ],
   "source": [
    "# Realizar el test de Mann-Whitney U\n",
    "\n",
    "stat, p_value = mannwhitneyu(grupo_si_yp, grupo_no_yp)\n",
    "\n",
    "# Imprimir los resultados\n",
    "print(\"Estadística de prueba U:\", stat)\n",
    "print(\"Valor p:\", p_value)\n",
    "\n",
    "# Interpretar los resultados\n",
    "if p_value < 0.05:\n",
    "    print(\"Hay evidencia estadística para rechazar la hipótesis nula. Hay diferencias significativas entre los grupos.\")\n",
    "else:\n",
    "    print(\"No hay suficiente evidencia para rechazar la hipótesis nula. No hay diferencias significativas entre los grupos.\")"
   ]
  },
  {
   "cell_type": "markdown",
   "metadata": {},
   "source": [
    "## Age"
   ]
  },
  {
   "cell_type": "code",
   "execution_count": 146,
   "metadata": {},
   "outputs": [
    {
     "data": {
      "image/png": "[encoded data removed]",
      "text/plain": [
       "<Figure size 432x288 with 1 Axes>"
      ]
     },
     "metadata": {
      "needs_background": "light"
     },
     "output_type": "display_data"
    }
   ],
   "source": [
    "sns.barplot(x = \"Attrition\", \n",
    "               y = \"Age\", \n",
    "               data = df,\n",
    "               palette = \"magma\")\n",
    "\n",
    "\n",
    "plt.xlabel(\"Rotación de la empresa (Yes = se va de la empresa/ No = No se va)\")\n",
    "plt.ylabel(\"edad\")\n",
    "plt.xticks(rotation = 45)\n",
    "plt.title(\"Relación entre el la rotación de empleados y la edad\", fontsize = 10);"
   ]
  },
  {
   "cell_type": "code",
   "execution_count": 147,
   "metadata": {},
   "outputs": [],
   "source": [
    "#Vamos a estudiar la normalidad de esta variable, para ver si podemos aplicar el test de student. \n",
    "\n",
    "# lo primero que hacemos es crear una función para testar la normalidad de los datos\n",
    "def normalidad(dataframe, columna):\n",
    "    \"\"\"\n",
    "    Evalúa la normalidad de una columna de datos de un DataFrame utilizando la prueba de Shapiro-Wilk.\n",
    "\n",
    "    Parámetros:\n",
    "        dataframe (DataFrame): El DataFrame que contiene los datos.\n",
    "        columna (str): El nombre de la columna en el DataFrame que se va a evaluar para la normalidad.\n",
    "\n",
    "    Returns:\n",
    "        None: Imprime un mensaje indicando si los datos siguen o no una distribución normal.\n",
    "    \"\"\"\n",
    "\n",
    "    statistic, p_value = stats.shapiro(dataframe[columna])\n",
    "    if p_value > 0.05:\n",
    "        print(f\"Para la columna {columna} los datos siguen una distribución normal.\")\n",
    "    else:\n",
    "        print(f\"Para la columna {columna} los datos no siguen una distribución normal.\")"
   ]
  },
  {
   "cell_type": "code",
   "execution_count": 148,
   "metadata": {},
   "outputs": [
    {
     "name": "stdout",
     "output_type": "stream",
     "text": [
      "Para la columna Age los datos no siguen una distribución normal.\n"
     ]
    }
   ],
   "source": [
    "normalidad(df ,'Age')"
   ]
  },
  {
   "cell_type": "code",
   "execution_count": 150,
   "metadata": {},
   "outputs": [],
   "source": [
    "grupo_si_age = df[df['Attrition'] == 'Yes']['Age']\n",
    "grupo_no_age = df[df['Attrition'] == 'No']['Age']"
   ]
  },
  {
   "cell_type": "code",
   "execution_count": 151,
   "metadata": {},
   "outputs": [
    {
     "name": "stdout",
     "output_type": "stream",
     "text": [
      "Estadística de prueba U: 123999.0\n",
      "Valor p: 3.3749920113704813e-10\n",
      "Hay evidencia estadística para rechazar la hipótesis nula. Hay diferencias significativas entre los grupos.\n"
     ]
    }
   ],
   "source": [
    "# Realizar el test de Mann-Whitney U\n",
    "\n",
    "stat, p_value = mannwhitneyu(grupo_si_age, grupo_no_age)\n",
    "\n",
    "# Imprimir los resultados\n",
    "print(\"Estadística de prueba U:\", stat)\n",
    "print(\"Valor p:\", p_value)\n",
    "\n",
    "# Interpretar los resultados\n",
    "if p_value < 0.05:\n",
    "    print(\"Hay evidencia estadística para rechazar la hipótesis nula. Hay diferencias significativas entre los grupos.\")\n",
    "else:\n",
    "    print(\"No hay suficiente evidencia para rechazar la hipótesis nula. No hay diferencias significativas entre los grupos.\")"
   ]
  },
  {
   "cell_type": "markdown",
   "metadata": {},
   "source": [
    "## YearsWithCurrentManager"
   ]
  },
  {
   "cell_type": "code",
   "execution_count": 153,
   "metadata": {},
   "outputs": [
    {
     "data": {
      "image/png": "[encoded data removed]",
      "text/plain": [
       "<Figure size 432x288 with 1 Axes>"
      ]
     },
     "metadata": {
      "needs_background": "light"
     },
     "output_type": "display_data"
    }
   ],
   "source": [
    "sns.barplot(x = \"Attrition\", \n",
    "               y = \"YearsWithCurrManager\", \n",
    "               data = df,\n",
    "               palette = \"magma\")\n",
    "\n",
    "\n",
    "plt.xlabel(\"Rotación de la empresa (Yes = se va de la empresa/ No = No se va)\")\n",
    "plt.ylabel(\"años con el mismo manager\")\n",
    "plt.xticks(rotation = 45)\n",
    "plt.title(\"Relación entre el la rotación de empleados y sus managers\", fontsize = 10);"
   ]
  },
  {
   "cell_type": "code",
   "execution_count": 154,
   "metadata": {},
   "outputs": [],
   "source": [
    "#Vamos a estudiar la normalidad de esta variable, para ver si podemos aplicar el test de student. \n",
    "\n",
    "# lo primero que hacemos es crear una función para testar la normalidad de los datos\n",
    "def normalidad(dataframe, columna):\n",
    "    \"\"\"\n",
    "    Evalúa la normalidad de una columna de datos de un DataFrame utilizando la prueba de Shapiro-Wilk.\n",
    "\n",
    "    Parámetros:\n",
    "        dataframe (DataFrame): El DataFrame que contiene los datos.\n",
    "        columna (str): El nombre de la columna en el DataFrame que se va a evaluar para la normalidad.\n",
    "\n",
    "    Returns:\n",
    "        None: Imprime un mensaje indicando si los datos siguen o no una distribución normal.\n",
    "    \"\"\"\n",
    "\n",
    "    statistic, p_value = stats.shapiro(dataframe[columna])\n",
    "    if p_value > 0.05:\n",
    "        print(f\"Para la columna {columna} los datos siguen una distribución normal.\")\n",
    "    else:\n",
    "        print(f\"Para la columna {columna} los datos no siguen una distribución normal.\")"
   ]
  },
  {
   "cell_type": "code",
   "execution_count": 155,
   "metadata": {},
   "outputs": [
    {
     "name": "stdout",
     "output_type": "stream",
     "text": [
      "Para la columna YearsWithCurrManager los datos no siguen una distribución normal.\n"
     ]
    }
   ],
   "source": [
    "normalidad(df ,'YearsWithCurrManager')"
   ]
  },
  {
   "cell_type": "code",
   "execution_count": 157,
   "metadata": {},
   "outputs": [],
   "source": [
    "grupo_si_manager = df[df['Attrition'] == 'Yes']['YearsWithCurrManager']\n",
    "grupo_no_manager = df[df['Attrition'] == 'No']['YearsWithCurrManager']"
   ]
  },
  {
   "cell_type": "code",
   "execution_count": 158,
   "metadata": {},
   "outputs": [
    {
     "name": "stdout",
     "output_type": "stream",
     "text": [
      "Estadística de prueba U: 123616.5\n",
      "Valor p: 1.4402354109822127e-10\n",
      "Hay evidencia estadística para rechazar la hipótesis nula. Hay diferencias significativas entre los grupos.\n"
     ]
    }
   ],
   "source": [
    "# Realizar el test de Mann-Whitney U\n",
    "\n",
    "stat, p_value = mannwhitneyu(grupo_si_manager, grupo_no_manager)\n",
    "\n",
    "# Imprimir los resultados\n",
    "print(\"Estadística de prueba U:\", stat)\n",
    "print(\"Valor p:\", p_value)\n",
    "\n",
    "# Interpretar los resultados\n",
    "if p_value < 0.05:\n",
    "    print(\"Hay evidencia estadística para rechazar la hipótesis nula. Hay diferencias significativas entre los grupos.\")\n",
    "else:\n",
    "    print(\"No hay suficiente evidencia para rechazar la hipótesis nula. No hay diferencias significativas entre los grupos.\")"
   ]
  },
  {
   "cell_type": "code",
   "execution_count": null,
   "metadata": {},
   "outputs": [],
   "source": [
    "# Aunque hay diferencias significativas, creemos que tiene que ver con que las personas que llevan más años en la empresa, llevan más años con el mismo manager. No nos da mucha información sobre si la veriable influye o no en la rotación de empleados"
   ]
  }
 ],
 "metadata": {
  "kernelspec": {
   "display_name": "base",
   "language": "python",
   "name": "python3"
  },
  "language_info": {
   "codemirror_mode": {
    "name": "ipython",
    "version": 3
   },
   "file_extension": ".py",
   "mimetype": "text/x-python",
   "name": "python",
   "nbconvert_exporter": "python",
   "pygments_lexer": "ipython3",
   "version": "3.9.7"
  }
 },
 "nbformat": 4,
 "nbformat_minor": 2
}
