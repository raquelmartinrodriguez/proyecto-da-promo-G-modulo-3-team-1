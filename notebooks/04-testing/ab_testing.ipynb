{
 "cells": [
  {
   "cell_type": "code",
   "execution_count": 92,
   "metadata": {},
   "outputs": [],
   "source": [
    "# Tratamiento de datos\n",
    "import pandas as pd\n",
    "import numpy as np\n",
    "\n",
    "# Visualización\n",
    "import matplotlib.pyplot as plt\n",
    "import seaborn as sns\n",
    "\n",
    "# Evaluar linealidad de las relaciones entre las variables\n",
    "# y la distribución de las variables\n",
    "import scipy.stats as stats\n",
    "from scipy.stats import chi2_contingency, ttest_ind\n",
    "\n",
    "# Configuración\n",
    "pd.set_option('display.max_columns', None) # para poder visualizar todas las columnas de los DataFrames\n",
    "\n",
    "\n",
    "# Gestión de los warnings\n",
    "import warnings\n",
    "warnings.filterwarnings(\"ignore\")"
   ]
  },
  {
   "cell_type": "code",
   "execution_count": 93,
   "metadata": {},
   "outputs": [],
   "source": [
    "df = pd.read_csv(\"../../files/df_nulos_imputados.csv\", index_col=0)"
   ]
  },
  {
   "cell_type": "markdown",
   "metadata": {},
   "source": [
    "Revisamos las tres columnas de satisfacción y sus medias/medianas"
   ]
  },
  {
   "cell_type": "code",
   "execution_count": 94,
   "metadata": {},
   "outputs": [
    {
     "data": {
      "text/html": [
       "<div>\n",
       "<style scoped>\n",
       "    .dataframe tbody tr th:only-of-type {\n",
       "        vertical-align: middle;\n",
       "    }\n",
       "\n",
       "    .dataframe tbody tr th {\n",
       "        vertical-align: top;\n",
       "    }\n",
       "\n",
       "    .dataframe thead th {\n",
       "        text-align: right;\n",
       "    }\n",
       "</style>\n",
       "<table border=\"1\" class=\"dataframe\">\n",
       "  <thead>\n",
       "    <tr style=\"text-align: right;\">\n",
       "      <th></th>\n",
       "      <th>EnvironmentSatisfaction</th>\n",
       "      <th>JobSatisfaction</th>\n",
       "      <th>RelationshipSatisfaction</th>\n",
       "    </tr>\n",
       "  </thead>\n",
       "  <tbody>\n",
       "    <tr>\n",
       "      <th>mean</th>\n",
       "      <td>1.104287</td>\n",
       "      <td>2.730646</td>\n",
       "      <td>2.714012</td>\n",
       "    </tr>\n",
       "    <tr>\n",
       "      <th>median</th>\n",
       "      <td>1.000000</td>\n",
       "      <td>3.000000</td>\n",
       "      <td>3.000000</td>\n",
       "    </tr>\n",
       "  </tbody>\n",
       "</table>\n",
       "</div>"
      ],
      "text/plain": [
       "        EnvironmentSatisfaction  JobSatisfaction  RelationshipSatisfaction\n",
       "mean                   1.104287         2.730646                  2.714012\n",
       "median                 1.000000         3.000000                  3.000000"
      ]
     },
     "execution_count": 94,
     "metadata": {},
     "output_type": "execute_result"
    }
   ],
   "source": [
    "df[['EnvironmentSatisfaction' , 'JobSatisfaction' , 'RelationshipSatisfaction']].agg(['mean' , 'median'])"
   ]
  },
  {
   "cell_type": "markdown",
   "metadata": {},
   "source": [
    "Observamos que las encuestas de environment satisfaction son muy bajas en comparación con job y relationship satisfaction, lo cual puede impactar en la media resultante. Por tanto, decidimos hacer una media ponderada y darle un peso determinado a cada una de las variables para tratar de mitigar dicho impacto:\n",
    "\n",
    "**Distribución de pesos**\n",
    "- EnvironmentSatisfaction: 20%\n",
    "- JobSatisfaction: 40%\n",
    "- RelationshipSatisfaction: 40%"
   ]
  },
  {
   "cell_type": "markdown",
   "metadata": {},
   "source": [
    "Creamos la columna de Overall Satisfaction haciendo la media ponderada"
   ]
  },
  {
   "cell_type": "code",
   "execution_count": 95,
   "metadata": {},
   "outputs": [],
   "source": [
    "# Definimos los pesos\n",
    "weights = {\n",
    "    'EnvironmentSatisfaction': 0.20,\n",
    "    'JobSatisfaction': 0.40,\n",
    "    'RelationshipSatisfaction': 0.40\n",
    "}\n",
    "\n",
    "# Calculamos la media ponderada\n",
    "df['OverallSatisfaction'] = round(\n",
    "    df['EnvironmentSatisfaction'] * weights['EnvironmentSatisfaction'] +\n",
    "    df['JobSatisfaction'] * weights['JobSatisfaction'] +\n",
    "    df['RelationshipSatisfaction'] * weights['RelationshipSatisfaction']\n",
    ", 0)\n",
    "\n",
    "# Convertimos los resultados a integer\n",
    "df['OverallSatisfaction'] = df['OverallSatisfaction'].astype('int64')"
   ]
  },
  {
   "cell_type": "markdown",
   "metadata": {},
   "source": [
    "Creamos la columna de satisfacción en base al Overall Satisfaction"
   ]
  },
  {
   "cell_type": "code",
   "execution_count": 96,
   "metadata": {},
   "outputs": [],
   "source": [
    "df['TestGroup'] = df['OverallSatisfaction'].apply(lambda x : 'satisfechos' if x >= 3 else 'insatisfechos')"
   ]
  },
  {
   "cell_type": "markdown",
   "metadata": {},
   "source": [
    "Hacemos una tabla de contingencia y analizamos los datos"
   ]
  },
  {
   "cell_type": "code",
   "execution_count": 97,
   "metadata": {},
   "outputs": [
    {
     "data": {
      "text/html": [
       "<div>\n",
       "<style scoped>\n",
       "    .dataframe tbody tr th:only-of-type {\n",
       "        vertical-align: middle;\n",
       "    }\n",
       "\n",
       "    .dataframe tbody tr th {\n",
       "        vertical-align: top;\n",
       "    }\n",
       "\n",
       "    .dataframe thead th {\n",
       "        text-align: right;\n",
       "    }\n",
       "</style>\n",
       "<table border=\"1\" class=\"dataframe\">\n",
       "  <thead>\n",
       "    <tr style=\"text-align: right;\">\n",
       "      <th>Attrition</th>\n",
       "      <th>No</th>\n",
       "      <th>Yes</th>\n",
       "    </tr>\n",
       "    <tr>\n",
       "      <th>TestGroup</th>\n",
       "      <th></th>\n",
       "      <th></th>\n",
       "    </tr>\n",
       "  </thead>\n",
       "  <tbody>\n",
       "    <tr>\n",
       "      <th>insatisfechos</th>\n",
       "      <td>638</td>\n",
       "      <td>144</td>\n",
       "    </tr>\n",
       "    <tr>\n",
       "      <th>satisfechos</th>\n",
       "      <td>673</td>\n",
       "      <td>108</td>\n",
       "    </tr>\n",
       "  </tbody>\n",
       "</table>\n",
       "</div>"
      ],
      "text/plain": [
       "Attrition       No  Yes\n",
       "TestGroup              \n",
       "insatisfechos  638  144\n",
       "satisfechos    673  108"
      ]
     },
     "execution_count": 97,
     "metadata": {},
     "output_type": "execute_result"
    }
   ],
   "source": [
    "tabla_contingencia_porcentaje = pd.crosstab(df['TestGroup'], df['Attrition'], normalize = True) * 100\n",
    "tabla_contingencia = pd.crosstab(df['TestGroup'], df['Attrition']) \n",
    "tabla_contingencia"
   ]
  },
  {
   "cell_type": "code",
   "execution_count": 109,
   "metadata": {},
   "outputs": [
    {
     "data": {
      "text/html": [
       "<div>\n",
       "<style scoped>\n",
       "    .dataframe tbody tr th:only-of-type {\n",
       "        vertical-align: middle;\n",
       "    }\n",
       "\n",
       "    .dataframe tbody tr th {\n",
       "        vertical-align: top;\n",
       "    }\n",
       "\n",
       "    .dataframe thead th {\n",
       "        text-align: right;\n",
       "    }\n",
       "</style>\n",
       "<table border=\"1\" class=\"dataframe\">\n",
       "  <thead>\n",
       "    <tr style=\"text-align: right;\">\n",
       "      <th>Attrition</th>\n",
       "      <th>No</th>\n",
       "      <th>Yes</th>\n",
       "    </tr>\n",
       "    <tr>\n",
       "      <th>TestGroup</th>\n",
       "      <th></th>\n",
       "      <th></th>\n",
       "    </tr>\n",
       "  </thead>\n",
       "  <tbody>\n",
       "    <tr>\n",
       "      <th>insatisfechos</th>\n",
       "      <td>40.818938</td>\n",
       "      <td>9.213052</td>\n",
       "    </tr>\n",
       "    <tr>\n",
       "      <th>satisfechos</th>\n",
       "      <td>43.058221</td>\n",
       "      <td>6.909789</td>\n",
       "    </tr>\n",
       "  </tbody>\n",
       "</table>\n",
       "</div>"
      ],
      "text/plain": [
       "Attrition             No       Yes\n",
       "TestGroup                         \n",
       "insatisfechos  40.818938  9.213052\n",
       "satisfechos    43.058221  6.909789"
      ]
     },
     "execution_count": 109,
     "metadata": {},
     "output_type": "execute_result"
    }
   ],
   "source": [
    "tabla_contingencia_porcentaje"
   ]
  },
  {
   "cell_type": "code",
   "execution_count": 98,
   "metadata": {},
   "outputs": [
    {
     "data": {
      "image/png": "[encoded data removed]",
      "text/plain": [
       "<Figure size 1440x360 with 2 Axes>"
      ]
     },
     "metadata": {
      "needs_background": "light"
     },
     "output_type": "display_data"
    }
   ],
   "source": [
    "# hacemos un análisis visual previo\n",
    "fig, axes = plt.subplots(nrows = 1, ncols = 2, figsize = (20, 5), sharey=True)\n",
    "\n",
    "sns.barplot(x=tabla_contingencia.index, y=\"No\", data=tabla_contingencia,  palette = \"PiYG\", ax = axes[0])\n",
    "sns.barplot(x=tabla_contingencia.index, y=\"Yes\", data=tabla_contingencia,  palette = \"PiYG\", ax = axes[1])\n",
    "\n",
    "axes[0].set_title(\"Se quedaron en la empresa\")\n",
    "axes[1].set_title(\"Se marcharon de la empresa\")\n",
    "\n",
    "axes[0].set_xlabel(\"Grupo\")\n",
    "axes[0].set_ylabel(\"Empleados\")\n",
    "\n",
    "axes[1].set_xlabel(\"Grupo\")\n",
    "axes[1].set_ylabel(\"Empleados\");"
   ]
  },
  {
   "cell_type": "code",
   "execution_count": 99,
   "metadata": {},
   "outputs": [
    {
     "name": "stdout",
     "output_type": "stream",
     "text": [
      "Con un p_value de 0.01656162686117298 hay una diferencia significativa en la cantidad de attrition según el grupo\n"
     ]
    }
   ],
   "source": [
    "# Realizar la prueba de proporciones\n",
    "chi2, p_value, _, _ = chi2_contingency(tabla_contingencia)\n",
    "\n",
    "# Imprimir el resultado de la prueba\n",
    "alpha = 0.05\n",
    "if p_value < alpha:\n",
    "    print(f\"Con un p_value de {p_value} hay una diferencia significativa en la cantidad de attrition según el grupo\")\n",
    "else:\n",
    "    print(f\"Con un p_value de {p_value} no hay una diferencia significativa en la cantidad de attrition según el grupo\")"
   ]
  },
  {
   "cell_type": "markdown",
   "metadata": {},
   "source": [
    "Revisamos las columnas de satisfacción por separado"
   ]
  },
  {
   "cell_type": "code",
   "execution_count": 100,
   "metadata": {},
   "outputs": [],
   "source": [
    "df2 = df.copy()"
   ]
  },
  {
   "cell_type": "code",
   "execution_count": 101,
   "metadata": {},
   "outputs": [],
   "source": [
    "df2['Test_Env'] = df2['EnvironmentSatisfaction'].apply(lambda x : 'satisfechos' if x >= 3 else 'insatisfechos')"
   ]
  },
  {
   "cell_type": "code",
   "execution_count": 102,
   "metadata": {},
   "outputs": [
    {
     "data": {
      "text/html": [
       "<div>\n",
       "<style scoped>\n",
       "    .dataframe tbody tr th:only-of-type {\n",
       "        vertical-align: middle;\n",
       "    }\n",
       "\n",
       "    .dataframe tbody tr th {\n",
       "        vertical-align: top;\n",
       "    }\n",
       "\n",
       "    .dataframe thead th {\n",
       "        text-align: right;\n",
       "    }\n",
       "</style>\n",
       "<table border=\"1\" class=\"dataframe\">\n",
       "  <thead>\n",
       "    <tr style=\"text-align: right;\">\n",
       "      <th>Attrition</th>\n",
       "      <th>No</th>\n",
       "      <th>Yes</th>\n",
       "    </tr>\n",
       "    <tr>\n",
       "      <th>Test_Env</th>\n",
       "      <th></th>\n",
       "      <th></th>\n",
       "    </tr>\n",
       "  </thead>\n",
       "  <tbody>\n",
       "    <tr>\n",
       "      <th>insatisfechos</th>\n",
       "      <td>1264</td>\n",
       "      <td>248</td>\n",
       "    </tr>\n",
       "    <tr>\n",
       "      <th>satisfechos</th>\n",
       "      <td>47</td>\n",
       "      <td>4</td>\n",
       "    </tr>\n",
       "  </tbody>\n",
       "</table>\n",
       "</div>"
      ],
      "text/plain": [
       "Attrition        No  Yes\n",
       "Test_Env                \n",
       "insatisfechos  1264  248\n",
       "satisfechos      47    4"
      ]
     },
     "execution_count": 102,
     "metadata": {},
     "output_type": "execute_result"
    }
   ],
   "source": [
    "tabla_contingencia2 = pd.crosstab(df2['Test_Env'], df2['Attrition']) "
   ]
  },
  {
   "cell_type": "code",
   "execution_count": 103,
   "metadata": {},
   "outputs": [],
   "source": [
    "# Calcular el porcentaje para 'No' en cada fila\n",
    "tabla_contingencia2['No %'] = tabla_contingencia2['No'] / (tabla_contingencia2['No'] + tabla_contingencia2['Yes']) * 100\n",
    "\n",
    "# Usar los valores originales de 'Yes' para calcular el porcentaje en cada fila\n",
    "tabla_contingencia2['Yes %'] = tabla_contingencia2['Yes'] / (tabla_contingencia2['No'] + tabla_contingencia2['Yes']) * 100\n",
    "\n",
    "# Mostrar el DataFrame actualizado\n",
    "tabla_contingencia2.drop(['No' , 'Yes'], inplace = True, axis = 1)"
   ]
  },
  {
   "cell_type": "code",
   "execution_count": 105,
   "metadata": {},
   "outputs": [
    {
     "data": {
      "text/html": [
       "<div>\n",
       "<style scoped>\n",
       "    .dataframe tbody tr th:only-of-type {\n",
       "        vertical-align: middle;\n",
       "    }\n",
       "\n",
       "    .dataframe tbody tr th {\n",
       "        vertical-align: top;\n",
       "    }\n",
       "\n",
       "    .dataframe thead th {\n",
       "        text-align: right;\n",
       "    }\n",
       "</style>\n",
       "<table border=\"1\" class=\"dataframe\">\n",
       "  <thead>\n",
       "    <tr style=\"text-align: right;\">\n",
       "      <th>Attrition</th>\n",
       "      <th>No %</th>\n",
       "      <th>Yes %</th>\n",
       "    </tr>\n",
       "    <tr>\n",
       "      <th>Test_Env</th>\n",
       "      <th></th>\n",
       "      <th></th>\n",
       "    </tr>\n",
       "  </thead>\n",
       "  <tbody>\n",
       "    <tr>\n",
       "      <th>insatisfechos</th>\n",
       "      <td>83.597884</td>\n",
       "      <td>16.402116</td>\n",
       "    </tr>\n",
       "    <tr>\n",
       "      <th>satisfechos</th>\n",
       "      <td>92.156863</td>\n",
       "      <td>7.843137</td>\n",
       "    </tr>\n",
       "  </tbody>\n",
       "</table>\n",
       "</div>"
      ],
      "text/plain": [
       "Attrition           No %      Yes %\n",
       "Test_Env                           \n",
       "insatisfechos  83.597884  16.402116\n",
       "satisfechos    92.156863   7.843137"
      ]
     },
     "execution_count": 105,
     "metadata": {},
     "output_type": "execute_result"
    }
   ],
   "source": [
    "tabla_contingencia2"
   ]
  },
  {
   "cell_type": "code",
   "execution_count": 108,
   "metadata": {},
   "outputs": [
    {
     "data": {
      "image/png": "[encoded data removed]",
      "text/plain": [
       "<Figure size 1440x360 with 2 Axes>"
      ]
     },
     "metadata": {
      "needs_background": "light"
     },
     "output_type": "display_data"
    }
   ],
   "source": [
    "# hacemos un análisis visual previo\n",
    "fig, axes = plt.subplots(nrows = 1, ncols = 2, figsize = (20, 5), sharey=True)\n",
    "\n",
    "sns.barplot(x=tabla_contingencia2.index, y=\"No %\", data=tabla_contingencia2,  palette = \"PiYG\", ax = axes[0])\n",
    "sns.barplot(x=tabla_contingencia2.index, y=\"Yes %\", data=tabla_contingencia2,  palette = \"PiYG\", ax = axes[1])\n",
    "\n",
    "axes[0].set_title(\"Se quedaron en la empresa\")\n",
    "axes[1].set_title(\"Se marcharon de la empresa\")\n",
    "\n",
    "axes[0].set_xlabel(\"Grupo\")\n",
    "axes[0].set_ylabel(\"Empleados\")\n",
    "\n",
    "axes[1].set_xlabel(\"Grupo\")\n",
    "axes[1].set_ylabel(\"Empleados\");"
   ]
  }
 ],
 "metadata": {
  "kernelspec": {
   "display_name": "base",
   "language": "python",
   "name": "python3"
  },
  "language_info": {
   "codemirror_mode": {
    "name": "ipython",
    "version": 3
   },
   "file_extension": ".py",
   "mimetype": "text/x-python",
   "name": "python",
   "nbconvert_exporter": "python",
   "pygments_lexer": "ipython3",
   "version": "3.9.7"
  }
 },
 "nbformat": 4,
 "nbformat_minor": 2
}
