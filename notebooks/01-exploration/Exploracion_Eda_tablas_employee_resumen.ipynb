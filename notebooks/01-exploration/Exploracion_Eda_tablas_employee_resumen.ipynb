{
 "cells": [
  {
   "cell_type": "markdown",
   "metadata": {},
   "source": [
    "- columna \"Age\"- se mezclan las cifras en letras \n",
    "y números. Sin embargo, no lo da como nulo. Unificar en números."
   ]
  },
  {
   "cell_type": "markdown",
   "metadata": {},
   "source": [
    "-columna \"Gender\", no hay nulos, unificar"
   ]
  },
  {
   "cell_type": "markdown",
   "metadata": {},
   "source": [
    "-columna 'MaritalStatus', muchos nulos, 651, sugiero quitarla"
   ]
  },
  {
   "cell_type": "markdown",
   "metadata": {},
   "source": [
    "-columna \"Numberchildren\"- está totalmente vacía. quitarla"
   ]
  },
  {
   "cell_type": "markdown",
   "metadata": {},
   "source": [
    "-columna \"DateBirth\", no hay nulos. Utilizarla como única columna referida a edad. "
   ]
  },
  {
   "cell_type": "markdown",
   "metadata": {},
   "source": [
    "-Columna \"Over18\", 901 nulos. Borrarla. Si la necesitamos se puede calcular con la columna anterior"
   ]
  },
  {
   "cell_type": "markdown",
   "metadata": {},
   "source": [
    "-Columna \"Education\". numérica de 1 a 5.\n",
    "Buscar la equivalencia. No hay nulos"
   ]
  },
  {
   "cell_type": "markdown",
   "metadata": {},
   "source": [
    "-Columna \"EducationField\". 745 nulos"
   ]
  },
  {
   "cell_type": "markdown",
   "metadata": {},
   "source": [
    "-Columna NUMCOMPANIESWORKED'\n",
    "cambiar nombre. No hay nulos "
   ]
  },
  {
   "cell_type": "markdown",
   "metadata": {},
   "source": [
    "-Columna TOTALWORKINGYEARS\n",
    "cambiar nombre. Es un float, pero solo tiene números enteros. 526 nulos."
   ]
  }
 ],
 "metadata": {
  "language_info": {
   "name": "python"
  }
 },
 "nbformat": 4,
 "nbformat_minor": 2
}
