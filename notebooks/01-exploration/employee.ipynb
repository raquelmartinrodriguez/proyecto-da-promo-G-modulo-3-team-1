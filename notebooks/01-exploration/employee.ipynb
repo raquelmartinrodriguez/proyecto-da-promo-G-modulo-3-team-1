{
 "cells": [
  {
   "cell_type": "code",
   "execution_count": 1,
   "metadata": {},
   "outputs": [],
   "source": [
    "import pandas as pd \n",
    "\n",
    "import numpy as np"
   ]
  },
  {
   "cell_type": "markdown",
   "metadata": {},
   "source": [
    "## EmploymentExperience\n",
    "- EmployeeID (FK)\n",
    "- YearsAtCompany\n",
    "- YearsSinceLastPromotion\n",
    "- YearsInCurrentRole\n",
    "- YearsWithCurrentManager"
   ]
  },
  {
   "cell_type": "markdown",
   "metadata": {},
   "source": [
    "## CompanyStandards\n",
    "- Salary \n",
    "- AverageSalary // Propuesta de nueva columna para hacer la media de ingresos de los empleados\n",
    "- StandardHours"
   ]
  },
  {
   "cell_type": "code",
   "execution_count": 2,
   "metadata": {},
   "outputs": [],
   "source": [
    "data = pd.read_csv(\"../files/HR_RAW_DATA.csv\")\n"
   ]
  },
  {
   "cell_type": "code",
   "execution_count": 3,
   "metadata": {},
   "outputs": [
    {
     "data": {
      "text/plain": [
       "Index(['Unnamed: 0', 'Age', 'Attrition', 'BusinessTravel', 'DailyRate',\n",
       "       'Department', 'DistanceFromHome', 'Education', 'EducationField',\n",
       "       'employeecount', 'employeenumber', 'EnvironmentSatisfaction', 'Gender',\n",
       "       'HourlyRate', 'JobInvolvement', 'JobLevel', 'JobRole',\n",
       "       'JobSatisfaction', 'MaritalStatus', 'MonthlyIncome', 'MonthlyRate',\n",
       "       'NUMCOMPANIESWORKED', 'Over18', 'OverTime', 'PercentSalaryHike',\n",
       "       'PerformanceRating', 'RelationshipSatisfaction', 'StandardHours',\n",
       "       'StockOptionLevel', 'TOTALWORKINGYEARS', 'TrainingTimesLastYear',\n",
       "       'WORKLIFEBALANCE', 'YearsAtCompany', 'YearsInCurrentRole',\n",
       "       'YearsSinceLastPromotion', 'YEARSWITHCURRMANAGER',\n",
       "       'SameAsMonthlyIncome', 'DateBirth', 'Salary', 'RoleDepartament',\n",
       "       'NUMBERCHILDREN', 'RemoteWork'],\n",
       "      dtype='object')"
      ]
     },
     "execution_count": 3,
     "metadata": {},
     "output_type": "execute_result"
    }
   ],
   "source": [
    "data.columns"
   ]
  },
  {
   "cell_type": "code",
   "execution_count": 4,
   "metadata": {},
   "outputs": [
    {
     "data": {
      "text/html": [
       "<div>\n",
       "<style scoped>\n",
       "    .dataframe tbody tr th:only-of-type {\n",
       "        vertical-align: middle;\n",
       "    }\n",
       "\n",
       "    .dataframe tbody tr th {\n",
       "        vertical-align: top;\n",
       "    }\n",
       "\n",
       "    .dataframe thead th {\n",
       "        text-align: right;\n",
       "    }\n",
       "</style>\n",
       "<table border=\"1\" class=\"dataframe\">\n",
       "  <thead>\n",
       "    <tr style=\"text-align: right;\">\n",
       "      <th></th>\n",
       "      <th>Unnamed: 0</th>\n",
       "      <th>Age</th>\n",
       "      <th>Attrition</th>\n",
       "      <th>BusinessTravel</th>\n",
       "      <th>DailyRate</th>\n",
       "      <th>Department</th>\n",
       "      <th>DistanceFromHome</th>\n",
       "      <th>Education</th>\n",
       "      <th>EducationField</th>\n",
       "      <th>employeecount</th>\n",
       "      <th>...</th>\n",
       "      <th>YearsAtCompany</th>\n",
       "      <th>YearsInCurrentRole</th>\n",
       "      <th>YearsSinceLastPromotion</th>\n",
       "      <th>YEARSWITHCURRMANAGER</th>\n",
       "      <th>SameAsMonthlyIncome</th>\n",
       "      <th>DateBirth</th>\n",
       "      <th>Salary</th>\n",
       "      <th>RoleDepartament</th>\n",
       "      <th>NUMBERCHILDREN</th>\n",
       "      <th>RemoteWork</th>\n",
       "    </tr>\n",
       "  </thead>\n",
       "  <tbody>\n",
       "    <tr>\n",
       "      <th>0</th>\n",
       "      <td>0</td>\n",
       "      <td>51</td>\n",
       "      <td>No</td>\n",
       "      <td>NaN</td>\n",
       "      <td>684,0$</td>\n",
       "      <td>NaN</td>\n",
       "      <td>6</td>\n",
       "      <td>3</td>\n",
       "      <td>NaN</td>\n",
       "      <td>1</td>\n",
       "      <td>...</td>\n",
       "      <td>20</td>\n",
       "      <td>NaN</td>\n",
       "      <td>15</td>\n",
       "      <td>15</td>\n",
       "      <td>19537,0</td>\n",
       "      <td>1972</td>\n",
       "      <td>1000000000$</td>\n",
       "      <td>NaN</td>\n",
       "      <td>NaN</td>\n",
       "      <td>Yes</td>\n",
       "    </tr>\n",
       "    <tr>\n",
       "      <th>1</th>\n",
       "      <td>1</td>\n",
       "      <td>52</td>\n",
       "      <td>No</td>\n",
       "      <td>NaN</td>\n",
       "      <td>699,0$</td>\n",
       "      <td>NaN</td>\n",
       "      <td>1</td>\n",
       "      <td>4</td>\n",
       "      <td>Life Sciences</td>\n",
       "      <td>1</td>\n",
       "      <td>...</td>\n",
       "      <td>33</td>\n",
       "      <td>NaN</td>\n",
       "      <td>11</td>\n",
       "      <td>9</td>\n",
       "      <td>19999,0</td>\n",
       "      <td>1971</td>\n",
       "      <td>1000000000$</td>\n",
       "      <td>NaN</td>\n",
       "      <td>NaN</td>\n",
       "      <td>1</td>\n",
       "    </tr>\n",
       "  </tbody>\n",
       "</table>\n",
       "<p>2 rows × 42 columns</p>\n",
       "</div>"
      ],
      "text/plain": [
       "   Unnamed: 0 Age Attrition BusinessTravel DailyRate Department  \\\n",
       "0           0  51        No            NaN    684,0$        NaN   \n",
       "1           1  52        No            NaN    699,0$        NaN   \n",
       "\n",
       "   DistanceFromHome  Education EducationField  employeecount  ...  \\\n",
       "0                 6          3            NaN              1  ...   \n",
       "1                 1          4  Life Sciences              1  ...   \n",
       "\n",
       "  YearsAtCompany  YearsInCurrentRole  YearsSinceLastPromotion  \\\n",
       "0             20                 NaN                       15   \n",
       "1             33                 NaN                       11   \n",
       "\n",
       "  YEARSWITHCURRMANAGER  SameAsMonthlyIncome  DateBirth       Salary  \\\n",
       "0                   15              19537,0       1972  1000000000$   \n",
       "1                    9              19999,0       1971  1000000000$   \n",
       "\n",
       "   RoleDepartament NUMBERCHILDREN RemoteWork  \n",
       "0              NaN            NaN        Yes  \n",
       "1              NaN            NaN          1  \n",
       "\n",
       "[2 rows x 42 columns]"
      ]
     },
     "execution_count": 4,
     "metadata": {},
     "output_type": "execute_result"
    }
   ],
   "source": [
    "data.head(2)"
   ]
  },
  {
   "cell_type": "code",
   "execution_count": 5,
   "metadata": {},
   "outputs": [],
   "source": [
    "employee_experience= data.loc[: , ['employeenumber', 'YearsAtCompany','YearsInCurrentRole', 'YearsSinceLastPromotion','YEARSWITHCURRMANAGER']]"
   ]
  },
  {
   "cell_type": "code",
   "execution_count": 6,
   "metadata": {},
   "outputs": [
    {
     "data": {
      "text/html": [
       "<div>\n",
       "<style scoped>\n",
       "    .dataframe tbody tr th:only-of-type {\n",
       "        vertical-align: middle;\n",
       "    }\n",
       "\n",
       "    .dataframe tbody tr th {\n",
       "        vertical-align: top;\n",
       "    }\n",
       "\n",
       "    .dataframe thead th {\n",
       "        text-align: right;\n",
       "    }\n",
       "</style>\n",
       "<table border=\"1\" class=\"dataframe\">\n",
       "  <thead>\n",
       "    <tr style=\"text-align: right;\">\n",
       "      <th></th>\n",
       "      <th>employeenumber</th>\n",
       "      <th>YearsAtCompany</th>\n",
       "      <th>YearsInCurrentRole</th>\n",
       "      <th>YearsSinceLastPromotion</th>\n",
       "      <th>YEARSWITHCURRMANAGER</th>\n",
       "    </tr>\n",
       "  </thead>\n",
       "  <tbody>\n",
       "    <tr>\n",
       "      <th>0</th>\n",
       "      <td>162,0</td>\n",
       "      <td>20</td>\n",
       "      <td>NaN</td>\n",
       "      <td>15</td>\n",
       "      <td>15</td>\n",
       "    </tr>\n",
       "    <tr>\n",
       "      <th>1</th>\n",
       "      <td>259,0</td>\n",
       "      <td>33</td>\n",
       "      <td>NaN</td>\n",
       "      <td>11</td>\n",
       "      <td>9</td>\n",
       "    </tr>\n",
       "    <tr>\n",
       "      <th>2</th>\n",
       "      <td>319,0</td>\n",
       "      <td>22</td>\n",
       "      <td>NaN</td>\n",
       "      <td>11</td>\n",
       "      <td>15</td>\n",
       "    </tr>\n",
       "    <tr>\n",
       "      <th>3</th>\n",
       "      <td>NaN</td>\n",
       "      <td>20</td>\n",
       "      <td>NaN</td>\n",
       "      <td>5</td>\n",
       "      <td>6</td>\n",
       "    </tr>\n",
       "    <tr>\n",
       "      <th>4</th>\n",
       "      <td>NaN</td>\n",
       "      <td>19</td>\n",
       "      <td>NaN</td>\n",
       "      <td>2</td>\n",
       "      <td>8</td>\n",
       "    </tr>\n",
       "  </tbody>\n",
       "</table>\n",
       "</div>"
      ],
      "text/plain": [
       "  employeenumber  YearsAtCompany YearsInCurrentRole  YearsSinceLastPromotion  \\\n",
       "0          162,0              20                NaN                       15   \n",
       "1          259,0              33                NaN                       11   \n",
       "2          319,0              22                NaN                       11   \n",
       "3            NaN              20                NaN                        5   \n",
       "4            NaN              19                NaN                        2   \n",
       "\n",
       "   YEARSWITHCURRMANAGER  \n",
       "0                    15  \n",
       "1                     9  \n",
       "2                    15  \n",
       "3                     6  \n",
       "4                     8  "
      ]
     },
     "execution_count": 6,
     "metadata": {},
     "output_type": "execute_result"
    }
   ],
   "source": [
    "employee_experience.head()"
   ]
  },
  {
   "cell_type": "code",
   "execution_count": 8,
   "metadata": {},
   "outputs": [
    {
     "data": {
      "text/plain": [
       "employeenumber             26.703841\n",
       "YearsAtCompany              0.000000\n",
       "YearsInCurrentRole         97.893432\n",
       "YearsSinceLastPromotion     0.000000\n",
       "YEARSWITHCURRMANAGER        0.000000\n",
       "dtype: float64"
      ]
     },
     "execution_count": 8,
     "metadata": {},
     "output_type": "execute_result"
    }
   ],
   "source": [
    "# PORCENTAJES DE NULOS EN LA TABLA  E-E \n",
    "\n",
    "employee_experience.isna().sum()/employee_experience.shape[0]*100"
   ]
  },
  {
   "cell_type": "code",
   "execution_count": 12,
   "metadata": {},
   "outputs": [
    {
     "name": "stdout",
     "output_type": "stream",
     "text": [
      "<class 'pandas.core.frame.DataFrame'>\n",
      "RangeIndex: 1614 entries, 0 to 1613\n",
      "Data columns (total 5 columns):\n",
      " #   Column                   Non-Null Count  Dtype \n",
      "---  ------                   --------------  ----- \n",
      " 0   employeenumber           1183 non-null   object\n",
      " 1   YearsAtCompany           1614 non-null   int64 \n",
      " 2   YearsInCurrentRole       34 non-null     object\n",
      " 3   YearsSinceLastPromotion  1614 non-null   int64 \n",
      " 4   YEARSWITHCURRMANAGER     1614 non-null   int64 \n",
      "dtypes: int64(3), object(2)\n",
      "memory usage: 63.2+ KB\n"
     ]
    }
   ],
   "source": [
    "employee_experience.info()"
   ]
  },
  {
   "cell_type": "code",
   "execution_count": 9,
   "metadata": {},
   "outputs": [],
   "source": [
    "\n",
    "employee_experience[\"YearsInCurrentRole\"] = employee_experience[\"YearsInCurrentRole\"].str.replace(\",\", \".\")"
   ]
  },
  {
   "cell_type": "code",
   "execution_count": 13,
   "metadata": {},
   "outputs": [
    {
     "name": "stdout",
     "output_type": "stream",
     "text": [
      "<class 'pandas.core.frame.DataFrame'>\n",
      "RangeIndex: 1614 entries, 0 to 1613\n",
      "Data columns (total 5 columns):\n",
      " #   Column                   Non-Null Count  Dtype \n",
      "---  ------                   --------------  ----- \n",
      " 0   employeenumber           1183 non-null   object\n",
      " 1   YearsAtCompany           1614 non-null   int64 \n",
      " 2   YearsInCurrentRole       34 non-null     object\n",
      " 3   YearsSinceLastPromotion  1614 non-null   int64 \n",
      " 4   YEARSWITHCURRMANAGER     1614 non-null   int64 \n",
      "dtypes: int64(3), object(2)\n",
      "memory usage: 63.2+ KB\n"
     ]
    }
   ],
   "source": [
    "employee_experience.info()"
   ]
  },
  {
   "cell_type": "code",
   "execution_count": 99,
   "metadata": {},
   "outputs": [],
   "source": [
    "employee_experience['YearsInRole'] = employee_experience['YearsInCurrentRole'].fillna(0).replace(',', '.', regex=True).astype(int)"
   ]
  },
  {
   "cell_type": "code",
   "execution_count": 101,
   "metadata": {},
   "outputs": [
    {
     "data": {
      "text/html": [
       "<div>\n",
       "<style scoped>\n",
       "    .dataframe tbody tr th:only-of-type {\n",
       "        vertical-align: middle;\n",
       "    }\n",
       "\n",
       "    .dataframe tbody tr th {\n",
       "        vertical-align: top;\n",
       "    }\n",
       "\n",
       "    .dataframe thead th {\n",
       "        text-align: right;\n",
       "    }\n",
       "</style>\n",
       "<table border=\"1\" class=\"dataframe\">\n",
       "  <thead>\n",
       "    <tr style=\"text-align: right;\">\n",
       "      <th></th>\n",
       "      <th>employeenumber</th>\n",
       "      <th>YearsAtCompany</th>\n",
       "      <th>YearsInCurrentRole</th>\n",
       "      <th>YearsSinceLastPromotion</th>\n",
       "      <th>YEARSWITHCURRMANAGER</th>\n",
       "    </tr>\n",
       "  </thead>\n",
       "  <tbody>\n",
       "    <tr>\n",
       "      <th>0</th>\n",
       "      <td>162,0</td>\n",
       "      <td>20</td>\n",
       "      <td>nan</td>\n",
       "      <td>15</td>\n",
       "      <td>15</td>\n",
       "    </tr>\n",
       "    <tr>\n",
       "      <th>1</th>\n",
       "      <td>259,0</td>\n",
       "      <td>33</td>\n",
       "      <td>nan</td>\n",
       "      <td>11</td>\n",
       "      <td>9</td>\n",
       "    </tr>\n",
       "    <tr>\n",
       "      <th>2</th>\n",
       "      <td>319,0</td>\n",
       "      <td>22</td>\n",
       "      <td>nan</td>\n",
       "      <td>11</td>\n",
       "      <td>15</td>\n",
       "    </tr>\n",
       "    <tr>\n",
       "      <th>3</th>\n",
       "      <td>NaN</td>\n",
       "      <td>20</td>\n",
       "      <td>nan</td>\n",
       "      <td>5</td>\n",
       "      <td>6</td>\n",
       "    </tr>\n",
       "    <tr>\n",
       "      <th>4</th>\n",
       "      <td>NaN</td>\n",
       "      <td>19</td>\n",
       "      <td>nan</td>\n",
       "      <td>2</td>\n",
       "      <td>8</td>\n",
       "    </tr>\n",
       "    <tr>\n",
       "      <th>...</th>\n",
       "      <td>...</td>\n",
       "      <td>...</td>\n",
       "      <td>...</td>\n",
       "      <td>...</td>\n",
       "      <td>...</td>\n",
       "    </tr>\n",
       "    <tr>\n",
       "      <th>1609</th>\n",
       "      <td>967,0</td>\n",
       "      <td>16</td>\n",
       "      <td>nan</td>\n",
       "      <td>3</td>\n",
       "      <td>7</td>\n",
       "    </tr>\n",
       "    <tr>\n",
       "      <th>1610</th>\n",
       "      <td>972,0</td>\n",
       "      <td>9</td>\n",
       "      <td>nan</td>\n",
       "      <td>0</td>\n",
       "      <td>8</td>\n",
       "    </tr>\n",
       "    <tr>\n",
       "      <th>1611</th>\n",
       "      <td>NaN</td>\n",
       "      <td>8</td>\n",
       "      <td>nan</td>\n",
       "      <td>0</td>\n",
       "      <td>7</td>\n",
       "    </tr>\n",
       "    <tr>\n",
       "      <th>1612</th>\n",
       "      <td>990,0</td>\n",
       "      <td>7</td>\n",
       "      <td>nan</td>\n",
       "      <td>0</td>\n",
       "      <td>7</td>\n",
       "    </tr>\n",
       "    <tr>\n",
       "      <th>1613</th>\n",
       "      <td>NaN</td>\n",
       "      <td>8</td>\n",
       "      <td>nan</td>\n",
       "      <td>0</td>\n",
       "      <td>7</td>\n",
       "    </tr>\n",
       "  </tbody>\n",
       "</table>\n",
       "<p>1614 rows × 5 columns</p>\n",
       "</div>"
      ],
      "text/plain": [
       "     employeenumber  YearsAtCompany YearsInCurrentRole  \\\n",
       "0             162,0              20                nan   \n",
       "1             259,0              33                nan   \n",
       "2             319,0              22                nan   \n",
       "3               NaN              20                nan   \n",
       "4               NaN              19                nan   \n",
       "...             ...             ...                ...   \n",
       "1609          967,0              16                nan   \n",
       "1610          972,0               9                nan   \n",
       "1611            NaN               8                nan   \n",
       "1612          990,0               7                nan   \n",
       "1613            NaN               8                nan   \n",
       "\n",
       "      YearsSinceLastPromotion  YEARSWITHCURRMANAGER  \n",
       "0                          15                    15  \n",
       "1                          11                     9  \n",
       "2                          11                    15  \n",
       "3                           5                     6  \n",
       "4                           2                     8  \n",
       "...                       ...                   ...  \n",
       "1609                        3                     7  \n",
       "1610                        0                     8  \n",
       "1611                        0                     7  \n",
       "1612                        0                     7  \n",
       "1613                        0                     7  \n",
       "\n",
       "[1614 rows x 5 columns]"
      ]
     },
     "execution_count": 101,
     "metadata": {},
     "output_type": "execute_result"
    }
   ],
   "source": [
    "employee_experience"
   ]
  },
  {
   "cell_type": "markdown",
   "metadata": {},
   "source": [
    "# Employee number"
   ]
  },
  {
   "cell_type": "code",
   "execution_count": null,
   "metadata": {},
   "outputs": [
    {
     "data": {
      "text/plain": [
       "431"
      ]
     },
     "execution_count": 29,
     "metadata": {},
     "output_type": "execute_result"
    }
   ],
   "source": [
    "#numero de nulo en la columna de employee number\n",
    "data.employeenumber.isnull().sum()"
   ]
  },
  {
   "cell_type": "code",
   "execution_count": null,
   "metadata": {},
   "outputs": [
    {
     "data": {
      "text/plain": [
       "534"
      ]
     },
     "execution_count": 30,
     "metadata": {},
     "output_type": "execute_result"
    }
   ],
   "source": [
    "#numero de duplicados en la columna de employee number \n",
    "data.employeenumber.duplicated().sum()"
   ]
  },
  {
   "cell_type": "markdown",
   "metadata": {},
   "source": [
    "# Years at company"
   ]
  },
  {
   "cell_type": "code",
   "execution_count": null,
   "metadata": {},
   "outputs": [
    {
     "data": {
      "text/plain": [
       "0"
      ]
     },
     "execution_count": 17,
     "metadata": {},
     "output_type": "execute_result"
    }
   ],
   "source": [
    "##numero de nulo en la columna years at company\n",
    "data.YearsAtCompany.isnull().sum()"
   ]
  },
  {
   "cell_type": "code",
   "execution_count": null,
   "metadata": {},
   "outputs": [
    {
     "data": {
      "text/plain": [
       "1577"
      ]
     },
     "execution_count": 31,
     "metadata": {},
     "output_type": "execute_result"
    }
   ],
   "source": [
    "data.YearsAtCompany.duplicated().sum()"
   ]
  },
  {
   "cell_type": "code",
   "execution_count": null,
   "metadata": {},
   "outputs": [
    {
     "data": {
      "text/plain": [
       "array([20, 33, 22, 19, 21, 18, 24, 31, 26, 16, 23, 15, 17, 32, 14, 13, 25,\n",
       "       12, 11, 37, 40, 36, 27, 29, 10,  9, 30,  8,  7, 34,  6,  5,  4,  2,\n",
       "        3,  1,  0])"
      ]
     },
     "execution_count": 41,
     "metadata": {},
     "output_type": "execute_result"
    }
   ],
   "source": [
    "data.YearsAtCompany.unique()"
   ]
  },
  {
   "cell_type": "code",
   "execution_count": null,
   "metadata": {},
   "outputs": [
    {
     "data": {
      "text/plain": [
       "5     208\n",
       "1     171\n",
       "3     141\n",
       "2     141\n",
       "10    133\n",
       "7     115\n",
       "4     114\n",
       "8     106\n",
       "9      94\n",
       "6      78\n",
       "0      44\n",
       "11     36\n",
       "20     29\n",
       "13     26\n",
       "15     21\n",
       "14     19\n",
       "22     17\n",
       "12     15\n",
       "18     15\n",
       "16     14\n",
       "21     14\n",
       "19     12\n",
       "17      9\n",
       "24      7\n",
       "25      5\n",
       "33      5\n",
       "26      4\n",
       "32      3\n",
       "27      3\n",
       "31      3\n",
       "36      3\n",
       "29      2\n",
       "23      2\n",
       "40      2\n",
       "34      1\n",
       "37      1\n",
       "30      1\n",
       "Name: YearsAtCompany, dtype: int64"
      ]
     },
     "execution_count": 74,
     "metadata": {},
     "output_type": "execute_result"
    }
   ],
   "source": [
    "data.YearsAtCompany.value_counts()"
   ]
  },
  {
   "cell_type": "markdown",
   "metadata": {},
   "source": [
    "#  Years since last promotion"
   ]
  },
  {
   "cell_type": "code",
   "execution_count": null,
   "metadata": {},
   "outputs": [
    {
     "data": {
      "text/plain": [
       "0"
      ]
     },
     "execution_count": 16,
     "metadata": {},
     "output_type": "execute_result"
    }
   ],
   "source": [
    "data.YearsSinceLastPromotion.isnull().sum()"
   ]
  },
  {
   "cell_type": "code",
   "execution_count": null,
   "metadata": {},
   "outputs": [
    {
     "data": {
      "text/plain": [
       "1598"
      ]
     },
     "execution_count": 32,
     "metadata": {},
     "output_type": "execute_result"
    }
   ],
   "source": [
    "data.YearsSinceLastPromotion.duplicated().sum()"
   ]
  },
  {
   "cell_type": "code",
   "execution_count": null,
   "metadata": {},
   "outputs": [
    {
     "data": {
      "text/plain": [
       "1598"
      ]
     },
     "execution_count": 43,
     "metadata": {},
     "output_type": "execute_result"
    }
   ],
   "source": [
    "data.duplicated(subset= \"YearsSinceLastPromotion\").sum()"
   ]
  },
  {
   "cell_type": "code",
   "execution_count": null,
   "metadata": {},
   "outputs": [
    {
     "data": {
      "text/plain": [
       "array([15, 11,  5,  2,  4,  7,  0,  1, 13, 14,  8, 12,  3,  6, 10,  9])"
      ]
     },
     "execution_count": 42,
     "metadata": {},
     "output_type": "execute_result"
    }
   ],
   "source": [
    "data.YearsSinceLastPromotion.unique()"
   ]
  },
  {
   "cell_type": "code",
   "execution_count": null,
   "metadata": {},
   "outputs": [
    {
     "data": {
      "text/plain": [
       "0     625\n",
       "1     384\n",
       "2     177\n",
       "7      93\n",
       "4      67\n",
       "3      62\n",
       "5      53\n",
       "6      37\n",
       "11     26\n",
       "8      20\n",
       "9      18\n",
       "15     15\n",
       "12     11\n",
       "13     10\n",
       "14     10\n",
       "10      6\n",
       "Name: YearsSinceLastPromotion, dtype: int64"
      ]
     },
     "execution_count": 61,
     "metadata": {},
     "output_type": "execute_result"
    }
   ],
   "source": [
    "data.YearsSinceLastPromotion.value_counts()"
   ]
  },
  {
   "cell_type": "markdown",
   "metadata": {},
   "source": [
    "# Years in current role"
   ]
  },
  {
   "cell_type": "code",
   "execution_count": null,
   "metadata": {},
   "outputs": [
    {
     "data": {
      "text/plain": [
       "1580"
      ]
     },
     "execution_count": 14,
     "metadata": {},
     "output_type": "execute_result"
    }
   ],
   "source": [
    "data.YearsInCurrentRole.isnull().sum()"
   ]
  },
  {
   "cell_type": "code",
   "execution_count": null,
   "metadata": {},
   "outputs": [
    {
     "data": {
      "text/plain": [
       "1603"
      ]
     },
     "execution_count": 33,
     "metadata": {},
     "output_type": "execute_result"
    }
   ],
   "source": [
    "data.YearsInCurrentRole.duplicated().sum()"
   ]
  },
  {
   "cell_type": "code",
   "execution_count": null,
   "metadata": {},
   "outputs": [
    {
     "data": {
      "text/plain": [
       "array([nan, '13,0', '12,0', '11,0', '7,0', '6,0', '4,0', '3,0', '2,0',\n",
       "       '1,0', '0,0'], dtype=object)"
      ]
     },
     "execution_count": 54,
     "metadata": {},
     "output_type": "execute_result"
    }
   ],
   "source": [
    "# los valores encontrados estan como string paasar a float \n",
    "\n",
    "data.YearsInCurrentRole.unique()"
   ]
  },
  {
   "cell_type": "code",
   "execution_count": null,
   "metadata": {},
   "outputs": [],
   "source": []
  },
  {
   "cell_type": "code",
   "execution_count": null,
   "metadata": {},
   "outputs": [
    {
     "data": {
      "text/plain": [
       "2,0     11\n",
       "7,0      5\n",
       "0,0      4\n",
       "4,0      3\n",
       "1,0      3\n",
       "11,0     2\n",
       "6,0      2\n",
       "3,0      2\n",
       "13,0     1\n",
       "12,0     1\n",
       "Name: YearsInCurrentRole, dtype: int64"
      ]
     },
     "execution_count": 60,
     "metadata": {},
     "output_type": "execute_result"
    }
   ],
   "source": [
    "data.YearsInCurrentRole.value_counts()"
   ]
  },
  {
   "cell_type": "code",
   "execution_count": null,
   "metadata": {},
   "outputs": [
    {
     "data": {
      "text/plain": [
       "0       NaN\n",
       "1       NaN\n",
       "2       NaN\n",
       "3       NaN\n",
       "4       NaN\n",
       "       ... \n",
       "1609    NaN\n",
       "1610    NaN\n",
       "1611    NaN\n",
       "1612    NaN\n",
       "1613    NaN\n",
       "Name: YearsInCurrentRole, Length: 1614, dtype: object"
      ]
     },
     "execution_count": 84,
     "metadata": {},
     "output_type": "execute_result"
    }
   ],
   "source": [
    "data.YearsInCurrentRole"
   ]
  },
  {
   "cell_type": "code",
   "execution_count": null,
   "metadata": {},
   "outputs": [
    {
     "data": {
      "text/html": [
       "<div>\n",
       "<style scoped>\n",
       "    .dataframe tbody tr th:only-of-type {\n",
       "        vertical-align: middle;\n",
       "    }\n",
       "\n",
       "    .dataframe tbody tr th {\n",
       "        vertical-align: top;\n",
       "    }\n",
       "\n",
       "    .dataframe thead th {\n",
       "        text-align: right;\n",
       "    }\n",
       "</style>\n",
       "<table border=\"1\" class=\"dataframe\">\n",
       "  <thead>\n",
       "    <tr style=\"text-align: right;\">\n",
       "      <th></th>\n",
       "      <th>employeenumber</th>\n",
       "      <th>YearsAtCompany</th>\n",
       "      <th>YearsInCurrentRole</th>\n",
       "      <th>YearsSinceLastPromotion</th>\n",
       "      <th>YEARSWITHCURRMANAGER</th>\n",
       "      <th>YearsCurrentRole</th>\n",
       "    </tr>\n",
       "  </thead>\n",
       "  <tbody>\n",
       "    <tr>\n",
       "      <th>0</th>\n",
       "      <td>162,0</td>\n",
       "      <td>20</td>\n",
       "      <td>0</td>\n",
       "      <td>15</td>\n",
       "      <td>15</td>\n",
       "      <td>NaN</td>\n",
       "    </tr>\n",
       "    <tr>\n",
       "      <th>1</th>\n",
       "      <td>259,0</td>\n",
       "      <td>33</td>\n",
       "      <td>0</td>\n",
       "      <td>11</td>\n",
       "      <td>9</td>\n",
       "      <td>NaN</td>\n",
       "    </tr>\n",
       "    <tr>\n",
       "      <th>2</th>\n",
       "      <td>319,0</td>\n",
       "      <td>22</td>\n",
       "      <td>0</td>\n",
       "      <td>11</td>\n",
       "      <td>15</td>\n",
       "      <td>NaN</td>\n",
       "    </tr>\n",
       "    <tr>\n",
       "      <th>3</th>\n",
       "      <td>NaN</td>\n",
       "      <td>20</td>\n",
       "      <td>0</td>\n",
       "      <td>5</td>\n",
       "      <td>6</td>\n",
       "      <td>NaN</td>\n",
       "    </tr>\n",
       "    <tr>\n",
       "      <th>4</th>\n",
       "      <td>NaN</td>\n",
       "      <td>19</td>\n",
       "      <td>0</td>\n",
       "      <td>2</td>\n",
       "      <td>8</td>\n",
       "      <td>NaN</td>\n",
       "    </tr>\n",
       "    <tr>\n",
       "      <th>...</th>\n",
       "      <td>...</td>\n",
       "      <td>...</td>\n",
       "      <td>...</td>\n",
       "      <td>...</td>\n",
       "      <td>...</td>\n",
       "      <td>...</td>\n",
       "    </tr>\n",
       "    <tr>\n",
       "      <th>1609</th>\n",
       "      <td>967,0</td>\n",
       "      <td>16</td>\n",
       "      <td>0</td>\n",
       "      <td>3</td>\n",
       "      <td>7</td>\n",
       "      <td>NaN</td>\n",
       "    </tr>\n",
       "    <tr>\n",
       "      <th>1610</th>\n",
       "      <td>972,0</td>\n",
       "      <td>9</td>\n",
       "      <td>0</td>\n",
       "      <td>0</td>\n",
       "      <td>8</td>\n",
       "      <td>NaN</td>\n",
       "    </tr>\n",
       "    <tr>\n",
       "      <th>1611</th>\n",
       "      <td>NaN</td>\n",
       "      <td>8</td>\n",
       "      <td>0</td>\n",
       "      <td>0</td>\n",
       "      <td>7</td>\n",
       "      <td>NaN</td>\n",
       "    </tr>\n",
       "    <tr>\n",
       "      <th>1612</th>\n",
       "      <td>990,0</td>\n",
       "      <td>7</td>\n",
       "      <td>0</td>\n",
       "      <td>0</td>\n",
       "      <td>7</td>\n",
       "      <td>NaN</td>\n",
       "    </tr>\n",
       "    <tr>\n",
       "      <th>1613</th>\n",
       "      <td>NaN</td>\n",
       "      <td>8</td>\n",
       "      <td>0</td>\n",
       "      <td>0</td>\n",
       "      <td>7</td>\n",
       "      <td>NaN</td>\n",
       "    </tr>\n",
       "  </tbody>\n",
       "</table>\n",
       "<p>1614 rows × 6 columns</p>\n",
       "</div>"
      ],
      "text/plain": [
       "     employeenumber  YearsAtCompany YearsInCurrentRole  \\\n",
       "0             162,0              20                  0   \n",
       "1             259,0              33                  0   \n",
       "2             319,0              22                  0   \n",
       "3               NaN              20                  0   \n",
       "4               NaN              19                  0   \n",
       "...             ...             ...                ...   \n",
       "1609          967,0              16                  0   \n",
       "1610          972,0               9                  0   \n",
       "1611            NaN               8                  0   \n",
       "1612          990,0               7                  0   \n",
       "1613            NaN               8                  0   \n",
       "\n",
       "      YearsSinceLastPromotion  YEARSWITHCURRMANAGER  YearsCurrentRole  \n",
       "0                          15                    15               NaN  \n",
       "1                          11                     9               NaN  \n",
       "2                          11                    15               NaN  \n",
       "3                           5                     6               NaN  \n",
       "4                           2                     8               NaN  \n",
       "...                       ...                   ...               ...  \n",
       "1609                        3                     7               NaN  \n",
       "1610                        0                     8               NaN  \n",
       "1611                        0                     7               NaN  \n",
       "1612                        0                     7               NaN  \n",
       "1613                        0                     7               NaN  \n",
       "\n",
       "[1614 rows x 6 columns]"
      ]
     },
     "execution_count": 83,
     "metadata": {},
     "output_type": "execute_result"
    }
   ],
   "source": [
    "\n",
    "\n",
    "for dato, value in enumerate(employee_experience[\"YearsInCurrentRole\"]):\n",
    "    try:\n",
    "        employee_experience.at[dato, \"YearsInCurrentRole\"] = int(value)\n",
    "    except (ValueError, TypeError):\n",
    "        # Si ocurre un error (por ejemplo, si el valor es una cadena no numérica o NaN),\n",
    "        # cambia el valor a un entero\n",
    "        employee_experience.at[dato, \"YearsInCurrentRole\"] = 0  # Puedes cambiar esto por cualquier otro valor entero\n",
    "\n",
    "# Muestra el DataFrame actualizado\n",
    "employee_experience\n"
   ]
  },
  {
   "cell_type": "markdown",
   "metadata": {},
   "source": [
    "#  Years with current manager"
   ]
  },
  {
   "cell_type": "code",
   "execution_count": null,
   "metadata": {},
   "outputs": [
    {
     "data": {
      "text/plain": [
       "0"
      ]
     },
     "execution_count": 24,
     "metadata": {},
     "output_type": "execute_result"
    }
   ],
   "source": [
    "data.YEARSWITHCURRMANAGER.isnull().sum()"
   ]
  },
  {
   "cell_type": "code",
   "execution_count": null,
   "metadata": {},
   "outputs": [
    {
     "data": {
      "text/plain": [
       "1596"
      ]
     },
     "execution_count": 34,
     "metadata": {},
     "output_type": "execute_result"
    }
   ],
   "source": [
    "data.YEARSWITHCURRMANAGER.duplicated().sum()"
   ]
  },
  {
   "cell_type": "code",
   "execution_count": null,
   "metadata": {},
   "outputs": [
    {
     "data": {
      "text/plain": [
       "2     380\n",
       "0     270\n",
       "7     267\n",
       "3     148\n",
       "8     115\n",
       "4     104\n",
       "1      84\n",
       "9      70\n",
       "5      36\n",
       "10     31\n",
       "6      30\n",
       "11     22\n",
       "12     20\n",
       "13     16\n",
       "17      8\n",
       "15      5\n",
       "14      5\n",
       "16      3\n",
       "Name: YEARSWITHCURRMANAGER, dtype: int64"
      ]
     },
     "execution_count": 59,
     "metadata": {},
     "output_type": "execute_result"
    }
   ],
   "source": [
    "data.YEARSWITHCURRMANAGER.value_counts()"
   ]
  },
  {
   "cell_type": "markdown",
   "metadata": {},
   "source": [
    "## CompanyStandards\n",
    "- Salary \n",
    "- AverageSalary // Propuesta de nueva columna para hacer la media de ingresos de los empleados\n",
    "- StandardHours"
   ]
  },
  {
   "cell_type": "markdown",
   "metadata": {},
   "source": [
    "# Salary"
   ]
  },
  {
   "cell_type": "code",
   "execution_count": null,
   "metadata": {},
   "outputs": [
    {
     "data": {
      "text/plain": [
       "0       1000000000$\n",
       "1       1000000000$\n",
       "2       1000000000$\n",
       "3       1000000000$\n",
       "4       1000000000$\n",
       "           ...     \n",
       "1609    1000000000$\n",
       "1610    1000000000$\n",
       "1611    1000000000$\n",
       "1612    1000000000$\n",
       "1613    1000000000$\n",
       "Name: Salary, Length: 1614, dtype: object"
      ]
     },
     "execution_count": 37,
     "metadata": {},
     "output_type": "execute_result"
    }
   ],
   "source": [
    "data.Salary"
   ]
  },
  {
   "cell_type": "markdown",
   "metadata": {},
   "source": [
    "#  Standar hours"
   ]
  },
  {
   "cell_type": "code",
   "execution_count": null,
   "metadata": {},
   "outputs": [
    {
     "data": {
      "text/plain": [
       "0       NaN\n",
       "1       NaN\n",
       "2       NaN\n",
       "3       NaN\n",
       "4       NaN\n",
       "       ... \n",
       "1609    NaN\n",
       "1610    NaN\n",
       "1611    NaN\n",
       "1612    NaN\n",
       "1613    NaN\n",
       "Name: StandardHours, Length: 1614, dtype: object"
      ]
     },
     "execution_count": 38,
     "metadata": {},
     "output_type": "execute_result"
    }
   ],
   "source": [
    "data.StandardHours"
   ]
  },
  {
   "cell_type": "code",
   "execution_count": null,
   "metadata": {},
   "outputs": [
    {
     "data": {
      "text/plain": [
       "1195"
      ]
     },
     "execution_count": 39,
     "metadata": {},
     "output_type": "execute_result"
    }
   ],
   "source": [
    "data.StandardHours.isnull().sum()"
   ]
  },
  {
   "cell_type": "code",
   "execution_count": null,
   "metadata": {},
   "outputs": [
    {
     "data": {
      "text/plain": [
       "1612"
      ]
     },
     "execution_count": 40,
     "metadata": {},
     "output_type": "execute_result"
    }
   ],
   "source": [
    "data.StandardHours.duplicated().sum()"
   ]
  },
  {
   "cell_type": "code",
   "execution_count": null,
   "metadata": {},
   "outputs": [
    {
     "data": {
      "text/plain": [
       "array([nan, '80,0'], dtype=object)"
      ]
     },
     "execution_count": 63,
     "metadata": {},
     "output_type": "execute_result"
    }
   ],
   "source": [
    "data.StandardHours.unique()"
   ]
  },
  {
   "cell_type": "code",
   "execution_count": null,
   "metadata": {},
   "outputs": [
    {
     "data": {
      "text/plain": [
       "Unnamed: 0                    0.000000\n",
       "Age                           0.000000\n",
       "Attrition                     0.000000\n",
       "BusinessTravel               47.831475\n",
       "DailyRate                     0.000000\n",
       "Department                   81.288724\n",
       "DistanceFromHome              0.000000\n",
       "Education                     0.000000\n",
       "EducationField               46.158612\n",
       "employeecount                 0.000000\n",
       "employeenumber               26.703841\n",
       "EnvironmentSatisfaction       0.000000\n",
       "Gender                        0.000000\n",
       "HourlyRate                    0.000000\n",
       "JobInvolvement                0.000000\n",
       "JobLevel                      0.000000\n",
       "JobRole                       0.000000\n",
       "JobSatisfaction               0.000000\n",
       "MaritalStatus                40.334572\n",
       "MonthlyIncome                52.230483\n",
       "MonthlyRate                   0.000000\n",
       "NUMCOMPANIESWORKED            0.000000\n",
       "Over18                       55.824040\n",
       "OverTime                     41.883519\n",
       "PercentSalaryHike             0.000000\n",
       "PerformanceRating            12.081784\n",
       "RelationshipSatisfaction      0.000000\n",
       "StandardHours                74.039653\n",
       "StockOptionLevel              0.000000\n",
       "TOTALWORKINGYEARS            32.589839\n",
       "TrainingTimesLastYear         0.000000\n",
       "WORKLIFEBALANCE               6.691450\n",
       "YearsAtCompany                0.000000\n",
       "YearsInCurrentRole           97.893432\n",
       "YearsSinceLastPromotion       0.000000\n",
       "YEARSWITHCURRMANAGER          0.000000\n",
       "SameAsMonthlyIncome          52.230483\n",
       "DateBirth                     0.000000\n",
       "Salary                        0.000000\n",
       "RoleDepartament              81.288724\n",
       "NUMBERCHILDREN              100.000000\n",
       "RemoteWork                    0.000000\n",
       "dtype: float64"
      ]
     },
     "execution_count": 51,
     "metadata": {},
     "output_type": "execute_result"
    }
   ],
   "source": [
    "data.isna().sum()/data.shape[0]*100"
   ]
  },
  {
   "cell_type": "code",
   "execution_count": null,
   "metadata": {},
   "outputs": [
    {
     "data": {
      "text/html": [
       "<div>\n",
       "<style scoped>\n",
       "    .dataframe tbody tr th:only-of-type {\n",
       "        vertical-align: middle;\n",
       "    }\n",
       "\n",
       "    .dataframe tbody tr th {\n",
       "        vertical-align: top;\n",
       "    }\n",
       "\n",
       "    .dataframe thead th {\n",
       "        text-align: right;\n",
       "    }\n",
       "</style>\n",
       "<table border=\"1\" class=\"dataframe\">\n",
       "  <thead>\n",
       "    <tr style=\"text-align: right;\">\n",
       "      <th></th>\n",
       "      <th>count</th>\n",
       "      <th>mean</th>\n",
       "      <th>std</th>\n",
       "      <th>min</th>\n",
       "      <th>25%</th>\n",
       "      <th>50%</th>\n",
       "      <th>75%</th>\n",
       "      <th>max</th>\n",
       "    </tr>\n",
       "  </thead>\n",
       "  <tbody>\n",
       "    <tr>\n",
       "      <th>Unnamed: 0</th>\n",
       "      <td>1614.0</td>\n",
       "      <td>806.500000</td>\n",
       "      <td>466.065982</td>\n",
       "      <td>0.0</td>\n",
       "      <td>403.25</td>\n",
       "      <td>806.5</td>\n",
       "      <td>1209.75</td>\n",
       "      <td>1613.0</td>\n",
       "    </tr>\n",
       "    <tr>\n",
       "      <th>DistanceFromHome</th>\n",
       "      <td>1614.0</td>\n",
       "      <td>4.527261</td>\n",
       "      <td>14.591913</td>\n",
       "      <td>-49.0</td>\n",
       "      <td>2.00</td>\n",
       "      <td>5.0</td>\n",
       "      <td>11.00</td>\n",
       "      <td>29.0</td>\n",
       "    </tr>\n",
       "    <tr>\n",
       "      <th>Education</th>\n",
       "      <td>1614.0</td>\n",
       "      <td>2.925031</td>\n",
       "      <td>1.022357</td>\n",
       "      <td>1.0</td>\n",
       "      <td>2.00</td>\n",
       "      <td>3.0</td>\n",
       "      <td>4.00</td>\n",
       "      <td>5.0</td>\n",
       "    </tr>\n",
       "    <tr>\n",
       "      <th>employeecount</th>\n",
       "      <td>1614.0</td>\n",
       "      <td>1.000000</td>\n",
       "      <td>0.000000</td>\n",
       "      <td>1.0</td>\n",
       "      <td>1.00</td>\n",
       "      <td>1.0</td>\n",
       "      <td>1.00</td>\n",
       "      <td>1.0</td>\n",
       "    </tr>\n",
       "    <tr>\n",
       "      <th>EnvironmentSatisfaction</th>\n",
       "      <td>1614.0</td>\n",
       "      <td>4.294919</td>\n",
       "      <td>6.993559</td>\n",
       "      <td>1.0</td>\n",
       "      <td>2.00</td>\n",
       "      <td>3.0</td>\n",
       "      <td>4.00</td>\n",
       "      <td>49.0</td>\n",
       "    </tr>\n",
       "    <tr>\n",
       "      <th>Gender</th>\n",
       "      <td>1614.0</td>\n",
       "      <td>0.398389</td>\n",
       "      <td>0.489718</td>\n",
       "      <td>0.0</td>\n",
       "      <td>0.00</td>\n",
       "      <td>0.0</td>\n",
       "      <td>1.00</td>\n",
       "      <td>1.0</td>\n",
       "    </tr>\n",
       "    <tr>\n",
       "      <th>JobInvolvement</th>\n",
       "      <td>1614.0</td>\n",
       "      <td>2.739777</td>\n",
       "      <td>0.711567</td>\n",
       "      <td>1.0</td>\n",
       "      <td>2.00</td>\n",
       "      <td>3.0</td>\n",
       "      <td>3.00</td>\n",
       "      <td>4.0</td>\n",
       "    </tr>\n",
       "    <tr>\n",
       "      <th>JobLevel</th>\n",
       "      <td>1614.0</td>\n",
       "      <td>2.068154</td>\n",
       "      <td>1.101344</td>\n",
       "      <td>1.0</td>\n",
       "      <td>1.00</td>\n",
       "      <td>2.0</td>\n",
       "      <td>3.00</td>\n",
       "      <td>5.0</td>\n",
       "    </tr>\n",
       "    <tr>\n",
       "      <th>JobSatisfaction</th>\n",
       "      <td>1614.0</td>\n",
       "      <td>2.738538</td>\n",
       "      <td>1.106163</td>\n",
       "      <td>1.0</td>\n",
       "      <td>2.00</td>\n",
       "      <td>3.0</td>\n",
       "      <td>4.00</td>\n",
       "      <td>4.0</td>\n",
       "    </tr>\n",
       "    <tr>\n",
       "      <th>MonthlyRate</th>\n",
       "      <td>1614.0</td>\n",
       "      <td>14284.495663</td>\n",
       "      <td>7110.414585</td>\n",
       "      <td>2094.0</td>\n",
       "      <td>8001.00</td>\n",
       "      <td>14248.5</td>\n",
       "      <td>20364.00</td>\n",
       "      <td>26999.0</td>\n",
       "    </tr>\n",
       "    <tr>\n",
       "      <th>NUMCOMPANIESWORKED</th>\n",
       "      <td>1614.0</td>\n",
       "      <td>2.673482</td>\n",
       "      <td>2.506152</td>\n",
       "      <td>0.0</td>\n",
       "      <td>1.00</td>\n",
       "      <td>2.0</td>\n",
       "      <td>4.00</td>\n",
       "      <td>9.0</td>\n",
       "    </tr>\n",
       "    <tr>\n",
       "      <th>PercentSalaryHike</th>\n",
       "      <td>1614.0</td>\n",
       "      <td>15.165428</td>\n",
       "      <td>3.648610</td>\n",
       "      <td>11.0</td>\n",
       "      <td>12.00</td>\n",
       "      <td>14.0</td>\n",
       "      <td>18.00</td>\n",
       "      <td>25.0</td>\n",
       "    </tr>\n",
       "    <tr>\n",
       "      <th>RelationshipSatisfaction</th>\n",
       "      <td>1614.0</td>\n",
       "      <td>2.704461</td>\n",
       "      <td>1.079031</td>\n",
       "      <td>1.0</td>\n",
       "      <td>2.00</td>\n",
       "      <td>3.0</td>\n",
       "      <td>4.00</td>\n",
       "      <td>4.0</td>\n",
       "    </tr>\n",
       "    <tr>\n",
       "      <th>StockOptionLevel</th>\n",
       "      <td>1614.0</td>\n",
       "      <td>0.791202</td>\n",
       "      <td>0.842396</td>\n",
       "      <td>0.0</td>\n",
       "      <td>0.00</td>\n",
       "      <td>1.0</td>\n",
       "      <td>1.00</td>\n",
       "      <td>3.0</td>\n",
       "    </tr>\n",
       "    <tr>\n",
       "      <th>TrainingTimesLastYear</th>\n",
       "      <td>1614.0</td>\n",
       "      <td>2.809789</td>\n",
       "      <td>1.297765</td>\n",
       "      <td>0.0</td>\n",
       "      <td>2.00</td>\n",
       "      <td>3.0</td>\n",
       "      <td>3.00</td>\n",
       "      <td>6.0</td>\n",
       "    </tr>\n",
       "    <tr>\n",
       "      <th>YearsAtCompany</th>\n",
       "      <td>1614.0</td>\n",
       "      <td>7.132590</td>\n",
       "      <td>6.124237</td>\n",
       "      <td>0.0</td>\n",
       "      <td>3.00</td>\n",
       "      <td>5.0</td>\n",
       "      <td>9.00</td>\n",
       "      <td>40.0</td>\n",
       "    </tr>\n",
       "    <tr>\n",
       "      <th>YearsSinceLastPromotion</th>\n",
       "      <td>1614.0</td>\n",
       "      <td>2.245973</td>\n",
       "      <td>3.235665</td>\n",
       "      <td>0.0</td>\n",
       "      <td>0.00</td>\n",
       "      <td>1.0</td>\n",
       "      <td>3.00</td>\n",
       "      <td>15.0</td>\n",
       "    </tr>\n",
       "    <tr>\n",
       "      <th>YEARSWITHCURRMANAGER</th>\n",
       "      <td>1614.0</td>\n",
       "      <td>4.220570</td>\n",
       "      <td>3.562695</td>\n",
       "      <td>0.0</td>\n",
       "      <td>2.00</td>\n",
       "      <td>3.0</td>\n",
       "      <td>7.00</td>\n",
       "      <td>17.0</td>\n",
       "    </tr>\n",
       "    <tr>\n",
       "      <th>DateBirth</th>\n",
       "      <td>1614.0</td>\n",
       "      <td>1986.076208</td>\n",
       "      <td>9.101332</td>\n",
       "      <td>1963.0</td>\n",
       "      <td>1980.00</td>\n",
       "      <td>1987.0</td>\n",
       "      <td>1993.00</td>\n",
       "      <td>2005.0</td>\n",
       "    </tr>\n",
       "    <tr>\n",
       "      <th>NUMBERCHILDREN</th>\n",
       "      <td>0.0</td>\n",
       "      <td>NaN</td>\n",
       "      <td>NaN</td>\n",
       "      <td>NaN</td>\n",
       "      <td>NaN</td>\n",
       "      <td>NaN</td>\n",
       "      <td>NaN</td>\n",
       "      <td>NaN</td>\n",
       "    </tr>\n",
       "  </tbody>\n",
       "</table>\n",
       "</div>"
      ],
      "text/plain": [
       "                           count          mean          std     min      25%  \\\n",
       "Unnamed: 0                1614.0    806.500000   466.065982     0.0   403.25   \n",
       "DistanceFromHome          1614.0      4.527261    14.591913   -49.0     2.00   \n",
       "Education                 1614.0      2.925031     1.022357     1.0     2.00   \n",
       "employeecount             1614.0      1.000000     0.000000     1.0     1.00   \n",
       "EnvironmentSatisfaction   1614.0      4.294919     6.993559     1.0     2.00   \n",
       "Gender                    1614.0      0.398389     0.489718     0.0     0.00   \n",
       "JobInvolvement            1614.0      2.739777     0.711567     1.0     2.00   \n",
       "JobLevel                  1614.0      2.068154     1.101344     1.0     1.00   \n",
       "JobSatisfaction           1614.0      2.738538     1.106163     1.0     2.00   \n",
       "MonthlyRate               1614.0  14284.495663  7110.414585  2094.0  8001.00   \n",
       "NUMCOMPANIESWORKED        1614.0      2.673482     2.506152     0.0     1.00   \n",
       "PercentSalaryHike         1614.0     15.165428     3.648610    11.0    12.00   \n",
       "RelationshipSatisfaction  1614.0      2.704461     1.079031     1.0     2.00   \n",
       "StockOptionLevel          1614.0      0.791202     0.842396     0.0     0.00   \n",
       "TrainingTimesLastYear     1614.0      2.809789     1.297765     0.0     2.00   \n",
       "YearsAtCompany            1614.0      7.132590     6.124237     0.0     3.00   \n",
       "YearsSinceLastPromotion   1614.0      2.245973     3.235665     0.0     0.00   \n",
       "YEARSWITHCURRMANAGER      1614.0      4.220570     3.562695     0.0     2.00   \n",
       "DateBirth                 1614.0   1986.076208     9.101332  1963.0  1980.00   \n",
       "NUMBERCHILDREN               0.0           NaN          NaN     NaN      NaN   \n",
       "\n",
       "                              50%       75%      max  \n",
       "Unnamed: 0                  806.5   1209.75   1613.0  \n",
       "DistanceFromHome              5.0     11.00     29.0  \n",
       "Education                     3.0      4.00      5.0  \n",
       "employeecount                 1.0      1.00      1.0  \n",
       "EnvironmentSatisfaction       3.0      4.00     49.0  \n",
       "Gender                        0.0      1.00      1.0  \n",
       "JobInvolvement                3.0      3.00      4.0  \n",
       "JobLevel                      2.0      3.00      5.0  \n",
       "JobSatisfaction               3.0      4.00      4.0  \n",
       "MonthlyRate               14248.5  20364.00  26999.0  \n",
       "NUMCOMPANIESWORKED            2.0      4.00      9.0  \n",
       "PercentSalaryHike            14.0     18.00     25.0  \n",
       "RelationshipSatisfaction      3.0      4.00      4.0  \n",
       "StockOptionLevel              1.0      1.00      3.0  \n",
       "TrainingTimesLastYear         3.0      3.00      6.0  \n",
       "YearsAtCompany                5.0      9.00     40.0  \n",
       "YearsSinceLastPromotion       1.0      3.00     15.0  \n",
       "YEARSWITHCURRMANAGER          3.0      7.00     17.0  \n",
       "DateBirth                  1987.0   1993.00   2005.0  \n",
       "NUMBERCHILDREN                NaN       NaN      NaN  "
      ]
     },
     "execution_count": 68,
     "metadata": {},
     "output_type": "execute_result"
    }
   ],
   "source": [
    "data.describe().T"
   ]
  }
 ],
 "metadata": {
  "kernelspec": {
   "display_name": "base",
   "language": "python",
   "name": "python3"
  },
  "language_info": {
   "codemirror_mode": {
    "name": "ipython",
    "version": 3
   },
   "file_extension": ".py",
   "mimetype": "text/x-python",
   "name": "python",
   "nbconvert_exporter": "python",
   "pygments_lexer": "ipython3",
   "version": "3.9.7"
  }
 },
 "nbformat": 4,
 "nbformat_minor": 2
}
