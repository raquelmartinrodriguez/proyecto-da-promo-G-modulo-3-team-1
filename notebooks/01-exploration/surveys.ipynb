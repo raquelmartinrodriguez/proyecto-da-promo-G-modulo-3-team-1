{
 "cells": [
  {
   "cell_type": "code",
   "execution_count": 1,
   "metadata": {},
   "outputs": [],
   "source": [
    "import pandas as pd\n",
    "import numpy as np"
   ]
  },
  {
   "cell_type": "code",
   "execution_count": 2,
   "metadata": {},
   "outputs": [
    {
     "data": {
      "text/html": [
       "<div>\n",
       "<style scoped>\n",
       "    .dataframe tbody tr th:only-of-type {\n",
       "        vertical-align: middle;\n",
       "    }\n",
       "\n",
       "    .dataframe tbody tr th {\n",
       "        vertical-align: top;\n",
       "    }\n",
       "\n",
       "    .dataframe thead th {\n",
       "        text-align: right;\n",
       "    }\n",
       "</style>\n",
       "<table border=\"1\" class=\"dataframe\">\n",
       "  <thead>\n",
       "    <tr style=\"text-align: right;\">\n",
       "      <th></th>\n",
       "      <th>Age</th>\n",
       "      <th>Attrition</th>\n",
       "      <th>BusinessTravel</th>\n",
       "      <th>DailyRate</th>\n",
       "      <th>Department</th>\n",
       "      <th>DistanceFromHome</th>\n",
       "      <th>Education</th>\n",
       "      <th>EducationField</th>\n",
       "      <th>employeecount</th>\n",
       "      <th>employeenumber</th>\n",
       "      <th>...</th>\n",
       "      <th>YearsAtCompany</th>\n",
       "      <th>YearsInCurrentRole</th>\n",
       "      <th>YearsSinceLastPromotion</th>\n",
       "      <th>YEARSWITHCURRMANAGER</th>\n",
       "      <th>SameAsMonthlyIncome</th>\n",
       "      <th>DateBirth</th>\n",
       "      <th>Salary</th>\n",
       "      <th>RoleDepartament</th>\n",
       "      <th>NUMBERCHILDREN</th>\n",
       "      <th>RemoteWork</th>\n",
       "    </tr>\n",
       "  </thead>\n",
       "  <tbody>\n",
       "    <tr>\n",
       "      <th>0</th>\n",
       "      <td>51</td>\n",
       "      <td>No</td>\n",
       "      <td>NaN</td>\n",
       "      <td>684,0$</td>\n",
       "      <td>NaN</td>\n",
       "      <td>6</td>\n",
       "      <td>3</td>\n",
       "      <td>NaN</td>\n",
       "      <td>1</td>\n",
       "      <td>162,0</td>\n",
       "      <td>...</td>\n",
       "      <td>20</td>\n",
       "      <td>NaN</td>\n",
       "      <td>15</td>\n",
       "      <td>15</td>\n",
       "      <td>19537,0</td>\n",
       "      <td>1972</td>\n",
       "      <td>1000000000$</td>\n",
       "      <td>NaN</td>\n",
       "      <td>NaN</td>\n",
       "      <td>Yes</td>\n",
       "    </tr>\n",
       "    <tr>\n",
       "      <th>1</th>\n",
       "      <td>52</td>\n",
       "      <td>No</td>\n",
       "      <td>NaN</td>\n",
       "      <td>699,0$</td>\n",
       "      <td>NaN</td>\n",
       "      <td>1</td>\n",
       "      <td>4</td>\n",
       "      <td>Life Sciences</td>\n",
       "      <td>1</td>\n",
       "      <td>259,0</td>\n",
       "      <td>...</td>\n",
       "      <td>33</td>\n",
       "      <td>NaN</td>\n",
       "      <td>11</td>\n",
       "      <td>9</td>\n",
       "      <td>19999,0</td>\n",
       "      <td>1971</td>\n",
       "      <td>1000000000$</td>\n",
       "      <td>NaN</td>\n",
       "      <td>NaN</td>\n",
       "      <td>1</td>\n",
       "    </tr>\n",
       "    <tr>\n",
       "      <th>2</th>\n",
       "      <td>42</td>\n",
       "      <td>No</td>\n",
       "      <td>travel_rarely</td>\n",
       "      <td>532,0$</td>\n",
       "      <td>Research &amp; Development</td>\n",
       "      <td>4</td>\n",
       "      <td>2</td>\n",
       "      <td>Technical Degree</td>\n",
       "      <td>1</td>\n",
       "      <td>319,0</td>\n",
       "      <td>...</td>\n",
       "      <td>22</td>\n",
       "      <td>NaN</td>\n",
       "      <td>11</td>\n",
       "      <td>15</td>\n",
       "      <td>19232,0</td>\n",
       "      <td>1981</td>\n",
       "      <td>1000000000$</td>\n",
       "      <td>ManaGER  -  Research &amp; Development</td>\n",
       "      <td>NaN</td>\n",
       "      <td>1</td>\n",
       "    </tr>\n",
       "    <tr>\n",
       "      <th>3</th>\n",
       "      <td>47</td>\n",
       "      <td>No</td>\n",
       "      <td>travel_rarely</td>\n",
       "      <td>359,0$</td>\n",
       "      <td>NaN</td>\n",
       "      <td>2</td>\n",
       "      <td>4</td>\n",
       "      <td>Medical</td>\n",
       "      <td>1</td>\n",
       "      <td>NaN</td>\n",
       "      <td>...</td>\n",
       "      <td>20</td>\n",
       "      <td>NaN</td>\n",
       "      <td>5</td>\n",
       "      <td>6</td>\n",
       "      <td>17169,0</td>\n",
       "      <td>1976</td>\n",
       "      <td>1000000000$</td>\n",
       "      <td>NaN</td>\n",
       "      <td>NaN</td>\n",
       "      <td>False</td>\n",
       "    </tr>\n",
       "    <tr>\n",
       "      <th>4</th>\n",
       "      <td>46</td>\n",
       "      <td>No</td>\n",
       "      <td>NaN</td>\n",
       "      <td>1319,0$</td>\n",
       "      <td>NaN</td>\n",
       "      <td>3</td>\n",
       "      <td>3</td>\n",
       "      <td>Technical Degree</td>\n",
       "      <td>1</td>\n",
       "      <td>NaN</td>\n",
       "      <td>...</td>\n",
       "      <td>19</td>\n",
       "      <td>NaN</td>\n",
       "      <td>2</td>\n",
       "      <td>8</td>\n",
       "      <td>NaN</td>\n",
       "      <td>1977</td>\n",
       "      <td>1000000000$</td>\n",
       "      <td>NaN</td>\n",
       "      <td>NaN</td>\n",
       "      <td>0</td>\n",
       "    </tr>\n",
       "    <tr>\n",
       "      <th>...</th>\n",
       "      <td>...</td>\n",
       "      <td>...</td>\n",
       "      <td>...</td>\n",
       "      <td>...</td>\n",
       "      <td>...</td>\n",
       "      <td>...</td>\n",
       "      <td>...</td>\n",
       "      <td>...</td>\n",
       "      <td>...</td>\n",
       "      <td>...</td>\n",
       "      <td>...</td>\n",
       "      <td>...</td>\n",
       "      <td>...</td>\n",
       "      <td>...</td>\n",
       "      <td>...</td>\n",
       "      <td>...</td>\n",
       "      <td>...</td>\n",
       "      <td>...</td>\n",
       "      <td>...</td>\n",
       "      <td>...</td>\n",
       "      <td>...</td>\n",
       "    </tr>\n",
       "    <tr>\n",
       "      <th>1609</th>\n",
       "      <td>36</td>\n",
       "      <td>Yes</td>\n",
       "      <td>travel_rarely</td>\n",
       "      <td>530,0$</td>\n",
       "      <td>NaN</td>\n",
       "      <td>3</td>\n",
       "      <td>1</td>\n",
       "      <td>Life Sciences</td>\n",
       "      <td>1</td>\n",
       "      <td>967,0</td>\n",
       "      <td>...</td>\n",
       "      <td>16</td>\n",
       "      <td>NaN</td>\n",
       "      <td>3</td>\n",
       "      <td>7</td>\n",
       "      <td>10325,0</td>\n",
       "      <td>1987</td>\n",
       "      <td>1000000000$</td>\n",
       "      <td>NaN</td>\n",
       "      <td>NaN</td>\n",
       "      <td>0</td>\n",
       "    </tr>\n",
       "    <tr>\n",
       "      <th>1610</th>\n",
       "      <td>45</td>\n",
       "      <td>No</td>\n",
       "      <td>non-travel</td>\n",
       "      <td>805,0$</td>\n",
       "      <td>NaN</td>\n",
       "      <td>4</td>\n",
       "      <td>2</td>\n",
       "      <td>NaN</td>\n",
       "      <td>1</td>\n",
       "      <td>972,0</td>\n",
       "      <td>...</td>\n",
       "      <td>9</td>\n",
       "      <td>NaN</td>\n",
       "      <td>0</td>\n",
       "      <td>8</td>\n",
       "      <td>4447,0</td>\n",
       "      <td>1978</td>\n",
       "      <td>1000000000$</td>\n",
       "      <td>NaN</td>\n",
       "      <td>NaN</td>\n",
       "      <td>1</td>\n",
       "    </tr>\n",
       "    <tr>\n",
       "      <th>1611</th>\n",
       "      <td>39</td>\n",
       "      <td>No</td>\n",
       "      <td>travel_rarely</td>\n",
       "      <td>903,0$</td>\n",
       "      <td>NaN</td>\n",
       "      <td>-13</td>\n",
       "      <td>5</td>\n",
       "      <td>NaN</td>\n",
       "      <td>1</td>\n",
       "      <td>NaN</td>\n",
       "      <td>...</td>\n",
       "      <td>8</td>\n",
       "      <td>NaN</td>\n",
       "      <td>0</td>\n",
       "      <td>7</td>\n",
       "      <td>NaN</td>\n",
       "      <td>1984</td>\n",
       "      <td>1000000000$</td>\n",
       "      <td>NaN</td>\n",
       "      <td>NaN</td>\n",
       "      <td>Yes</td>\n",
       "    </tr>\n",
       "    <tr>\n",
       "      <th>1612</th>\n",
       "      <td>36</td>\n",
       "      <td>No</td>\n",
       "      <td>non-travel</td>\n",
       "      <td>1229,0$</td>\n",
       "      <td>NaN</td>\n",
       "      <td>8</td>\n",
       "      <td>4</td>\n",
       "      <td>Technical Degree</td>\n",
       "      <td>1</td>\n",
       "      <td>990,0</td>\n",
       "      <td>...</td>\n",
       "      <td>7</td>\n",
       "      <td>NaN</td>\n",
       "      <td>0</td>\n",
       "      <td>7</td>\n",
       "      <td>NaN</td>\n",
       "      <td>1987</td>\n",
       "      <td>1000000000$</td>\n",
       "      <td>NaN</td>\n",
       "      <td>NaN</td>\n",
       "      <td>True</td>\n",
       "    </tr>\n",
       "    <tr>\n",
       "      <th>1613</th>\n",
       "      <td>46</td>\n",
       "      <td>No</td>\n",
       "      <td>NaN</td>\n",
       "      <td>566,0$</td>\n",
       "      <td>NaN</td>\n",
       "      <td>7</td>\n",
       "      <td>2</td>\n",
       "      <td>Medical</td>\n",
       "      <td>1</td>\n",
       "      <td>NaN</td>\n",
       "      <td>...</td>\n",
       "      <td>8</td>\n",
       "      <td>NaN</td>\n",
       "      <td>0</td>\n",
       "      <td>7</td>\n",
       "      <td>10845,0</td>\n",
       "      <td>1977</td>\n",
       "      <td>1000000000$</td>\n",
       "      <td>NaN</td>\n",
       "      <td>NaN</td>\n",
       "      <td>0</td>\n",
       "    </tr>\n",
       "  </tbody>\n",
       "</table>\n",
       "<p>1614 rows × 41 columns</p>\n",
       "</div>"
      ],
      "text/plain": [
       "     Age Attrition BusinessTravel DailyRate                Department  \\\n",
       "0     51        No            NaN    684,0$                       NaN   \n",
       "1     52        No            NaN    699,0$                       NaN   \n",
       "2     42        No  travel_rarely    532,0$   Research & Development    \n",
       "3     47        No  travel_rarely    359,0$                       NaN   \n",
       "4     46        No            NaN   1319,0$                       NaN   \n",
       "...   ..       ...            ...       ...                       ...   \n",
       "1609  36       Yes  travel_rarely    530,0$                       NaN   \n",
       "1610  45        No     non-travel    805,0$                       NaN   \n",
       "1611  39        No  travel_rarely    903,0$                       NaN   \n",
       "1612  36        No     non-travel   1229,0$                       NaN   \n",
       "1613  46        No            NaN    566,0$                       NaN   \n",
       "\n",
       "      DistanceFromHome  Education    EducationField  employeecount  \\\n",
       "0                    6          3               NaN              1   \n",
       "1                    1          4     Life Sciences              1   \n",
       "2                    4          2  Technical Degree              1   \n",
       "3                    2          4           Medical              1   \n",
       "4                    3          3  Technical Degree              1   \n",
       "...                ...        ...               ...            ...   \n",
       "1609                 3          1     Life Sciences              1   \n",
       "1610                 4          2               NaN              1   \n",
       "1611               -13          5               NaN              1   \n",
       "1612                 8          4  Technical Degree              1   \n",
       "1613                 7          2           Medical              1   \n",
       "\n",
       "     employeenumber  ...  YearsAtCompany  YearsInCurrentRole  \\\n",
       "0             162,0  ...              20                 NaN   \n",
       "1             259,0  ...              33                 NaN   \n",
       "2             319,0  ...              22                 NaN   \n",
       "3               NaN  ...              20                 NaN   \n",
       "4               NaN  ...              19                 NaN   \n",
       "...             ...  ...             ...                 ...   \n",
       "1609          967,0  ...              16                 NaN   \n",
       "1610          972,0  ...               9                 NaN   \n",
       "1611            NaN  ...               8                 NaN   \n",
       "1612          990,0  ...               7                 NaN   \n",
       "1613            NaN  ...               8                 NaN   \n",
       "\n",
       "     YearsSinceLastPromotion  YEARSWITHCURRMANAGER  SameAsMonthlyIncome  \\\n",
       "0                         15                    15              19537,0   \n",
       "1                         11                     9              19999,0   \n",
       "2                         11                    15              19232,0   \n",
       "3                          5                     6              17169,0   \n",
       "4                          2                     8                  NaN   \n",
       "...                      ...                   ...                  ...   \n",
       "1609                       3                     7              10325,0   \n",
       "1610                       0                     8               4447,0   \n",
       "1611                       0                     7                  NaN   \n",
       "1612                       0                     7                  NaN   \n",
       "1613                       0                     7              10845,0   \n",
       "\n",
       "     DateBirth       Salary                       RoleDepartament  \\\n",
       "0         1972  1000000000$                                   NaN   \n",
       "1         1971  1000000000$                                   NaN   \n",
       "2         1981  1000000000$   ManaGER  -  Research & Development    \n",
       "3         1976  1000000000$                                   NaN   \n",
       "4         1977  1000000000$                                   NaN   \n",
       "...        ...          ...                                   ...   \n",
       "1609      1987  1000000000$                                   NaN   \n",
       "1610      1978  1000000000$                                   NaN   \n",
       "1611      1984  1000000000$                                   NaN   \n",
       "1612      1987  1000000000$                                   NaN   \n",
       "1613      1977  1000000000$                                   NaN   \n",
       "\n",
       "     NUMBERCHILDREN  RemoteWork  \n",
       "0               NaN         Yes  \n",
       "1               NaN           1  \n",
       "2               NaN           1  \n",
       "3               NaN       False  \n",
       "4               NaN           0  \n",
       "...             ...         ...  \n",
       "1609            NaN           0  \n",
       "1610            NaN           1  \n",
       "1611            NaN         Yes  \n",
       "1612            NaN        True  \n",
       "1613            NaN           0  \n",
       "\n",
       "[1614 rows x 41 columns]"
      ]
     },
     "execution_count": 2,
     "metadata": {},
     "output_type": "execute_result"
    }
   ],
   "source": [
    "data = pd.read_csv ('../../files/HR_RAW_DATA.csv', index_col = 0)\n",
    "data"
   ]
  },
  {
   "cell_type": "code",
   "execution_count": 3,
   "metadata": {},
   "outputs": [
    {
     "data": {
      "text/plain": [
       "Index(['Age', 'Attrition', 'BusinessTravel', 'DailyRate', 'Department',\n",
       "       'DistanceFromHome', 'Education', 'EducationField', 'employeecount',\n",
       "       'employeenumber', 'EnvironmentSatisfaction', 'Gender', 'HourlyRate',\n",
       "       'JobInvolvement', 'JobLevel', 'JobRole', 'JobSatisfaction',\n",
       "       'MaritalStatus', 'MonthlyIncome', 'MonthlyRate', 'NUMCOMPANIESWORKED',\n",
       "       'Over18', 'OverTime', 'PercentSalaryHike', 'PerformanceRating',\n",
       "       'RelationshipSatisfaction', 'StandardHours', 'StockOptionLevel',\n",
       "       'TOTALWORKINGYEARS', 'TrainingTimesLastYear', 'WORKLIFEBALANCE',\n",
       "       'YearsAtCompany', 'YearsInCurrentRole', 'YearsSinceLastPromotion',\n",
       "       'YEARSWITHCURRMANAGER', 'SameAsMonthlyIncome', 'DateBirth', 'Salary',\n",
       "       'RoleDepartament', 'NUMBERCHILDREN', 'RemoteWork'],\n",
       "      dtype='object')"
      ]
     },
     "execution_count": 3,
     "metadata": {},
     "output_type": "execute_result"
    }
   ],
   "source": [
    "data.columns"
   ]
  },
  {
   "cell_type": "code",
   "execution_count": 4,
   "metadata": {},
   "outputs": [
    {
     "data": {
      "text/html": [
       "<div>\n",
       "<style scoped>\n",
       "    .dataframe tbody tr th:only-of-type {\n",
       "        vertical-align: middle;\n",
       "    }\n",
       "\n",
       "    .dataframe tbody tr th {\n",
       "        vertical-align: top;\n",
       "    }\n",
       "\n",
       "    .dataframe thead th {\n",
       "        text-align: right;\n",
       "    }\n",
       "</style>\n",
       "<table border=\"1\" class=\"dataframe\">\n",
       "  <thead>\n",
       "    <tr style=\"text-align: right;\">\n",
       "      <th></th>\n",
       "      <th>EnvironmentSatisfaction</th>\n",
       "      <th>JobSatisfaction</th>\n",
       "      <th>RelationshipSatisfaction</th>\n",
       "      <th>WORKLIFEBALANCE</th>\n",
       "      <th>JobInvolvement</th>\n",
       "      <th>PerformanceRating</th>\n",
       "    </tr>\n",
       "  </thead>\n",
       "  <tbody>\n",
       "    <tr>\n",
       "      <th>0</th>\n",
       "      <td>1</td>\n",
       "      <td>3</td>\n",
       "      <td>3</td>\n",
       "      <td>3,0</td>\n",
       "      <td>3</td>\n",
       "      <td>3,0</td>\n",
       "    </tr>\n",
       "    <tr>\n",
       "      <th>1</th>\n",
       "      <td>3</td>\n",
       "      <td>3</td>\n",
       "      <td>1</td>\n",
       "      <td>3,0</td>\n",
       "      <td>2</td>\n",
       "      <td>3,0</td>\n",
       "    </tr>\n",
       "    <tr>\n",
       "      <th>2</th>\n",
       "      <td>3</td>\n",
       "      <td>4</td>\n",
       "      <td>4</td>\n",
       "      <td>NaN</td>\n",
       "      <td>3</td>\n",
       "      <td>3,0</td>\n",
       "    </tr>\n",
       "    <tr>\n",
       "      <th>3</th>\n",
       "      <td>1</td>\n",
       "      <td>3</td>\n",
       "      <td>2</td>\n",
       "      <td>NaN</td>\n",
       "      <td>3</td>\n",
       "      <td>3,0</td>\n",
       "    </tr>\n",
       "    <tr>\n",
       "      <th>4</th>\n",
       "      <td>1</td>\n",
       "      <td>1</td>\n",
       "      <td>4</td>\n",
       "      <td>3,0</td>\n",
       "      <td>4</td>\n",
       "      <td>3,0</td>\n",
       "    </tr>\n",
       "    <tr>\n",
       "      <th>...</th>\n",
       "      <td>...</td>\n",
       "      <td>...</td>\n",
       "      <td>...</td>\n",
       "      <td>...</td>\n",
       "      <td>...</td>\n",
       "      <td>...</td>\n",
       "    </tr>\n",
       "    <tr>\n",
       "      <th>1609</th>\n",
       "      <td>3</td>\n",
       "      <td>4</td>\n",
       "      <td>1</td>\n",
       "      <td>3,0</td>\n",
       "      <td>2</td>\n",
       "      <td>NaN</td>\n",
       "    </tr>\n",
       "    <tr>\n",
       "      <th>1610</th>\n",
       "      <td>3</td>\n",
       "      <td>2</td>\n",
       "      <td>2</td>\n",
       "      <td>2,0</td>\n",
       "      <td>3</td>\n",
       "      <td>3,0</td>\n",
       "    </tr>\n",
       "    <tr>\n",
       "      <th>1611</th>\n",
       "      <td>13</td>\n",
       "      <td>3</td>\n",
       "      <td>4</td>\n",
       "      <td>3,0</td>\n",
       "      <td>4</td>\n",
       "      <td>3,0</td>\n",
       "    </tr>\n",
       "    <tr>\n",
       "      <th>1612</th>\n",
       "      <td>1</td>\n",
       "      <td>4</td>\n",
       "      <td>4</td>\n",
       "      <td>3,0</td>\n",
       "      <td>3</td>\n",
       "      <td>NaN</td>\n",
       "    </tr>\n",
       "    <tr>\n",
       "      <th>1613</th>\n",
       "      <td>4</td>\n",
       "      <td>3</td>\n",
       "      <td>2</td>\n",
       "      <td>3,0</td>\n",
       "      <td>3</td>\n",
       "      <td>3,0</td>\n",
       "    </tr>\n",
       "  </tbody>\n",
       "</table>\n",
       "<p>1614 rows × 6 columns</p>\n",
       "</div>"
      ],
      "text/plain": [
       "      EnvironmentSatisfaction  JobSatisfaction  RelationshipSatisfaction  \\\n",
       "0                           1                3                         3   \n",
       "1                           3                3                         1   \n",
       "2                           3                4                         4   \n",
       "3                           1                3                         2   \n",
       "4                           1                1                         4   \n",
       "...                       ...              ...                       ...   \n",
       "1609                        3                4                         1   \n",
       "1610                        3                2                         2   \n",
       "1611                       13                3                         4   \n",
       "1612                        1                4                         4   \n",
       "1613                        4                3                         2   \n",
       "\n",
       "     WORKLIFEBALANCE  JobInvolvement PerformanceRating  \n",
       "0                3,0               3               3,0  \n",
       "1                3,0               2               3,0  \n",
       "2                NaN               3               3,0  \n",
       "3                NaN               3               3,0  \n",
       "4                3,0               4               3,0  \n",
       "...              ...             ...               ...  \n",
       "1609             3,0               2               NaN  \n",
       "1610             2,0               3               3,0  \n",
       "1611             3,0               4               3,0  \n",
       "1612             3,0               3               NaN  \n",
       "1613             3,0               3               3,0  \n",
       "\n",
       "[1614 rows x 6 columns]"
      ]
     },
     "execution_count": 4,
     "metadata": {},
     "output_type": "execute_result"
    }
   ],
   "source": [
    "surveys = data.loc [:, ['EnvironmentSatisfaction', 'JobSatisfaction', 'RelationshipSatisfaction', 'WORKLIFEBALANCE', 'JobInvolvement', 'PerformanceRating' ]]\n",
    "surveys "
   ]
  },
  {
   "cell_type": "code",
   "execution_count": 5,
   "metadata": {},
   "outputs": [
    {
     "name": "stdout",
     "output_type": "stream",
     "text": [
      "<class 'pandas.core.frame.DataFrame'>\n",
      "Int64Index: 1614 entries, 0 to 1613\n",
      "Data columns (total 6 columns):\n",
      " #   Column                    Non-Null Count  Dtype \n",
      "---  ------                    --------------  ----- \n",
      " 0   EnvironmentSatisfaction   1614 non-null   int64 \n",
      " 1   JobSatisfaction           1614 non-null   int64 \n",
      " 2   RelationshipSatisfaction  1614 non-null   int64 \n",
      " 3   WORKLIFEBALANCE           1506 non-null   object\n",
      " 4   JobInvolvement            1614 non-null   int64 \n",
      " 5   PerformanceRating         1419 non-null   object\n",
      "dtypes: int64(4), object(2)\n",
      "memory usage: 88.3+ KB\n"
     ]
    }
   ],
   "source": [
    "surveys.info()"
   ]
  },
  {
   "cell_type": "markdown",
   "metadata": {},
   "source": [
    "## 'employeenumber'"
   ]
  },
  {
   "cell_type": "code",
   "execution_count": 6,
   "metadata": {},
   "outputs": [],
   "source": [
    "#como es una columna primary key en común con otras tablas, lo haremos de acuerdo con el resto de compañeras"
   ]
  },
  {
   "cell_type": "markdown",
   "metadata": {},
   "source": [
    "## 'EnvironmentSatisfaction'\n",
    "Nivel de satisfacción del empleado en relación con su entorno de trabajo. Con valores que estan comprendidos entre el 1 y el 4, siendo el 4 el nivel de máxima satisfacción."
   ]
  },
  {
   "cell_type": "code",
   "execution_count": 7,
   "metadata": {},
   "outputs": [
    {
     "data": {
      "text/plain": [
       "count    1614.000000\n",
       "mean        4.294919\n",
       "std         6.993559\n",
       "min         1.000000\n",
       "25%         2.000000\n",
       "50%         3.000000\n",
       "75%         4.000000\n",
       "max        49.000000\n",
       "Name: EnvironmentSatisfaction, dtype: float64"
      ]
     },
     "execution_count": 7,
     "metadata": {},
     "output_type": "execute_result"
    }
   ],
   "source": [
    "surveys ['EnvironmentSatisfaction'].describe().T\n",
    "#variable numérica"
   ]
  },
  {
   "cell_type": "code",
   "execution_count": 8,
   "metadata": {},
   "outputs": [
    {
     "data": {
      "text/plain": [
       "0"
      ]
     },
     "execution_count": 8,
     "metadata": {},
     "output_type": "execute_result"
    }
   ],
   "source": [
    "surveys ['EnvironmentSatisfaction'].isnull().sum()\n",
    "#no hay nulos"
   ]
  },
  {
   "cell_type": "code",
   "execution_count": 9,
   "metadata": {},
   "outputs": [
    {
     "data": {
      "text/plain": [
       "array([ 1,  3,  4,  2, 42, 37, 35, 25, 27, 31, 39, 21, 15, 14, 33, 19, 12,\n",
       "       13, 28, 47, 36, 29, 24, 46, 16, 22, 41, 49, 11, 48, 18, 10, 45, 38,\n",
       "       17, 20, 26, 43])"
      ]
     },
     "execution_count": 9,
     "metadata": {},
     "output_type": "execute_result"
    }
   ],
   "source": [
    "surveys['EnvironmentSatisfaction'].unique()\n",
    "# los valores están descritos del 1 al 50, no del 1 al 4. Probablemente sea porque lo han querido hacer como decimal pero no le han puesto el . \n",
    "# no podemos sacar conclusiones con los datos de esta manera"
   ]
  },
  {
   "cell_type": "code",
   "execution_count": 10,
   "metadata": {},
   "outputs": [
    {
     "name": "stdout",
     "output_type": "stream",
     "text": [
      "[1, 1, 1, 1, 4, 3, 3, 2, 3, 3, 4, 2, 2, 2, 3, 2, 1, 1, 3, 4, 3, 3, 2, 4, 2, 2, 4, 4, 1, 4, 2, 1, 4, 4, 2, 2, 3, 4]\n"
     ]
    }
   ],
   "source": [
    "#vamos a transformar estos datos de satisfacción a una escala del 1 al 4 para unificar con el resto de columnas. Para ello hacemos un bucle for. \n",
    "environment_satisfaction = [1, 3, 4, 2, 42, 37, 35, 25, 27, 31, 39, 21, 15, 14, 33, 19, 12,\n",
    "                13, 28, 47, 36, 29, 24, 46, 16, 22, 41, 49, 11, 48, 18, 10, 45, 38,\n",
    "                17, 20, 26, 43]\n",
    "\n",
    "nueva_satisfaccion = []\n",
    "\n",
    "for valor in environment_satisfaction:\n",
    "    nueva_valor = ((valor - 1) * 4) // 49 + 1\n",
    "    nueva_satisfaccion.append(nueva_valor)\n",
    "\n",
    "print (nueva_satisfaccion)"
   ]
  },
  {
   "cell_type": "markdown",
   "metadata": {},
   "source": [
    "Vamos a categorizar la columna `EnvironmentSatisfaction` para conseguir las siguientes categorías:\n",
    "\n",
    "\n",
    "- 1 (insatisfecho): puntuación del 1 al 13\n",
    "\n",
    "- 2 (poco satisfecho): puntuación del 14 al 25\n",
    "\n",
    "- 3 (satisfecho): puntuación del 26 al 37\n",
    "\n",
    "- 4 (muy satisfecho): puntuación del 38 al 49"
   ]
  },
  {
   "cell_type": "code",
   "execution_count": 11,
   "metadata": {},
   "outputs": [],
   "source": [
    "# lo primero que vamos a hacer es crear una función que reciba un número y nos devuelva a qué categoría pertenece\n",
    "\n",
    "def categorizar_environment(numero):\n",
    "    \n",
    "   \n",
    "    if numero >=1 and numero <= 13:\n",
    "        return 1\n",
    "    \n",
    "    elif numero >= 14 and numero <= 25:\n",
    "        return 2\n",
    "\n",
    "    elif numero >= 26 and numero <= 37:\n",
    "        return 3\n",
    "    \n",
    "    else:\n",
    "        return 4\n",
    "    "
   ]
  },
  {
   "cell_type": "code",
   "execution_count": 12,
   "metadata": {},
   "outputs": [],
   "source": [
    "#llamamos a la función creada\n",
    "surveys['EnvironmentSatisfaction'] = surveys['EnvironmentSatisfaction'].apply(categorizar_environment)"
   ]
  },
  {
   "cell_type": "code",
   "execution_count": 13,
   "metadata": {},
   "outputs": [
    {
     "data": {
      "text/plain": [
       "array([1, 4, 3, 2])"
      ]
     },
     "execution_count": 13,
     "metadata": {},
     "output_type": "execute_result"
    }
   ],
   "source": [
    "surveys['EnvironmentSatisfaction'].unique()\n",
    "#ya tenemos nuestra columna con valores intuitivos y normalizados que podemos utilizar"
   ]
  },
  {
   "cell_type": "markdown",
   "metadata": {},
   "source": [
    "## 'JobSatisfaction'\n",
    "Nivel de satisfacción del empleado con su trabajo."
   ]
  },
  {
   "cell_type": "code",
   "execution_count": 14,
   "metadata": {},
   "outputs": [
    {
     "data": {
      "text/plain": [
       "count    1614.000000\n",
       "mean        2.738538\n",
       "std         1.106163\n",
       "min         1.000000\n",
       "25%         2.000000\n",
       "50%         3.000000\n",
       "75%         4.000000\n",
       "max         4.000000\n",
       "Name: JobSatisfaction, dtype: float64"
      ]
     },
     "execution_count": 14,
     "metadata": {},
     "output_type": "execute_result"
    }
   ],
   "source": [
    "surveys ['JobSatisfaction'].describe().T\n",
    "#variable numérica"
   ]
  },
  {
   "cell_type": "code",
   "execution_count": 15,
   "metadata": {},
   "outputs": [
    {
     "data": {
      "text/plain": [
       "0"
      ]
     },
     "execution_count": 15,
     "metadata": {},
     "output_type": "execute_result"
    }
   ],
   "source": [
    "surveys ['JobSatisfaction'].isnull().sum()\n",
    "#no tenemos valores nulos "
   ]
  },
  {
   "cell_type": "code",
   "execution_count": 16,
   "metadata": {},
   "outputs": [
    {
     "data": {
      "text/plain": [
       "array([3, 4, 1, 2])"
      ]
     },
     "execution_count": 16,
     "metadata": {},
     "output_type": "execute_result"
    }
   ],
   "source": [
    "surveys['JobSatisfaction'].unique()\n",
    "#en este caso los valores están correctos, ya que están clasificados del 1 al 4"
   ]
  },
  {
   "cell_type": "markdown",
   "metadata": {},
   "source": [
    "## 'RelationshipSatisfaction'\n",
    "Nivel de satisfacción en las relaciones interpersonales del empleado."
   ]
  },
  {
   "cell_type": "code",
   "execution_count": 17,
   "metadata": {},
   "outputs": [
    {
     "data": {
      "text/plain": [
       "array([3, 1, 4, 2])"
      ]
     },
     "execution_count": 17,
     "metadata": {},
     "output_type": "execute_result"
    }
   ],
   "source": [
    "surveys['RelationshipSatisfaction'].unique()\n",
    "#en este caso los valores están correctos, ya que están clasificados del 1 al 4"
   ]
  },
  {
   "cell_type": "code",
   "execution_count": 18,
   "metadata": {},
   "outputs": [
    {
     "data": {
      "text/plain": [
       "count    1614.000000\n",
       "mean        2.704461\n",
       "std         1.079031\n",
       "min         1.000000\n",
       "25%         2.000000\n",
       "50%         3.000000\n",
       "75%         4.000000\n",
       "max         4.000000\n",
       "Name: RelationshipSatisfaction, dtype: float64"
      ]
     },
     "execution_count": 18,
     "metadata": {},
     "output_type": "execute_result"
    }
   ],
   "source": [
    "surveys ['RelationshipSatisfaction'].describe().T\n",
    "#variable numérica "
   ]
  },
  {
   "cell_type": "code",
   "execution_count": 19,
   "metadata": {},
   "outputs": [
    {
     "data": {
      "text/plain": [
       "0"
      ]
     },
     "execution_count": 19,
     "metadata": {},
     "output_type": "execute_result"
    }
   ],
   "source": [
    "surveys ['RelationshipSatisfaction'].isnull().sum()"
   ]
  },
  {
   "cell_type": "markdown",
   "metadata": {},
   "source": [
    "## 'WORKLIFEBALANCE'\n",
    "Equilibrio entre trabajo y vida personal del empleado."
   ]
  },
  {
   "cell_type": "code",
   "execution_count": 20,
   "metadata": {},
   "outputs": [
    {
     "data": {
      "text/plain": [
       "count     1506\n",
       "unique       4\n",
       "top        3,0\n",
       "freq       913\n",
       "Name: WORKLIFEBALANCE, dtype: object"
      ]
     },
     "execution_count": 20,
     "metadata": {},
     "output_type": "execute_result"
    }
   ],
   "source": [
    "surveys['WORKLIFEBALANCE'].describe().T\n",
    "#variable categórica"
   ]
  },
  {
   "cell_type": "code",
   "execution_count": 21,
   "metadata": {},
   "outputs": [
    {
     "data": {
      "text/plain": [
       "array(['3,0', nan, '2,0', '4,0', '1,0'], dtype=object)"
      ]
     },
     "execution_count": 21,
     "metadata": {},
     "output_type": "execute_result"
    }
   ],
   "source": [
    "surveys['WORKLIFEBALANCE'].unique()\n",
    "# hay que unificar con las demás"
   ]
  },
  {
   "cell_type": "code",
   "execution_count": 22,
   "metadata": {},
   "outputs": [
    {
     "data": {
      "text/plain": [
       "108"
      ]
     },
     "execution_count": 22,
     "metadata": {},
     "output_type": "execute_result"
    }
   ],
   "source": [
    "surveys['WORKLIFEBALANCE'].isnull().sum()\n",
    "#108 nulas que si sumamos a las 1506, dan el total de filas."
   ]
  },
  {
   "cell_type": "code",
   "execution_count": 23,
   "metadata": {},
   "outputs": [
    {
     "data": {
      "text/plain": [
       "6.691449814126393"
      ]
     },
     "execution_count": 23,
     "metadata": {},
     "output_type": "execute_result"
    }
   ],
   "source": [
    "surveys['WORKLIFEBALANCE'].isna().sum()/surveys['WORKLIFEBALANCE'].shape[0]*100\n",
    "#tenemos un 7% de nulos"
   ]
  },
  {
   "cell_type": "markdown",
   "metadata": {},
   "source": [
    "## 'JobInvolvement'\n",
    "Nivel de implicación del empleado en su trabajo."
   ]
  },
  {
   "cell_type": "code",
   "execution_count": 24,
   "metadata": {},
   "outputs": [
    {
     "data": {
      "text/plain": [
       "count    1614.000000\n",
       "mean        2.739777\n",
       "std         0.711567\n",
       "min         1.000000\n",
       "25%         2.000000\n",
       "50%         3.000000\n",
       "75%         3.000000\n",
       "max         4.000000\n",
       "Name: JobInvolvement, dtype: float64"
      ]
     },
     "execution_count": 24,
     "metadata": {},
     "output_type": "execute_result"
    }
   ],
   "source": [
    "surveys['JobInvolvement'].describe().T\n",
    "#variable numérica"
   ]
  },
  {
   "cell_type": "code",
   "execution_count": 25,
   "metadata": {},
   "outputs": [
    {
     "data": {
      "text/plain": [
       "array([3, 2, 4, 1])"
      ]
     },
     "execution_count": 25,
     "metadata": {},
     "output_type": "execute_result"
    }
   ],
   "source": [
    "surveys['JobInvolvement'].unique()\n",
    "# correctos: del 1 al 4 "
   ]
  },
  {
   "cell_type": "code",
   "execution_count": 26,
   "metadata": {},
   "outputs": [
    {
     "data": {
      "text/plain": [
       "0"
      ]
     },
     "execution_count": 26,
     "metadata": {},
     "output_type": "execute_result"
    }
   ],
   "source": [
    "surveys['JobInvolvement'].isnull().sum()\n",
    "#no tenemos nulos"
   ]
  },
  {
   "cell_type": "markdown",
   "metadata": {},
   "source": [
    "## 'PerformanceRating'\n",
    "Calificación de rendimiento del empleado."
   ]
  },
  {
   "cell_type": "code",
   "execution_count": 27,
   "metadata": {},
   "outputs": [
    {
     "data": {
      "text/plain": [
       "count     1419\n",
       "unique       2\n",
       "top        3,0\n",
       "freq      1205\n",
       "Name: PerformanceRating, dtype: object"
      ]
     },
     "execution_count": 27,
     "metadata": {},
     "output_type": "execute_result"
    }
   ],
   "source": [
    "surveys['PerformanceRating'].describe().T\n",
    "#variable categórica"
   ]
  },
  {
   "cell_type": "code",
   "execution_count": 28,
   "metadata": {},
   "outputs": [
    {
     "data": {
      "text/plain": [
       "array(['3,0', '4,0', nan], dtype=object)"
      ]
     },
     "execution_count": 28,
     "metadata": {},
     "output_type": "execute_result"
    }
   ],
   "source": [
    "surveys['PerformanceRating'].unique()\n",
    "#sólo tenemos valores 3 y 4"
   ]
  },
  {
   "cell_type": "code",
   "execution_count": 29,
   "metadata": {},
   "outputs": [
    {
     "data": {
      "text/plain": [
       "195"
      ]
     },
     "execution_count": 29,
     "metadata": {},
     "output_type": "execute_result"
    }
   ],
   "source": [
    "surveys['PerformanceRating'].isnull().sum()\n",
    "#tenemos 195 nulos "
   ]
  },
  {
   "cell_type": "code",
   "execution_count": 30,
   "metadata": {},
   "outputs": [
    {
     "data": {
      "text/plain": [
       "12.0817843866171"
      ]
     },
     "execution_count": 30,
     "metadata": {},
     "output_type": "execute_result"
    }
   ],
   "source": [
    "surveys['PerformanceRating'].isna().sum()/surveys['PerformanceRating'].shape[0]*100\n",
    "#tenemos un 12% de nulos"
   ]
  },
  {
   "cell_type": "markdown",
   "metadata": {},
   "source": [
    "## gestión de nulos"
   ]
  },
  {
   "cell_type": "code",
   "execution_count": 31,
   "metadata": {},
   "outputs": [
    {
     "data": {
      "text/plain": [
       "EnvironmentSatisfaction      0.000000\n",
       "JobSatisfaction              0.000000\n",
       "RelationshipSatisfaction     0.000000\n",
       "WORKLIFEBALANCE              6.691450\n",
       "JobInvolvement               0.000000\n",
       "PerformanceRating           12.081784\n",
       "dtype: float64"
      ]
     },
     "execution_count": 31,
     "metadata": {},
     "output_type": "execute_result"
    }
   ],
   "source": [
    "# lo primero que vamos a hacer es calcular el porcentaje de nulos que tenemos para cada columna\n",
    "surveys.isna().sum()/surveys.shape[0]*100"
   ]
  },
  {
   "cell_type": "code",
   "execution_count": 32,
   "metadata": {},
   "outputs": [
    {
     "data": {
      "text/html": [
       "<div>\n",
       "<style scoped>\n",
       "    .dataframe tbody tr th:only-of-type {\n",
       "        vertical-align: middle;\n",
       "    }\n",
       "\n",
       "    .dataframe tbody tr th {\n",
       "        vertical-align: top;\n",
       "    }\n",
       "\n",
       "    .dataframe thead th {\n",
       "        text-align: right;\n",
       "    }\n",
       "</style>\n",
       "<table border=\"1\" class=\"dataframe\">\n",
       "  <thead>\n",
       "    <tr style=\"text-align: right;\">\n",
       "      <th></th>\n",
       "      <th>%_nulos</th>\n",
       "    </tr>\n",
       "  </thead>\n",
       "  <tbody>\n",
       "    <tr>\n",
       "      <th>WORKLIFEBALANCE</th>\n",
       "      <td>6.691450</td>\n",
       "    </tr>\n",
       "    <tr>\n",
       "      <th>PerformanceRating</th>\n",
       "      <td>12.081784</td>\n",
       "    </tr>\n",
       "  </tbody>\n",
       "</table>\n",
       "</div>"
      ],
      "text/plain": [
       "                     %_nulos\n",
       "WORKLIFEBALANCE     6.691450\n",
       "PerformanceRating  12.081784"
      ]
     },
     "execution_count": 32,
     "metadata": {},
     "output_type": "execute_result"
    }
   ],
   "source": [
    "# lo convertimos a DataFrame\n",
    "df_nulos = pd.DataFrame(surveys.isna().sum()/surveys.shape[0]*100, columns = [\"%_nulos\"])\n",
    "\n",
    "# filtramos el DataFrame para quedarnos solo con aquellas columnas que tengan nulos\n",
    "df_nulos[df_nulos[\"%_nulos\"] > 0]"
   ]
  },
  {
   "cell_type": "code",
   "execution_count": 33,
   "metadata": {},
   "outputs": [
    {
     "name": "stdout",
     "output_type": "stream",
     "text": [
      "Las columnas categóricas que tienen nulos son : \n",
      " \n",
      "Index(['WORKLIFEBALANCE', 'PerformanceRating'], dtype='object')\n"
     ]
    }
   ],
   "source": [
    "# Obtenemos la lista de columnas categóricas que tienen nulos\n",
    "nulos_esta_cat = surveys[surveys.columns[surveys.isnull().any()]].select_dtypes(include = \"O\").columns\n",
    "print(\"Las columnas categóricas que tienen nulos son : \\n \")\n",
    "print(nulos_esta_cat)"
   ]
  },
  {
   "cell_type": "code",
   "execution_count": 34,
   "metadata": {},
   "outputs": [
    {
     "name": "stdout",
     "output_type": "stream",
     "text": [
      "La distribución de las categorías para la columna WORKLIFEBALANCE\n"
     ]
    },
    {
     "data": {
      "text/plain": [
       "3,0    0.565675\n",
       "2,0    0.222429\n",
       "4,0    0.096035\n",
       "1,0    0.048947\n",
       "Name: WORKLIFEBALANCE, dtype: float64"
      ]
     },
     "metadata": {},
     "output_type": "display_data"
    },
    {
     "name": "stdout",
     "output_type": "stream",
     "text": [
      "........................\n",
      "La distribución de las categorías para la columna PERFORMANCERATING\n"
     ]
    },
    {
     "data": {
      "text/plain": [
       "3,0    0.746592\n",
       "4,0    0.132590\n",
       "Name: PerformanceRating, dtype: float64"
      ]
     },
     "metadata": {},
     "output_type": "display_data"
    },
    {
     "name": "stdout",
     "output_type": "stream",
     "text": [
      "........................\n"
     ]
    }
   ],
   "source": [
    "# sacamos el 'value_counts()' de cada una de las columnas categóricas que tienen nulos para saber como es la distribución de sus categorías\n",
    "for col in nulos_esta_cat:\n",
    "    print(f\"La distribución de las categorías para la columna {col.upper()}\")\n",
    "    display(surveys[col].value_counts() / surveys.shape[0])\n",
    "    print(\"........................\")"
   ]
  },
  {
   "cell_type": "markdown",
   "metadata": {},
   "source": [
    "- worklifebalance: el 56 % pertenecen a la categoría 3,0 por lo que optaremos por reemplazar los nulos por la categoría dominante o moda.\n",
    "\n",
    "- performancerating: el 74 % pertenecen a la categoría 3,0 por lo que optaremos por reemplazar los nulos por la categoría dominante o moda."
   ]
  },
  {
   "cell_type": "code",
   "execution_count": 35,
   "metadata": {},
   "outputs": [],
   "source": [
    "# creamos una lista con los nombres de las columnas que reemplazaremos por la moda.\n",
    "columnas_moda = ['WORKLIFEBALANCE', 'PerformanceRating']"
   ]
  },
  {
   "cell_type": "code",
   "execution_count": 36,
   "metadata": {},
   "outputs": [
    {
     "name": "stdout",
     "output_type": "stream",
     "text": [
      "Después del reemplazo usando 'fillna' quedan los siguientes nulos\n"
     ]
    },
    {
     "data": {
      "text/plain": [
       "WORKLIFEBALANCE      0\n",
       "PerformanceRating    0\n",
       "dtype: int64"
      ]
     },
     "execution_count": 36,
     "metadata": {},
     "output_type": "execute_result"
    }
   ],
   "source": [
    "# iteramos por la lista creada en el paso anterior:\n",
    "for columna in columnas_moda:\n",
    "    \n",
    "    # calculamos la moda para la columna por la que estamos iterando\n",
    "    moda = surveys[col].mode()[0]    \n",
    "    \n",
    "    # utilizando el método fillna reemplazamos los valores nulos por la moda calculada en el paso anterior. \n",
    "    surveys[columna] = surveys[columna].fillna(moda)\n",
    "\n",
    "# por último chequeamos si se han eliminado los nulos en las columnas \n",
    "print(\"Después del reemplazo usando 'fillna' quedan los siguientes nulos\")\n",
    "\n",
    "surveys[columnas_moda].isnull().sum()"
   ]
  },
  {
   "cell_type": "markdown",
   "metadata": {},
   "source": [
    "## transformamos las columnas categóricas a numéricas"
   ]
  },
  {
   "cell_type": "code",
   "execution_count": 37,
   "metadata": {},
   "outputs": [],
   "source": [
    "# transformamos las columnas categóricas a numéricas, que son también WORKLIFEBALANCE y PerformanceRating  "
   ]
  },
  {
   "cell_type": "code",
   "execution_count": 40,
   "metadata": {},
   "outputs": [
    {
     "ename": "AttributeError",
     "evalue": "'list' object has no attribute 'replace'",
     "output_type": "error",
     "traceback": [
      "\u001b[0;31m---------------------------------------------------------------------------\u001b[0m",
      "\u001b[0;31mAttributeError\u001b[0m                            Traceback (most recent call last)",
      "\u001b[0;32m/tmp/ipykernel_185172/276950048.py\u001b[0m in \u001b[0;36m<module>\u001b[0;34m\u001b[0m\n\u001b[1;32m      3\u001b[0m \u001b[0;32mfor\u001b[0m \u001b[0mnum\u001b[0m \u001b[0;32min\u001b[0m \u001b[0mnumeros\u001b[0m\u001b[0;34m:\u001b[0m\u001b[0;34m\u001b[0m\u001b[0;34m\u001b[0m\u001b[0m\n\u001b[1;32m      4\u001b[0m \u001b[0;34m\u001b[0m\u001b[0m\n\u001b[0;32m----> 5\u001b[0;31m     \u001b[0mnuevo_num\u001b[0m \u001b[0;34m=\u001b[0m \u001b[0mint\u001b[0m\u001b[0;34m(\u001b[0m\u001b[0mnumeros\u001b[0m\u001b[0;34m.\u001b[0m\u001b[0mreplace\u001b[0m\u001b[0;34m(\u001b[0m\u001b[0;34m',0'\u001b[0m\u001b[0;34m,\u001b[0m \u001b[0;34m''\u001b[0m\u001b[0;34m)\u001b[0m\u001b[0;34m)\u001b[0m\u001b[0;34m\u001b[0m\u001b[0;34m\u001b[0m\u001b[0m\n\u001b[0m\u001b[1;32m      6\u001b[0m     \u001b[0mnuevo_num\u001b[0m\u001b[0;34m\u001b[0m\u001b[0;34m\u001b[0m\u001b[0m\n",
      "\u001b[0;31mAttributeError\u001b[0m: 'list' object has no attribute 'replace'"
     ]
    }
   ],
   "source": [
    "numeros = ['3,0', '2,0', '4,0', '1,0']\n",
    "\n",
    "for num in numeros:\n",
    "\n",
    "    nuevo_num = int(numeros.replace(',0', ''))\n",
    "    nuevo_num"
   ]
  },
  {
   "cell_type": "code",
   "execution_count": 42,
   "metadata": {},
   "outputs": [
    {
     "data": {
      "text/html": [
       "<div>\n",
       "<style scoped>\n",
       "    .dataframe tbody tr th:only-of-type {\n",
       "        vertical-align: middle;\n",
       "    }\n",
       "\n",
       "    .dataframe tbody tr th {\n",
       "        vertical-align: top;\n",
       "    }\n",
       "\n",
       "    .dataframe thead th {\n",
       "        text-align: right;\n",
       "    }\n",
       "</style>\n",
       "<table border=\"1\" class=\"dataframe\">\n",
       "  <thead>\n",
       "    <tr style=\"text-align: right;\">\n",
       "      <th></th>\n",
       "      <th>EnvironmentSatisfaction</th>\n",
       "      <th>JobSatisfaction</th>\n",
       "      <th>RelationshipSatisfaction</th>\n",
       "      <th>WORKLIFEBALANCE</th>\n",
       "      <th>JobInvolvement</th>\n",
       "      <th>PerformanceRating</th>\n",
       "    </tr>\n",
       "  </thead>\n",
       "  <tbody>\n",
       "    <tr>\n",
       "      <th>0</th>\n",
       "      <td>1</td>\n",
       "      <td>3</td>\n",
       "      <td>3</td>\n",
       "      <td>3</td>\n",
       "      <td>3</td>\n",
       "      <td>3,0</td>\n",
       "    </tr>\n",
       "    <tr>\n",
       "      <th>1</th>\n",
       "      <td>1</td>\n",
       "      <td>3</td>\n",
       "      <td>1</td>\n",
       "      <td>3</td>\n",
       "      <td>2</td>\n",
       "      <td>3,0</td>\n",
       "    </tr>\n",
       "    <tr>\n",
       "      <th>2</th>\n",
       "      <td>1</td>\n",
       "      <td>4</td>\n",
       "      <td>4</td>\n",
       "      <td>3</td>\n",
       "      <td>3</td>\n",
       "      <td>3,0</td>\n",
       "    </tr>\n",
       "    <tr>\n",
       "      <th>3</th>\n",
       "      <td>1</td>\n",
       "      <td>3</td>\n",
       "      <td>2</td>\n",
       "      <td>3</td>\n",
       "      <td>3</td>\n",
       "      <td>3,0</td>\n",
       "    </tr>\n",
       "    <tr>\n",
       "      <th>4</th>\n",
       "      <td>1</td>\n",
       "      <td>1</td>\n",
       "      <td>4</td>\n",
       "      <td>3</td>\n",
       "      <td>4</td>\n",
       "      <td>3,0</td>\n",
       "    </tr>\n",
       "  </tbody>\n",
       "</table>\n",
       "</div>"
      ],
      "text/plain": [
       "   EnvironmentSatisfaction  JobSatisfaction  RelationshipSatisfaction  \\\n",
       "0                        1                3                         3   \n",
       "1                        1                3                         1   \n",
       "2                        1                4                         4   \n",
       "3                        1                3                         2   \n",
       "4                        1                1                         4   \n",
       "\n",
       "  WORKLIFEBALANCE  JobInvolvement PerformanceRating  \n",
       "0               3               3               3,0  \n",
       "1               3               2               3,0  \n",
       "2               3               3               3,0  \n",
       "3               3               3               3,0  \n",
       "4               3               4               3,0  "
      ]
     },
     "execution_count": 42,
     "metadata": {},
     "output_type": "execute_result"
    }
   ],
   "source": [
    "# en este caso vamos ha reemplazar los ',0' de la columnas por espacios vacios\n",
    "# vamos a almacenar los cambios de esta columna en la misma columna, vamos a sobreescribir sus valores\n",
    "surveys[\"WORKLIFEBALANCE\"] = surveys[\"WORKLIFEBALANCE\"].str.replace(\",0\", \"\")\n",
    "\n",
    "# chequeamos que el cambio se hizo correctamente\n",
    "surveys.head()"
   ]
  },
  {
   "cell_type": "code",
   "execution_count": 44,
   "metadata": {},
   "outputs": [
    {
     "data": {
      "text/html": [
       "<div>\n",
       "<style scoped>\n",
       "    .dataframe tbody tr th:only-of-type {\n",
       "        vertical-align: middle;\n",
       "    }\n",
       "\n",
       "    .dataframe tbody tr th {\n",
       "        vertical-align: top;\n",
       "    }\n",
       "\n",
       "    .dataframe thead th {\n",
       "        text-align: right;\n",
       "    }\n",
       "</style>\n",
       "<table border=\"1\" class=\"dataframe\">\n",
       "  <thead>\n",
       "    <tr style=\"text-align: right;\">\n",
       "      <th></th>\n",
       "      <th>EnvironmentSatisfaction</th>\n",
       "      <th>JobSatisfaction</th>\n",
       "      <th>RelationshipSatisfaction</th>\n",
       "      <th>WORKLIFEBALANCE</th>\n",
       "      <th>JobInvolvement</th>\n",
       "      <th>PerformanceRating</th>\n",
       "    </tr>\n",
       "  </thead>\n",
       "  <tbody>\n",
       "    <tr>\n",
       "      <th>0</th>\n",
       "      <td>1</td>\n",
       "      <td>3</td>\n",
       "      <td>3</td>\n",
       "      <td>3</td>\n",
       "      <td>3</td>\n",
       "      <td>3</td>\n",
       "    </tr>\n",
       "    <tr>\n",
       "      <th>1</th>\n",
       "      <td>1</td>\n",
       "      <td>3</td>\n",
       "      <td>1</td>\n",
       "      <td>3</td>\n",
       "      <td>2</td>\n",
       "      <td>3</td>\n",
       "    </tr>\n",
       "    <tr>\n",
       "      <th>2</th>\n",
       "      <td>1</td>\n",
       "      <td>4</td>\n",
       "      <td>4</td>\n",
       "      <td>3</td>\n",
       "      <td>3</td>\n",
       "      <td>3</td>\n",
       "    </tr>\n",
       "    <tr>\n",
       "      <th>3</th>\n",
       "      <td>1</td>\n",
       "      <td>3</td>\n",
       "      <td>2</td>\n",
       "      <td>3</td>\n",
       "      <td>3</td>\n",
       "      <td>3</td>\n",
       "    </tr>\n",
       "    <tr>\n",
       "      <th>4</th>\n",
       "      <td>1</td>\n",
       "      <td>1</td>\n",
       "      <td>4</td>\n",
       "      <td>3</td>\n",
       "      <td>4</td>\n",
       "      <td>3</td>\n",
       "    </tr>\n",
       "  </tbody>\n",
       "</table>\n",
       "</div>"
      ],
      "text/plain": [
       "   EnvironmentSatisfaction  JobSatisfaction  RelationshipSatisfaction  \\\n",
       "0                        1                3                         3   \n",
       "1                        1                3                         1   \n",
       "2                        1                4                         4   \n",
       "3                        1                3                         2   \n",
       "4                        1                1                         4   \n",
       "\n",
       "  WORKLIFEBALANCE  JobInvolvement PerformanceRating  \n",
       "0               3               3                 3  \n",
       "1               3               2                 3  \n",
       "2               3               3                 3  \n",
       "3               3               3                 3  \n",
       "4               3               4                 3  "
      ]
     },
     "execution_count": 44,
     "metadata": {},
     "output_type": "execute_result"
    }
   ],
   "source": [
    "# en este caso vamos ha reemplazar los ',0' de la columnas por espacios vacios\n",
    "# vamos a almacenar los cambios de esta columna en la misma columna, vamos a sobreescribir sus valores\n",
    "surveys[\"PerformanceRating\"] = surveys[\"PerformanceRating\"].str.replace(\",0\", \"\")\n",
    "\n",
    "# chequeamos que el cambio se hizo correctamente\n",
    "surveys.head()"
   ]
  },
  {
   "cell_type": "code",
   "execution_count": 45,
   "metadata": {},
   "outputs": [
    {
     "name": "stdout",
     "output_type": "stream",
     "text": [
      "<class 'pandas.core.frame.DataFrame'>\n",
      "Int64Index: 1614 entries, 0 to 1613\n",
      "Data columns (total 6 columns):\n",
      " #   Column                    Non-Null Count  Dtype \n",
      "---  ------                    --------------  ----- \n",
      " 0   EnvironmentSatisfaction   1614 non-null   int64 \n",
      " 1   JobSatisfaction           1614 non-null   int64 \n",
      " 2   RelationshipSatisfaction  1614 non-null   int64 \n",
      " 3   WORKLIFEBALANCE           1614 non-null   object\n",
      " 4   JobInvolvement            1614 non-null   int64 \n",
      " 5   PerformanceRating         1614 non-null   object\n",
      "dtypes: int64(4), object(2)\n",
      "memory usage: 88.3+ KB\n"
     ]
    }
   ],
   "source": [
    "surveys.info()\n",
    "#las dos columnas siguen siendo de tipo object, y queremos que sean de tipo integer"
   ]
  },
  {
   "cell_type": "code",
   "execution_count": 47,
   "metadata": {},
   "outputs": [
    {
     "data": {
      "text/html": [
       "<div>\n",
       "<style scoped>\n",
       "    .dataframe tbody tr th:only-of-type {\n",
       "        vertical-align: middle;\n",
       "    }\n",
       "\n",
       "    .dataframe tbody tr th {\n",
       "        vertical-align: top;\n",
       "    }\n",
       "\n",
       "    .dataframe thead th {\n",
       "        text-align: right;\n",
       "    }\n",
       "</style>\n",
       "<table border=\"1\" class=\"dataframe\">\n",
       "  <thead>\n",
       "    <tr style=\"text-align: right;\">\n",
       "      <th></th>\n",
       "      <th>EnvironmentSatisfaction</th>\n",
       "      <th>JobSatisfaction</th>\n",
       "      <th>RelationshipSatisfaction</th>\n",
       "      <th>WORKLIFEBALANCE</th>\n",
       "      <th>JobInvolvement</th>\n",
       "      <th>PerformanceRating</th>\n",
       "    </tr>\n",
       "  </thead>\n",
       "  <tbody>\n",
       "    <tr>\n",
       "      <th>0</th>\n",
       "      <td>1</td>\n",
       "      <td>3</td>\n",
       "      <td>3</td>\n",
       "      <td>3</td>\n",
       "      <td>3</td>\n",
       "      <td>3</td>\n",
       "    </tr>\n",
       "    <tr>\n",
       "      <th>1</th>\n",
       "      <td>1</td>\n",
       "      <td>3</td>\n",
       "      <td>1</td>\n",
       "      <td>3</td>\n",
       "      <td>2</td>\n",
       "      <td>3</td>\n",
       "    </tr>\n",
       "    <tr>\n",
       "      <th>2</th>\n",
       "      <td>1</td>\n",
       "      <td>4</td>\n",
       "      <td>4</td>\n",
       "      <td>3</td>\n",
       "      <td>3</td>\n",
       "      <td>3</td>\n",
       "    </tr>\n",
       "    <tr>\n",
       "      <th>3</th>\n",
       "      <td>1</td>\n",
       "      <td>3</td>\n",
       "      <td>2</td>\n",
       "      <td>3</td>\n",
       "      <td>3</td>\n",
       "      <td>3</td>\n",
       "    </tr>\n",
       "    <tr>\n",
       "      <th>4</th>\n",
       "      <td>1</td>\n",
       "      <td>1</td>\n",
       "      <td>4</td>\n",
       "      <td>3</td>\n",
       "      <td>4</td>\n",
       "      <td>3</td>\n",
       "    </tr>\n",
       "    <tr>\n",
       "      <th>...</th>\n",
       "      <td>...</td>\n",
       "      <td>...</td>\n",
       "      <td>...</td>\n",
       "      <td>...</td>\n",
       "      <td>...</td>\n",
       "      <td>...</td>\n",
       "    </tr>\n",
       "    <tr>\n",
       "      <th>1609</th>\n",
       "      <td>1</td>\n",
       "      <td>4</td>\n",
       "      <td>1</td>\n",
       "      <td>3</td>\n",
       "      <td>2</td>\n",
       "      <td>3</td>\n",
       "    </tr>\n",
       "    <tr>\n",
       "      <th>1610</th>\n",
       "      <td>1</td>\n",
       "      <td>2</td>\n",
       "      <td>2</td>\n",
       "      <td>2</td>\n",
       "      <td>3</td>\n",
       "      <td>3</td>\n",
       "    </tr>\n",
       "    <tr>\n",
       "      <th>1611</th>\n",
       "      <td>1</td>\n",
       "      <td>3</td>\n",
       "      <td>4</td>\n",
       "      <td>3</td>\n",
       "      <td>4</td>\n",
       "      <td>3</td>\n",
       "    </tr>\n",
       "    <tr>\n",
       "      <th>1612</th>\n",
       "      <td>1</td>\n",
       "      <td>4</td>\n",
       "      <td>4</td>\n",
       "      <td>3</td>\n",
       "      <td>3</td>\n",
       "      <td>3</td>\n",
       "    </tr>\n",
       "    <tr>\n",
       "      <th>1613</th>\n",
       "      <td>1</td>\n",
       "      <td>3</td>\n",
       "      <td>2</td>\n",
       "      <td>3</td>\n",
       "      <td>3</td>\n",
       "      <td>3</td>\n",
       "    </tr>\n",
       "  </tbody>\n",
       "</table>\n",
       "<p>1614 rows × 6 columns</p>\n",
       "</div>"
      ],
      "text/plain": [
       "      EnvironmentSatisfaction  JobSatisfaction  RelationshipSatisfaction  \\\n",
       "0                           1                3                         3   \n",
       "1                           1                3                         1   \n",
       "2                           1                4                         4   \n",
       "3                           1                3                         2   \n",
       "4                           1                1                         4   \n",
       "...                       ...              ...                       ...   \n",
       "1609                        1                4                         1   \n",
       "1610                        1                2                         2   \n",
       "1611                        1                3                         4   \n",
       "1612                        1                4                         4   \n",
       "1613                        1                3                         2   \n",
       "\n",
       "      WORKLIFEBALANCE  JobInvolvement PerformanceRating  \n",
       "0                   3               3                 3  \n",
       "1                   3               2                 3  \n",
       "2                   3               3                 3  \n",
       "3                   3               3                 3  \n",
       "4                   3               4                 3  \n",
       "...               ...             ...               ...  \n",
       "1609                3               2                 3  \n",
       "1610                2               3                 3  \n",
       "1611                3               4                 3  \n",
       "1612                3               3                 3  \n",
       "1613                3               3                 3  \n",
       "\n",
       "[1614 rows x 6 columns]"
      ]
     },
     "execution_count": 47,
     "metadata": {},
     "output_type": "execute_result"
    }
   ],
   "source": [
    "# Creamos un diccionario de mapeo\n",
    "mapeo = {'1': 1, '2': 2, '3': 3, '4': 4}\n",
    "\n",
    "# Aplicar el mapeo a la columna\n",
    "surveys['WORKLIFEBALANCE'] = surveys['WORKLIFEBALANCE'].map(mapeo)\n",
    "\n",
    "surveys"
   ]
  },
  {
   "cell_type": "code",
   "execution_count": 48,
   "metadata": {},
   "outputs": [
    {
     "data": {
      "text/html": [
       "<div>\n",
       "<style scoped>\n",
       "    .dataframe tbody tr th:only-of-type {\n",
       "        vertical-align: middle;\n",
       "    }\n",
       "\n",
       "    .dataframe tbody tr th {\n",
       "        vertical-align: top;\n",
       "    }\n",
       "\n",
       "    .dataframe thead th {\n",
       "        text-align: right;\n",
       "    }\n",
       "</style>\n",
       "<table border=\"1\" class=\"dataframe\">\n",
       "  <thead>\n",
       "    <tr style=\"text-align: right;\">\n",
       "      <th></th>\n",
       "      <th>EnvironmentSatisfaction</th>\n",
       "      <th>JobSatisfaction</th>\n",
       "      <th>RelationshipSatisfaction</th>\n",
       "      <th>WORKLIFEBALANCE</th>\n",
       "      <th>JobInvolvement</th>\n",
       "      <th>PerformanceRating</th>\n",
       "    </tr>\n",
       "  </thead>\n",
       "  <tbody>\n",
       "    <tr>\n",
       "      <th>0</th>\n",
       "      <td>1</td>\n",
       "      <td>3</td>\n",
       "      <td>3</td>\n",
       "      <td>3</td>\n",
       "      <td>3</td>\n",
       "      <td>3</td>\n",
       "    </tr>\n",
       "    <tr>\n",
       "      <th>1</th>\n",
       "      <td>1</td>\n",
       "      <td>3</td>\n",
       "      <td>1</td>\n",
       "      <td>3</td>\n",
       "      <td>2</td>\n",
       "      <td>3</td>\n",
       "    </tr>\n",
       "    <tr>\n",
       "      <th>2</th>\n",
       "      <td>1</td>\n",
       "      <td>4</td>\n",
       "      <td>4</td>\n",
       "      <td>3</td>\n",
       "      <td>3</td>\n",
       "      <td>3</td>\n",
       "    </tr>\n",
       "    <tr>\n",
       "      <th>3</th>\n",
       "      <td>1</td>\n",
       "      <td>3</td>\n",
       "      <td>2</td>\n",
       "      <td>3</td>\n",
       "      <td>3</td>\n",
       "      <td>3</td>\n",
       "    </tr>\n",
       "    <tr>\n",
       "      <th>4</th>\n",
       "      <td>1</td>\n",
       "      <td>1</td>\n",
       "      <td>4</td>\n",
       "      <td>3</td>\n",
       "      <td>4</td>\n",
       "      <td>3</td>\n",
       "    </tr>\n",
       "    <tr>\n",
       "      <th>...</th>\n",
       "      <td>...</td>\n",
       "      <td>...</td>\n",
       "      <td>...</td>\n",
       "      <td>...</td>\n",
       "      <td>...</td>\n",
       "      <td>...</td>\n",
       "    </tr>\n",
       "    <tr>\n",
       "      <th>1609</th>\n",
       "      <td>1</td>\n",
       "      <td>4</td>\n",
       "      <td>1</td>\n",
       "      <td>3</td>\n",
       "      <td>2</td>\n",
       "      <td>3</td>\n",
       "    </tr>\n",
       "    <tr>\n",
       "      <th>1610</th>\n",
       "      <td>1</td>\n",
       "      <td>2</td>\n",
       "      <td>2</td>\n",
       "      <td>2</td>\n",
       "      <td>3</td>\n",
       "      <td>3</td>\n",
       "    </tr>\n",
       "    <tr>\n",
       "      <th>1611</th>\n",
       "      <td>1</td>\n",
       "      <td>3</td>\n",
       "      <td>4</td>\n",
       "      <td>3</td>\n",
       "      <td>4</td>\n",
       "      <td>3</td>\n",
       "    </tr>\n",
       "    <tr>\n",
       "      <th>1612</th>\n",
       "      <td>1</td>\n",
       "      <td>4</td>\n",
       "      <td>4</td>\n",
       "      <td>3</td>\n",
       "      <td>3</td>\n",
       "      <td>3</td>\n",
       "    </tr>\n",
       "    <tr>\n",
       "      <th>1613</th>\n",
       "      <td>1</td>\n",
       "      <td>3</td>\n",
       "      <td>2</td>\n",
       "      <td>3</td>\n",
       "      <td>3</td>\n",
       "      <td>3</td>\n",
       "    </tr>\n",
       "  </tbody>\n",
       "</table>\n",
       "<p>1614 rows × 6 columns</p>\n",
       "</div>"
      ],
      "text/plain": [
       "      EnvironmentSatisfaction  JobSatisfaction  RelationshipSatisfaction  \\\n",
       "0                           1                3                         3   \n",
       "1                           1                3                         1   \n",
       "2                           1                4                         4   \n",
       "3                           1                3                         2   \n",
       "4                           1                1                         4   \n",
       "...                       ...              ...                       ...   \n",
       "1609                        1                4                         1   \n",
       "1610                        1                2                         2   \n",
       "1611                        1                3                         4   \n",
       "1612                        1                4                         4   \n",
       "1613                        1                3                         2   \n",
       "\n",
       "      WORKLIFEBALANCE  JobInvolvement  PerformanceRating  \n",
       "0                   3               3                  3  \n",
       "1                   3               2                  3  \n",
       "2                   3               3                  3  \n",
       "3                   3               3                  3  \n",
       "4                   3               4                  3  \n",
       "...               ...             ...                ...  \n",
       "1609                3               2                  3  \n",
       "1610                2               3                  3  \n",
       "1611                3               4                  3  \n",
       "1612                3               3                  3  \n",
       "1613                3               3                  3  \n",
       "\n",
       "[1614 rows x 6 columns]"
      ]
     },
     "execution_count": 48,
     "metadata": {},
     "output_type": "execute_result"
    }
   ],
   "source": [
    "# Creamos un diccionario de mapeo\n",
    "mapeo = {'1': 1, '2': 2, '3': 3, '4': 4}\n",
    "\n",
    "# Aplicar el mapeo a la columna\n",
    "surveys['PerformanceRating'] = surveys['PerformanceRating'].map(mapeo)\n",
    "\n",
    "surveys"
   ]
  },
  {
   "cell_type": "code",
   "execution_count": 49,
   "metadata": {},
   "outputs": [
    {
     "name": "stdout",
     "output_type": "stream",
     "text": [
      "<class 'pandas.core.frame.DataFrame'>\n",
      "Int64Index: 1614 entries, 0 to 1613\n",
      "Data columns (total 6 columns):\n",
      " #   Column                    Non-Null Count  Dtype\n",
      "---  ------                    --------------  -----\n",
      " 0   EnvironmentSatisfaction   1614 non-null   int64\n",
      " 1   JobSatisfaction           1614 non-null   int64\n",
      " 2   RelationshipSatisfaction  1614 non-null   int64\n",
      " 3   WORKLIFEBALANCE           1614 non-null   int64\n",
      " 4   JobInvolvement            1614 non-null   int64\n",
      " 5   PerformanceRating         1614 non-null   int64\n",
      "dtypes: int64(6)\n",
      "memory usage: 88.3 KB\n"
     ]
    }
   ],
   "source": [
    "surveys.info()\n",
    "#ahora sí, tenemos todas las columnas limpias, unificadas y sin valores nulos"
   ]
  }
 ],
 "metadata": {
  "kernelspec": {
   "display_name": "base",
   "language": "python",
   "name": "python3"
  },
  "language_info": {
   "codemirror_mode": {
    "name": "ipython",
    "version": 3
   },
   "file_extension": ".py",
   "mimetype": "text/x-python",
   "name": "python",
   "nbconvert_exporter": "python",
   "pygments_lexer": "ipython3",
   "version": "3.9.7"
  }
 },
 "nbformat": 4,
 "nbformat_minor": 2
}
