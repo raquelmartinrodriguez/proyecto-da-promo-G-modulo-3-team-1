{
 "cells": [
  {
   "cell_type": "code",
   "execution_count": null,
   "metadata": {},
   "outputs": [],
   "source": [
    "import pandas as pd\n",
    "\n",
    "pd.set_option('display.max_columns', None)"
   ]
  },
  {
   "cell_type": "code",
   "execution_count": null,
   "metadata": {},
   "outputs": [],
   "source": [
    "df_exploracion = pd.read_csv('../files/HR_RAW_DATA.csv', index_col=0)"
   ]
  },
  {
   "cell_type": "code",
   "execution_count": null,
   "metadata": {},
   "outputs": [],
   "source": [
    "lista_columnas_explorar = ['Age', 'Gender','MaritalStatus', 'NUMBERCHILDREN','DateBirth', 'Over18', 'Education','EducationField', 'NUMCOMPANIESWORKED', 'TOTALWORKINGYEARS']"
   ]
  },
  {
   "cell_type": "code",
   "execution_count": null,
   "metadata": {},
   "outputs": [],
   "source": [
    "df_exploracion.loc[:,lista_columnas_explorar]"
   ]
  },
  {
   "cell_type": "code",
   "execution_count": null,
   "metadata": {},
   "outputs": [],
   "source": [
    "#limpieza columna \"Age\"\n",
    "diccionario_edades = {\n",
    "    'forty-seven':47,\n",
    "    'fifty-eight': 58,\n",
    "    'thirty-six': 36,\n",
    "    'fifty-five': 55, \n",
    "    'fifty-two': 52,\n",
    "    'thirty-one': 31,\n",
    "    'thirty': 30,\n",
    "    'twenty-six': 26, \n",
    "    'thirty-seven' : 37, \n",
    "    'thirty-two': 32,\n",
    "    'twenty-four' : 24\n",
    "    }                   \n",
    "\n",
    "df_exploracion[\"Age\"] = df_exploracion[\"Age\"].replace(diccionario_edades)\n",
    "df_exploracion[\"Age\"].unique()"
   ]
  },
  {
   "cell_type": "code",
   "execution_count": null,
   "metadata": {},
   "outputs": [],
   "source": [
    "# limpieza columna \"Gender\"\n",
    "# .replace para sustituir 0 / 1 por Male / Female\n",
    "\n",
    "df_exploracion[\"Gender\"].replace(to_replace=[0,1],value= [\"Male\",\"Female\"],inplace=True)\n",
    "df_exploracion[\"Gender\"]"
   ]
  },
  {
   "cell_type": "code",
   "execution_count": null,
   "metadata": {},
   "outputs": [],
   "source": [
    "# limpieza columna 'MaritalStatus'\n",
    "# unificar términos y limpiar erratas\n",
    "\n",
    "df_exploracion['MaritalStatus'].replace(to_replace=['Marreid','divorced'],value= ['Married','Divorced'],inplace=True)"
   ]
  },
  {
   "cell_type": "code",
   "execution_count": null,
   "metadata": {},
   "outputs": [],
   "source": [
    "# columna 'NUMBERCHILDREN'\n",
    "# candidata a desaparecer, totalmente vacía"
   ]
  },
  {
   "cell_type": "code",
   "execution_count": null,
   "metadata": {},
   "outputs": [],
   "source": [
    "# columna 'DateBirth'\n",
    "# totalmente correcta"
   ]
  },
  {
   "cell_type": "code",
   "execution_count": null,
   "metadata": {},
   "outputs": [],
   "source": [
    "# columna 'Over18'\n",
    "# candidata a desaparecer, redundante. Solo tiene Y y nan"
   ]
  },
  {
   "cell_type": "code",
   "execution_count": null,
   "metadata": {},
   "outputs": [],
   "source": [
    "# columna 'Education'está limpia, es una clasificación de 1 a 5. No hay ningún tipo de estándar \n",
    "\n",
    "#df_exploracion['Education'].unique()"
   ]
  },
  {
   "cell_type": "code",
   "execution_count": null,
   "metadata": {},
   "outputs": [],
   "source": [
    "# columna 'EducationField' está limpia. Ojo, 745 nulos\n",
    "\n",
    "#df_exploracion['EducationField'].value_counts()\n",
    "#df_exploracion['EducationField'].isnull().sum()"
   ]
  },
  {
   "cell_type": "code",
   "execution_count": null,
   "metadata": {},
   "outputs": [],
   "source": [
    "#'NUMCOMPANIESWORKED' limpia, sin nulos\n",
    "#df_exploracion['NUMCOMPANIESWORKED'].isnull().sum()\n",
    "#df_exploracion['NUMCOMPANIESWORKED'].value_counts()"
   ]
  }
 ],
 "metadata": {
  "language_info": {
   "name": "python"
  }
 },
 "nbformat": 4,
 "nbformat_minor": 2
}
