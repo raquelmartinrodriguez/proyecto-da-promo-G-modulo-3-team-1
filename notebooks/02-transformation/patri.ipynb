{
 "cells": [
  {
   "cell_type": "code",
   "execution_count": 190,
   "metadata": {},
   "outputs": [],
   "source": [
    "import pandas as pd\n",
    "import numpy as np"
   ]
  },
  {
   "cell_type": "code",
   "execution_count": 191,
   "metadata": {},
   "outputs": [],
   "source": [
    "data = pd.read_csv ('../../files/HR_RAW_DATA.csv', index_col = 0)"
   ]
  },
  {
   "cell_type": "markdown",
   "metadata": {},
   "source": [
    "## EmploymentGeneral\n",
    "- EmployeeID (FK)\n",
    "- Attrition\n",
    "- OverTime\n",
    "- DistanceFromHome\n",
    "- RemoteWork\n",
    "- BusinessTravel\n",
    "- TrainingTimesLastYear\n",
    "\n",
    "## EmploymentTeams\n",
    "- EmployeeID (FK)\n",
    "- Department\n",
    "- JobRole\n",
    "- JobLevel"
   ]
  },
  {
   "cell_type": "markdown",
   "metadata": {},
   "source": [
    "1 - Analisis de nulos"
   ]
  },
  {
   "cell_type": "code",
   "execution_count": 192,
   "metadata": {},
   "outputs": [
    {
     "data": {
      "text/plain": [
       "Index(['Age', 'Attrition', 'BusinessTravel', 'DailyRate', 'Department',\n",
       "       'DistanceFromHome', 'Education', 'EducationField', 'employeecount',\n",
       "       'employeenumber', 'EnvironmentSatisfaction', 'Gender', 'HourlyRate',\n",
       "       'JobInvolvement', 'JobLevel', 'JobRole', 'JobSatisfaction',\n",
       "       'MaritalStatus', 'MonthlyIncome', 'MonthlyRate', 'NUMCOMPANIESWORKED',\n",
       "       'Over18', 'OverTime', 'PercentSalaryHike', 'PerformanceRating',\n",
       "       'RelationshipSatisfaction', 'StandardHours', 'StockOptionLevel',\n",
       "       'TOTALWORKINGYEARS', 'TrainingTimesLastYear', 'WORKLIFEBALANCE',\n",
       "       'YearsAtCompany', 'YearsInCurrentRole', 'YearsSinceLastPromotion',\n",
       "       'YEARSWITHCURRMANAGER', 'SameAsMonthlyIncome', 'DateBirth', 'Salary',\n",
       "       'RoleDepartament', 'NUMBERCHILDREN', 'RemoteWork'],\n",
       "      dtype='object')"
      ]
     },
     "execution_count": 192,
     "metadata": {},
     "output_type": "execute_result"
    }
   ],
   "source": [
    "data.columns"
   ]
  },
  {
   "cell_type": "code",
   "execution_count": 193,
   "metadata": {},
   "outputs": [],
   "source": [
    "columnas_patri = [\"Attrition\", \"OverTime\", \"DistanceFromHome\", \"RemoteWork\", \"BusinessTravel\", \"TrainingTimesLastYear\", \"Department\", \"JobRole\", \"JobLevel\"]"
   ]
  },
  {
   "cell_type": "code",
   "execution_count": 194,
   "metadata": {},
   "outputs": [
    {
     "name": "stdout",
     "output_type": "stream",
     "text": [
      "<class 'pandas.core.frame.DataFrame'>\n",
      "Int64Index: 1614 entries, 0 to 1613\n",
      "Data columns (total 9 columns):\n",
      " #   Column                 Non-Null Count  Dtype \n",
      "---  ------                 --------------  ----- \n",
      " 0   Attrition              1614 non-null   object\n",
      " 1   OverTime               938 non-null    object\n",
      " 2   DistanceFromHome       1614 non-null   int64 \n",
      " 3   RemoteWork             1614 non-null   object\n",
      " 4   BusinessTravel         842 non-null    object\n",
      " 5   TrainingTimesLastYear  1614 non-null   int64 \n",
      " 6   Department             302 non-null    object\n",
      " 7   JobRole                1614 non-null   object\n",
      " 8   JobLevel               1614 non-null   int64 \n",
      "dtypes: int64(3), object(6)\n",
      "memory usage: 126.1+ KB\n"
     ]
    }
   ],
   "source": [
    "data[columnas_patri].info()"
   ]
  },
  {
   "cell_type": "code",
   "execution_count": 195,
   "metadata": {},
   "outputs": [
    {
     "data": {
      "text/html": [
       "<div>\n",
       "<style scoped>\n",
       "    .dataframe tbody tr th:only-of-type {\n",
       "        vertical-align: middle;\n",
       "    }\n",
       "\n",
       "    .dataframe tbody tr th {\n",
       "        vertical-align: top;\n",
       "    }\n",
       "\n",
       "    .dataframe thead th {\n",
       "        text-align: right;\n",
       "    }\n",
       "</style>\n",
       "<table border=\"1\" class=\"dataframe\">\n",
       "  <thead>\n",
       "    <tr style=\"text-align: right;\">\n",
       "      <th></th>\n",
       "      <th>Attrition</th>\n",
       "      <th>OverTime</th>\n",
       "      <th>DistanceFromHome</th>\n",
       "      <th>RemoteWork</th>\n",
       "      <th>BusinessTravel</th>\n",
       "      <th>TrainingTimesLastYear</th>\n",
       "      <th>Department</th>\n",
       "      <th>JobRole</th>\n",
       "      <th>JobLevel</th>\n",
       "    </tr>\n",
       "  </thead>\n",
       "  <tbody>\n",
       "    <tr>\n",
       "      <th>0</th>\n",
       "      <td>No</td>\n",
       "      <td>No</td>\n",
       "      <td>6</td>\n",
       "      <td>Yes</td>\n",
       "      <td>NaN</td>\n",
       "      <td>5</td>\n",
       "      <td>NaN</td>\n",
       "      <td>resEArch DIREcToR</td>\n",
       "      <td>5</td>\n",
       "    </tr>\n",
       "    <tr>\n",
       "      <th>1</th>\n",
       "      <td>No</td>\n",
       "      <td>NaN</td>\n",
       "      <td>1</td>\n",
       "      <td>1</td>\n",
       "      <td>NaN</td>\n",
       "      <td>5</td>\n",
       "      <td>NaN</td>\n",
       "      <td>ManAGeR</td>\n",
       "      <td>5</td>\n",
       "    </tr>\n",
       "    <tr>\n",
       "      <th>2</th>\n",
       "      <td>No</td>\n",
       "      <td>No</td>\n",
       "      <td>4</td>\n",
       "      <td>1</td>\n",
       "      <td>travel_rarely</td>\n",
       "      <td>3</td>\n",
       "      <td>Research &amp; Development</td>\n",
       "      <td>ManaGER</td>\n",
       "      <td>5</td>\n",
       "    </tr>\n",
       "    <tr>\n",
       "      <th>3</th>\n",
       "      <td>No</td>\n",
       "      <td>NaN</td>\n",
       "      <td>2</td>\n",
       "      <td>False</td>\n",
       "      <td>travel_rarely</td>\n",
       "      <td>2</td>\n",
       "      <td>NaN</td>\n",
       "      <td>ReseArCH DIrECtOr</td>\n",
       "      <td>4</td>\n",
       "    </tr>\n",
       "    <tr>\n",
       "      <th>4</th>\n",
       "      <td>No</td>\n",
       "      <td>No</td>\n",
       "      <td>3</td>\n",
       "      <td>0</td>\n",
       "      <td>NaN</td>\n",
       "      <td>5</td>\n",
       "      <td>NaN</td>\n",
       "      <td>sAleS EXECUtIve</td>\n",
       "      <td>4</td>\n",
       "    </tr>\n",
       "  </tbody>\n",
       "</table>\n",
       "</div>"
      ],
      "text/plain": [
       "  Attrition OverTime  DistanceFromHome RemoteWork BusinessTravel  \\\n",
       "0        No       No                 6        Yes            NaN   \n",
       "1        No      NaN                 1          1            NaN   \n",
       "2        No       No                 4          1  travel_rarely   \n",
       "3        No      NaN                 2      False  travel_rarely   \n",
       "4        No       No                 3          0            NaN   \n",
       "\n",
       "   TrainingTimesLastYear                Department              JobRole  \\\n",
       "0                      5                       NaN   resEArch DIREcToR    \n",
       "1                      5                       NaN             ManAGeR    \n",
       "2                      3   Research & Development              ManaGER    \n",
       "3                      2                       NaN   ReseArCH DIrECtOr    \n",
       "4                      5                       NaN     sAleS EXECUtIve    \n",
       "\n",
       "   JobLevel  \n",
       "0         5  \n",
       "1         5  \n",
       "2         5  \n",
       "3         4  \n",
       "4         4  "
      ]
     },
     "execution_count": 195,
     "metadata": {},
     "output_type": "execute_result"
    }
   ],
   "source": [
    "data[columnas_patri].head(5)"
   ]
  },
  {
   "cell_type": "code",
   "execution_count": 196,
   "metadata": {},
   "outputs": [
    {
     "data": {
      "text/plain": [
       "0"
      ]
     },
     "execution_count": 196,
     "metadata": {},
     "output_type": "execute_result"
    }
   ],
   "source": [
    "data[\"Attrition\"].isnull().sum()"
   ]
  },
  {
   "cell_type": "code",
   "execution_count": 197,
   "metadata": {},
   "outputs": [
    {
     "data": {
      "text/plain": [
       "676"
      ]
     },
     "execution_count": 197,
     "metadata": {},
     "output_type": "execute_result"
    }
   ],
   "source": [
    "data[\"OverTime\"].isnull().sum() "
   ]
  },
  {
   "cell_type": "code",
   "execution_count": 198,
   "metadata": {},
   "outputs": [
    {
     "data": {
      "text/plain": [
       "0"
      ]
     },
     "execution_count": 198,
     "metadata": {},
     "output_type": "execute_result"
    }
   ],
   "source": [
    "data[\"DistanceFromHome\"].isnull().sum()"
   ]
  },
  {
   "cell_type": "code",
   "execution_count": 199,
   "metadata": {},
   "outputs": [
    {
     "data": {
      "text/plain": [
       "0"
      ]
     },
     "execution_count": 199,
     "metadata": {},
     "output_type": "execute_result"
    }
   ],
   "source": [
    "data[\"RemoteWork\"].isnull().sum()"
   ]
  },
  {
   "cell_type": "code",
   "execution_count": 200,
   "metadata": {},
   "outputs": [
    {
     "data": {
      "text/plain": [
       "0"
      ]
     },
     "execution_count": 200,
     "metadata": {},
     "output_type": "execute_result"
    }
   ],
   "source": [
    "data[\"TrainingTimesLastYear\"].isnull().sum()"
   ]
  },
  {
   "cell_type": "code",
   "execution_count": 201,
   "metadata": {},
   "outputs": [
    {
     "data": {
      "text/plain": [
       "0        True\n",
       "1        True\n",
       "2       False\n",
       "3        True\n",
       "4        True\n",
       "        ...  \n",
       "1609     True\n",
       "1610     True\n",
       "1611     True\n",
       "1612     True\n",
       "1613     True\n",
       "Name: Department, Length: 1614, dtype: bool"
      ]
     },
     "execution_count": 201,
     "metadata": {},
     "output_type": "execute_result"
    }
   ],
   "source": [
    "data[\"Department\"].isnull() "
   ]
  },
  {
   "cell_type": "code",
   "execution_count": 202,
   "metadata": {},
   "outputs": [
    {
     "data": {
      "text/plain": [
       "0       False\n",
       "1       False\n",
       "2       False\n",
       "3       False\n",
       "4       False\n",
       "        ...  \n",
       "1609    False\n",
       "1610    False\n",
       "1611    False\n",
       "1612    False\n",
       "1613    False\n",
       "Name: JobRole, Length: 1614, dtype: bool"
      ]
     },
     "execution_count": 202,
     "metadata": {},
     "output_type": "execute_result"
    }
   ],
   "source": [
    "data[\"JobRole\"].isnull() "
   ]
  },
  {
   "cell_type": "code",
   "execution_count": 203,
   "metadata": {},
   "outputs": [
    {
     "data": {
      "text/plain": [
       "0       False\n",
       "1       False\n",
       "2       False\n",
       "3       False\n",
       "4       False\n",
       "        ...  \n",
       "1609    False\n",
       "1610    False\n",
       "1611    False\n",
       "1612    False\n",
       "1613    False\n",
       "Name: JobLevel, Length: 1614, dtype: bool"
      ]
     },
     "execution_count": 203,
     "metadata": {},
     "output_type": "execute_result"
    }
   ],
   "source": [
    "data[\"JobLevel\"].isnull() "
   ]
  },
  {
   "cell_type": "markdown",
   "metadata": {},
   "source": [
    "2 - Analisis duplicados"
   ]
  },
  {
   "cell_type": "code",
   "execution_count": 204,
   "metadata": {},
   "outputs": [
    {
     "data": {
      "text/plain": [
       "1612"
      ]
     },
     "execution_count": 204,
     "metadata": {},
     "output_type": "execute_result"
    }
   ],
   "source": [
    "data[\"Attrition\"].duplicated().sum()"
   ]
  },
  {
   "cell_type": "code",
   "execution_count": 205,
   "metadata": {},
   "outputs": [
    {
     "data": {
      "text/plain": [
       "1611"
      ]
     },
     "execution_count": 205,
     "metadata": {},
     "output_type": "execute_result"
    }
   ],
   "source": [
    "data[\"OverTime\"].duplicated().sum()"
   ]
  },
  {
   "cell_type": "code",
   "execution_count": 206,
   "metadata": {},
   "outputs": [
    {
     "data": {
      "text/plain": [
       "1545"
      ]
     },
     "execution_count": 206,
     "metadata": {},
     "output_type": "execute_result"
    }
   ],
   "source": [
    "data[\"DistanceFromHome\"].duplicated().sum()"
   ]
  },
  {
   "cell_type": "code",
   "execution_count": 207,
   "metadata": {},
   "outputs": [
    {
     "data": {
      "text/plain": [
       "1609"
      ]
     },
     "execution_count": 207,
     "metadata": {},
     "output_type": "execute_result"
    }
   ],
   "source": [
    "data[\"RemoteWork\"].duplicated().sum()"
   ]
  },
  {
   "cell_type": "code",
   "execution_count": 208,
   "metadata": {},
   "outputs": [
    {
     "data": {
      "text/plain": [
       "1610"
      ]
     },
     "execution_count": 208,
     "metadata": {},
     "output_type": "execute_result"
    }
   ],
   "source": [
    "data[\"BusinessTravel\"].duplicated().sum()"
   ]
  },
  {
   "cell_type": "code",
   "execution_count": 209,
   "metadata": {},
   "outputs": [
    {
     "data": {
      "text/plain": [
       "1607"
      ]
     },
     "execution_count": 209,
     "metadata": {},
     "output_type": "execute_result"
    }
   ],
   "source": [
    "data[\"TrainingTimesLastYear\"].duplicated().sum()"
   ]
  },
  {
   "cell_type": "code",
   "execution_count": 210,
   "metadata": {},
   "outputs": [
    {
     "data": {
      "text/plain": [
       "1610"
      ]
     },
     "execution_count": 210,
     "metadata": {},
     "output_type": "execute_result"
    }
   ],
   "source": [
    "data[\"Department\"].duplicated().sum()"
   ]
  },
  {
   "cell_type": "code",
   "execution_count": 211,
   "metadata": {},
   "outputs": [
    {
     "data": {
      "text/plain": [
       "35"
      ]
     },
     "execution_count": 211,
     "metadata": {},
     "output_type": "execute_result"
    }
   ],
   "source": [
    "data[\"JobRole\"].duplicated().sum()"
   ]
  },
  {
   "cell_type": "code",
   "execution_count": 212,
   "metadata": {},
   "outputs": [
    {
     "data": {
      "text/plain": [
       "1609"
      ]
     },
     "execution_count": 212,
     "metadata": {},
     "output_type": "execute_result"
    }
   ],
   "source": [
    "data[\"JobLevel\"].duplicated().sum()"
   ]
  },
  {
   "cell_type": "code",
   "execution_count": 213,
   "metadata": {},
   "outputs": [
    {
     "data": {
      "text/plain": [
       "0"
      ]
     },
     "execution_count": 213,
     "metadata": {},
     "output_type": "execute_result"
    }
   ],
   "source": [
    "data.duplicated().sum() #en general, no hay filas duplicadas en la tabla. "
   ]
  },
  {
   "cell_type": "markdown",
   "metadata": {},
   "source": [
    "3- Exploración de valores únicos por columna"
   ]
  },
  {
   "cell_type": "code",
   "execution_count": 214,
   "metadata": {},
   "outputs": [
    {
     "data": {
      "text/plain": [
       "array(['No', 'Yes'], dtype=object)"
      ]
     },
     "execution_count": 214,
     "metadata": {},
     "output_type": "execute_result"
    }
   ],
   "source": [
    "data[\"Attrition\"].unique()"
   ]
  },
  {
   "cell_type": "code",
   "execution_count": 215,
   "metadata": {},
   "outputs": [
    {
     "data": {
      "text/plain": [
       "array(['No', nan, 'Yes'], dtype=object)"
      ]
     },
     "execution_count": 215,
     "metadata": {},
     "output_type": "execute_result"
    }
   ],
   "source": [
    "data[\"OverTime\"].unique() "
   ]
  },
  {
   "cell_type": "code",
   "execution_count": 216,
   "metadata": {},
   "outputs": [
    {
     "data": {
      "text/plain": [
       "array([  6,   1,   4,   2,   3,  22,  25,   9,   7,  23,  10,  12,  14,\n",
       "       -13,  15,   8, -42,  28, -37,   5,  16, -35,  26, -26,  24,  29,\n",
       "       -25,  17,  21, -18, -10, -30, -27,  20, -31, -29, -39,  18, -21,\n",
       "       -15,  11,  13, -14,  19, -33, -34, -46, -36, -19,  27, -12, -23,\n",
       "       -45, -28, -47, -32, -24, -16, -22, -41, -49, -11, -48, -38, -20,\n",
       "       -17, -43, -40, -44])"
      ]
     },
     "execution_count": 216,
     "metadata": {},
     "output_type": "execute_result"
    }
   ],
   "source": [
    "data[\"DistanceFromHome\"].unique() #revisar valores negativos"
   ]
  },
  {
   "cell_type": "code",
   "execution_count": 217,
   "metadata": {},
   "outputs": [
    {
     "data": {
      "text/plain": [
       "array(['Yes', '1', 'False', '0', 'True'], dtype=object)"
      ]
     },
     "execution_count": 217,
     "metadata": {},
     "output_type": "execute_result"
    }
   ],
   "source": [
    "data[\"RemoteWork\"].unique() #inconsistencia en respuestas"
   ]
  },
  {
   "cell_type": "code",
   "execution_count": 218,
   "metadata": {},
   "outputs": [
    {
     "data": {
      "text/plain": [
       "array([nan, 'travel_rarely', 'travel_frequently', 'non-travel'],\n",
       "      dtype=object)"
      ]
     },
     "execution_count": 218,
     "metadata": {},
     "output_type": "execute_result"
    }
   ],
   "source": [
    "data[\"BusinessTravel\"].unique() "
   ]
  },
  {
   "cell_type": "code",
   "execution_count": 219,
   "metadata": {},
   "outputs": [
    {
     "data": {
      "text/plain": [
       "array([5, 3, 2, 0, 1, 4, 6])"
      ]
     },
     "execution_count": 219,
     "metadata": {},
     "output_type": "execute_result"
    }
   ],
   "source": [
    "data[\"TrainingTimesLastYear\"].unique() "
   ]
  },
  {
   "cell_type": "code",
   "execution_count": 220,
   "metadata": {},
   "outputs": [
    {
     "data": {
      "text/plain": [
       "array([nan, ' Research & Development ', ' Sales ', ' Human Resources '],\n",
       "      dtype=object)"
      ]
     },
     "execution_count": 220,
     "metadata": {},
     "output_type": "execute_result"
    }
   ],
   "source": [
    "data[\"Department\"].unique() "
   ]
  },
  {
   "cell_type": "code",
   "execution_count": 221,
   "metadata": {},
   "outputs": [
    {
     "data": {
      "text/plain": [
       "array([' resEArch DIREcToR ', ' ManAGeR ', ' ManaGER ', ...,\n",
       "       ' sAlES ExECUTivE ', ' SaLes ExecUtIVe ',\n",
       "       ' mAnUfactURInG DiRECTOr '], dtype=object)"
      ]
     },
     "execution_count": 221,
     "metadata": {},
     "output_type": "execute_result"
    }
   ],
   "source": [
    "data[\"JobRole\"].unique() #limpiar datos para corregir errores tipográficos"
   ]
  },
  {
   "cell_type": "code",
   "execution_count": 222,
   "metadata": {},
   "outputs": [
    {
     "data": {
      "text/plain": [
       "array([5, 4, 3, 2, 1])"
      ]
     },
     "execution_count": 222,
     "metadata": {},
     "output_type": "execute_result"
    }
   ],
   "source": [
    "data[\"JobLevel\"].unique() #investigar que categoría es cada una de ellas. Aparentemente es una variable categorica, ver como se relaciona con otras columnas. "
   ]
  },
  {
   "cell_type": "code",
   "execution_count": 223,
   "metadata": {},
   "outputs": [
    {
     "data": {
      "text/html": [
       "<div>\n",
       "<style scoped>\n",
       "    .dataframe tbody tr th:only-of-type {\n",
       "        vertical-align: middle;\n",
       "    }\n",
       "\n",
       "    .dataframe tbody tr th {\n",
       "        vertical-align: top;\n",
       "    }\n",
       "\n",
       "    .dataframe thead th {\n",
       "        text-align: right;\n",
       "    }\n",
       "</style>\n",
       "<table border=\"1\" class=\"dataframe\">\n",
       "  <thead>\n",
       "    <tr style=\"text-align: right;\">\n",
       "      <th></th>\n",
       "      <th>JobRole</th>\n",
       "      <th>JobLevel</th>\n",
       "      <th>Department</th>\n",
       "    </tr>\n",
       "  </thead>\n",
       "  <tbody>\n",
       "    <tr>\n",
       "      <th>0</th>\n",
       "      <td>resEArch DIREcToR</td>\n",
       "      <td>5</td>\n",
       "      <td>NaN</td>\n",
       "    </tr>\n",
       "    <tr>\n",
       "      <th>1</th>\n",
       "      <td>ManAGeR</td>\n",
       "      <td>5</td>\n",
       "      <td>NaN</td>\n",
       "    </tr>\n",
       "    <tr>\n",
       "      <th>2</th>\n",
       "      <td>ManaGER</td>\n",
       "      <td>5</td>\n",
       "      <td>Research &amp; Development</td>\n",
       "    </tr>\n",
       "    <tr>\n",
       "      <th>3</th>\n",
       "      <td>ReseArCH DIrECtOr</td>\n",
       "      <td>4</td>\n",
       "      <td>NaN</td>\n",
       "    </tr>\n",
       "    <tr>\n",
       "      <th>4</th>\n",
       "      <td>sAleS EXECUtIve</td>\n",
       "      <td>4</td>\n",
       "      <td>NaN</td>\n",
       "    </tr>\n",
       "    <tr>\n",
       "      <th>...</th>\n",
       "      <td>...</td>\n",
       "      <td>...</td>\n",
       "      <td>...</td>\n",
       "    </tr>\n",
       "    <tr>\n",
       "      <th>1609</th>\n",
       "      <td>saLEs ExeCUTiVe</td>\n",
       "      <td>3</td>\n",
       "      <td>NaN</td>\n",
       "    </tr>\n",
       "    <tr>\n",
       "      <th>1610</th>\n",
       "      <td>LAboRaTOry tECHNiCIAn</td>\n",
       "      <td>2</td>\n",
       "      <td>NaN</td>\n",
       "    </tr>\n",
       "    <tr>\n",
       "      <th>1611</th>\n",
       "      <td>sAlES ExECUTivE</td>\n",
       "      <td>3</td>\n",
       "      <td>NaN</td>\n",
       "    </tr>\n",
       "    <tr>\n",
       "      <th>1612</th>\n",
       "      <td>SaLes ExecUtIVe</td>\n",
       "      <td>2</td>\n",
       "      <td>NaN</td>\n",
       "    </tr>\n",
       "    <tr>\n",
       "      <th>1613</th>\n",
       "      <td>mAnUfactURInG DiRECTOr</td>\n",
       "      <td>3</td>\n",
       "      <td>NaN</td>\n",
       "    </tr>\n",
       "  </tbody>\n",
       "</table>\n",
       "<p>1614 rows × 3 columns</p>\n",
       "</div>"
      ],
      "text/plain": [
       "                       JobRole  JobLevel                Department\n",
       "0           resEArch DIREcToR          5                       NaN\n",
       "1                     ManAGeR          5                       NaN\n",
       "2                     ManaGER          5   Research & Development \n",
       "3           ReseArCH DIrECtOr          4                       NaN\n",
       "4             sAleS EXECUtIve          4                       NaN\n",
       "...                        ...       ...                       ...\n",
       "1609          saLEs ExeCUTiVe          3                       NaN\n",
       "1610    LAboRaTOry tECHNiCIAn          2                       NaN\n",
       "1611          sAlES ExECUTivE          3                       NaN\n",
       "1612          SaLes ExecUtIVe          2                       NaN\n",
       "1613   mAnUfactURInG DiRECTOr          3                       NaN\n",
       "\n",
       "[1614 rows x 3 columns]"
      ]
     },
     "execution_count": 223,
     "metadata": {},
     "output_type": "execute_result"
    }
   ],
   "source": [
    "data[[\"JobRole\", \"JobLevel\", \"Department\"]] #ver criterio "
   ]
  },
  {
   "cell_type": "markdown",
   "metadata": {},
   "source": [
    "4 -  Analisis de caracteristicas employeenumber "
   ]
  },
  {
   "cell_type": "code",
   "execution_count": 224,
   "metadata": {},
   "outputs": [
    {
     "data": {
      "text/plain": [
       "0       162,0\n",
       "1       259,0\n",
       "2       319,0\n",
       "3         NaN\n",
       "4         NaN\n",
       "        ...  \n",
       "1609    967,0\n",
       "1610    972,0\n",
       "1611      NaN\n",
       "1612    990,0\n",
       "1613      NaN\n",
       "Name: employeenumber, Length: 1614, dtype: object"
      ]
     },
     "execution_count": 224,
     "metadata": {},
     "output_type": "execute_result"
    }
   ],
   "source": [
    "data[\"employeenumber\"]"
   ]
  },
  {
   "cell_type": "code",
   "execution_count": 225,
   "metadata": {},
   "outputs": [
    {
     "data": {
      "text/plain": [
       "431"
      ]
     },
     "execution_count": 225,
     "metadata": {},
     "output_type": "execute_result"
    }
   ],
   "source": [
    "data[\"employeenumber\"].isnull().sum()"
   ]
  },
  {
   "cell_type": "code",
   "execution_count": 226,
   "metadata": {},
   "outputs": [
    {
     "data": {
      "text/plain": [
       "1612"
      ]
     },
     "execution_count": 226,
     "metadata": {},
     "output_type": "execute_result"
    }
   ],
   "source": [
    "data[\"employeenumber\"].notnull().duplicated().sum()"
   ]
  },
  {
   "cell_type": "code",
   "execution_count": 227,
   "metadata": {},
   "outputs": [
    {
     "data": {
      "text/plain": [
       "0       False\n",
       "1        True\n",
       "2        True\n",
       "3       False\n",
       "4        True\n",
       "        ...  \n",
       "1609     True\n",
       "1610     True\n",
       "1611     True\n",
       "1612     True\n",
       "1613     True\n",
       "Name: employeenumber, Length: 1614, dtype: bool"
      ]
     },
     "execution_count": 227,
     "metadata": {},
     "output_type": "execute_result"
    }
   ],
   "source": [
    "data[\"employeenumber\"].notnull().duplicated()"
   ]
  },
  {
   "cell_type": "code",
   "execution_count": 228,
   "metadata": {},
   "outputs": [
    {
     "data": {
      "text/plain": [
       "True     1612\n",
       "False       2\n",
       "Name: employeenumber, dtype: int64"
      ]
     },
     "execution_count": 228,
     "metadata": {},
     "output_type": "execute_result"
    }
   ],
   "source": [
    "data[\"employeenumber\"].notnull().duplicated().value_counts()\n"
   ]
  },
  {
   "cell_type": "code",
   "execution_count": 229,
   "metadata": {},
   "outputs": [
    {
     "name": "stdout",
     "output_type": "stream",
     "text": [
      "482,0     2\n",
      "530,0     2\n",
      "507,0     2\n",
      "517,0     2\n",
      "522,0     2\n",
      "         ..\n",
      "161,0     1\n",
      "164,0     1\n",
      "190,0     1\n",
      "194,0     1\n",
      "2040,0    1\n",
      "Name: employeenumber, Length: 1079, dtype: int64\n"
     ]
    }
   ],
   "source": [
    "print(data[\"employeenumber\"].value_counts())"
   ]
  },
  {
   "cell_type": "code",
   "execution_count": 230,
   "metadata": {},
   "outputs": [
    {
     "data": {
      "text/html": [
       "<div>\n",
       "<style scoped>\n",
       "    .dataframe tbody tr th:only-of-type {\n",
       "        vertical-align: middle;\n",
       "    }\n",
       "\n",
       "    .dataframe tbody tr th {\n",
       "        vertical-align: top;\n",
       "    }\n",
       "\n",
       "    .dataframe thead th {\n",
       "        text-align: right;\n",
       "    }\n",
       "</style>\n",
       "<table border=\"1\" class=\"dataframe\">\n",
       "  <thead>\n",
       "    <tr style=\"text-align: right;\">\n",
       "      <th></th>\n",
       "      <th>Age</th>\n",
       "      <th>Attrition</th>\n",
       "      <th>BusinessTravel</th>\n",
       "      <th>DailyRate</th>\n",
       "      <th>Department</th>\n",
       "      <th>DistanceFromHome</th>\n",
       "      <th>Education</th>\n",
       "      <th>EducationField</th>\n",
       "      <th>employeecount</th>\n",
       "      <th>employeenumber</th>\n",
       "      <th>...</th>\n",
       "      <th>YearsAtCompany</th>\n",
       "      <th>YearsInCurrentRole</th>\n",
       "      <th>YearsSinceLastPromotion</th>\n",
       "      <th>YEARSWITHCURRMANAGER</th>\n",
       "      <th>SameAsMonthlyIncome</th>\n",
       "      <th>DateBirth</th>\n",
       "      <th>Salary</th>\n",
       "      <th>RoleDepartament</th>\n",
       "      <th>NUMBERCHILDREN</th>\n",
       "      <th>RemoteWork</th>\n",
       "    </tr>\n",
       "  </thead>\n",
       "  <tbody>\n",
       "    <tr>\n",
       "      <th>883</th>\n",
       "      <td>57</td>\n",
       "      <td>No</td>\n",
       "      <td>travel_rarely</td>\n",
       "      <td>593,0$</td>\n",
       "      <td>NaN</td>\n",
       "      <td>1</td>\n",
       "      <td>4</td>\n",
       "      <td>Medical</td>\n",
       "      <td>1</td>\n",
       "      <td>482,0</td>\n",
       "      <td>...</td>\n",
       "      <td>3</td>\n",
       "      <td>NaN</td>\n",
       "      <td>1</td>\n",
       "      <td>2</td>\n",
       "      <td>6755,0</td>\n",
       "      <td>1966</td>\n",
       "      <td>1000000000$</td>\n",
       "      <td>NaN</td>\n",
       "      <td>NaN</td>\n",
       "      <td>1</td>\n",
       "    </tr>\n",
       "    <tr>\n",
       "      <th>1524</th>\n",
       "      <td>57</td>\n",
       "      <td>No</td>\n",
       "      <td>travel_rarely</td>\n",
       "      <td>593,0$</td>\n",
       "      <td>NaN</td>\n",
       "      <td>1</td>\n",
       "      <td>4</td>\n",
       "      <td>Medical</td>\n",
       "      <td>1</td>\n",
       "      <td>482,0</td>\n",
       "      <td>...</td>\n",
       "      <td>3</td>\n",
       "      <td>NaN</td>\n",
       "      <td>1</td>\n",
       "      <td>2</td>\n",
       "      <td>6755,0</td>\n",
       "      <td>1966</td>\n",
       "      <td>1000000000$</td>\n",
       "      <td>NaN</td>\n",
       "      <td>NaN</td>\n",
       "      <td>False</td>\n",
       "    </tr>\n",
       "  </tbody>\n",
       "</table>\n",
       "<p>2 rows × 41 columns</p>\n",
       "</div>"
      ],
      "text/plain": [
       "     Age Attrition BusinessTravel DailyRate Department  DistanceFromHome  \\\n",
       "883   57        No  travel_rarely    593,0$        NaN                 1   \n",
       "1524  57        No  travel_rarely    593,0$        NaN                 1   \n",
       "\n",
       "      Education EducationField  employeecount employeenumber  ...  \\\n",
       "883           4        Medical              1          482,0  ...   \n",
       "1524          4        Medical              1          482,0  ...   \n",
       "\n",
       "      YearsAtCompany  YearsInCurrentRole YearsSinceLastPromotion  \\\n",
       "883                3                 NaN                       1   \n",
       "1524               3                 NaN                       1   \n",
       "\n",
       "      YEARSWITHCURRMANAGER  SameAsMonthlyIncome DateBirth       Salary  \\\n",
       "883                      2               6755,0      1966  1000000000$   \n",
       "1524                     2               6755,0      1966  1000000000$   \n",
       "\n",
       "     RoleDepartament NUMBERCHILDREN  RemoteWork  \n",
       "883              NaN            NaN           1  \n",
       "1524             NaN            NaN       False  \n",
       "\n",
       "[2 rows x 41 columns]"
      ]
     },
     "execution_count": 230,
     "metadata": {},
     "output_type": "execute_result"
    }
   ],
   "source": [
    "data[data[\"employeenumber\"] == \"482,0\"] #selecciono ejemplo para analizar información duplicado. Aparentemente se corresponde a la misma persona a diferencia de la columna 'remotework'"
   ]
  },
  {
   "cell_type": "code",
   "execution_count": 231,
   "metadata": {},
   "outputs": [
    {
     "data": {
      "text/html": [
       "<div>\n",
       "<style scoped>\n",
       "    .dataframe tbody tr th:only-of-type {\n",
       "        vertical-align: middle;\n",
       "    }\n",
       "\n",
       "    .dataframe tbody tr th {\n",
       "        vertical-align: top;\n",
       "    }\n",
       "\n",
       "    .dataframe thead th {\n",
       "        text-align: right;\n",
       "    }\n",
       "</style>\n",
       "<table border=\"1\" class=\"dataframe\">\n",
       "  <thead>\n",
       "    <tr style=\"text-align: right;\">\n",
       "      <th></th>\n",
       "      <th>Age</th>\n",
       "      <th>Attrition</th>\n",
       "      <th>BusinessTravel</th>\n",
       "      <th>DailyRate</th>\n",
       "      <th>Department</th>\n",
       "      <th>DistanceFromHome</th>\n",
       "      <th>Education</th>\n",
       "      <th>EducationField</th>\n",
       "      <th>employeecount</th>\n",
       "      <th>employeenumber</th>\n",
       "      <th>...</th>\n",
       "      <th>YearsAtCompany</th>\n",
       "      <th>YearsInCurrentRole</th>\n",
       "      <th>YearsSinceLastPromotion</th>\n",
       "      <th>YEARSWITHCURRMANAGER</th>\n",
       "      <th>SameAsMonthlyIncome</th>\n",
       "      <th>DateBirth</th>\n",
       "      <th>Salary</th>\n",
       "      <th>RoleDepartament</th>\n",
       "      <th>NUMBERCHILDREN</th>\n",
       "      <th>RemoteWork</th>\n",
       "    </tr>\n",
       "  </thead>\n",
       "  <tbody>\n",
       "    <tr>\n",
       "      <th>897</th>\n",
       "      <td>31</td>\n",
       "      <td>No</td>\n",
       "      <td>travel_rarely</td>\n",
       "      <td>329,0$</td>\n",
       "      <td>NaN</td>\n",
       "      <td>1</td>\n",
       "      <td>2</td>\n",
       "      <td>NaN</td>\n",
       "      <td>1</td>\n",
       "      <td>530,0</td>\n",
       "      <td>...</td>\n",
       "      <td>4</td>\n",
       "      <td>NaN</td>\n",
       "      <td>3</td>\n",
       "      <td>2</td>\n",
       "      <td>2218,0</td>\n",
       "      <td>1992</td>\n",
       "      <td>1000000000$</td>\n",
       "      <td>NaN</td>\n",
       "      <td>NaN</td>\n",
       "      <td>0</td>\n",
       "    </tr>\n",
       "    <tr>\n",
       "      <th>1538</th>\n",
       "      <td>31</td>\n",
       "      <td>No</td>\n",
       "      <td>travel_rarely</td>\n",
       "      <td>329,0$</td>\n",
       "      <td>NaN</td>\n",
       "      <td>1</td>\n",
       "      <td>2</td>\n",
       "      <td>NaN</td>\n",
       "      <td>1</td>\n",
       "      <td>530,0</td>\n",
       "      <td>...</td>\n",
       "      <td>4</td>\n",
       "      <td>NaN</td>\n",
       "      <td>3</td>\n",
       "      <td>2</td>\n",
       "      <td>2218,0</td>\n",
       "      <td>1992</td>\n",
       "      <td>1000000000$</td>\n",
       "      <td>NaN</td>\n",
       "      <td>NaN</td>\n",
       "      <td>1</td>\n",
       "    </tr>\n",
       "  </tbody>\n",
       "</table>\n",
       "<p>2 rows × 41 columns</p>\n",
       "</div>"
      ],
      "text/plain": [
       "     Age Attrition BusinessTravel DailyRate Department  DistanceFromHome  \\\n",
       "897   31        No  travel_rarely    329,0$        NaN                 1   \n",
       "1538  31        No  travel_rarely    329,0$        NaN                 1   \n",
       "\n",
       "      Education EducationField  employeecount employeenumber  ...  \\\n",
       "897           2            NaN              1          530,0  ...   \n",
       "1538          2            NaN              1          530,0  ...   \n",
       "\n",
       "      YearsAtCompany  YearsInCurrentRole YearsSinceLastPromotion  \\\n",
       "897                4                 NaN                       3   \n",
       "1538               4                 NaN                       3   \n",
       "\n",
       "      YEARSWITHCURRMANAGER  SameAsMonthlyIncome DateBirth       Salary  \\\n",
       "897                      2               2218,0      1992  1000000000$   \n",
       "1538                     2               2218,0      1992  1000000000$   \n",
       "\n",
       "     RoleDepartament NUMBERCHILDREN  RemoteWork  \n",
       "897              NaN            NaN           0  \n",
       "1538             NaN            NaN           1  \n",
       "\n",
       "[2 rows x 41 columns]"
      ]
     },
     "execution_count": 231,
     "metadata": {},
     "output_type": "execute_result"
    }
   ],
   "source": [
    "data[data[\"employeenumber\"] == \"530,0\"] #selecciono ejemplo para analizar información duplicado. Aparentemente se corresponde a la misma persona a diferencia de la columna 'remotework'"
   ]
  },
  {
   "cell_type": "code",
   "execution_count": 232,
   "metadata": {},
   "outputs": [
    {
     "data": {
      "text/html": [
       "<div>\n",
       "<style scoped>\n",
       "    .dataframe tbody tr th:only-of-type {\n",
       "        vertical-align: middle;\n",
       "    }\n",
       "\n",
       "    .dataframe tbody tr th {\n",
       "        vertical-align: top;\n",
       "    }\n",
       "\n",
       "    .dataframe thead th {\n",
       "        text-align: right;\n",
       "    }\n",
       "</style>\n",
       "<table border=\"1\" class=\"dataframe\">\n",
       "  <thead>\n",
       "    <tr style=\"text-align: right;\">\n",
       "      <th></th>\n",
       "      <th>Age</th>\n",
       "      <th>Attrition</th>\n",
       "      <th>BusinessTravel</th>\n",
       "      <th>DailyRate</th>\n",
       "      <th>Department</th>\n",
       "      <th>DistanceFromHome</th>\n",
       "      <th>Education</th>\n",
       "      <th>EducationField</th>\n",
       "      <th>employeecount</th>\n",
       "      <th>employeenumber</th>\n",
       "      <th>...</th>\n",
       "      <th>YearsAtCompany</th>\n",
       "      <th>YearsInCurrentRole</th>\n",
       "      <th>YearsSinceLastPromotion</th>\n",
       "      <th>YEARSWITHCURRMANAGER</th>\n",
       "      <th>SameAsMonthlyIncome</th>\n",
       "      <th>DateBirth</th>\n",
       "      <th>Salary</th>\n",
       "      <th>RoleDepartament</th>\n",
       "      <th>NUMBERCHILDREN</th>\n",
       "      <th>RemoteWork</th>\n",
       "    </tr>\n",
       "  </thead>\n",
       "  <tbody>\n",
       "    <tr>\n",
       "      <th>897</th>\n",
       "      <td>31</td>\n",
       "      <td>No</td>\n",
       "      <td>travel_rarely</td>\n",
       "      <td>329,0$</td>\n",
       "      <td>NaN</td>\n",
       "      <td>1</td>\n",
       "      <td>2</td>\n",
       "      <td>NaN</td>\n",
       "      <td>1</td>\n",
       "      <td>530,0</td>\n",
       "      <td>...</td>\n",
       "      <td>4</td>\n",
       "      <td>NaN</td>\n",
       "      <td>3</td>\n",
       "      <td>2</td>\n",
       "      <td>2218,0</td>\n",
       "      <td>1992</td>\n",
       "      <td>1000000000$</td>\n",
       "      <td>NaN</td>\n",
       "      <td>NaN</td>\n",
       "      <td>0</td>\n",
       "    </tr>\n",
       "    <tr>\n",
       "      <th>1538</th>\n",
       "      <td>31</td>\n",
       "      <td>No</td>\n",
       "      <td>travel_rarely</td>\n",
       "      <td>329,0$</td>\n",
       "      <td>NaN</td>\n",
       "      <td>1</td>\n",
       "      <td>2</td>\n",
       "      <td>NaN</td>\n",
       "      <td>1</td>\n",
       "      <td>530,0</td>\n",
       "      <td>...</td>\n",
       "      <td>4</td>\n",
       "      <td>NaN</td>\n",
       "      <td>3</td>\n",
       "      <td>2</td>\n",
       "      <td>2218,0</td>\n",
       "      <td>1992</td>\n",
       "      <td>1000000000$</td>\n",
       "      <td>NaN</td>\n",
       "      <td>NaN</td>\n",
       "      <td>1</td>\n",
       "    </tr>\n",
       "  </tbody>\n",
       "</table>\n",
       "<p>2 rows × 41 columns</p>\n",
       "</div>"
      ],
      "text/plain": [
       "     Age Attrition BusinessTravel DailyRate Department  DistanceFromHome  \\\n",
       "897   31        No  travel_rarely    329,0$        NaN                 1   \n",
       "1538  31        No  travel_rarely    329,0$        NaN                 1   \n",
       "\n",
       "      Education EducationField  employeecount employeenumber  ...  \\\n",
       "897           2            NaN              1          530,0  ...   \n",
       "1538          2            NaN              1          530,0  ...   \n",
       "\n",
       "      YearsAtCompany  YearsInCurrentRole YearsSinceLastPromotion  \\\n",
       "897                4                 NaN                       3   \n",
       "1538               4                 NaN                       3   \n",
       "\n",
       "      YEARSWITHCURRMANAGER  SameAsMonthlyIncome DateBirth       Salary  \\\n",
       "897                      2               2218,0      1992  1000000000$   \n",
       "1538                     2               2218,0      1992  1000000000$   \n",
       "\n",
       "     RoleDepartament NUMBERCHILDREN  RemoteWork  \n",
       "897              NaN            NaN           0  \n",
       "1538             NaN            NaN           1  \n",
       "\n",
       "[2 rows x 41 columns]"
      ]
     },
     "execution_count": 232,
     "metadata": {},
     "output_type": "execute_result"
    }
   ],
   "source": [
    "data[data[\"employeenumber\"] == \"530,0\"] #selecciono ejemplo para analizar información duplicado. Aparentemente se corresponde a la misma persona a diferencia de la columna 'remotework'"
   ]
  },
  {
   "cell_type": "code",
   "execution_count": 233,
   "metadata": {},
   "outputs": [
    {
     "data": {
      "text/plain": [
       "array(['Yes', '1', 'False', '0', 'True'], dtype=object)"
      ]
     },
     "execution_count": 233,
     "metadata": {},
     "output_type": "execute_result"
    }
   ],
   "source": [
    "data['RemoteWork'].unique()\n",
    "# unificar"
   ]
  },
  {
   "cell_type": "code",
   "execution_count": 234,
   "metadata": {},
   "outputs": [
    {
     "data": {
      "text/plain": [
       "0.0"
      ]
     },
     "execution_count": 234,
     "metadata": {},
     "output_type": "execute_result"
    }
   ],
   "source": [
    "#calcular nulos\n",
    "data['RemoteWork'].isna().sum()/data['RemoteWork'].shape[0]*100"
   ]
  },
  {
   "cell_type": "markdown",
   "metadata": {},
   "source": [
    "### Fase 2: Limpieza\n",
    "Criterios de unificación y limpieza:\n",
    "\n",
    "- Convertir a integer los datos numéricos siempre y cuando no tengan decimales representativos\n",
    "- Si nan es una string, cambiarlo a nulo ('nan': float('NaN'))\n",
    "- Quitar símbolos (como \"$\" o \"%\") en los datos y reemplazar \",\" por \".\"\n",
    "- Eliminar los espacios en blanco al principio y final de cada celda (.strip())\n",
    "- Usar el inglés como idioma vehicular en las tablas y sus datos\n",
    "- No reordenar las filas\n",
    "- No eliminar filas\n",
    "- Revisar que los strings no estén escritos de forma distinta ('married' - 'merried'), faltas de ortografía, etc (unificar los unique)"
   ]
  },
  {
   "cell_type": "markdown",
   "metadata": {},
   "source": []
  },
  {
   "cell_type": "code",
   "execution_count": 235,
   "metadata": {},
   "outputs": [],
   "source": [
    "def binary_unification(columna):\n",
    "\n",
    "  # diccionario de mapeo\n",
    "  mapping = {'Yes': 1, 'No': 0, 'False': 0, 'True': 1}\n",
    "\n",
    "  # replace en funcion del diccionario\n",
    "  columna = columna.replace(mapping)\n",
    "\n",
    "  # gestion de posibles errores \n",
    "  columna = pd.to_numeric(columna, errors='coerce')\n",
    "\n",
    "  return columna\n"
   ]
  },
  {
   "cell_type": "code",
   "execution_count": 236,
   "metadata": {},
   "outputs": [],
   "source": [
    "remotework = data['RemoteWork']\n"
   ]
  },
  {
   "cell_type": "code",
   "execution_count": 237,
   "metadata": {},
   "outputs": [],
   "source": [
    "unificado = binary_unification(remotework)\n"
   ]
  },
  {
   "cell_type": "code",
   "execution_count": 238,
   "metadata": {},
   "outputs": [],
   "source": [
    "data[\"RemoteWork\"] = unificado"
   ]
  },
  {
   "cell_type": "code",
   "execution_count": 239,
   "metadata": {},
   "outputs": [],
   "source": [
    "minusculas = data[\"JobRole\"].str.lower()\n",
    "data[\"JobRole\"] = minusculas"
   ]
  },
  {
   "cell_type": "code",
   "execution_count": 240,
   "metadata": {},
   "outputs": [
    {
     "data": {
      "text/html": [
       "<div>\n",
       "<style scoped>\n",
       "    .dataframe tbody tr th:only-of-type {\n",
       "        vertical-align: middle;\n",
       "    }\n",
       "\n",
       "    .dataframe tbody tr th {\n",
       "        vertical-align: top;\n",
       "    }\n",
       "\n",
       "    .dataframe thead th {\n",
       "        text-align: right;\n",
       "    }\n",
       "</style>\n",
       "<table border=\"1\" class=\"dataframe\">\n",
       "  <thead>\n",
       "    <tr style=\"text-align: right;\">\n",
       "      <th></th>\n",
       "      <th>Attrition</th>\n",
       "      <th>OverTime</th>\n",
       "      <th>DistanceFromHome</th>\n",
       "      <th>RemoteWork</th>\n",
       "      <th>BusinessTravel</th>\n",
       "      <th>TrainingTimesLastYear</th>\n",
       "      <th>Department</th>\n",
       "      <th>JobRole</th>\n",
       "      <th>JobLevel</th>\n",
       "    </tr>\n",
       "  </thead>\n",
       "  <tbody>\n",
       "    <tr>\n",
       "      <th>0</th>\n",
       "      <td>No</td>\n",
       "      <td>No</td>\n",
       "      <td>6</td>\n",
       "      <td>1</td>\n",
       "      <td>NaN</td>\n",
       "      <td>5</td>\n",
       "      <td>NaN</td>\n",
       "      <td>research director</td>\n",
       "      <td>5</td>\n",
       "    </tr>\n",
       "    <tr>\n",
       "      <th>1</th>\n",
       "      <td>No</td>\n",
       "      <td>NaN</td>\n",
       "      <td>1</td>\n",
       "      <td>1</td>\n",
       "      <td>NaN</td>\n",
       "      <td>5</td>\n",
       "      <td>NaN</td>\n",
       "      <td>manager</td>\n",
       "      <td>5</td>\n",
       "    </tr>\n",
       "    <tr>\n",
       "      <th>2</th>\n",
       "      <td>No</td>\n",
       "      <td>No</td>\n",
       "      <td>4</td>\n",
       "      <td>1</td>\n",
       "      <td>travel_rarely</td>\n",
       "      <td>3</td>\n",
       "      <td>Research &amp; Development</td>\n",
       "      <td>manager</td>\n",
       "      <td>5</td>\n",
       "    </tr>\n",
       "    <tr>\n",
       "      <th>3</th>\n",
       "      <td>No</td>\n",
       "      <td>NaN</td>\n",
       "      <td>2</td>\n",
       "      <td>0</td>\n",
       "      <td>travel_rarely</td>\n",
       "      <td>2</td>\n",
       "      <td>NaN</td>\n",
       "      <td>research director</td>\n",
       "      <td>4</td>\n",
       "    </tr>\n",
       "    <tr>\n",
       "      <th>4</th>\n",
       "      <td>No</td>\n",
       "      <td>No</td>\n",
       "      <td>3</td>\n",
       "      <td>0</td>\n",
       "      <td>NaN</td>\n",
       "      <td>5</td>\n",
       "      <td>NaN</td>\n",
       "      <td>sales executive</td>\n",
       "      <td>4</td>\n",
       "    </tr>\n",
       "    <tr>\n",
       "      <th>...</th>\n",
       "      <td>...</td>\n",
       "      <td>...</td>\n",
       "      <td>...</td>\n",
       "      <td>...</td>\n",
       "      <td>...</td>\n",
       "      <td>...</td>\n",
       "      <td>...</td>\n",
       "      <td>...</td>\n",
       "      <td>...</td>\n",
       "    </tr>\n",
       "    <tr>\n",
       "      <th>1609</th>\n",
       "      <td>Yes</td>\n",
       "      <td>NaN</td>\n",
       "      <td>3</td>\n",
       "      <td>0</td>\n",
       "      <td>travel_rarely</td>\n",
       "      <td>6</td>\n",
       "      <td>NaN</td>\n",
       "      <td>sales executive</td>\n",
       "      <td>3</td>\n",
       "    </tr>\n",
       "    <tr>\n",
       "      <th>1610</th>\n",
       "      <td>No</td>\n",
       "      <td>NaN</td>\n",
       "      <td>4</td>\n",
       "      <td>1</td>\n",
       "      <td>non-travel</td>\n",
       "      <td>5</td>\n",
       "      <td>NaN</td>\n",
       "      <td>laboratory technician</td>\n",
       "      <td>2</td>\n",
       "    </tr>\n",
       "    <tr>\n",
       "      <th>1611</th>\n",
       "      <td>No</td>\n",
       "      <td>No</td>\n",
       "      <td>-13</td>\n",
       "      <td>1</td>\n",
       "      <td>travel_rarely</td>\n",
       "      <td>3</td>\n",
       "      <td>NaN</td>\n",
       "      <td>sales executive</td>\n",
       "      <td>3</td>\n",
       "    </tr>\n",
       "    <tr>\n",
       "      <th>1612</th>\n",
       "      <td>No</td>\n",
       "      <td>No</td>\n",
       "      <td>8</td>\n",
       "      <td>1</td>\n",
       "      <td>non-travel</td>\n",
       "      <td>3</td>\n",
       "      <td>NaN</td>\n",
       "      <td>sales executive</td>\n",
       "      <td>2</td>\n",
       "    </tr>\n",
       "    <tr>\n",
       "      <th>1613</th>\n",
       "      <td>No</td>\n",
       "      <td>NaN</td>\n",
       "      <td>7</td>\n",
       "      <td>0</td>\n",
       "      <td>NaN</td>\n",
       "      <td>3</td>\n",
       "      <td>NaN</td>\n",
       "      <td>manufacturing director</td>\n",
       "      <td>3</td>\n",
       "    </tr>\n",
       "  </tbody>\n",
       "</table>\n",
       "<p>1614 rows × 9 columns</p>\n",
       "</div>"
      ],
      "text/plain": [
       "     Attrition OverTime  DistanceFromHome  RemoteWork BusinessTravel  \\\n",
       "0           No       No                 6           1            NaN   \n",
       "1           No      NaN                 1           1            NaN   \n",
       "2           No       No                 4           1  travel_rarely   \n",
       "3           No      NaN                 2           0  travel_rarely   \n",
       "4           No       No                 3           0            NaN   \n",
       "...        ...      ...               ...         ...            ...   \n",
       "1609       Yes      NaN                 3           0  travel_rarely   \n",
       "1610        No      NaN                 4           1     non-travel   \n",
       "1611        No       No               -13           1  travel_rarely   \n",
       "1612        No       No                 8           1     non-travel   \n",
       "1613        No      NaN                 7           0            NaN   \n",
       "\n",
       "      TrainingTimesLastYear                Department  \\\n",
       "0                         5                       NaN   \n",
       "1                         5                       NaN   \n",
       "2                         3   Research & Development    \n",
       "3                         2                       NaN   \n",
       "4                         5                       NaN   \n",
       "...                     ...                       ...   \n",
       "1609                      6                       NaN   \n",
       "1610                      5                       NaN   \n",
       "1611                      3                       NaN   \n",
       "1612                      3                       NaN   \n",
       "1613                      3                       NaN   \n",
       "\n",
       "                       JobRole  JobLevel  \n",
       "0           research director          5  \n",
       "1                     manager          5  \n",
       "2                     manager          5  \n",
       "3           research director          4  \n",
       "4             sales executive          4  \n",
       "...                        ...       ...  \n",
       "1609          sales executive          3  \n",
       "1610    laboratory technician          2  \n",
       "1611          sales executive          3  \n",
       "1612          sales executive          2  \n",
       "1613   manufacturing director          3  \n",
       "\n",
       "[1614 rows x 9 columns]"
      ]
     },
     "execution_count": 240,
     "metadata": {},
     "output_type": "execute_result"
    }
   ],
   "source": [
    "data[columnas_patri]"
   ]
  },
  {
   "cell_type": "code",
   "execution_count": 241,
   "metadata": {},
   "outputs": [
    {
     "data": {
      "text/plain": [
       "0        6\n",
       "1        1\n",
       "2        4\n",
       "3        2\n",
       "4        3\n",
       "        ..\n",
       "1609     3\n",
       "1610     4\n",
       "1611   -13\n",
       "1612     8\n",
       "1613     7\n",
       "Name: DistanceFromHome, Length: 1614, dtype: int64"
      ]
     },
     "execution_count": 241,
     "metadata": {},
     "output_type": "execute_result"
    }
   ],
   "source": [
    "data[\"DistanceFromHome\"] "
   ]
  },
  {
   "cell_type": "code",
   "execution_count": 242,
   "metadata": {},
   "outputs": [],
   "source": [
    "import numpy as np\n"
   ]
  },
  {
   "cell_type": "code",
   "execution_count": 243,
   "metadata": {},
   "outputs": [],
   "source": [
    "def convertir_a_positivo(numero):\n",
    "    if numero < 0:\n",
    "        return np.abs(numero)\n",
    "    else:\n",
    "        return numero\n",
    "\n",
    "\n",
    "        \n"
   ]
  },
  {
   "cell_type": "code",
   "execution_count": 244,
   "metadata": {},
   "outputs": [],
   "source": [
    "data[\"DistanceFromHome\"] = data[\"DistanceFromHome\"].apply(convertir_a_positivo)"
   ]
  },
  {
   "cell_type": "code",
   "execution_count": 245,
   "metadata": {},
   "outputs": [
    {
     "data": {
      "text/plain": [
       "0        6\n",
       "1        1\n",
       "2        4\n",
       "3        2\n",
       "4        3\n",
       "        ..\n",
       "1609     3\n",
       "1610     4\n",
       "1611    13\n",
       "1612     8\n",
       "1613     7\n",
       "Name: DistanceFromHome, Length: 1614, dtype: int64"
      ]
     },
     "execution_count": 245,
     "metadata": {},
     "output_type": "execute_result"
    }
   ],
   "source": [
    "data[\"DistanceFromHome\"] "
   ]
  },
  {
   "cell_type": "code",
   "execution_count": 246,
   "metadata": {},
   "outputs": [
    {
     "data": {
      "text/html": [
       "<div>\n",
       "<style scoped>\n",
       "    .dataframe tbody tr th:only-of-type {\n",
       "        vertical-align: middle;\n",
       "    }\n",
       "\n",
       "    .dataframe tbody tr th {\n",
       "        vertical-align: top;\n",
       "    }\n",
       "\n",
       "    .dataframe thead th {\n",
       "        text-align: right;\n",
       "    }\n",
       "</style>\n",
       "<table border=\"1\" class=\"dataframe\">\n",
       "  <thead>\n",
       "    <tr style=\"text-align: right;\">\n",
       "      <th></th>\n",
       "      <th>Attrition</th>\n",
       "      <th>OverTime</th>\n",
       "      <th>DistanceFromHome</th>\n",
       "      <th>RemoteWork</th>\n",
       "      <th>BusinessTravel</th>\n",
       "      <th>TrainingTimesLastYear</th>\n",
       "      <th>Department</th>\n",
       "      <th>JobRole</th>\n",
       "      <th>JobLevel</th>\n",
       "    </tr>\n",
       "  </thead>\n",
       "  <tbody>\n",
       "    <tr>\n",
       "      <th>0</th>\n",
       "      <td>No</td>\n",
       "      <td>No</td>\n",
       "      <td>6</td>\n",
       "      <td>1</td>\n",
       "      <td>NaN</td>\n",
       "      <td>5</td>\n",
       "      <td>NaN</td>\n",
       "      <td>research director</td>\n",
       "      <td>5</td>\n",
       "    </tr>\n",
       "    <tr>\n",
       "      <th>1</th>\n",
       "      <td>No</td>\n",
       "      <td>NaN</td>\n",
       "      <td>1</td>\n",
       "      <td>1</td>\n",
       "      <td>NaN</td>\n",
       "      <td>5</td>\n",
       "      <td>NaN</td>\n",
       "      <td>manager</td>\n",
       "      <td>5</td>\n",
       "    </tr>\n",
       "    <tr>\n",
       "      <th>2</th>\n",
       "      <td>No</td>\n",
       "      <td>No</td>\n",
       "      <td>4</td>\n",
       "      <td>1</td>\n",
       "      <td>travel_rarely</td>\n",
       "      <td>3</td>\n",
       "      <td>Research &amp; Development</td>\n",
       "      <td>manager</td>\n",
       "      <td>5</td>\n",
       "    </tr>\n",
       "    <tr>\n",
       "      <th>3</th>\n",
       "      <td>No</td>\n",
       "      <td>NaN</td>\n",
       "      <td>2</td>\n",
       "      <td>0</td>\n",
       "      <td>travel_rarely</td>\n",
       "      <td>2</td>\n",
       "      <td>NaN</td>\n",
       "      <td>research director</td>\n",
       "      <td>4</td>\n",
       "    </tr>\n",
       "    <tr>\n",
       "      <th>4</th>\n",
       "      <td>No</td>\n",
       "      <td>No</td>\n",
       "      <td>3</td>\n",
       "      <td>0</td>\n",
       "      <td>NaN</td>\n",
       "      <td>5</td>\n",
       "      <td>NaN</td>\n",
       "      <td>sales executive</td>\n",
       "      <td>4</td>\n",
       "    </tr>\n",
       "  </tbody>\n",
       "</table>\n",
       "</div>"
      ],
      "text/plain": [
       "  Attrition OverTime  DistanceFromHome  RemoteWork BusinessTravel  \\\n",
       "0        No       No                 6           1            NaN   \n",
       "1        No      NaN                 1           1            NaN   \n",
       "2        No       No                 4           1  travel_rarely   \n",
       "3        No      NaN                 2           0  travel_rarely   \n",
       "4        No       No                 3           0            NaN   \n",
       "\n",
       "   TrainingTimesLastYear                Department              JobRole  \\\n",
       "0                      5                       NaN   research director    \n",
       "1                      5                       NaN             manager    \n",
       "2                      3   Research & Development              manager    \n",
       "3                      2                       NaN   research director    \n",
       "4                      5                       NaN     sales executive    \n",
       "\n",
       "   JobLevel  \n",
       "0         5  \n",
       "1         5  \n",
       "2         5  \n",
       "3         4  \n",
       "4         4  "
      ]
     },
     "execution_count": 246,
     "metadata": {},
     "output_type": "execute_result"
    }
   ],
   "source": [
    "data[columnas_patri].head()"
   ]
  },
  {
   "cell_type": "code",
   "execution_count": 247,
   "metadata": {},
   "outputs": [],
   "source": [
    "data ['OverTime'] = data ['OverTime'].apply (lambda x: 1 if x == 'Yes' else (0 if x == 'No' else np.nan))\n"
   ]
  },
  {
   "cell_type": "code",
   "execution_count": 248,
   "metadata": {},
   "outputs": [],
   "source": [
    "data ['OverTime'] = data ['OverTime'].astype ('Int64', errors = 'ignore')"
   ]
  },
  {
   "cell_type": "code",
   "execution_count": 249,
   "metadata": {},
   "outputs": [
    {
     "data": {
      "text/html": [
       "<div>\n",
       "<style scoped>\n",
       "    .dataframe tbody tr th:only-of-type {\n",
       "        vertical-align: middle;\n",
       "    }\n",
       "\n",
       "    .dataframe tbody tr th {\n",
       "        vertical-align: top;\n",
       "    }\n",
       "\n",
       "    .dataframe thead th {\n",
       "        text-align: right;\n",
       "    }\n",
       "</style>\n",
       "<table border=\"1\" class=\"dataframe\">\n",
       "  <thead>\n",
       "    <tr style=\"text-align: right;\">\n",
       "      <th></th>\n",
       "      <th>Attrition</th>\n",
       "      <th>OverTime</th>\n",
       "      <th>DistanceFromHome</th>\n",
       "      <th>RemoteWork</th>\n",
       "      <th>BusinessTravel</th>\n",
       "      <th>TrainingTimesLastYear</th>\n",
       "      <th>Department</th>\n",
       "      <th>JobRole</th>\n",
       "      <th>JobLevel</th>\n",
       "    </tr>\n",
       "  </thead>\n",
       "  <tbody>\n",
       "    <tr>\n",
       "      <th>0</th>\n",
       "      <td>No</td>\n",
       "      <td>0</td>\n",
       "      <td>6</td>\n",
       "      <td>1</td>\n",
       "      <td>NaN</td>\n",
       "      <td>5</td>\n",
       "      <td>NaN</td>\n",
       "      <td>research director</td>\n",
       "      <td>5</td>\n",
       "    </tr>\n",
       "    <tr>\n",
       "      <th>1</th>\n",
       "      <td>No</td>\n",
       "      <td>&lt;NA&gt;</td>\n",
       "      <td>1</td>\n",
       "      <td>1</td>\n",
       "      <td>NaN</td>\n",
       "      <td>5</td>\n",
       "      <td>NaN</td>\n",
       "      <td>manager</td>\n",
       "      <td>5</td>\n",
       "    </tr>\n",
       "    <tr>\n",
       "      <th>2</th>\n",
       "      <td>No</td>\n",
       "      <td>0</td>\n",
       "      <td>4</td>\n",
       "      <td>1</td>\n",
       "      <td>travel_rarely</td>\n",
       "      <td>3</td>\n",
       "      <td>Research &amp; Development</td>\n",
       "      <td>manager</td>\n",
       "      <td>5</td>\n",
       "    </tr>\n",
       "    <tr>\n",
       "      <th>3</th>\n",
       "      <td>No</td>\n",
       "      <td>&lt;NA&gt;</td>\n",
       "      <td>2</td>\n",
       "      <td>0</td>\n",
       "      <td>travel_rarely</td>\n",
       "      <td>2</td>\n",
       "      <td>NaN</td>\n",
       "      <td>research director</td>\n",
       "      <td>4</td>\n",
       "    </tr>\n",
       "    <tr>\n",
       "      <th>4</th>\n",
       "      <td>No</td>\n",
       "      <td>0</td>\n",
       "      <td>3</td>\n",
       "      <td>0</td>\n",
       "      <td>NaN</td>\n",
       "      <td>5</td>\n",
       "      <td>NaN</td>\n",
       "      <td>sales executive</td>\n",
       "      <td>4</td>\n",
       "    </tr>\n",
       "  </tbody>\n",
       "</table>\n",
       "</div>"
      ],
      "text/plain": [
       "  Attrition  OverTime  DistanceFromHome  RemoteWork BusinessTravel  \\\n",
       "0        No         0                 6           1            NaN   \n",
       "1        No      <NA>                 1           1            NaN   \n",
       "2        No         0                 4           1  travel_rarely   \n",
       "3        No      <NA>                 2           0  travel_rarely   \n",
       "4        No         0                 3           0            NaN   \n",
       "\n",
       "   TrainingTimesLastYear                Department              JobRole  \\\n",
       "0                      5                       NaN   research director    \n",
       "1                      5                       NaN             manager    \n",
       "2                      3   Research & Development              manager    \n",
       "3                      2                       NaN   research director    \n",
       "4                      5                       NaN     sales executive    \n",
       "\n",
       "   JobLevel  \n",
       "0         5  \n",
       "1         5  \n",
       "2         5  \n",
       "3         4  \n",
       "4         4  "
      ]
     },
     "execution_count": 249,
     "metadata": {},
     "output_type": "execute_result"
    }
   ],
   "source": [
    "data[columnas_patri].head()"
   ]
  },
  {
   "cell_type": "code",
   "execution_count": 250,
   "metadata": {},
   "outputs": [],
   "source": [
    "data[columnas_patri].to_csv(\"transofrmacion_patri\", index= False)"
   ]
  }
 ],
 "metadata": {
  "kernelspec": {
   "display_name": "base",
   "language": "python",
   "name": "python3"
  },
  "language_info": {
   "codemirror_mode": {
    "name": "ipython",
    "version": 3
   },
   "file_extension": ".py",
   "mimetype": "text/x-python",
   "name": "python",
   "nbconvert_exporter": "python",
   "pygments_lexer": "ipython3",
   "version": "3.9.7"
  }
 },
 "nbformat": 4,
 "nbformat_minor": 2
}
