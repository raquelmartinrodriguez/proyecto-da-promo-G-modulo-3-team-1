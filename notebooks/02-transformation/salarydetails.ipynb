{
 "cells": [
  {
   "cell_type": "code",
   "execution_count": 50,
   "metadata": {},
   "outputs": [],
   "source": [
    "import pandas as pd\n",
    "import numpy as np\n",
    "\n",
    "pd.set_option('display.max_columns', None)"
   ]
  },
  {
   "cell_type": "code",
   "execution_count": 51,
   "metadata": {},
   "outputs": [],
   "source": [
    "data = pd.read_csv ('../../files/HR_RAW_DATA.csv', index_col = 0)"
   ]
  },
  {
   "cell_type": "code",
   "execution_count": 52,
   "metadata": {},
   "outputs": [],
   "source": [
    "# No se ha incluido la columna 'SameAsMonthlyIncome' ya que es exactamente igual a MonthlyIncome\n",
    "salary_details = data.loc[: , ['DailyRate', 'HourlyRate' , 'MonthlyRate' , 'MonthlyIncome' , 'PercentSalaryHike' , 'StockOptionLevel']]"
   ]
  },
  {
   "cell_type": "code",
   "execution_count": 54,
   "metadata": {},
   "outputs": [],
   "source": [
    "# Reemplaza las strings de 'nan' por valores NaN en DAILYRATE\n",
    "salary_details['DailyRate'] = salary_details['DailyRate'].replace({'nan$': float('NaN')})\n",
    "\n",
    "# Reemplaza los símbolos '$' por '' y ',' por '.' en DAILYRATE\n",
    "dict_remplazo = {'\\$' : '' , ',' : '.'}\n",
    "salary_details['DailyRate'] = salary_details['DailyRate'].replace(dict_remplazo , regex=True)\n",
    "\n",
    "# Reemplaza las ',' por '.' en MONTHLYINCOME\n",
    "salary_details['MonthlyIncome'] = salary_details['MonthlyIncome'].str.replace(',' , '.')\n",
    "\n",
    "# Reemplaza las strings de 'Not Available' por valores NaN\n",
    "salary_details['HourlyRate'] = salary_details['HourlyRate'].replace({'Not Available': float('NaN')})"
   ]
  },
  {
   "cell_type": "code",
   "execution_count": 64,
   "metadata": {},
   "outputs": [],
   "source": [
    "# Itera sobre cada columna en el DataFrame\n",
    "for columna in salary_details.columns:\n",
    "    \n",
    "    # Convierte los valores de la columna a números flotantes\n",
    "    # Establece como NaN aquellos valores que no pueden ser convertidos (errores = coerce)\n",
    "    salary_details[columna] = pd.to_numeric(salary_details[columna], errors='coerce', downcast='float')"
   ]
  },
  {
   "cell_type": "code",
   "execution_count": 67,
   "metadata": {},
   "outputs": [],
   "source": [
    "# Crea una lista de las columnas que se pasarán a integers\n",
    "integers = ['StockOptionLevel' , 'PercentSalaryHike']\n",
    "\n",
    "for columna in integers:\n",
    "    # Convierte los valores de la columna a enteros \n",
    "    # Mantiene los valores NaN como NaN\n",
    "    salary_details[columna] = salary_details[columna].astype('int64', errors='ignore')"
   ]
  },
  {
   "cell_type": "code",
   "execution_count": 69,
   "metadata": {},
   "outputs": [
    {
     "data": {
      "text/plain": [
       "DailyRate            float32\n",
       "HourlyRate           float32\n",
       "MonthlyRate          float32\n",
       "MonthlyIncome        float32\n",
       "PercentSalaryHike      int64\n",
       "StockOptionLevel       int64\n",
       "dtype: object"
      ]
     },
     "execution_count": 69,
     "metadata": {},
     "output_type": "execute_result"
    }
   ],
   "source": [
    "# Comprobación de que los datos han sido modificados correctamente:\n",
    "salary_details.dtypes"
   ]
  },
  {
   "cell_type": "code",
   "execution_count": 70,
   "metadata": {},
   "outputs": [
    {
     "data": {
      "text/html": [
       "<div>\n",
       "<style scoped>\n",
       "    .dataframe tbody tr th:only-of-type {\n",
       "        vertical-align: middle;\n",
       "    }\n",
       "\n",
       "    .dataframe tbody tr th {\n",
       "        vertical-align: top;\n",
       "    }\n",
       "\n",
       "    .dataframe thead th {\n",
       "        text-align: right;\n",
       "    }\n",
       "</style>\n",
       "<table border=\"1\" class=\"dataframe\">\n",
       "  <thead>\n",
       "    <tr style=\"text-align: right;\">\n",
       "      <th></th>\n",
       "      <th>DailyRate</th>\n",
       "      <th>HourlyRate</th>\n",
       "      <th>MonthlyRate</th>\n",
       "      <th>MonthlyIncome</th>\n",
       "      <th>PercentSalaryHike</th>\n",
       "      <th>StockOptionLevel</th>\n",
       "    </tr>\n",
       "  </thead>\n",
       "  <tbody>\n",
       "    <tr>\n",
       "      <th>0</th>\n",
       "      <td>684.0</td>\n",
       "      <td>51.0</td>\n",
       "      <td>6462.0</td>\n",
       "      <td>19537.0</td>\n",
       "      <td>13</td>\n",
       "      <td>0</td>\n",
       "    </tr>\n",
       "    <tr>\n",
       "      <th>1</th>\n",
       "      <td>699.0</td>\n",
       "      <td>65.0</td>\n",
       "      <td>5678.0</td>\n",
       "      <td>19999.0</td>\n",
       "      <td>14</td>\n",
       "      <td>1</td>\n",
       "    </tr>\n",
       "  </tbody>\n",
       "</table>\n",
       "</div>"
      ],
      "text/plain": [
       "   DailyRate  HourlyRate  MonthlyRate  MonthlyIncome  PercentSalaryHike  \\\n",
       "0      684.0        51.0       6462.0        19537.0                 13   \n",
       "1      699.0        65.0       5678.0        19999.0                 14   \n",
       "\n",
       "   StockOptionLevel  \n",
       "0                 0  \n",
       "1                 1  "
      ]
     },
     "execution_count": 70,
     "metadata": {},
     "output_type": "execute_result"
    }
   ],
   "source": [
    "salary_details.head(2)"
   ]
  },
  {
   "cell_type": "code",
   "execution_count": 71,
   "metadata": {},
   "outputs": [],
   "source": [
    "# Guarda el DF resultante en un CSV\n",
    "salary_details.to_csv('../../files/salarydetails_w_floats.csv')"
   ]
  }
 ],
 "metadata": {
  "kernelspec": {
   "display_name": "base",
   "language": "python",
   "name": "python3"
  },
  "language_info": {
   "codemirror_mode": {
    "name": "ipython",
    "version": 3
   },
   "file_extension": ".py",
   "mimetype": "text/x-python",
   "name": "python",
   "nbconvert_exporter": "python",
   "pygments_lexer": "ipython3",
   "version": "3.9.7"
  }
 },
 "nbformat": 4,
 "nbformat_minor": 2
}
