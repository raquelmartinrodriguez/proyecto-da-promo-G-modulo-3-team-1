{
 "cells": [
  {
   "cell_type": "code",
   "execution_count": 98,
   "metadata": {},
   "outputs": [],
   "source": [
    "import pandas as pd\n",
    "import numpy as np\n",
    "from sklearn.impute import SimpleImputer\n",
    "from sklearn.experimental import enable_iterative_imputer\n",
    "from sklearn.impute import IterativeImputer\n",
    "from sklearn.impute import KNNImputer\n",
    "import seaborn as sns\n",
    "import matplotlib.pyplot as plt\n",
    "pd.set_option('display.max_columns', None)\n",
    "\n",
    "import random "
   ]
  },
  {
   "cell_type": "markdown",
   "metadata": {},
   "source": [
    "Lectura de .csv limpios"
   ]
  },
  {
   "cell_type": "code",
   "execution_count": 99,
   "metadata": {},
   "outputs": [],
   "source": [
    "data = pd.read_csv(\"../../files/HR_RAW_DATA.csv\", index_col = 0)\n",
    "\n",
    "employees = pd.read_csv(\"../../files/df_exploracion_employees.csv\" , index_col = 0)\n",
    "\n",
    "experience = pd.read_csv(\"../../files/df_employee_exp.csv\")\n",
    "\n",
    "surveys = pd.read_csv(\"../../files/surveys.csv\" , index_col = 0)\n",
    "\n",
    "employment = pd.read_csv(\"transofrmacion_patri\" )\n",
    "\n",
    "salary = pd.read_csv(\"../../files/salarydetails_w_floats.csv\" , index_col = 0)\n",
    "\n",
    "hours = pd.read_csv(\"../../files/df_Salary_SH.csv\")"
   ]
  },
  {
   "cell_type": "markdown",
   "metadata": {},
   "source": [
    "Concatenación de archivos"
   ]
  },
  {
   "cell_type": "code",
   "execution_count": 100,
   "metadata": {},
   "outputs": [],
   "source": [
    "df_limpio = pd.concat([data['employeenumber'], employees, experience, surveys, employment, salary, hours], axis = 1, ignore_index = False)"
   ]
  },
  {
   "cell_type": "markdown",
   "metadata": {},
   "source": [
    "Homogeneización de columnas"
   ]
  },
  {
   "cell_type": "code",
   "execution_count": 101,
   "metadata": {},
   "outputs": [],
   "source": [
    "nuevas_columnas = {'employeenumber' : 'EmployeeID' , 'NUMBERCHILDREN' : 'NumberChildren' , 'NUMCOMPANIESWORKED' : 'NumCompaniesWorked', 'TOTALWORKINGYEARS' : 'TotalWorkingYears' , 'YEARSWITHCURRMANAGER' : 'YearsWithCurrManager' , 'WORKLIFEBALANCE' : 'WorkLifeBalance'}"
   ]
  },
  {
   "cell_type": "code",
   "execution_count": 102,
   "metadata": {},
   "outputs": [],
   "source": [
    "df_limpio.rename(columns = nuevas_columnas, inplace = True)"
   ]
  },
  {
   "cell_type": "markdown",
   "metadata": {},
   "source": [
    "Limpieza de duplicados"
   ]
  },
  {
   "cell_type": "code",
   "execution_count": 103,
   "metadata": {},
   "outputs": [
    {
     "name": "stdout",
     "output_type": "stream",
     "text": [
      "Int64Index([  81,   83,   86,   87,  307,  312,  313,  318,  319,  321,  322,\n",
      "             325,  332,  334,  341,  356,  359,  364,  457,  465,  468,  873,\n",
      "             884,  885,  887,  888,  898,  989, 1002, 1009, 1473, 1475, 1478,\n",
      "            1479, 1485, 1489, 1496, 1499, 1507, 1510, 1514, 1525, 1526, 1528,\n",
      "            1529, 1539, 1550, 1555, 1556, 1561, 1562, 1564, 1565, 1568, 1575,\n",
      "            1577, 1584, 1599, 1602, 1607],\n",
      "           dtype='int64')\n"
     ]
    }
   ],
   "source": [
    "# Encuentra las filas duplicadas, excluyendo la columna 'RemoteWork'\n",
    "filas_duplicadas = df_limpio.drop(columns=['RemoteWork']).duplicated(keep=False)\n",
    "\n",
    "# Filtra las filas que tienen valores nulos en 'EmployeeID'\n",
    "filas_con_nulos = df_limpio['EmployeeID'].isnull()\n",
    "\n",
    "# Combina las dos condiciones anteriores para obtener las filas que están duplicadas entre sí y tienen valores nulos en 'EmployeeID'\n",
    "filas_interesantes = filas_duplicadas & filas_con_nulos\n",
    "\n",
    "# Obtiene los índices de las filas interesantes\n",
    "indices_interesantes = df_limpio.index[filas_interesantes]\n",
    "\n",
    "# Imprime los índices encontrados\n",
    "print(indices_interesantes)"
   ]
  },
  {
   "cell_type": "code",
   "execution_count": 104,
   "metadata": {},
   "outputs": [],
   "source": [
    "df_limpio = df_limpio.drop_duplicates(keep=\"first\")"
   ]
  },
  {
   "cell_type": "code",
   "execution_count": 105,
   "metadata": {},
   "outputs": [],
   "source": [
    "df_limpio = df_limpio.reset_index()\n",
    "df_limpio.drop(\"index\", axis=1, inplace=True)"
   ]
  },
  {
   "cell_type": "markdown",
   "metadata": {},
   "source": [
    "Imputación de nulos para la columna EmployeeID"
   ]
  },
  {
   "cell_type": "code",
   "execution_count": 106,
   "metadata": {},
   "outputs": [],
   "source": [
    "def asignar_id(valor, contador):\n",
    "    \n",
    "    if pd.isnull(valor):\n",
    "        contador[0] += 1  # Incrementar el contador si el valor es NaN\n",
    "        id_nulo = f'nan{contador[0]}'  # Devolver el ID con el contador actualizado\n",
    "        return id_nulo\n",
    "    \n",
    "    else:\n",
    "        return valor.replace(',0' , '')  # Devolver el valor quitándole los decimales\n",
    "\n",
    "# Reiniciar el contador cada vez que se aplique la función\n",
    "def aplicar_asignar_id(columna):\n",
    "    contador = [0]\n",
    "    return columna.apply(lambda x: asignar_id(x, contador))\n",
    "\n",
    "# Aplicar la función a la columna 'EmployeeID' y reasignar los resultados\n",
    "df_limpio['EmployeeID'] = aplicar_asignar_id(df_limpio['EmployeeID'])\n"
   ]
  },
  {
   "cell_type": "code",
   "execution_count": 107,
   "metadata": {},
   "outputs": [
    {
     "data": {
      "text/plain": [
       "0          162\n",
       "1          259\n",
       "2          319\n",
       "3         nan1\n",
       "4         nan2\n",
       "         ...  \n",
       "1558    nan410\n",
       "1559       966\n",
       "1560       972\n",
       "1561    nan411\n",
       "1562    nan412\n",
       "Name: EmployeeID, Length: 1563, dtype: object"
      ]
     },
     "execution_count": 107,
     "metadata": {},
     "output_type": "execute_result"
    }
   ],
   "source": [
    "df_limpio['EmployeeID']"
   ]
  },
  {
   "cell_type": "code",
   "execution_count": 108,
   "metadata": {},
   "outputs": [
    {
     "data": {
      "text/plain": [
       "1563"
      ]
     },
     "execution_count": 108,
     "metadata": {},
     "output_type": "execute_result"
    }
   ],
   "source": [
    "df_limpio.shape[0]"
   ]
  }
 ],
 "metadata": {
  "kernelspec": {
   "display_name": "base",
   "language": "python",
   "name": "python3"
  },
  "language_info": {
   "codemirror_mode": {
    "name": "ipython",
    "version": 3
   },
   "file_extension": ".py",
   "mimetype": "text/x-python",
   "name": "python",
   "nbconvert_exporter": "python",
   "pygments_lexer": "ipython3",
   "version": "3.9.7"
  }
 },
 "nbformat": 4,
 "nbformat_minor": 2
}
