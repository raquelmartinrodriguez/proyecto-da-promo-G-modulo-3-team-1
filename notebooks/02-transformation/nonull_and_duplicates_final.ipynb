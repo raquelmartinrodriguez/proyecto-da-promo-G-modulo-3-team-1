{
 "cells": [
  {
   "cell_type": "code",
   "execution_count": 1,
   "metadata": {},
   "outputs": [],
   "source": [
    "import pandas as pd\n",
    "import numpy as np\n",
    "\n",
    "from sklearn.impute import SimpleImputer\n",
    "from sklearn.experimental import enable_iterative_imputer\n",
    "from sklearn.impute import IterativeImputer\n",
    "from sklearn.impute import KNNImputer\n",
    "import seaborn as sns\n",
    "import matplotlib.pyplot as plt\n",
    "\n",
    "pd.set_option('display.max_columns', None)"
   ]
  },
  {
   "cell_type": "markdown",
   "metadata": {},
   "source": [
    "Lectura de .csv limpios"
   ]
  },
  {
   "cell_type": "code",
   "execution_count": 2,
   "metadata": {},
   "outputs": [],
   "source": [
    "data = pd.read_csv(\"../../files/HR_RAW_DATA.csv\", index_col = 0)\n",
    "\n",
    "employees = pd.read_csv(\"../../files/df_exploracion_employees.csv\" , index_col = 0)\n",
    "\n",
    "experience = pd.read_csv(\"../../files/df_employee_exp.csv\")\n",
    "\n",
    "surveys = pd.read_csv(\"../../files/surveys.csv\" , index_col = 0)\n",
    "\n",
    "employment = pd.read_csv(\"transofrmacion_patri\" )\n",
    "\n",
    "salary = pd.read_csv(\"../../files/salarydetails_w_floats.csv\" , index_col = 0)\n",
    "\n",
    "hours = pd.read_csv(\"../../files/df_Salary_SH.csv\")"
   ]
  },
  {
   "cell_type": "markdown",
   "metadata": {},
   "source": [
    "Concatenación de archivos"
   ]
  },
  {
   "cell_type": "code",
   "execution_count": 3,
   "metadata": {},
   "outputs": [],
   "source": [
    "df_limpio = pd.concat([data['employeenumber'], employees, experience, surveys, employment, salary, hours], axis = 1, ignore_index = False)"
   ]
  },
  {
   "cell_type": "markdown",
   "metadata": {},
   "source": [
    "Homogeneización de columnas"
   ]
  },
  {
   "cell_type": "code",
   "execution_count": 4,
   "metadata": {},
   "outputs": [],
   "source": [
    "nuevas_columnas = {'employeenumber' : 'EmployeeID' , 'NUMBERCHILDREN' : 'NumberChildren' , 'NUMCOMPANIESWORKED' : 'NumCompaniesWorked', 'TOTALWORKINGYEARS' : 'TotalWorkingYears' , 'YEARSWITHCURRMANAGER' : 'YearsWithCurrManager' , 'WORKLIFEBALANCE' : 'WorkLifeBalance'}"
   ]
  },
  {
   "cell_type": "code",
   "execution_count": 5,
   "metadata": {},
   "outputs": [],
   "source": [
    "df_limpio.rename(columns = nuevas_columnas, inplace = True)"
   ]
  },
  {
   "cell_type": "markdown",
   "metadata": {},
   "source": [
    "Limpieza de duplicados"
   ]
  },
  {
   "cell_type": "code",
   "execution_count": 6,
   "metadata": {},
   "outputs": [],
   "source": [
    "df_limpio = df_limpio.drop_duplicates(keep=\"first\")"
   ]
  },
  {
   "cell_type": "code",
   "execution_count": 7,
   "metadata": {},
   "outputs": [],
   "source": [
    "df_limpio = df_limpio.reset_index()\n",
    "df_limpio.drop(\"index\", axis=1, inplace=True)"
   ]
  },
  {
   "cell_type": "markdown",
   "metadata": {},
   "source": [
    "Revisión de aquellos empleados sin EmployeeID que puedan ser el mismo (coinciden en todas las columnas salvo RemoteWork)"
   ]
  },
  {
   "cell_type": "code",
   "execution_count": 8,
   "metadata": {},
   "outputs": [],
   "source": [
    "# Saca un DataFrame de los empleados con EmployeeID nulo y que coinciden en todo salvo en RemoteWork\n",
    "\n",
    "# Filtra las filas con valores nulos en 'EmployeeID'\n",
    "filas_nulas = df_limpio['EmployeeID'].isnull()\n",
    "df_filas_nulas = df_limpio[filas_nulas]\n",
    "\n",
    "# Excluye la columna 'RemoteWork' para buscar duplicados\n",
    "df_sin_remote = df_filas_nulas.drop(columns=['RemoteWork'])\n",
    "\n",
    "# Busca duplicados en las filas filtradas\n",
    "duplicados_sin_RW = df_sin_remote[df_sin_remote.duplicated(keep=False)]\n",
    "\n",
    "# Extrae los indices\n",
    "indices_duplicados = duplicados_sin_RW.index\n",
    "\n",
    "# Crea una lista de los indices con las coincidencias\n",
    "lista_indices_mismo_empleado = df_limpio.loc[indices_duplicados , :].sort_values(['Age' , 'Gender']).index"
   ]
  },
  {
   "cell_type": "markdown",
   "metadata": {},
   "source": [
    "Imputación general de nulos para la columna EmployeeID"
   ]
  },
  {
   "cell_type": "code",
   "execution_count": 9,
   "metadata": {},
   "outputs": [],
   "source": [
    "def asignar_id(valor, contador):\n",
    "    \n",
    "    if pd.isnull(valor):\n",
    "        contador[0] += 1  # Incrementar el contador si el valor es NaN\n",
    "        id_nulo = f'nan{contador[0]}'  # Devolver el ID con el contador actualizado\n",
    "        return id_nulo\n",
    "    \n",
    "    else:\n",
    "        return valor.replace(',0' , '')  # Devolver el valor quitándole los decimales\n",
    "\n",
    "# Reiniciar el contador cada vez que se aplique la función\n",
    "def aplicar_asignar_id(columna):\n",
    "    contador = [0]\n",
    "    return columna.apply(lambda x: asignar_id(x, contador))\n",
    "\n",
    "# Aplicar la función a la columna 'EmployeeID' y reasignar los resultados\n",
    "df_limpio['EmployeeID'] = aplicar_asignar_id(df_limpio['EmployeeID'])\n"
   ]
  },
  {
   "cell_type": "markdown",
   "metadata": {},
   "source": [
    "Asignación de la misma EmployeeID a los empleados que aparecen en `lista_indices_mismo_empleado`"
   ]
  },
  {
   "cell_type": "code",
   "execution_count": 10,
   "metadata": {},
   "outputs": [
    {
     "name": "stderr",
     "output_type": "stream",
     "text": [
      "/tmp/ipykernel_6872/1808907360.py:7: SettingWithCopyWarning: \n",
      "A value is trying to be set on a copy of a slice from a DataFrame\n",
      "\n",
      "See the caveats in the documentation: https://pandas.pydata.org/pandas-docs/stable/user_guide/indexing.html#returning-a-view-versus-a-copy\n",
      "  df_limpio['EmployeeID'][indice] = df_limpio['EmployeeID'][dato]\n"
     ]
    }
   ],
   "source": [
    "indice_sublista = 0\n",
    "\n",
    "for indice in lista_indices_mismo_empleado[1::2]:\n",
    "    \n",
    "    dato = lista_indices_mismo_empleado[indice_sublista]\n",
    "    \n",
    "    df_limpio['EmployeeID'][indice] = df_limpio['EmployeeID'][dato]\n",
    "    \n",
    "    indice_sublista += 2"
   ]
  },
  {
   "cell_type": "code",
   "execution_count": 15,
   "metadata": {},
   "outputs": [],
   "source": [
    "df_limpio.to_csv(\"../../files/df_to_SQL.csv\")"
   ]
  }
 ],
 "metadata": {
  "kernelspec": {
   "display_name": "base",
   "language": "python",
   "name": "python3"
  },
  "language_info": {
   "codemirror_mode": {
    "name": "ipython",
    "version": 3
   },
   "file_extension": ".py",
   "mimetype": "text/x-python",
   "name": "python",
   "nbconvert_exporter": "python",
   "pygments_lexer": "ipython3",
   "version": "3.9.7"
  }
 },
 "nbformat": 4,
 "nbformat_minor": 2
}
