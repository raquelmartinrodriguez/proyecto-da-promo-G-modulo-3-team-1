{
 "cells": [
  {
   "cell_type": "code",
   "execution_count": 1,
   "metadata": {},
   "outputs": [],
   "source": [
    "import pandas as pd\n",
    "import numpy as np\n",
    "\n",
    "from sklearn.impute import SimpleImputer\n",
    "from sklearn.experimental import enable_iterative_imputer\n",
    "from sklearn.impute import IterativeImputer\n",
    "from sklearn.impute import KNNImputer\n",
    "import seaborn as sns\n",
    "import matplotlib.pyplot as plt\n",
    "\n",
    "pd.set_option('display.max_columns', None)"
   ]
  },
  {
   "cell_type": "markdown",
   "metadata": {},
   "source": [
    "Lectura de .csv limpios"
   ]
  },
  {
   "cell_type": "code",
   "execution_count": 2,
   "metadata": {},
   "outputs": [],
   "source": [
    "data = pd.read_csv(\"../../files/HR_RAW_DATA.csv\", index_col = 0)\n",
    "\n",
    "employees = pd.read_csv(\"../../files/df_exploracion_employees.csv\" , index_col = 0)\n",
    "\n",
    "experience = pd.read_csv(\"../../files/df_employee_exp.csv\")\n",
    "\n",
    "surveys = pd.read_csv(\"../../files/surveys.csv\" , index_col = 0)\n",
    "\n",
    "employment = pd.read_csv(\"transformacion_patri.csv\" )\n",
    "\n",
    "salary = pd.read_csv(\"../../files/salarydetails_w_floats.csv\" , index_col = 0)\n",
    "\n",
    "hours = pd.read_csv(\"../../files/df_Salary_SH.csv\")"
   ]
  },
  {
   "cell_type": "markdown",
   "metadata": {},
   "source": [
    "Concatenación de archivos"
   ]
  },
  {
   "cell_type": "code",
   "execution_count": 3,
   "metadata": {},
   "outputs": [],
   "source": [
    "df_limpio = pd.concat([data['employeenumber'], employees, experience, surveys, employment, salary, hours], axis = 1, ignore_index = False)"
   ]
  },
  {
   "cell_type": "markdown",
   "metadata": {},
   "source": [
    "Homogeneización de columnas"
   ]
  },
  {
   "cell_type": "code",
   "execution_count": 4,
   "metadata": {},
   "outputs": [],
   "source": [
    "nuevas_columnas = {'employeenumber' : 'EmployeeID' , 'NUMBERCHILDREN' : 'NumberChildren' , 'NUMCOMPANIESWORKED' : 'NumCompaniesWorked', 'TOTALWORKINGYEARS' : 'TotalWorkingYears' , 'YEARSWITHCURRMANAGER' : 'YearsWithCurrManager' , 'WORKLIFEBALANCE' : 'WorkLifeBalance'}"
   ]
  },
  {
   "cell_type": "code",
   "execution_count": 5,
   "metadata": {},
   "outputs": [],
   "source": [
    "df_limpio.rename(columns = nuevas_columnas, inplace = True)"
   ]
  },
  {
   "cell_type": "markdown",
   "metadata": {},
   "source": [
    "Limpieza de duplicados"
   ]
  },
  {
   "cell_type": "code",
   "execution_count": 6,
   "metadata": {},
   "outputs": [],
   "source": [
    "df_limpio = df_limpio.drop_duplicates(keep=\"first\")"
   ]
  },
  {
   "cell_type": "code",
   "execution_count": 7,
   "metadata": {},
   "outputs": [],
   "source": [
    "df_limpio = df_limpio.reset_index()\n",
    "df_limpio.drop(\"index\", axis=1, inplace=True)"
   ]
  },
  {
   "cell_type": "code",
   "execution_count": 8,
   "metadata": {},
   "outputs": [
    {
     "data": {
      "text/html": [
       "<div>\n",
       "<style scoped>\n",
       "    .dataframe tbody tr th:only-of-type {\n",
       "        vertical-align: middle;\n",
       "    }\n",
       "\n",
       "    .dataframe tbody tr th {\n",
       "        vertical-align: top;\n",
       "    }\n",
       "\n",
       "    .dataframe thead th {\n",
       "        text-align: right;\n",
       "    }\n",
       "</style>\n",
       "<table border=\"1\" class=\"dataframe\">\n",
       "  <thead>\n",
       "    <tr style=\"text-align: right;\">\n",
       "      <th></th>\n",
       "      <th>EmployeeID</th>\n",
       "      <th>Age</th>\n",
       "      <th>Gender</th>\n",
       "      <th>MaritalStatus</th>\n",
       "      <th>NumberChildren</th>\n",
       "      <th>DateBirth</th>\n",
       "      <th>Over18</th>\n",
       "      <th>Education</th>\n",
       "      <th>EducationField</th>\n",
       "      <th>NumCompaniesWorked</th>\n",
       "      <th>TotalWorkingYears</th>\n",
       "      <th>YearsAtCompany</th>\n",
       "      <th>YearsInCurrentRole</th>\n",
       "      <th>YearsSinceLastPromotion</th>\n",
       "      <th>YearsWithCurrManager</th>\n",
       "      <th>EnvironmentSatisfaction</th>\n",
       "      <th>JobSatisfaction</th>\n",
       "      <th>RelationshipSatisfaction</th>\n",
       "      <th>WorkLifeBalance</th>\n",
       "      <th>JobInvolvement</th>\n",
       "      <th>PerformanceRating</th>\n",
       "      <th>Attrition</th>\n",
       "      <th>OverTime</th>\n",
       "      <th>DistanceFromHome</th>\n",
       "      <th>RemoteWork</th>\n",
       "      <th>BusinessTravel</th>\n",
       "      <th>TrainingTimesLastYear</th>\n",
       "      <th>Department</th>\n",
       "      <th>JobRole</th>\n",
       "      <th>JobLevel</th>\n",
       "      <th>DailyRate</th>\n",
       "      <th>HourlyRate</th>\n",
       "      <th>MonthlyRate</th>\n",
       "      <th>MonthlyIncome</th>\n",
       "      <th>PercentSalaryHike</th>\n",
       "      <th>StockOptionLevel</th>\n",
       "      <th>Salary</th>\n",
       "      <th>StandardHours</th>\n",
       "    </tr>\n",
       "  </thead>\n",
       "  <tbody>\n",
       "    <tr>\n",
       "      <th>0</th>\n",
       "      <td>162,0</td>\n",
       "      <td>51</td>\n",
       "      <td>Male</td>\n",
       "      <td>NaN</td>\n",
       "      <td>NaN</td>\n",
       "      <td>1972</td>\n",
       "      <td>Y</td>\n",
       "      <td>3</td>\n",
       "      <td>NaN</td>\n",
       "      <td>7</td>\n",
       "      <td>NaN</td>\n",
       "      <td>20</td>\n",
       "      <td>NaN</td>\n",
       "      <td>15</td>\n",
       "      <td>15</td>\n",
       "      <td>1</td>\n",
       "      <td>3</td>\n",
       "      <td>3</td>\n",
       "      <td>3.0</td>\n",
       "      <td>3</td>\n",
       "      <td>3.0</td>\n",
       "      <td>No</td>\n",
       "      <td>0.0</td>\n",
       "      <td>6</td>\n",
       "      <td>1</td>\n",
       "      <td>NaN</td>\n",
       "      <td>5</td>\n",
       "      <td>NaN</td>\n",
       "      <td>research director</td>\n",
       "      <td>5</td>\n",
       "      <td>684.0</td>\n",
       "      <td>51.0</td>\n",
       "      <td>6462.0</td>\n",
       "      <td>19537.0</td>\n",
       "      <td>13</td>\n",
       "      <td>0</td>\n",
       "      <td>1000000000</td>\n",
       "      <td>NaN</td>\n",
       "    </tr>\n",
       "    <tr>\n",
       "      <th>1</th>\n",
       "      <td>259,0</td>\n",
       "      <td>52</td>\n",
       "      <td>Male</td>\n",
       "      <td>NaN</td>\n",
       "      <td>NaN</td>\n",
       "      <td>1971</td>\n",
       "      <td>NaN</td>\n",
       "      <td>4</td>\n",
       "      <td>Life Sciences</td>\n",
       "      <td>0</td>\n",
       "      <td>34.0</td>\n",
       "      <td>33</td>\n",
       "      <td>NaN</td>\n",
       "      <td>11</td>\n",
       "      <td>9</td>\n",
       "      <td>3</td>\n",
       "      <td>3</td>\n",
       "      <td>1</td>\n",
       "      <td>3.0</td>\n",
       "      <td>2</td>\n",
       "      <td>3.0</td>\n",
       "      <td>No</td>\n",
       "      <td>NaN</td>\n",
       "      <td>1</td>\n",
       "      <td>1</td>\n",
       "      <td>NaN</td>\n",
       "      <td>5</td>\n",
       "      <td>NaN</td>\n",
       "      <td>manager</td>\n",
       "      <td>5</td>\n",
       "      <td>699.0</td>\n",
       "      <td>65.0</td>\n",
       "      <td>5678.0</td>\n",
       "      <td>19999.0</td>\n",
       "      <td>14</td>\n",
       "      <td>1</td>\n",
       "      <td>1000000000</td>\n",
       "      <td>NaN</td>\n",
       "    </tr>\n",
       "    <tr>\n",
       "      <th>2</th>\n",
       "      <td>319,0</td>\n",
       "      <td>42</td>\n",
       "      <td>Male</td>\n",
       "      <td>Married</td>\n",
       "      <td>NaN</td>\n",
       "      <td>1981</td>\n",
       "      <td>NaN</td>\n",
       "      <td>2</td>\n",
       "      <td>Technical Degree</td>\n",
       "      <td>1</td>\n",
       "      <td>22.0</td>\n",
       "      <td>22</td>\n",
       "      <td>NaN</td>\n",
       "      <td>11</td>\n",
       "      <td>15</td>\n",
       "      <td>3</td>\n",
       "      <td>4</td>\n",
       "      <td>4</td>\n",
       "      <td>NaN</td>\n",
       "      <td>3</td>\n",
       "      <td>3.0</td>\n",
       "      <td>No</td>\n",
       "      <td>0.0</td>\n",
       "      <td>4</td>\n",
       "      <td>1</td>\n",
       "      <td>travel_rarely</td>\n",
       "      <td>3</td>\n",
       "      <td>Research &amp; Development</td>\n",
       "      <td>manager</td>\n",
       "      <td>5</td>\n",
       "      <td>532.0</td>\n",
       "      <td>58.0</td>\n",
       "      <td>4933.0</td>\n",
       "      <td>19232.0</td>\n",
       "      <td>11</td>\n",
       "      <td>0</td>\n",
       "      <td>1000000000</td>\n",
       "      <td>NaN</td>\n",
       "    </tr>\n",
       "    <tr>\n",
       "      <th>3</th>\n",
       "      <td>NaN</td>\n",
       "      <td>47</td>\n",
       "      <td>Female</td>\n",
       "      <td>Married</td>\n",
       "      <td>NaN</td>\n",
       "      <td>1976</td>\n",
       "      <td>Y</td>\n",
       "      <td>4</td>\n",
       "      <td>Medical</td>\n",
       "      <td>3</td>\n",
       "      <td>NaN</td>\n",
       "      <td>20</td>\n",
       "      <td>NaN</td>\n",
       "      <td>5</td>\n",
       "      <td>6</td>\n",
       "      <td>1</td>\n",
       "      <td>3</td>\n",
       "      <td>2</td>\n",
       "      <td>NaN</td>\n",
       "      <td>3</td>\n",
       "      <td>3.0</td>\n",
       "      <td>No</td>\n",
       "      <td>NaN</td>\n",
       "      <td>2</td>\n",
       "      <td>0</td>\n",
       "      <td>travel_rarely</td>\n",
       "      <td>2</td>\n",
       "      <td>NaN</td>\n",
       "      <td>research director</td>\n",
       "      <td>4</td>\n",
       "      <td>359.0</td>\n",
       "      <td>82.0</td>\n",
       "      <td>26703.0</td>\n",
       "      <td>17169.0</td>\n",
       "      <td>19</td>\n",
       "      <td>2</td>\n",
       "      <td>1000000000</td>\n",
       "      <td>NaN</td>\n",
       "    </tr>\n",
       "    <tr>\n",
       "      <th>4</th>\n",
       "      <td>NaN</td>\n",
       "      <td>46</td>\n",
       "      <td>Female</td>\n",
       "      <td>Divorced</td>\n",
       "      <td>NaN</td>\n",
       "      <td>1977</td>\n",
       "      <td>Y</td>\n",
       "      <td>3</td>\n",
       "      <td>Technical Degree</td>\n",
       "      <td>2</td>\n",
       "      <td>NaN</td>\n",
       "      <td>19</td>\n",
       "      <td>NaN</td>\n",
       "      <td>2</td>\n",
       "      <td>8</td>\n",
       "      <td>1</td>\n",
       "      <td>1</td>\n",
       "      <td>4</td>\n",
       "      <td>3.0</td>\n",
       "      <td>4</td>\n",
       "      <td>3.0</td>\n",
       "      <td>No</td>\n",
       "      <td>0.0</td>\n",
       "      <td>3</td>\n",
       "      <td>0</td>\n",
       "      <td>NaN</td>\n",
       "      <td>5</td>\n",
       "      <td>NaN</td>\n",
       "      <td>sales executive</td>\n",
       "      <td>4</td>\n",
       "      <td>1319.0</td>\n",
       "      <td>45.0</td>\n",
       "      <td>7739.0</td>\n",
       "      <td>NaN</td>\n",
       "      <td>12</td>\n",
       "      <td>1</td>\n",
       "      <td>1000000000</td>\n",
       "      <td>NaN</td>\n",
       "    </tr>\n",
       "  </tbody>\n",
       "</table>\n",
       "</div>"
      ],
      "text/plain": [
       "  EmployeeID  Age  Gender MaritalStatus  NumberChildren  DateBirth Over18  \\\n",
       "0      162,0   51    Male           NaN             NaN       1972      Y   \n",
       "1      259,0   52    Male           NaN             NaN       1971    NaN   \n",
       "2      319,0   42    Male       Married             NaN       1981    NaN   \n",
       "3        NaN   47  Female       Married             NaN       1976      Y   \n",
       "4        NaN   46  Female      Divorced             NaN       1977      Y   \n",
       "\n",
       "   Education    EducationField  NumCompaniesWorked  TotalWorkingYears  \\\n",
       "0          3               NaN                   7                NaN   \n",
       "1          4     Life Sciences                   0               34.0   \n",
       "2          2  Technical Degree                   1               22.0   \n",
       "3          4           Medical                   3                NaN   \n",
       "4          3  Technical Degree                   2                NaN   \n",
       "\n",
       "   YearsAtCompany  YearsInCurrentRole  YearsSinceLastPromotion  \\\n",
       "0              20                 NaN                       15   \n",
       "1              33                 NaN                       11   \n",
       "2              22                 NaN                       11   \n",
       "3              20                 NaN                        5   \n",
       "4              19                 NaN                        2   \n",
       "\n",
       "   YearsWithCurrManager  EnvironmentSatisfaction  JobSatisfaction  \\\n",
       "0                    15                        1                3   \n",
       "1                     9                        3                3   \n",
       "2                    15                        3                4   \n",
       "3                     6                        1                3   \n",
       "4                     8                        1                1   \n",
       "\n",
       "   RelationshipSatisfaction  WorkLifeBalance  JobInvolvement  \\\n",
       "0                         3              3.0               3   \n",
       "1                         1              3.0               2   \n",
       "2                         4              NaN               3   \n",
       "3                         2              NaN               3   \n",
       "4                         4              3.0               4   \n",
       "\n",
       "   PerformanceRating Attrition  OverTime  DistanceFromHome  RemoteWork  \\\n",
       "0                3.0        No       0.0                 6           1   \n",
       "1                3.0        No       NaN                 1           1   \n",
       "2                3.0        No       0.0                 4           1   \n",
       "3                3.0        No       NaN                 2           0   \n",
       "4                3.0        No       0.0                 3           0   \n",
       "\n",
       "  BusinessTravel  TrainingTimesLastYear                Department  \\\n",
       "0            NaN                      5                       NaN   \n",
       "1            NaN                      5                       NaN   \n",
       "2  travel_rarely                      3   Research & Development    \n",
       "3  travel_rarely                      2                       NaN   \n",
       "4            NaN                      5                       NaN   \n",
       "\n",
       "               JobRole  JobLevel  DailyRate  HourlyRate  MonthlyRate  \\\n",
       "0   research director          5      684.0        51.0       6462.0   \n",
       "1             manager          5      699.0        65.0       5678.0   \n",
       "2             manager          5      532.0        58.0       4933.0   \n",
       "3   research director          4      359.0        82.0      26703.0   \n",
       "4     sales executive          4     1319.0        45.0       7739.0   \n",
       "\n",
       "   MonthlyIncome  PercentSalaryHike  StockOptionLevel      Salary  \\\n",
       "0        19537.0                 13                 0  1000000000   \n",
       "1        19999.0                 14                 1  1000000000   \n",
       "2        19232.0                 11                 0  1000000000   \n",
       "3        17169.0                 19                 2  1000000000   \n",
       "4            NaN                 12                 1  1000000000   \n",
       "\n",
       "   StandardHours  \n",
       "0            NaN  \n",
       "1            NaN  \n",
       "2            NaN  \n",
       "3            NaN  \n",
       "4            NaN  "
      ]
     },
     "execution_count": 8,
     "metadata": {},
     "output_type": "execute_result"
    }
   ],
   "source": [
    "df_limpio.head()"
   ]
  },
  {
   "cell_type": "markdown",
   "metadata": {},
   "source": [
    "Revisión de aquellos empleados sin EmployeeID que puedan ser el mismo (coinciden en todas las columnas salvo RemoteWork)"
   ]
  },
  {
   "cell_type": "code",
   "execution_count": 9,
   "metadata": {},
   "outputs": [],
   "source": [
    "# Saca un DataFrame de los empleados con EmployeeID nulo y que coinciden en todo salvo en RemoteWork\n",
    "\n",
    "# Filtra las filas con valores nulos en 'EmployeeID'\n",
    "filas_nulas = df_limpio['EmployeeID'].isnull()\n",
    "df_filas_nulas = df_limpio[filas_nulas]\n",
    "\n",
    "# Excluye la columna 'RemoteWork' para buscar duplicados\n",
    "df_sin_remote = df_filas_nulas.drop(columns=['RemoteWork'])\n",
    "\n",
    "# Busca duplicados en las filas filtradas\n",
    "duplicados_sin_RW = df_sin_remote[df_sin_remote.duplicated(keep=False)]\n",
    "\n",
    "# Extrae los indices\n",
    "indices_duplicados = duplicados_sin_RW.index\n",
    "\n",
    "# Crea una lista de los indices con las coincidencias\n",
    "lista_indices_mismo_empleado = df_limpio.loc[indices_duplicados , :].sort_values(['Age' , 'Gender']).index"
   ]
  },
  {
   "cell_type": "markdown",
   "metadata": {},
   "source": [
    "Imputación general de nulos para la columna EmployeeID"
   ]
  },
  {
   "cell_type": "code",
   "execution_count": 10,
   "metadata": {},
   "outputs": [],
   "source": [
    "def asignar_id(valor, contador):\n",
    "    \n",
    "    if pd.isnull(valor):\n",
    "        contador[0] += 1  # Incrementar el contador si el valor es NaN\n",
    "        id_nulo = f'nan{contador[0]}'  # Devolver el ID con el contador actualizado\n",
    "        return id_nulo\n",
    "    \n",
    "    else:\n",
    "        return valor.replace(',0' , '')  # Devolver el valor quitándole los decimales\n",
    "\n",
    "# Reiniciar el contador cada vez que se aplique la función\n",
    "def aplicar_asignar_id(columna):\n",
    "    contador = [0]\n",
    "    return columna.apply(lambda x: asignar_id(x, contador))\n",
    "\n",
    "# Aplicar la función a la columna 'EmployeeID' y reasignar los resultados\n",
    "df_limpio['EmployeeID'] = aplicar_asignar_id(df_limpio['EmployeeID'])\n"
   ]
  },
  {
   "cell_type": "markdown",
   "metadata": {},
   "source": [
    "Asignación de la misma EmployeeID a los empleados que aparecen en `lista_indices_mismo_empleado`"
   ]
  },
  {
   "cell_type": "code",
   "execution_count": 11,
   "metadata": {},
   "outputs": [
    {
     "name": "stderr",
     "output_type": "stream",
     "text": [
      "/tmp/ipykernel_2297/1808907360.py:7: SettingWithCopyWarning: \n",
      "A value is trying to be set on a copy of a slice from a DataFrame\n",
      "\n",
      "See the caveats in the documentation: https://pandas.pydata.org/pandas-docs/stable/user_guide/indexing.html#returning-a-view-versus-a-copy\n",
      "  df_limpio['EmployeeID'][indice] = df_limpio['EmployeeID'][dato]\n"
     ]
    }
   ],
   "source": [
    "indice_sublista = 0\n",
    "\n",
    "for indice in lista_indices_mismo_empleado[1::2]:\n",
    "    \n",
    "    dato = lista_indices_mismo_empleado[indice_sublista]\n",
    "    \n",
    "    df_limpio['EmployeeID'][indice] = df_limpio['EmployeeID'][dato]\n",
    "    \n",
    "    indice_sublista += 2"
   ]
  },
  {
   "cell_type": "code",
   "execution_count": 12,
   "metadata": {},
   "outputs": [],
   "source": [
    "df_limpio.to_csv(\"../../files/df_to_SQL.csv\")"
   ]
  },
  {
   "cell_type": "markdown",
   "metadata": {},
   "source": [
    "Revisión de nulos"
   ]
  },
  {
   "cell_type": "code",
   "execution_count": 13,
   "metadata": {},
   "outputs": [
    {
     "data": {
      "text/plain": [
       "EmployeeID                    0.000000\n",
       "Age                           0.000000\n",
       "Gender                        0.000000\n",
       "MaritalStatus                40.563020\n",
       "NumberChildren              100.000000\n",
       "DateBirth                     0.000000\n",
       "Over18                       55.854127\n",
       "Education                     0.000000\n",
       "EducationField               46.449136\n",
       "NumCompaniesWorked            0.000000\n",
       "TotalWorkingYears            32.629559\n",
       "YearsAtCompany                0.000000\n",
       "YearsInCurrentRole           97.952655\n",
       "YearsSinceLastPromotion       0.000000\n",
       "YearsWithCurrManager          0.000000\n",
       "EnvironmentSatisfaction       0.000000\n",
       "JobSatisfaction               0.000000\n",
       "RelationshipSatisfaction      0.000000\n",
       "WorkLifeBalance               6.525912\n",
       "JobInvolvement                0.000000\n",
       "PerformanceRating            12.092131\n",
       "Attrition                     0.000000\n",
       "OverTime                     41.842610\n",
       "DistanceFromHome              0.000000\n",
       "RemoteWork                    0.000000\n",
       "BusinessTravel               47.856686\n",
       "TrainingTimesLastYear         0.000000\n",
       "Department                   81.190019\n",
       "JobRole                       0.000000\n",
       "JobLevel                      0.000000\n",
       "DailyRate                     7.677543\n",
       "HourlyRate                    5.374280\n",
       "MonthlyRate                   0.000000\n",
       "MonthlyIncome                52.335253\n",
       "PercentSalaryHike             0.000000\n",
       "StockOptionLevel              0.000000\n",
       "Salary                        0.000000\n",
       "StandardHours                73.896353\n",
       "dtype: float64"
      ]
     },
     "execution_count": 13,
     "metadata": {},
     "output_type": "execute_result"
    }
   ],
   "source": [
    "(df_limpio.isnull().sum()/df_limpio.shape[0]) * 100"
   ]
  },
  {
   "cell_type": "code",
   "execution_count": 14,
   "metadata": {},
   "outputs": [],
   "source": [
    "df_limpio.drop (['NumberChildren', 'Over18', 'YearsInCurrentRole', 'Department', 'StandardHours', 'MonthlyIncome'], axis =1, inplace =True)\n"
   ]
  },
  {
   "cell_type": "code",
   "execution_count": 15,
   "metadata": {},
   "outputs": [],
   "source": [
    "columnas_desconocido = ['MaritalStatus' , 'EducationField', 'BusinessTravel']"
   ]
  },
  {
   "cell_type": "code",
   "execution_count": 16,
   "metadata": {},
   "outputs": [
    {
     "name": "stdout",
     "output_type": "stream",
     "text": [
      "Después del reemplazo usando 'fillna' quedan los siguientes nulos\n"
     ]
    },
    {
     "data": {
      "text/plain": [
       "MaritalStatus     0\n",
       "EducationField    0\n",
       "BusinessTravel    0\n",
       "dtype: int64"
      ]
     },
     "execution_count": 16,
     "metadata": {},
     "output_type": "execute_result"
    }
   ],
   "source": [
    "# iteramos por la lista de columnas a las que le vamos a cambiar los nulos por \"Uknown\"\n",
    "for columna in columnas_desconocido:\n",
    "    \n",
    "    # reemplazamos los nulos por el valor Unknown para cada una de las columnas de la lista\n",
    "    df_limpio[columna] = df_limpio[columna].fillna(\"Unknown\")\n",
    "    \n",
    "# comprobamos si quedan nulos en las columnas categóricas. \n",
    "print(\"Después del reemplazo usando 'fillna' quedan los siguientes nulos\")\n",
    "df_limpio[columnas_desconocido].isnull().sum()"
   ]
  },
  {
   "cell_type": "code",
   "execution_count": 17,
   "metadata": {},
   "outputs": [],
   "source": [
    "numericas = ['WorkLifeBalance', 'PerformanceRating', 'DailyRate', 'HourlyRate', 'TotalWorkingYears', 'OverTime']"
   ]
  },
  {
   "cell_type": "code",
   "execution_count": 18,
   "metadata": {},
   "outputs": [],
   "source": [
    "df_copy = df_limpio.copy()"
   ]
  },
  {
   "cell_type": "code",
   "execution_count": 19,
   "metadata": {},
   "outputs": [
    {
     "data": {
      "text/plain": [
       "array([[3.00000000e+00, 3.00000000e+00, 6.84000000e+02, 5.10000000e+01,\n",
       "        1.11443440e+01, 0.00000000e+00],\n",
       "       [3.00000000e+00, 3.00000000e+00, 6.99000000e+02, 6.50000000e+01,\n",
       "        3.40000000e+01, 2.65371642e-01],\n",
       "       [2.78787368e+00, 3.00000000e+00, 5.32000000e+02, 5.80000000e+01,\n",
       "        2.20000000e+01, 0.00000000e+00],\n",
       "       ...,\n",
       "       [2.00000000e+00, 3.00000000e+00, 8.05000000e+02, 5.70000000e+01,\n",
       "        1.12565714e+01, 2.79382928e-01],\n",
       "       [3.00000000e+00, 3.00000000e+00, 9.03000000e+02, 4.10000000e+01,\n",
       "        9.00000000e+00, 0.00000000e+00],\n",
       "       [3.00000000e+00, 3.00000000e+00, 5.66000000e+02, 7.50000000e+01,\n",
       "        1.10358300e+01, 2.65843233e-01]])"
      ]
     },
     "execution_count": 19,
     "metadata": {},
     "output_type": "execute_result"
    }
   ],
   "source": [
    "# hemos dicho que para las tres columnas restantes aplicaremos los dos métodos para luego compararlos, empezaremos por el IterativeImputer\n",
    "# instanciamos las clases\n",
    "imputer_iterative = IterativeImputer(max_iter = 20, random_state = 42)\n",
    "\n",
    "# ajustamos y tranformamos los datos\n",
    "imputer_iterative_imputado = imputer_iterative.fit_transform(df_copy[numericas])\n",
    "\n",
    "# comprobamos que es lo que nos devuelve, que en este caso es un array también\n",
    "imputer_iterative_imputado"
   ]
  },
  {
   "cell_type": "code",
   "execution_count": 20,
   "metadata": {},
   "outputs": [
    {
     "data": {
      "text/plain": [
       "array([[3.00000000e+00, 3.00000000e+00, 6.84000000e+02, 5.10000000e+01,\n",
       "        1.11443440e+01, 0.00000000e+00],\n",
       "       [3.00000000e+00, 3.00000000e+00, 6.99000000e+02, 6.50000000e+01,\n",
       "        3.40000000e+01, 2.65371642e-01],\n",
       "       [2.78787368e+00, 3.00000000e+00, 5.32000000e+02, 5.80000000e+01,\n",
       "        2.20000000e+01, 0.00000000e+00],\n",
       "       ...,\n",
       "       [2.00000000e+00, 3.00000000e+00, 8.05000000e+02, 5.70000000e+01,\n",
       "        1.12565714e+01, 2.79382928e-01],\n",
       "       [3.00000000e+00, 3.00000000e+00, 9.03000000e+02, 4.10000000e+01,\n",
       "        9.00000000e+00, 0.00000000e+00],\n",
       "       [3.00000000e+00, 3.00000000e+00, 5.66000000e+02, 7.50000000e+01,\n",
       "        1.10358300e+01, 2.65843233e-01]])"
      ]
     },
     "execution_count": 20,
     "metadata": {},
     "output_type": "execute_result"
    }
   ],
   "source": [
    "# hemos dicho que para las tres columnas restantes aplicaremos los dos métodos para luego compararlos, empezaremos por el IterativeImputer\n",
    "# instanciamos las clases\n",
    "imputer_iterative = IterativeImputer(max_iter = 20, random_state = 42)\n",
    "\n",
    "# ajustamos y tranformamos los datos\n",
    "imputer_iterative_imputado = imputer_iterative.fit_transform(df_limpio[numericas])\n",
    "\n",
    "# comprobamos que es lo que nos devuelve, que en este caso es un array también\n",
    "imputer_iterative_imputado"
   ]
  },
  {
   "cell_type": "code",
   "execution_count": 21,
   "metadata": {},
   "outputs": [
    {
     "name": "stdout",
     "output_type": "stream",
     "text": [
      "Después del 'Iterative' tenemos: \n",
      "WorkLifeBalance      0\n",
      "PerformanceRating    0\n",
      "DailyRate            0\n",
      "HourlyRate           0\n",
      "TotalWorkingYears    0\n",
      "OverTime             0\n",
      "dtype: int64 nulos\n"
     ]
    }
   ],
   "source": [
    "# en este caso como vamos a aplicar los dos métodos sobre estas columnas vamos a crear dos columnas nuevas\n",
    "df_limpio[numericas] = imputer_iterative_imputado\n",
    "\n",
    "# comprobamos los nulos\n",
    "print(f\"Después del 'Iterative' tenemos: \\n{df_limpio[numericas].isnull().sum()} nulos\")"
   ]
  },
  {
   "cell_type": "markdown",
   "metadata": {},
   "source": [
    "El método **Iterative** parece el más indicado para imputar los nulos, ya que es el que consigue que la diferencia entre la media y la mediana sea más reducida (por ende, menor dispersión de los datos)"
   ]
  },
  {
   "cell_type": "code",
   "execution_count": 22,
   "metadata": {},
   "outputs": [],
   "source": [
    "df_limpio.to_csv(\"../../files/df_nulos_imputados.csv\")"
   ]
  }
 ],
 "metadata": {
  "kernelspec": {
   "display_name": "base",
   "language": "python",
   "name": "python3"
  },
  "language_info": {
   "codemirror_mode": {
    "name": "ipython",
    "version": 3
   },
   "file_extension": ".py",
   "mimetype": "text/x-python",
   "name": "python",
   "nbconvert_exporter": "python",
   "pygments_lexer": "ipython3",
   "version": "3.9.7"
  }
 },
 "nbformat": 4,
 "nbformat_minor": 2
}
