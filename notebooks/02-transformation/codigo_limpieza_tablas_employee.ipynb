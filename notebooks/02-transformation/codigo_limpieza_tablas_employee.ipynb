{
 "cells": [
  {
   "cell_type": "code",
   "execution_count": 112,
   "metadata": {},
   "outputs": [],
   "source": [
    "import pandas as pd\n",
    "import numpy as np\n",
    "\n",
    "pd.set_option('display.max_columns', None)"
   ]
  },
  {
   "cell_type": "code",
   "execution_count": 113,
   "metadata": {},
   "outputs": [],
   "source": [
    "df = pd.read_csv('../files/HR_RAW_DATA.csv', index_col=0)\n",
    "\n"
   ]
  },
  {
   "cell_type": "code",
   "execution_count": 114,
   "metadata": {},
   "outputs": [],
   "source": [
    "lista_columnas_explorar = ['Age', 'Gender','MaritalStatus', 'NUMBERCHILDREN','DateBirth', 'Over18', 'Education','EducationField', 'NUMCOMPANIESWORKED', 'TOTALWORKINGYEARS']"
   ]
  },
  {
   "cell_type": "code",
   "execution_count": 115,
   "metadata": {},
   "outputs": [],
   "source": [
    "df.loc[:,lista_columnas_explorar]\n",
    "\n",
    "df_exploracion = df.loc[:,lista_columnas_explorar]\n"
   ]
  },
  {
   "cell_type": "code",
   "execution_count": 116,
   "metadata": {},
   "outputs": [
    {
     "data": {
      "text/plain": [
       "array(['51', '52', '42', '47', '46', '48', '59', '41', '56', '38', '55',\n",
       "       '40', '58', '35', '45', '33', '36', '34', 47, '53', '43', '60',\n",
       "       '32', '37', '49', '39', '50', '44', '30', 58, '29', '31', '54',\n",
       "       '57', '27', 36, '28', '26', 55, '25', 52, 31, '24', 30, '23', '22',\n",
       "       '21', '20', 26, '19', 37, '18', 32, 24], dtype=object)"
      ]
     },
     "execution_count": 116,
     "metadata": {},
     "output_type": "execute_result"
    }
   ],
   "source": [
    "#limpieza columna \"Age\"\n",
    "diccionario_edades = {\n",
    "    'forty-seven':47,\n",
    "    'fifty-eight': 58,\n",
    "    'thirty-six': 36,\n",
    "    'fifty-five': 55, \n",
    "    'fifty-two': 52,\n",
    "    'thirty-one': 31,\n",
    "    'thirty': 30,\n",
    "    'twenty-six': 26, \n",
    "    'thirty-seven' : 37, \n",
    "    'thirty-two': 32,\n",
    "    'twenty-four' : 24\n",
    "    }                   \n",
    "\n",
    "df_exploracion[\"Age\"] = df_exploracion[\"Age\"].replace(diccionario_edades)\n",
    "df_exploracion[\"Age\"].unique()\n",
    "\n"
   ]
  },
  {
   "cell_type": "code",
   "execution_count": 117,
   "metadata": {},
   "outputs": [
    {
     "name": "stdout",
     "output_type": "stream",
     "text": [
      "object\n"
     ]
    }
   ],
   "source": [
    "#convertir a integrer\n",
    "print(df_exploracion[\"Age\"].dtypes)\n",
    "\n",
    "df_exploracion[\"Age\"] = df_exploracion[\"Age\"].astype('Int64', errors=\"ignore\")\n",
    "\n"
   ]
  },
  {
   "cell_type": "code",
   "execution_count": 118,
   "metadata": {},
   "outputs": [
    {
     "data": {
      "text/plain": [
       "0         Male\n",
       "1         Male\n",
       "2         Male\n",
       "3       Female\n",
       "4       Female\n",
       "         ...  \n",
       "1609      Male\n",
       "1610      Male\n",
       "1611      Male\n",
       "1612      Male\n",
       "1613      Male\n",
       "Name: Gender, Length: 1614, dtype: object"
      ]
     },
     "execution_count": 118,
     "metadata": {},
     "output_type": "execute_result"
    }
   ],
   "source": [
    "# limpieza columna \"Gender\"\n",
    "# .replace para sustituir 0 / 1 por Male / Female\n",
    "\n",
    "df_exploracion[\"Gender\"].replace(to_replace=[0,1],value= [\"Male\",\"Female\"],inplace=True)\n",
    "df_exploracion[\"Gender\"]"
   ]
  },
  {
   "cell_type": "code",
   "execution_count": 119,
   "metadata": {},
   "outputs": [],
   "source": [
    "# limpieza columna 'MaritalStatus'\n",
    "# unificar términos y limpiar erratas\n",
    "\n",
    "df_exploracion['MaritalStatus'].replace(to_replace=['Marreid','divorced'],value= ['Married','Divorced'],inplace=True)"
   ]
  },
  {
   "cell_type": "code",
   "execution_count": 120,
   "metadata": {},
   "outputs": [],
   "source": [
    "# columna 'NUMBERCHILDREN'\n",
    "# candidata a desaparecer, totalmente vacía"
   ]
  },
  {
   "cell_type": "code",
   "execution_count": 121,
   "metadata": {},
   "outputs": [
    {
     "name": "stdout",
     "output_type": "stream",
     "text": [
      "Int64\n"
     ]
    }
   ],
   "source": [
    "# columna 'DateBirth'\n",
    "# totalmente correcta\n",
    "\n",
    "# convertir a integrer\n",
    "df_exploracion[\"DateBirth\"] = df_exploracion[\"DateBirth\"].astype('Int64', errors=\"ignore\")\n",
    "print(df_exploracion[\"DateBirth\"].dtypes)"
   ]
  },
  {
   "cell_type": "code",
   "execution_count": 122,
   "metadata": {},
   "outputs": [],
   "source": [
    "# columna 'Over18'\n",
    "# candidata a desaparecer, redundante. Solo tiene Y y nan"
   ]
  },
  {
   "cell_type": "code",
   "execution_count": 123,
   "metadata": {},
   "outputs": [],
   "source": [
    "# columna 'Education'está limpia, es una clasificación de 1 a 5. No hay ningún tipo de estándar \n",
    "\n",
    "#df_exploracion['Education'].unique()"
   ]
  },
  {
   "cell_type": "code",
   "execution_count": 124,
   "metadata": {},
   "outputs": [],
   "source": [
    "# columna 'EducationField' está limpia. Ojo, 745 nulos\n",
    "\n",
    "#df_exploracion['EducationField'].value_counts()\n",
    "#df_exploracion['EducationField'].isnull().sum()"
   ]
  },
  {
   "cell_type": "code",
   "execution_count": 125,
   "metadata": {},
   "outputs": [
    {
     "name": "stdout",
     "output_type": "stream",
     "text": [
      "int64\n"
     ]
    }
   ],
   "source": [
    "#'NUMCOMPANIESWORKED' limpia, sin nulos\n",
    "#df_exploracion['NUMCOMPANIESWORKED'].isnull().sum()\n",
    "#df_exploracion['NUMCOMPANIESWORKED'].value_counts()\n",
    "\n",
    "print(df_exploracion[\"NUMCOMPANIESWORKED\"].dtypes)"
   ]
  },
  {
   "cell_type": "code",
   "execution_count": 126,
   "metadata": {},
   "outputs": [
    {
     "name": "stdout",
     "output_type": "stream",
     "text": [
      "     Age  Gender MaritalStatus  NUMBERCHILDREN  DateBirth Over18  Education  \\\n",
      "0     51    Male           NaN             NaN       1972      Y          3   \n",
      "1     52    Male           NaN             NaN       1971    NaN          4   \n",
      "2     42    Male       Married             NaN       1981    NaN          2   \n",
      "3     47  Female       Married             NaN       1976      Y          4   \n",
      "4     46  Female      Divorced             NaN       1977      Y          3   \n",
      "...   ..     ...           ...             ...        ...    ...        ...   \n",
      "1609  36    Male       Married             NaN       1987      Y          1   \n",
      "1610  45    Male           NaN             NaN       1978    NaN          2   \n",
      "1611  39    Male        Single             NaN       1984    NaN          5   \n",
      "1612  36    Male      Divorced             NaN       1987    NaN          4   \n",
      "1613  46    Male           NaN             NaN       1977      Y          2   \n",
      "\n",
      "        EducationField  NUMCOMPANIESWORKED TOTALWORKINGYEARS  \n",
      "0                  NaN                   7               NaN  \n",
      "1        Life Sciences                   0              34,0  \n",
      "2     Technical Degree                   1              22,0  \n",
      "3              Medical                   3               NaN  \n",
      "4     Technical Degree                   2               NaN  \n",
      "...                ...                 ...               ...  \n",
      "1609     Life Sciences                   1               NaN  \n",
      "1610               NaN                   1               NaN  \n",
      "1611               NaN                   0               9,0  \n",
      "1612  Technical Degree                   4              12,0  \n",
      "1613           Medical                   6               NaN  \n",
      "\n",
      "[1614 rows x 10 columns]\n"
     ]
    }
   ],
   "source": [
    "df_exploracion = df_exploracion.loc[:,lista_columnas_explorar]\n",
    "print(df_exploracion)"
   ]
  },
  {
   "cell_type": "code",
   "execution_count": 127,
   "metadata": {},
   "outputs": [],
   "source": [
    "df_exploracion['TOTALWORKINGYEARS'] = df_exploracion['TOTALWORKINGYEARS'].apply (lambda x: float(x.replace(',','.') if isinstance(x,str) else np.nan))"
   ]
  },
  {
   "cell_type": "code",
   "execution_count": 128,
   "metadata": {},
   "outputs": [],
   "source": [
    "df_exploracion['TOTALWORKINGYEARS'] = df_exploracion['TOTALWORKINGYEARS'].astype('Int64', errors = 'ignore')"
   ]
  },
  {
   "cell_type": "code",
   "execution_count": 129,
   "metadata": {},
   "outputs": [],
   "source": [
    "#aplicar todos los cambios a este, y transformar en csv al final, con ruta ../../files/salarydetails_w_floats.csv\n",
    "\n",
    "df_exploracion.to_csv(\"../files/df_exploracion_employees.csv\")"
   ]
  }
 ],
 "metadata": {
  "kernelspec": {
   "display_name": "base",
   "language": "python",
   "name": "python3"
  },
  "language_info": {
   "codemirror_mode": {
    "name": "ipython",
    "version": 3
   },
   "file_extension": ".py",
   "mimetype": "text/x-python",
   "name": "python",
   "nbconvert_exporter": "python",
   "pygments_lexer": "ipython3",
   "version": "3.9.7"
  }
 },
 "nbformat": 4,
 "nbformat_minor": 2
}
